{
 "cells": [
  {
   "cell_type": "code",
   "execution_count": 1,
   "id": "4e4f2000",
   "metadata": {
    "_cell_guid": "b1076dfc-b9ad-4769-8c92-a6c4dae69d19",
    "_uuid": "8f2839f25d086af736a60e9eeb907d3b93b6e0e5",
    "execution": {
     "iopub.execute_input": "2022-01-30T12:13:58.135924Z",
     "iopub.status.busy": "2022-01-30T12:13:58.134159Z",
     "iopub.status.idle": "2022-01-30T12:14:00.356550Z",
     "shell.execute_reply": "2022-01-30T12:14:00.355661Z",
     "shell.execute_reply.started": "2022-01-30T09:33:29.046776Z"
    },
    "papermill": {
     "duration": 2.300734,
     "end_time": "2022-01-30T12:14:00.356718",
     "exception": false,
     "start_time": "2022-01-30T12:13:58.055984",
     "status": "completed"
    },
    "tags": []
   },
   "outputs": [
    {
     "name": "stdout",
     "output_type": "stream",
     "text": [
      "/kaggle/input/tabular-playground-series-jan-2022/sample_submission.csv\n",
      "/kaggle/input/tabular-playground-series-jan-2022/train.csv\n",
      "/kaggle/input/tabular-playground-series-jan-2022/test.csv\n"
     ]
    }
   ],
   "source": [
    "# This Python 3 environment comes with many helpful analytics libraries installed\n",
    "# It is defined by the kaggle/python Docker image: https://github.com/kaggle/docker-python\n",
    "# For example, here's several helpful packages to load\n",
    "\n",
    "import numpy as np # linear algebra\n",
    "import pandas as pd # data processing, CSV file I/O (e.g. pd.read_csv)\n",
    "import matplotlib.pyplot as plt\n",
    "import seaborn as sns\n",
    "import plotly.express as px\n",
    "\n",
    "# Input data files are available in the read-only \"../input/\" directory\n",
    "# For example, running this (by clicking run or pressing Shift+Enter) will list all files under the input directory\n",
    "\n",
    "import os\n",
    "for dirname, _, filenames in os.walk('/kaggle/input'):\n",
    "    for filename in filenames:\n",
    "        print(os.path.join(dirname, filename))\n",
    "\n",
    "# You can write up to 20GB to the current directory (/kaggle/working/) that gets preserved as output when you create a version using \"Save & Run All\" \n",
    "# You can also write temporary files to /kaggle/temp/, but they won't be saved outside of the current session"
   ]
  },
  {
   "cell_type": "code",
   "execution_count": 2,
   "id": "f9581d49",
   "metadata": {
    "execution": {
     "iopub.execute_input": "2022-01-30T12:14:00.497391Z",
     "iopub.status.busy": "2022-01-30T12:14:00.496372Z",
     "iopub.status.idle": "2022-01-30T12:14:00.569420Z",
     "shell.execute_reply": "2022-01-30T12:14:00.569918Z",
     "shell.execute_reply.started": "2022-01-30T09:34:06.662325Z"
    },
    "papermill": {
     "duration": 0.145359,
     "end_time": "2022-01-30T12:14:00.570134",
     "exception": false,
     "start_time": "2022-01-30T12:14:00.424775",
     "status": "completed"
    },
    "tags": []
   },
   "outputs": [],
   "source": [
    "train_df = pd.read_csv('/kaggle/input/tabular-playground-series-jan-2022/train.csv')\n",
    "test_df = pd.read_csv('/kaggle/input/tabular-playground-series-jan-2022/test.csv')"
   ]
  },
  {
   "cell_type": "code",
   "execution_count": 3,
   "id": "12206369",
   "metadata": {
    "execution": {
     "iopub.execute_input": "2022-01-30T12:14:00.708516Z",
     "iopub.status.busy": "2022-01-30T12:14:00.707532Z",
     "iopub.status.idle": "2022-01-30T12:14:00.728763Z",
     "shell.execute_reply": "2022-01-30T12:14:00.729263Z",
     "shell.execute_reply.started": "2022-01-30T09:34:08.576681Z"
    },
    "papermill": {
     "duration": 0.092475,
     "end_time": "2022-01-30T12:14:00.729445",
     "exception": false,
     "start_time": "2022-01-30T12:14:00.636970",
     "status": "completed"
    },
    "tags": []
   },
   "outputs": [
    {
     "data": {
      "text/html": [
       "<div>\n",
       "<style scoped>\n",
       "    .dataframe tbody tr th:only-of-type {\n",
       "        vertical-align: middle;\n",
       "    }\n",
       "\n",
       "    .dataframe tbody tr th {\n",
       "        vertical-align: top;\n",
       "    }\n",
       "\n",
       "    .dataframe thead th {\n",
       "        text-align: right;\n",
       "    }\n",
       "</style>\n",
       "<table border=\"1\" class=\"dataframe\">\n",
       "  <thead>\n",
       "    <tr style=\"text-align: right;\">\n",
       "      <th></th>\n",
       "      <th>row_id</th>\n",
       "      <th>date</th>\n",
       "      <th>country</th>\n",
       "      <th>store</th>\n",
       "      <th>product</th>\n",
       "      <th>num_sold</th>\n",
       "    </tr>\n",
       "  </thead>\n",
       "  <tbody>\n",
       "    <tr>\n",
       "      <th>0</th>\n",
       "      <td>0</td>\n",
       "      <td>2015-01-01</td>\n",
       "      <td>Finland</td>\n",
       "      <td>KaggleMart</td>\n",
       "      <td>Kaggle Mug</td>\n",
       "      <td>329</td>\n",
       "    </tr>\n",
       "    <tr>\n",
       "      <th>1</th>\n",
       "      <td>1</td>\n",
       "      <td>2015-01-01</td>\n",
       "      <td>Finland</td>\n",
       "      <td>KaggleMart</td>\n",
       "      <td>Kaggle Hat</td>\n",
       "      <td>520</td>\n",
       "    </tr>\n",
       "    <tr>\n",
       "      <th>2</th>\n",
       "      <td>2</td>\n",
       "      <td>2015-01-01</td>\n",
       "      <td>Finland</td>\n",
       "      <td>KaggleMart</td>\n",
       "      <td>Kaggle Sticker</td>\n",
       "      <td>146</td>\n",
       "    </tr>\n",
       "    <tr>\n",
       "      <th>3</th>\n",
       "      <td>3</td>\n",
       "      <td>2015-01-01</td>\n",
       "      <td>Finland</td>\n",
       "      <td>KaggleRama</td>\n",
       "      <td>Kaggle Mug</td>\n",
       "      <td>572</td>\n",
       "    </tr>\n",
       "    <tr>\n",
       "      <th>4</th>\n",
       "      <td>4</td>\n",
       "      <td>2015-01-01</td>\n",
       "      <td>Finland</td>\n",
       "      <td>KaggleRama</td>\n",
       "      <td>Kaggle Hat</td>\n",
       "      <td>911</td>\n",
       "    </tr>\n",
       "    <tr>\n",
       "      <th>5</th>\n",
       "      <td>5</td>\n",
       "      <td>2015-01-01</td>\n",
       "      <td>Finland</td>\n",
       "      <td>KaggleRama</td>\n",
       "      <td>Kaggle Sticker</td>\n",
       "      <td>283</td>\n",
       "    </tr>\n",
       "    <tr>\n",
       "      <th>6</th>\n",
       "      <td>6</td>\n",
       "      <td>2015-01-01</td>\n",
       "      <td>Norway</td>\n",
       "      <td>KaggleMart</td>\n",
       "      <td>Kaggle Mug</td>\n",
       "      <td>526</td>\n",
       "    </tr>\n",
       "    <tr>\n",
       "      <th>7</th>\n",
       "      <td>7</td>\n",
       "      <td>2015-01-01</td>\n",
       "      <td>Norway</td>\n",
       "      <td>KaggleMart</td>\n",
       "      <td>Kaggle Hat</td>\n",
       "      <td>906</td>\n",
       "    </tr>\n",
       "    <tr>\n",
       "      <th>8</th>\n",
       "      <td>8</td>\n",
       "      <td>2015-01-01</td>\n",
       "      <td>Norway</td>\n",
       "      <td>KaggleMart</td>\n",
       "      <td>Kaggle Sticker</td>\n",
       "      <td>250</td>\n",
       "    </tr>\n",
       "    <tr>\n",
       "      <th>9</th>\n",
       "      <td>9</td>\n",
       "      <td>2015-01-01</td>\n",
       "      <td>Norway</td>\n",
       "      <td>KaggleRama</td>\n",
       "      <td>Kaggle Mug</td>\n",
       "      <td>1005</td>\n",
       "    </tr>\n",
       "  </tbody>\n",
       "</table>\n",
       "</div>"
      ],
      "text/plain": [
       "   row_id        date  country       store         product  num_sold\n",
       "0       0  2015-01-01  Finland  KaggleMart      Kaggle Mug       329\n",
       "1       1  2015-01-01  Finland  KaggleMart      Kaggle Hat       520\n",
       "2       2  2015-01-01  Finland  KaggleMart  Kaggle Sticker       146\n",
       "3       3  2015-01-01  Finland  KaggleRama      Kaggle Mug       572\n",
       "4       4  2015-01-01  Finland  KaggleRama      Kaggle Hat       911\n",
       "5       5  2015-01-01  Finland  KaggleRama  Kaggle Sticker       283\n",
       "6       6  2015-01-01   Norway  KaggleMart      Kaggle Mug       526\n",
       "7       7  2015-01-01   Norway  KaggleMart      Kaggle Hat       906\n",
       "8       8  2015-01-01   Norway  KaggleMart  Kaggle Sticker       250\n",
       "9       9  2015-01-01   Norway  KaggleRama      Kaggle Mug      1005"
      ]
     },
     "execution_count": 3,
     "metadata": {},
     "output_type": "execute_result"
    }
   ],
   "source": [
    "train_df.head(10)"
   ]
  },
  {
   "cell_type": "code",
   "execution_count": 4,
   "id": "36bd1a82",
   "metadata": {
    "execution": {
     "iopub.execute_input": "2022-01-30T12:14:00.871637Z",
     "iopub.status.busy": "2022-01-30T12:14:00.870902Z",
     "iopub.status.idle": "2022-01-30T12:14:00.873490Z",
     "shell.execute_reply": "2022-01-30T12:14:00.873963Z",
     "shell.execute_reply.started": "2022-01-30T09:34:16.302323Z"
    },
    "papermill": {
     "duration": 0.077238,
     "end_time": "2022-01-30T12:14:00.874171",
     "exception": false,
     "start_time": "2022-01-30T12:14:00.796933",
     "status": "completed"
    },
    "tags": []
   },
   "outputs": [
    {
     "data": {
      "text/plain": [
       "(26298, 6)"
      ]
     },
     "execution_count": 4,
     "metadata": {},
     "output_type": "execute_result"
    }
   ],
   "source": [
    "train_df.shape"
   ]
  },
  {
   "cell_type": "code",
   "execution_count": 5,
   "id": "4eae830f",
   "metadata": {
    "execution": {
     "iopub.execute_input": "2022-01-30T12:14:01.014914Z",
     "iopub.status.busy": "2022-01-30T12:14:01.014253Z",
     "iopub.status.idle": "2022-01-30T12:14:01.033132Z",
     "shell.execute_reply": "2022-01-30T12:14:01.033683Z",
     "shell.execute_reply.started": "2022-01-30T09:34:13.487439Z"
    },
    "papermill": {
     "duration": 0.091354,
     "end_time": "2022-01-30T12:14:01.033858",
     "exception": false,
     "start_time": "2022-01-30T12:14:00.942504",
     "status": "completed"
    },
    "tags": []
   },
   "outputs": [
    {
     "data": {
      "text/plain": [
       "row_id      0\n",
       "date        0\n",
       "country     0\n",
       "store       0\n",
       "product     0\n",
       "num_sold    0\n",
       "dtype: int64"
      ]
     },
     "execution_count": 5,
     "metadata": {},
     "output_type": "execute_result"
    }
   ],
   "source": [
    "train_df.isnull().sum()"
   ]
  },
  {
   "cell_type": "code",
   "execution_count": 6,
   "id": "2c8a4667",
   "metadata": {
    "execution": {
     "iopub.execute_input": "2022-01-30T12:14:01.172885Z",
     "iopub.status.busy": "2022-01-30T12:14:01.172252Z",
     "iopub.status.idle": "2022-01-30T12:14:01.185044Z",
     "shell.execute_reply": "2022-01-30T12:14:01.185618Z",
     "shell.execute_reply.started": "2022-01-30T09:35:08.473202Z"
    },
    "papermill": {
     "duration": 0.084187,
     "end_time": "2022-01-30T12:14:01.185779",
     "exception": false,
     "start_time": "2022-01-30T12:14:01.101592",
     "status": "completed"
    },
    "tags": []
   },
   "outputs": [
    {
     "data": {
      "text/plain": [
       "array(['Finland', 'Norway', 'Sweden'], dtype=object)"
      ]
     },
     "execution_count": 6,
     "metadata": {},
     "output_type": "execute_result"
    }
   ],
   "source": [
    "train_df['country'].unique()"
   ]
  },
  {
   "cell_type": "code",
   "execution_count": 7,
   "id": "4160df12",
   "metadata": {
    "execution": {
     "iopub.execute_input": "2022-01-30T12:14:01.328680Z",
     "iopub.status.busy": "2022-01-30T12:14:01.328053Z",
     "iopub.status.idle": "2022-01-30T12:14:01.331895Z",
     "shell.execute_reply": "2022-01-30T12:14:01.332494Z",
     "shell.execute_reply.started": "2022-01-30T09:35:41.747010Z"
    },
    "papermill": {
     "duration": 0.078525,
     "end_time": "2022-01-30T12:14:01.332652",
     "exception": false,
     "start_time": "2022-01-30T12:14:01.254127",
     "status": "completed"
    },
    "tags": []
   },
   "outputs": [
    {
     "data": {
      "text/plain": [
       "array(['KaggleMart', 'KaggleRama'], dtype=object)"
      ]
     },
     "execution_count": 7,
     "metadata": {},
     "output_type": "execute_result"
    }
   ],
   "source": [
    "train_df['store'].unique()"
   ]
  },
  {
   "cell_type": "code",
   "execution_count": 8,
   "id": "8740d44a",
   "metadata": {
    "execution": {
     "iopub.execute_input": "2022-01-30T12:14:01.472989Z",
     "iopub.status.busy": "2022-01-30T12:14:01.472362Z",
     "iopub.status.idle": "2022-01-30T12:14:01.479551Z",
     "shell.execute_reply": "2022-01-30T12:14:01.480159Z",
     "shell.execute_reply.started": "2022-01-30T09:36:13.828384Z"
    },
    "papermill": {
     "duration": 0.078947,
     "end_time": "2022-01-30T12:14:01.480332",
     "exception": false,
     "start_time": "2022-01-30T12:14:01.401385",
     "status": "completed"
    },
    "tags": []
   },
   "outputs": [
    {
     "data": {
      "text/plain": [
       "array(['Kaggle Mug', 'Kaggle Hat', 'Kaggle Sticker'], dtype=object)"
      ]
     },
     "execution_count": 8,
     "metadata": {},
     "output_type": "execute_result"
    }
   ],
   "source": [
    "train_df['product'].unique()"
   ]
  },
  {
   "cell_type": "code",
   "execution_count": 9,
   "id": "cc8f2cb5",
   "metadata": {
    "execution": {
     "iopub.execute_input": "2022-01-30T12:14:01.621110Z",
     "iopub.status.busy": "2022-01-30T12:14:01.620466Z",
     "iopub.status.idle": "2022-01-30T12:14:01.628129Z",
     "shell.execute_reply": "2022-01-30T12:14:01.627517Z",
     "shell.execute_reply.started": "2022-01-30T09:37:01.168323Z"
    },
    "papermill": {
     "duration": 0.079141,
     "end_time": "2022-01-30T12:14:01.628273",
     "exception": false,
     "start_time": "2022-01-30T12:14:01.549132",
     "status": "completed"
    },
    "tags": []
   },
   "outputs": [],
   "source": [
    "train_df = train_df.set_index('row_id')"
   ]
  },
  {
   "cell_type": "code",
   "execution_count": 10,
   "id": "4559a62c",
   "metadata": {
    "execution": {
     "iopub.execute_input": "2022-01-30T12:14:01.794093Z",
     "iopub.status.busy": "2022-01-30T12:14:01.783438Z",
     "iopub.status.idle": "2022-01-30T12:14:01.797224Z",
     "shell.execute_reply": "2022-01-30T12:14:01.798181Z",
     "shell.execute_reply.started": "2022-01-30T09:42:43.481224Z"
    },
    "papermill": {
     "duration": 0.101411,
     "end_time": "2022-01-30T12:14:01.798512",
     "exception": false,
     "start_time": "2022-01-30T12:14:01.697101",
     "status": "completed"
    },
    "tags": []
   },
   "outputs": [
    {
     "name": "stdout",
     "output_type": "stream",
     "text": [
      "<class 'pandas.core.frame.DataFrame'>\n",
      "Int64Index: 26298 entries, 0 to 26297\n",
      "Data columns (total 5 columns):\n",
      " #   Column    Non-Null Count  Dtype \n",
      "---  ------    --------------  ----- \n",
      " 0   date      26298 non-null  object\n",
      " 1   country   26298 non-null  object\n",
      " 2   store     26298 non-null  object\n",
      " 3   product   26298 non-null  object\n",
      " 4   num_sold  26298 non-null  int64 \n",
      "dtypes: int64(1), object(4)\n",
      "memory usage: 1.2+ MB\n"
     ]
    }
   ],
   "source": [
    "train_df.info()"
   ]
  },
  {
   "cell_type": "code",
   "execution_count": 11,
   "id": "938ca9b0",
   "metadata": {
    "execution": {
     "iopub.execute_input": "2022-01-30T12:14:01.947663Z",
     "iopub.status.busy": "2022-01-30T12:14:01.943422Z",
     "iopub.status.idle": "2022-01-30T12:14:01.957752Z",
     "shell.execute_reply": "2022-01-30T12:14:01.958326Z",
     "shell.execute_reply.started": "2022-01-30T09:42:50.838903Z"
    },
    "papermill": {
     "duration": 0.087942,
     "end_time": "2022-01-30T12:14:01.958508",
     "exception": false,
     "start_time": "2022-01-30T12:14:01.870566",
     "status": "completed"
    },
    "tags": []
   },
   "outputs": [],
   "source": [
    "train_df['date'] = pd.to_datetime(train_df['date'])"
   ]
  },
  {
   "cell_type": "code",
   "execution_count": 12,
   "id": "8a0e1902",
   "metadata": {
    "execution": {
     "iopub.execute_input": "2022-01-30T12:14:02.103866Z",
     "iopub.status.busy": "2022-01-30T12:14:02.102831Z",
     "iopub.status.idle": "2022-01-30T12:14:02.124234Z",
     "shell.execute_reply": "2022-01-30T12:14:02.124746Z",
     "shell.execute_reply.started": "2022-01-30T09:43:00.933019Z"
    },
    "papermill": {
     "duration": 0.096137,
     "end_time": "2022-01-30T12:14:02.124920",
     "exception": false,
     "start_time": "2022-01-30T12:14:02.028783",
     "status": "completed"
    },
    "tags": []
   },
   "outputs": [
    {
     "name": "stdout",
     "output_type": "stream",
     "text": [
      "<class 'pandas.core.frame.DataFrame'>\n",
      "Int64Index: 26298 entries, 0 to 26297\n",
      "Data columns (total 5 columns):\n",
      " #   Column    Non-Null Count  Dtype         \n",
      "---  ------    --------------  -----         \n",
      " 0   date      26298 non-null  datetime64[ns]\n",
      " 1   country   26298 non-null  object        \n",
      " 2   store     26298 non-null  object        \n",
      " 3   product   26298 non-null  object        \n",
      " 4   num_sold  26298 non-null  int64         \n",
      "dtypes: datetime64[ns](1), int64(1), object(3)\n",
      "memory usage: 1.2+ MB\n"
     ]
    }
   ],
   "source": [
    "train_df.info()"
   ]
  },
  {
   "cell_type": "code",
   "execution_count": 13,
   "id": "ae42e690",
   "metadata": {
    "execution": {
     "iopub.execute_input": "2022-01-30T12:14:02.272050Z",
     "iopub.status.busy": "2022-01-30T12:14:02.271362Z",
     "iopub.status.idle": "2022-01-30T12:14:02.283148Z",
     "shell.execute_reply": "2022-01-30T12:14:02.283721Z",
     "shell.execute_reply.started": "2022-01-30T09:43:07.521555Z"
    },
    "papermill": {
     "duration": 0.086512,
     "end_time": "2022-01-30T12:14:02.283893",
     "exception": false,
     "start_time": "2022-01-30T12:14:02.197381",
     "status": "completed"
    },
    "tags": []
   },
   "outputs": [
    {
     "data": {
      "text/html": [
       "<div>\n",
       "<style scoped>\n",
       "    .dataframe tbody tr th:only-of-type {\n",
       "        vertical-align: middle;\n",
       "    }\n",
       "\n",
       "    .dataframe tbody tr th {\n",
       "        vertical-align: top;\n",
       "    }\n",
       "\n",
       "    .dataframe thead th {\n",
       "        text-align: right;\n",
       "    }\n",
       "</style>\n",
       "<table border=\"1\" class=\"dataframe\">\n",
       "  <thead>\n",
       "    <tr style=\"text-align: right;\">\n",
       "      <th></th>\n",
       "      <th>date</th>\n",
       "      <th>country</th>\n",
       "      <th>store</th>\n",
       "      <th>product</th>\n",
       "      <th>num_sold</th>\n",
       "    </tr>\n",
       "    <tr>\n",
       "      <th>row_id</th>\n",
       "      <th></th>\n",
       "      <th></th>\n",
       "      <th></th>\n",
       "      <th></th>\n",
       "      <th></th>\n",
       "    </tr>\n",
       "  </thead>\n",
       "  <tbody>\n",
       "    <tr>\n",
       "      <th>0</th>\n",
       "      <td>2015-01-01</td>\n",
       "      <td>Finland</td>\n",
       "      <td>KaggleMart</td>\n",
       "      <td>Kaggle Mug</td>\n",
       "      <td>329</td>\n",
       "    </tr>\n",
       "    <tr>\n",
       "      <th>1</th>\n",
       "      <td>2015-01-01</td>\n",
       "      <td>Finland</td>\n",
       "      <td>KaggleMart</td>\n",
       "      <td>Kaggle Hat</td>\n",
       "      <td>520</td>\n",
       "    </tr>\n",
       "    <tr>\n",
       "      <th>2</th>\n",
       "      <td>2015-01-01</td>\n",
       "      <td>Finland</td>\n",
       "      <td>KaggleMart</td>\n",
       "      <td>Kaggle Sticker</td>\n",
       "      <td>146</td>\n",
       "    </tr>\n",
       "    <tr>\n",
       "      <th>3</th>\n",
       "      <td>2015-01-01</td>\n",
       "      <td>Finland</td>\n",
       "      <td>KaggleRama</td>\n",
       "      <td>Kaggle Mug</td>\n",
       "      <td>572</td>\n",
       "    </tr>\n",
       "    <tr>\n",
       "      <th>4</th>\n",
       "      <td>2015-01-01</td>\n",
       "      <td>Finland</td>\n",
       "      <td>KaggleRama</td>\n",
       "      <td>Kaggle Hat</td>\n",
       "      <td>911</td>\n",
       "    </tr>\n",
       "  </tbody>\n",
       "</table>\n",
       "</div>"
      ],
      "text/plain": [
       "             date  country       store         product  num_sold\n",
       "row_id                                                          \n",
       "0      2015-01-01  Finland  KaggleMart      Kaggle Mug       329\n",
       "1      2015-01-01  Finland  KaggleMart      Kaggle Hat       520\n",
       "2      2015-01-01  Finland  KaggleMart  Kaggle Sticker       146\n",
       "3      2015-01-01  Finland  KaggleRama      Kaggle Mug       572\n",
       "4      2015-01-01  Finland  KaggleRama      Kaggle Hat       911"
      ]
     },
     "execution_count": 13,
     "metadata": {},
     "output_type": "execute_result"
    }
   ],
   "source": [
    "train_df.head()"
   ]
  },
  {
   "cell_type": "code",
   "execution_count": 14,
   "id": "b6184d88",
   "metadata": {
    "execution": {
     "iopub.execute_input": "2022-01-30T12:14:02.430464Z",
     "iopub.status.busy": "2022-01-30T12:14:02.429730Z",
     "iopub.status.idle": "2022-01-30T12:14:02.436803Z",
     "shell.execute_reply": "2022-01-30T12:14:02.437307Z",
     "shell.execute_reply.started": "2022-01-30T09:43:32.567244Z"
    },
    "papermill": {
     "duration": 0.08095,
     "end_time": "2022-01-30T12:14:02.437488",
     "exception": false,
     "start_time": "2022-01-30T12:14:02.356538",
     "status": "completed"
    },
    "tags": []
   },
   "outputs": [],
   "source": [
    "train_df['month'] = train_df['date'].dt.month"
   ]
  },
  {
   "cell_type": "code",
   "execution_count": 15,
   "id": "4bfd30d0",
   "metadata": {
    "execution": {
     "iopub.execute_input": "2022-01-30T12:14:02.582937Z",
     "iopub.status.busy": "2022-01-30T12:14:02.581101Z",
     "iopub.status.idle": "2022-01-30T12:14:02.588797Z",
     "shell.execute_reply": "2022-01-30T12:14:02.589320Z",
     "shell.execute_reply.started": "2022-01-30T09:44:06.354006Z"
    },
    "papermill": {
     "duration": 0.081872,
     "end_time": "2022-01-30T12:14:02.589501",
     "exception": false,
     "start_time": "2022-01-30T12:14:02.507629",
     "status": "completed"
    },
    "tags": []
   },
   "outputs": [],
   "source": [
    "train_df['day_of_week'] = train_df['date'].dt.dayofweek"
   ]
  },
  {
   "cell_type": "code",
   "execution_count": 16,
   "id": "079241f9",
   "metadata": {
    "execution": {
     "iopub.execute_input": "2022-01-30T12:14:02.733587Z",
     "iopub.status.busy": "2022-01-30T12:14:02.732925Z",
     "iopub.status.idle": "2022-01-30T12:14:02.744188Z",
     "shell.execute_reply": "2022-01-30T12:14:02.744668Z",
     "shell.execute_reply.started": "2022-01-30T09:44:17.447177Z"
    },
    "papermill": {
     "duration": 0.085124,
     "end_time": "2022-01-30T12:14:02.744837",
     "exception": false,
     "start_time": "2022-01-30T12:14:02.659713",
     "status": "completed"
    },
    "tags": []
   },
   "outputs": [
    {
     "data": {
      "text/html": [
       "<div>\n",
       "<style scoped>\n",
       "    .dataframe tbody tr th:only-of-type {\n",
       "        vertical-align: middle;\n",
       "    }\n",
       "\n",
       "    .dataframe tbody tr th {\n",
       "        vertical-align: top;\n",
       "    }\n",
       "\n",
       "    .dataframe thead th {\n",
       "        text-align: right;\n",
       "    }\n",
       "</style>\n",
       "<table border=\"1\" class=\"dataframe\">\n",
       "  <thead>\n",
       "    <tr style=\"text-align: right;\">\n",
       "      <th></th>\n",
       "      <th>date</th>\n",
       "      <th>country</th>\n",
       "      <th>store</th>\n",
       "      <th>product</th>\n",
       "      <th>num_sold</th>\n",
       "      <th>month</th>\n",
       "      <th>day_of_week</th>\n",
       "    </tr>\n",
       "    <tr>\n",
       "      <th>row_id</th>\n",
       "      <th></th>\n",
       "      <th></th>\n",
       "      <th></th>\n",
       "      <th></th>\n",
       "      <th></th>\n",
       "      <th></th>\n",
       "      <th></th>\n",
       "    </tr>\n",
       "  </thead>\n",
       "  <tbody>\n",
       "    <tr>\n",
       "      <th>0</th>\n",
       "      <td>2015-01-01</td>\n",
       "      <td>Finland</td>\n",
       "      <td>KaggleMart</td>\n",
       "      <td>Kaggle Mug</td>\n",
       "      <td>329</td>\n",
       "      <td>1</td>\n",
       "      <td>3</td>\n",
       "    </tr>\n",
       "    <tr>\n",
       "      <th>1</th>\n",
       "      <td>2015-01-01</td>\n",
       "      <td>Finland</td>\n",
       "      <td>KaggleMart</td>\n",
       "      <td>Kaggle Hat</td>\n",
       "      <td>520</td>\n",
       "      <td>1</td>\n",
       "      <td>3</td>\n",
       "    </tr>\n",
       "    <tr>\n",
       "      <th>2</th>\n",
       "      <td>2015-01-01</td>\n",
       "      <td>Finland</td>\n",
       "      <td>KaggleMart</td>\n",
       "      <td>Kaggle Sticker</td>\n",
       "      <td>146</td>\n",
       "      <td>1</td>\n",
       "      <td>3</td>\n",
       "    </tr>\n",
       "    <tr>\n",
       "      <th>3</th>\n",
       "      <td>2015-01-01</td>\n",
       "      <td>Finland</td>\n",
       "      <td>KaggleRama</td>\n",
       "      <td>Kaggle Mug</td>\n",
       "      <td>572</td>\n",
       "      <td>1</td>\n",
       "      <td>3</td>\n",
       "    </tr>\n",
       "    <tr>\n",
       "      <th>4</th>\n",
       "      <td>2015-01-01</td>\n",
       "      <td>Finland</td>\n",
       "      <td>KaggleRama</td>\n",
       "      <td>Kaggle Hat</td>\n",
       "      <td>911</td>\n",
       "      <td>1</td>\n",
       "      <td>3</td>\n",
       "    </tr>\n",
       "  </tbody>\n",
       "</table>\n",
       "</div>"
      ],
      "text/plain": [
       "             date  country       store         product  num_sold  month  \\\n",
       "row_id                                                                    \n",
       "0      2015-01-01  Finland  KaggleMart      Kaggle Mug       329      1   \n",
       "1      2015-01-01  Finland  KaggleMart      Kaggle Hat       520      1   \n",
       "2      2015-01-01  Finland  KaggleMart  Kaggle Sticker       146      1   \n",
       "3      2015-01-01  Finland  KaggleRama      Kaggle Mug       572      1   \n",
       "4      2015-01-01  Finland  KaggleRama      Kaggle Hat       911      1   \n",
       "\n",
       "        day_of_week  \n",
       "row_id               \n",
       "0                 3  \n",
       "1                 3  \n",
       "2                 3  \n",
       "3                 3  \n",
       "4                 3  "
      ]
     },
     "execution_count": 16,
     "metadata": {},
     "output_type": "execute_result"
    }
   ],
   "source": [
    "train_df.head()"
   ]
  },
  {
   "cell_type": "code",
   "execution_count": 17,
   "id": "c09dd204",
   "metadata": {
    "execution": {
     "iopub.execute_input": "2022-01-30T12:14:02.890952Z",
     "iopub.status.busy": "2022-01-30T12:14:02.890273Z",
     "iopub.status.idle": "2022-01-30T12:14:03.151847Z",
     "shell.execute_reply": "2022-01-30T12:14:03.152381Z",
     "shell.execute_reply.started": "2022-01-30T09:46:26.082337Z"
    },
    "papermill": {
     "duration": 0.336994,
     "end_time": "2022-01-30T12:14:03.152559",
     "exception": false,
     "start_time": "2022-01-30T12:14:02.815565",
     "status": "completed"
    },
    "tags": []
   },
   "outputs": [
    {
     "data": {
      "text/plain": [
       "<AxesSubplot:xlabel='store', ylabel='num_sold'>"
      ]
     },
     "execution_count": 17,
     "metadata": {},
     "output_type": "execute_result"
    },
    {
     "data": {
      "image/png": "[encoded data removed]",
      "text/plain": [
       "<Figure size 432x288 with 1 Axes>"
      ]
     },
     "metadata": {
      "needs_background": "light"
     },
     "output_type": "display_data"
    }
   ],
   "source": [
    "sns.boxplot(data=train_df,x='store',y='num_sold')"
   ]
  },
  {
   "cell_type": "code",
   "execution_count": 18,
   "id": "174a3dea",
   "metadata": {
    "execution": {
     "iopub.execute_input": "2022-01-30T12:14:03.299971Z",
     "iopub.status.busy": "2022-01-30T12:14:03.299354Z",
     "iopub.status.idle": "2022-01-30T12:14:03.536661Z",
     "shell.execute_reply": "2022-01-30T12:14:03.537162Z",
     "shell.execute_reply.started": "2022-01-30T09:46:32.142426Z"
    },
    "papermill": {
     "duration": 0.313352,
     "end_time": "2022-01-30T12:14:03.537330",
     "exception": false,
     "start_time": "2022-01-30T12:14:03.223978",
     "status": "completed"
    },
    "tags": []
   },
   "outputs": [
    {
     "data": {
      "text/plain": [
       "<AxesSubplot:xlabel='product', ylabel='num_sold'>"
      ]
     },
     "execution_count": 18,
     "metadata": {},
     "output_type": "execute_result"
    },
    {
     "data": {
      "image/png": "[encoded data removed]",
      "text/plain": [
       "<Figure size 432x288 with 1 Axes>"
      ]
     },
     "metadata": {
      "needs_background": "light"
     },
     "output_type": "display_data"
    }
   ],
   "source": [
    "sns.boxplot(data=train_df,x='product',y='num_sold')"
   ]
  },
  {
   "cell_type": "code",
   "execution_count": 19,
   "id": "59fe1b6f",
   "metadata": {
    "execution": {
     "iopub.execute_input": "2022-01-30T12:14:03.685949Z",
     "iopub.status.busy": "2022-01-30T12:14:03.685339Z",
     "iopub.status.idle": "2022-01-30T12:14:04.261291Z",
     "shell.execute_reply": "2022-01-30T12:14:04.261801Z",
     "shell.execute_reply.started": "2022-01-30T09:48:31.153181Z"
    },
    "papermill": {
     "duration": 0.652351,
     "end_time": "2022-01-30T12:14:04.261972",
     "exception": false,
     "start_time": "2022-01-30T12:14:03.609621",
     "status": "completed"
    },
    "tags": []
   },
   "outputs": [
    {
     "data": {
      "text/plain": [
       "<AxesSubplot:xlabel='product', ylabel='num_sold'>"
      ]
     },
     "execution_count": 19,
     "metadata": {},
     "output_type": "execute_result"
    },
    {
     "data": {
      "image/png": "[encoded data removed]",
      "text/plain": [
       "<Figure size 720x576 with 1 Axes>"
      ]
     },
     "metadata": {
      "needs_background": "light"
     },
     "output_type": "display_data"
    }
   ],
   "source": [
    "plt.figure( figsize= (10,8))\n",
    "sns.boxplot(data=train_df,x='product',y='num_sold',hue='country')"
   ]
  },
  {
   "cell_type": "markdown",
   "id": "79a791c6",
   "metadata": {
    "papermill": {
     "duration": 0.073923,
     "end_time": "2022-01-30T12:14:04.410247",
     "exception": false,
     "start_time": "2022-01-30T12:14:04.336324",
     "status": "completed"
    },
    "tags": []
   },
   "source": [
    "Norway seems to be leading in sales"
   ]
  },
  {
   "cell_type": "code",
   "execution_count": 20,
   "id": "f8230de5",
   "metadata": {
    "execution": {
     "iopub.execute_input": "2022-01-30T12:14:04.569347Z",
     "iopub.status.busy": "2022-01-30T12:14:04.568649Z",
     "iopub.status.idle": "2022-01-30T12:14:04.801953Z",
     "shell.execute_reply": "2022-01-30T12:14:04.801441Z",
     "shell.execute_reply.started": "2022-01-30T09:51:14.467948Z"
    },
    "papermill": {
     "duration": 0.314726,
     "end_time": "2022-01-30T12:14:04.802127",
     "exception": false,
     "start_time": "2022-01-30T12:14:04.487401",
     "status": "completed"
    },
    "tags": []
   },
   "outputs": [
    {
     "data": {
      "text/plain": [
       "<AxesSubplot:ylabel='month'>"
      ]
     },
     "execution_count": 20,
     "metadata": {},
     "output_type": "execute_result"
    },
    {
     "data": {
      "image/png": "[encoded data removed]",
      "text/plain": [
       "<Figure size 432x288 with 1 Axes>"
      ]
     },
     "metadata": {
      "needs_background": "light"
     },
     "output_type": "display_data"
    }
   ],
   "source": [
    "train_df.groupby('month')['num_sold'].sum().plot(kind='barh')"
   ]
  },
  {
   "cell_type": "code",
   "execution_count": 21,
   "id": "53322084",
   "metadata": {
    "execution": {
     "iopub.execute_input": "2022-01-30T12:14:04.960665Z",
     "iopub.status.busy": "2022-01-30T12:14:04.959611Z",
     "iopub.status.idle": "2022-01-30T12:14:05.187372Z",
     "shell.execute_reply": "2022-01-30T12:14:05.186809Z",
     "shell.execute_reply.started": "2022-01-30T09:51:33.789094Z"
    },
    "papermill": {
     "duration": 0.308757,
     "end_time": "2022-01-30T12:14:05.187531",
     "exception": false,
     "start_time": "2022-01-30T12:14:04.878774",
     "status": "completed"
    },
    "tags": []
   },
   "outputs": [
    {
     "data": {
      "text/plain": [
       "<AxesSubplot:ylabel='day_of_week'>"
      ]
     },
     "execution_count": 21,
     "metadata": {},
     "output_type": "execute_result"
    },
    {
     "data": {
      "image/png": "[encoded data removed]",
      "text/plain": [
       "<Figure size 432x288 with 1 Axes>"
      ]
     },
     "metadata": {
      "needs_background": "light"
     },
     "output_type": "display_data"
    }
   ],
   "source": [
    "train_df.groupby('day_of_week')['num_sold'].sum().plot(kind='barh')"
   ]
  },
  {
   "cell_type": "code",
   "execution_count": 22,
   "id": "a69f91c9",
   "metadata": {
    "execution": {
     "iopub.execute_input": "2022-01-30T12:14:05.346073Z",
     "iopub.status.busy": "2022-01-30T12:14:05.345377Z",
     "iopub.status.idle": "2022-01-30T12:14:05.350458Z",
     "shell.execute_reply": "2022-01-30T12:14:05.351102Z",
     "shell.execute_reply.started": "2022-01-30T11:00:07.822770Z"
    },
    "papermill": {
     "duration": 0.087655,
     "end_time": "2022-01-30T12:14:05.351283",
     "exception": false,
     "start_time": "2022-01-30T12:14:05.263628",
     "status": "completed"
    },
    "tags": []
   },
   "outputs": [],
   "source": [
    "## Dropping the date column as important month and day features extracted\n",
    "train_df = train_df.drop('date',axis=1)"
   ]
  },
  {
   "cell_type": "code",
   "execution_count": 23,
   "id": "1bbe6f0d",
   "metadata": {
    "execution": {
     "iopub.execute_input": "2022-01-30T12:14:05.508217Z",
     "iopub.status.busy": "2022-01-30T12:14:05.507108Z",
     "iopub.status.idle": "2022-01-30T12:14:05.519056Z",
     "shell.execute_reply": "2022-01-30T12:14:05.519655Z",
     "shell.execute_reply.started": "2022-01-30T09:53:54.926527Z"
    },
    "papermill": {
     "duration": 0.092966,
     "end_time": "2022-01-30T12:14:05.519825",
     "exception": false,
     "start_time": "2022-01-30T12:14:05.426859",
     "status": "completed"
    },
    "tags": []
   },
   "outputs": [
    {
     "data": {
      "text/html": [
       "<div>\n",
       "<style scoped>\n",
       "    .dataframe tbody tr th:only-of-type {\n",
       "        vertical-align: middle;\n",
       "    }\n",
       "\n",
       "    .dataframe tbody tr th {\n",
       "        vertical-align: top;\n",
       "    }\n",
       "\n",
       "    .dataframe thead th {\n",
       "        text-align: right;\n",
       "    }\n",
       "</style>\n",
       "<table border=\"1\" class=\"dataframe\">\n",
       "  <thead>\n",
       "    <tr style=\"text-align: right;\">\n",
       "      <th></th>\n",
       "      <th>country</th>\n",
       "      <th>store</th>\n",
       "      <th>product</th>\n",
       "      <th>num_sold</th>\n",
       "      <th>month</th>\n",
       "      <th>day_of_week</th>\n",
       "    </tr>\n",
       "    <tr>\n",
       "      <th>row_id</th>\n",
       "      <th></th>\n",
       "      <th></th>\n",
       "      <th></th>\n",
       "      <th></th>\n",
       "      <th></th>\n",
       "      <th></th>\n",
       "    </tr>\n",
       "  </thead>\n",
       "  <tbody>\n",
       "    <tr>\n",
       "      <th>0</th>\n",
       "      <td>Finland</td>\n",
       "      <td>KaggleMart</td>\n",
       "      <td>Kaggle Mug</td>\n",
       "      <td>329</td>\n",
       "      <td>1</td>\n",
       "      <td>3</td>\n",
       "    </tr>\n",
       "    <tr>\n",
       "      <th>1</th>\n",
       "      <td>Finland</td>\n",
       "      <td>KaggleMart</td>\n",
       "      <td>Kaggle Hat</td>\n",
       "      <td>520</td>\n",
       "      <td>1</td>\n",
       "      <td>3</td>\n",
       "    </tr>\n",
       "    <tr>\n",
       "      <th>2</th>\n",
       "      <td>Finland</td>\n",
       "      <td>KaggleMart</td>\n",
       "      <td>Kaggle Sticker</td>\n",
       "      <td>146</td>\n",
       "      <td>1</td>\n",
       "      <td>3</td>\n",
       "    </tr>\n",
       "    <tr>\n",
       "      <th>3</th>\n",
       "      <td>Finland</td>\n",
       "      <td>KaggleRama</td>\n",
       "      <td>Kaggle Mug</td>\n",
       "      <td>572</td>\n",
       "      <td>1</td>\n",
       "      <td>3</td>\n",
       "    </tr>\n",
       "    <tr>\n",
       "      <th>4</th>\n",
       "      <td>Finland</td>\n",
       "      <td>KaggleRama</td>\n",
       "      <td>Kaggle Hat</td>\n",
       "      <td>911</td>\n",
       "      <td>1</td>\n",
       "      <td>3</td>\n",
       "    </tr>\n",
       "  </tbody>\n",
       "</table>\n",
       "</div>"
      ],
      "text/plain": [
       "        country       store         product  num_sold  month  day_of_week\n",
       "row_id                                                                   \n",
       "0       Finland  KaggleMart      Kaggle Mug       329      1            3\n",
       "1       Finland  KaggleMart      Kaggle Hat       520      1            3\n",
       "2       Finland  KaggleMart  Kaggle Sticker       146      1            3\n",
       "3       Finland  KaggleRama      Kaggle Mug       572      1            3\n",
       "4       Finland  KaggleRama      Kaggle Hat       911      1            3"
      ]
     },
     "execution_count": 23,
     "metadata": {},
     "output_type": "execute_result"
    }
   ],
   "source": [
    "train_df.head()"
   ]
  },
  {
   "cell_type": "code",
   "execution_count": 24,
   "id": "13c5c3f9",
   "metadata": {
    "execution": {
     "iopub.execute_input": "2022-01-30T12:14:05.682520Z",
     "iopub.status.busy": "2022-01-30T12:14:05.681586Z",
     "iopub.status.idle": "2022-01-30T12:14:05.684697Z",
     "shell.execute_reply": "2022-01-30T12:14:05.685220Z",
     "shell.execute_reply.started": "2022-01-30T09:57:05.710607Z"
    },
    "papermill": {
     "duration": 0.089185,
     "end_time": "2022-01-30T12:14:05.685413",
     "exception": false,
     "start_time": "2022-01-30T12:14:05.596228",
     "status": "completed"
    },
    "tags": []
   },
   "outputs": [],
   "source": [
    "y= train_df['num_sold']\n",
    "X= train_df.drop('num_sold',axis=1)"
   ]
  },
  {
   "cell_type": "code",
   "execution_count": 25,
   "id": "f833cc37",
   "metadata": {
    "execution": {
     "iopub.execute_input": "2022-01-30T12:14:05.851679Z",
     "iopub.status.busy": "2022-01-30T12:14:05.850992Z",
     "iopub.status.idle": "2022-01-30T12:14:05.853542Z",
     "shell.execute_reply": "2022-01-30T12:14:05.854033Z",
     "shell.execute_reply.started": "2022-01-30T09:58:16.997857Z"
    },
    "papermill": {
     "duration": 0.0912,
     "end_time": "2022-01-30T12:14:05.854204",
     "exception": false,
     "start_time": "2022-01-30T12:14:05.763004",
     "status": "completed"
    },
    "tags": []
   },
   "outputs": [
    {
     "data": {
      "text/html": [
       "<div>\n",
       "<style scoped>\n",
       "    .dataframe tbody tr th:only-of-type {\n",
       "        vertical-align: middle;\n",
       "    }\n",
       "\n",
       "    .dataframe tbody tr th {\n",
       "        vertical-align: top;\n",
       "    }\n",
       "\n",
       "    .dataframe thead th {\n",
       "        text-align: right;\n",
       "    }\n",
       "</style>\n",
       "<table border=\"1\" class=\"dataframe\">\n",
       "  <thead>\n",
       "    <tr style=\"text-align: right;\">\n",
       "      <th></th>\n",
       "      <th>country</th>\n",
       "      <th>store</th>\n",
       "      <th>product</th>\n",
       "      <th>month</th>\n",
       "      <th>day_of_week</th>\n",
       "    </tr>\n",
       "    <tr>\n",
       "      <th>row_id</th>\n",
       "      <th></th>\n",
       "      <th></th>\n",
       "      <th></th>\n",
       "      <th></th>\n",
       "      <th></th>\n",
       "    </tr>\n",
       "  </thead>\n",
       "  <tbody>\n",
       "    <tr>\n",
       "      <th>0</th>\n",
       "      <td>Finland</td>\n",
       "      <td>KaggleMart</td>\n",
       "      <td>Kaggle Mug</td>\n",
       "      <td>1</td>\n",
       "      <td>3</td>\n",
       "    </tr>\n",
       "    <tr>\n",
       "      <th>1</th>\n",
       "      <td>Finland</td>\n",
       "      <td>KaggleMart</td>\n",
       "      <td>Kaggle Hat</td>\n",
       "      <td>1</td>\n",
       "      <td>3</td>\n",
       "    </tr>\n",
       "    <tr>\n",
       "      <th>2</th>\n",
       "      <td>Finland</td>\n",
       "      <td>KaggleMart</td>\n",
       "      <td>Kaggle Sticker</td>\n",
       "      <td>1</td>\n",
       "      <td>3</td>\n",
       "    </tr>\n",
       "    <tr>\n",
       "      <th>3</th>\n",
       "      <td>Finland</td>\n",
       "      <td>KaggleRama</td>\n",
       "      <td>Kaggle Mug</td>\n",
       "      <td>1</td>\n",
       "      <td>3</td>\n",
       "    </tr>\n",
       "    <tr>\n",
       "      <th>4</th>\n",
       "      <td>Finland</td>\n",
       "      <td>KaggleRama</td>\n",
       "      <td>Kaggle Hat</td>\n",
       "      <td>1</td>\n",
       "      <td>3</td>\n",
       "    </tr>\n",
       "  </tbody>\n",
       "</table>\n",
       "</div>"
      ],
      "text/plain": [
       "        country       store         product  month  day_of_week\n",
       "row_id                                                         \n",
       "0       Finland  KaggleMart      Kaggle Mug      1            3\n",
       "1       Finland  KaggleMart      Kaggle Hat      1            3\n",
       "2       Finland  KaggleMart  Kaggle Sticker      1            3\n",
       "3       Finland  KaggleRama      Kaggle Mug      1            3\n",
       "4       Finland  KaggleRama      Kaggle Hat      1            3"
      ]
     },
     "execution_count": 25,
     "metadata": {},
     "output_type": "execute_result"
    }
   ],
   "source": [
    "X.head()"
   ]
  },
  {
   "cell_type": "code",
   "execution_count": 26,
   "id": "fcc251fc",
   "metadata": {
    "execution": {
     "iopub.execute_input": "2022-01-30T12:14:06.013110Z",
     "iopub.status.busy": "2022-01-30T12:14:06.012457Z",
     "iopub.status.idle": "2022-01-30T12:14:06.032839Z",
     "shell.execute_reply": "2022-01-30T12:14:06.032308Z",
     "shell.execute_reply.started": "2022-01-30T10:06:12.625944Z"
    },
    "papermill": {
     "duration": 0.100934,
     "end_time": "2022-01-30T12:14:06.033011",
     "exception": false,
     "start_time": "2022-01-30T12:14:05.932077",
     "status": "completed"
    },
    "tags": []
   },
   "outputs": [],
   "source": [
    "## one hot encoding of the dataset\n",
    "category = ['country','store','product']\n",
    "X = pd.get_dummies(data=X,columns=category,drop_first=True)"
   ]
  },
  {
   "cell_type": "code",
   "execution_count": 27,
   "id": "bc60f914",
   "metadata": {
    "execution": {
     "iopub.execute_input": "2022-01-30T12:14:06.192702Z",
     "iopub.status.busy": "2022-01-30T12:14:06.192075Z",
     "iopub.status.idle": "2022-01-30T12:14:06.355354Z",
     "shell.execute_reply": "2022-01-30T12:14:06.354639Z",
     "shell.execute_reply.started": "2022-01-30T10:06:24.358347Z"
    },
    "papermill": {
     "duration": 0.244899,
     "end_time": "2022-01-30T12:14:06.355516",
     "exception": false,
     "start_time": "2022-01-30T12:14:06.110617",
     "status": "completed"
    },
    "tags": []
   },
   "outputs": [],
   "source": [
    "from sklearn.model_selection import train_test_split\n",
    "\n",
    "X_train,X_validate,y_train,y_validate = train_test_split(X,y,test_size=0.2,random_state=42)"
   ]
  },
  {
   "cell_type": "code",
   "execution_count": 28,
   "id": "f0b01a53",
   "metadata": {
    "execution": {
     "iopub.execute_input": "2022-01-30T12:14:06.515453Z",
     "iopub.status.busy": "2022-01-30T12:14:06.514780Z",
     "iopub.status.idle": "2022-01-30T12:14:06.519153Z",
     "shell.execute_reply": "2022-01-30T12:14:06.519666Z",
     "shell.execute_reply.started": "2022-01-30T10:07:36.252510Z"
    },
    "papermill": {
     "duration": 0.087521,
     "end_time": "2022-01-30T12:14:06.519844",
     "exception": false,
     "start_time": "2022-01-30T12:14:06.432323",
     "status": "completed"
    },
    "tags": []
   },
   "outputs": [
    {
     "name": "stdout",
     "output_type": "stream",
     "text": [
      "(21038, 7)\n",
      "(5260, 7)\n",
      "(21038,)\n",
      "(5260,)\n"
     ]
    }
   ],
   "source": [
    "print(X_train.shape)\n",
    "print(X_validate.shape)\n",
    "print(y_train.shape)\n",
    "print(y_validate.shape)"
   ]
  },
  {
   "cell_type": "code",
   "execution_count": 29,
   "id": "2d8b33e7",
   "metadata": {
    "execution": {
     "iopub.execute_input": "2022-01-30T12:14:06.679834Z",
     "iopub.status.busy": "2022-01-30T12:14:06.678753Z",
     "iopub.status.idle": "2022-01-30T12:14:06.684421Z",
     "shell.execute_reply": "2022-01-30T12:14:06.684916Z",
     "shell.execute_reply.started": "2022-01-30T11:03:18.359910Z"
    },
    "papermill": {
     "duration": 0.08773,
     "end_time": "2022-01-30T12:14:06.685125",
     "exception": false,
     "start_time": "2022-01-30T12:14:06.597395",
     "status": "completed"
    },
    "tags": []
   },
   "outputs": [
    {
     "data": {
      "text/plain": [
       "Index(['month', 'day_of_week', 'country_Norway', 'country_Sweden',\n",
       "       'store_KaggleRama', 'product_Kaggle Mug', 'product_Kaggle Sticker'],\n",
       "      dtype='object')"
      ]
     },
     "execution_count": 29,
     "metadata": {},
     "output_type": "execute_result"
    }
   ],
   "source": [
    "X_train.columns"
   ]
  },
  {
   "cell_type": "code",
   "execution_count": 30,
   "id": "2b45c895",
   "metadata": {
    "execution": {
     "iopub.execute_input": "2022-01-30T12:14:06.845782Z",
     "iopub.status.busy": "2022-01-30T12:14:06.845142Z",
     "iopub.status.idle": "2022-01-30T12:14:06.856972Z",
     "shell.execute_reply": "2022-01-30T12:14:06.857510Z",
     "shell.execute_reply.started": "2022-01-30T11:00:42.340877Z"
    },
    "papermill": {
     "duration": 0.093254,
     "end_time": "2022-01-30T12:14:06.857681",
     "exception": false,
     "start_time": "2022-01-30T12:14:06.764427",
     "status": "completed"
    },
    "tags": []
   },
   "outputs": [],
   "source": [
    "## transforming the test data in similer terms\n",
    "test_df = test_df.set_index('row_id')\n",
    "test_df['date'] = pd.to_datetime(test_df['date'])\n",
    "test_df['month'] = test_df['date'].dt.month\n",
    "test_df['day_of_week'] = test_df['date'].dt.dayofweek"
   ]
  },
  {
   "cell_type": "code",
   "execution_count": 31,
   "id": "6325258d",
   "metadata": {
    "execution": {
     "iopub.execute_input": "2022-01-30T12:14:07.019699Z",
     "iopub.status.busy": "2022-01-30T12:14:07.019011Z",
     "iopub.status.idle": "2022-01-30T12:14:07.025256Z",
     "shell.execute_reply": "2022-01-30T12:14:07.024697Z",
     "shell.execute_reply.started": "2022-01-30T11:01:11.598480Z"
    },
    "papermill": {
     "duration": 0.08797,
     "end_time": "2022-01-30T12:14:07.025398",
     "exception": false,
     "start_time": "2022-01-30T12:14:06.937428",
     "status": "completed"
    },
    "tags": []
   },
   "outputs": [],
   "source": [
    "test_df.drop('date',axis=1,inplace=True)"
   ]
  },
  {
   "cell_type": "code",
   "execution_count": 32,
   "id": "73cc6a49",
   "metadata": {
    "execution": {
     "iopub.execute_input": "2022-01-30T12:14:07.184008Z",
     "iopub.status.busy": "2022-01-30T12:14:07.183374Z",
     "iopub.status.idle": "2022-01-30T12:14:07.195821Z",
     "shell.execute_reply": "2022-01-30T12:14:07.195297Z",
     "shell.execute_reply.started": "2022-01-30T11:02:41.012989Z"
    },
    "papermill": {
     "duration": 0.092918,
     "end_time": "2022-01-30T12:14:07.195982",
     "exception": false,
     "start_time": "2022-01-30T12:14:07.103064",
     "status": "completed"
    },
    "tags": []
   },
   "outputs": [],
   "source": [
    "category = ['country','store','product']\n",
    "test_df = pd.get_dummies(data=test_df,columns=category)"
   ]
  },
  {
   "cell_type": "code",
   "execution_count": 33,
   "id": "4542d6d0",
   "metadata": {
    "execution": {
     "iopub.execute_input": "2022-01-30T12:14:07.356658Z",
     "iopub.status.busy": "2022-01-30T12:14:07.356050Z",
     "iopub.status.idle": "2022-01-30T12:14:07.358538Z",
     "shell.execute_reply": "2022-01-30T12:14:07.359122Z",
     "shell.execute_reply.started": "2022-01-30T11:02:51.210255Z"
    },
    "papermill": {
     "duration": 0.085916,
     "end_time": "2022-01-30T12:14:07.359285",
     "exception": false,
     "start_time": "2022-01-30T12:14:07.273369",
     "status": "completed"
    },
    "tags": []
   },
   "outputs": [
    {
     "data": {
      "text/plain": [
       "Index(['month', 'day_of_week', 'country_Finland', 'country_Norway',\n",
       "       'country_Sweden', 'store_KaggleMart', 'store_KaggleRama',\n",
       "       'product_Kaggle Hat', 'product_Kaggle Mug', 'product_Kaggle Sticker'],\n",
       "      dtype='object')"
      ]
     },
     "execution_count": 33,
     "metadata": {},
     "output_type": "execute_result"
    }
   ],
   "source": [
    "test_df.columns"
   ]
  },
  {
   "cell_type": "code",
   "execution_count": 34,
   "id": "2f83927a",
   "metadata": {
    "execution": {
     "iopub.execute_input": "2022-01-30T12:14:07.517805Z",
     "iopub.status.busy": "2022-01-30T12:14:07.517165Z",
     "iopub.status.idle": "2022-01-30T12:14:07.522346Z",
     "shell.execute_reply": "2022-01-30T12:14:07.522797Z",
     "shell.execute_reply.started": "2022-01-30T11:09:03.749016Z"
    },
    "papermill": {
     "duration": 0.086085,
     "end_time": "2022-01-30T12:14:07.522982",
     "exception": false,
     "start_time": "2022-01-30T12:14:07.436897",
     "status": "completed"
    },
    "tags": []
   },
   "outputs": [],
   "source": [
    "## dropping country_Finland,store_KaggleMart,product_Kaggle Hat\n",
    "test_df.drop(['country_Finland','store_KaggleMart','product_Kaggle Hat'],axis=1,inplace=True)"
   ]
  },
  {
   "cell_type": "code",
   "execution_count": 35,
   "id": "480a67d3",
   "metadata": {
    "execution": {
     "iopub.execute_input": "2022-01-30T12:14:07.685734Z",
     "iopub.status.busy": "2022-01-30T12:14:07.685047Z",
     "iopub.status.idle": "2022-01-30T12:14:07.687497Z",
     "shell.execute_reply": "2022-01-30T12:14:07.687966Z",
     "shell.execute_reply.started": "2022-01-30T11:09:13.436637Z"
    },
    "papermill": {
     "duration": 0.087687,
     "end_time": "2022-01-30T12:14:07.688149",
     "exception": false,
     "start_time": "2022-01-30T12:14:07.600462",
     "status": "completed"
    },
    "tags": []
   },
   "outputs": [
    {
     "data": {
      "text/plain": [
       "Index(['month', 'day_of_week', 'country_Norway', 'country_Sweden',\n",
       "       'store_KaggleRama', 'product_Kaggle Mug', 'product_Kaggle Sticker'],\n",
       "      dtype='object')"
      ]
     },
     "execution_count": 35,
     "metadata": {},
     "output_type": "execute_result"
    }
   ],
   "source": [
    "test_df.columns"
   ]
  },
  {
   "cell_type": "code",
   "execution_count": 36,
   "id": "a089317a",
   "metadata": {
    "execution": {
     "iopub.execute_input": "2022-01-30T12:14:07.847216Z",
     "iopub.status.busy": "2022-01-30T12:14:07.846600Z",
     "iopub.status.idle": "2022-01-30T12:14:07.850900Z",
     "shell.execute_reply": "2022-01-30T12:14:07.851501Z",
     "shell.execute_reply.started": "2022-01-30T11:08:11.191985Z"
    },
    "papermill": {
     "duration": 0.08571,
     "end_time": "2022-01-30T12:14:07.851662",
     "exception": false,
     "start_time": "2022-01-30T12:14:07.765952",
     "status": "completed"
    },
    "tags": []
   },
   "outputs": [
    {
     "data": {
      "text/plain": [
       "(6570, 7)"
      ]
     },
     "execution_count": 36,
     "metadata": {},
     "output_type": "execute_result"
    }
   ],
   "source": [
    "test_df.shape"
   ]
  },
  {
   "cell_type": "markdown",
   "id": "ded2bf32",
   "metadata": {
    "papermill": {
     "duration": 0.078688,
     "end_time": "2022-01-30T12:14:08.009625",
     "exception": false,
     "start_time": "2022-01-30T12:14:07.930937",
     "status": "completed"
    },
    "tags": []
   },
   "source": [
    "## Model Building"
   ]
  },
  {
   "cell_type": "markdown",
   "id": "097bdd0e",
   "metadata": {
    "papermill": {
     "duration": 0.079722,
     "end_time": "2022-01-30T12:14:08.169297",
     "exception": false,
     "start_time": "2022-01-30T12:14:08.089575",
     "status": "completed"
    },
    "tags": []
   },
   "source": [
    "### 1. Based on Linear Regression -Base model"
   ]
  },
  {
   "cell_type": "code",
   "execution_count": 37,
   "id": "e708faf5",
   "metadata": {
    "execution": {
     "iopub.execute_input": "2022-01-30T12:14:08.332275Z",
     "iopub.status.busy": "2022-01-30T12:14:08.331593Z",
     "iopub.status.idle": "2022-01-30T12:14:08.988978Z",
     "shell.execute_reply": "2022-01-30T12:14:08.988325Z",
     "shell.execute_reply.started": "2022-01-30T10:08:45.926608Z"
    },
    "papermill": {
     "duration": 0.7405,
     "end_time": "2022-01-30T12:14:08.989152",
     "exception": false,
     "start_time": "2022-01-30T12:14:08.248652",
     "status": "completed"
    },
    "tags": []
   },
   "outputs": [],
   "source": [
    "import statsmodels.api as sm"
   ]
  },
  {
   "cell_type": "code",
   "execution_count": 38,
   "id": "c9e4ebb1",
   "metadata": {
    "execution": {
     "iopub.execute_input": "2022-01-30T12:14:09.155114Z",
     "iopub.status.busy": "2022-01-30T12:14:09.154441Z",
     "iopub.status.idle": "2022-01-30T12:14:09.228379Z",
     "shell.execute_reply": "2022-01-30T12:14:09.229256Z",
     "shell.execute_reply.started": "2022-01-30T10:41:51.050275Z"
    },
    "papermill": {
     "duration": 0.159309,
     "end_time": "2022-01-30T12:14:09.229540",
     "exception": false,
     "start_time": "2022-01-30T12:14:09.070231",
     "status": "completed"
    },
    "tags": []
   },
   "outputs": [
    {
     "data": {
      "text/html": [
       "<table class=\"simpletable\">\n",
       "<caption>OLS Regression Results</caption>\n",
       "<tr>\n",
       "  <th>Dep. Variable:</th>        <td>num_sold</td>     <th>  R-squared:         </th>  <td>   0.759</td>  \n",
       "</tr>\n",
       "<tr>\n",
       "  <th>Model:</th>                   <td>OLS</td>       <th>  Adj. R-squared:    </th>  <td>   0.759</td>  \n",
       "</tr>\n",
       "<tr>\n",
       "  <th>Method:</th>             <td>Least Squares</td>  <th>  F-statistic:       </th>  <td>   9480.</td>  \n",
       "</tr>\n",
       "<tr>\n",
       "  <th>Date:</th>             <td>Sun, 30 Jan 2022</td> <th>  Prob (F-statistic):</th>   <td>  0.00</td>   \n",
       "</tr>\n",
       "<tr>\n",
       "  <th>Time:</th>                 <td>12:14:09</td>     <th>  Log-Likelihood:    </th> <td>-1.3232e+05</td>\n",
       "</tr>\n",
       "<tr>\n",
       "  <th>No. Observations:</th>      <td> 21038</td>      <th>  AIC:               </th>  <td>2.646e+05</td> \n",
       "</tr>\n",
       "<tr>\n",
       "  <th>Df Residuals:</th>          <td> 21030</td>      <th>  BIC:               </th>  <td>2.647e+05</td> \n",
       "</tr>\n",
       "<tr>\n",
       "  <th>Df Model:</th>              <td>     7</td>      <th>                     </th>      <td> </td>     \n",
       "</tr>\n",
       "<tr>\n",
       "  <th>Covariance Type:</th>      <td>nonrobust</td>    <th>                     </th>      <td> </td>     \n",
       "</tr>\n",
       "</table>\n",
       "<table class=\"simpletable\">\n",
       "<tr>\n",
       "             <td></td>               <th>coef</th>     <th>std err</th>      <th>t</th>      <th>P>|t|</th>  <th>[0.025</th>    <th>0.975]</th>  \n",
       "</tr>\n",
       "<tr>\n",
       "  <th>const</th>                  <td>  427.8266</td> <td>    3.089</td> <td>  138.480</td> <td> 0.000</td> <td>  421.771</td> <td>  433.882</td>\n",
       "</tr>\n",
       "<tr>\n",
       "  <th>month</th>                  <td>   -5.9331</td> <td>    0.261</td> <td>  -22.766</td> <td> 0.000</td> <td>   -6.444</td> <td>   -5.422</td>\n",
       "</tr>\n",
       "<tr>\n",
       "  <th>day_of_week</th>            <td>   17.5514</td> <td>    0.451</td> <td>   38.918</td> <td> 0.000</td> <td>   16.667</td> <td>   18.435</td>\n",
       "</tr>\n",
       "<tr>\n",
       "  <th>country_Norway</th>         <td>  196.7556</td> <td>    2.202</td> <td>   89.368</td> <td> 0.000</td> <td>  192.440</td> <td>  201.071</td>\n",
       "</tr>\n",
       "<tr>\n",
       "  <th>country_Sweden</th>         <td>   48.8324</td> <td>    2.201</td> <td>   22.189</td> <td> 0.000</td> <td>   44.519</td> <td>   53.146</td>\n",
       "</tr>\n",
       "<tr>\n",
       "  <th>store_KaggleRama</th>       <td>  209.1642</td> <td>    1.798</td> <td>  116.315</td> <td> 0.000</td> <td>  205.639</td> <td>  212.689</td>\n",
       "</tr>\n",
       "<tr>\n",
       "  <th>product_Kaggle Mug</th>     <td> -274.5921</td> <td>    2.202</td> <td> -124.707</td> <td> 0.000</td> <td> -278.908</td> <td> -270.276</td>\n",
       "</tr>\n",
       "<tr>\n",
       "  <th>product_Kaggle Sticker</th> <td> -448.7043</td> <td>    2.203</td> <td> -203.680</td> <td> 0.000</td> <td> -453.022</td> <td> -444.386</td>\n",
       "</tr>\n",
       "</table>\n",
       "<table class=\"simpletable\">\n",
       "<tr>\n",
       "  <th>Omnibus:</th>       <td>15395.306</td> <th>  Durbin-Watson:     </th>  <td>   1.992</td> \n",
       "</tr>\n",
       "<tr>\n",
       "  <th>Prob(Omnibus):</th>  <td> 0.000</td>   <th>  Jarque-Bera (JB):  </th> <td>525285.240</td>\n",
       "</tr>\n",
       "<tr>\n",
       "  <th>Skew:</th>           <td> 3.148</td>   <th>  Prob(JB):          </th>  <td>    0.00</td> \n",
       "</tr>\n",
       "<tr>\n",
       "  <th>Kurtosis:</th>       <td>26.656</td>   <th>  Cond. No.          </th>  <td>    32.7</td> \n",
       "</tr>\n",
       "</table><br/><br/>Notes:<br/>[1] Standard Errors assume that the covariance matrix of the errors is correctly specified."
      ],
      "text/plain": [
       "<class 'statsmodels.iolib.summary.Summary'>\n",
       "\"\"\"\n",
       "                            OLS Regression Results                            \n",
       "==============================================================================\n",
       "Dep. Variable:               num_sold   R-squared:                       0.759\n",
       "Model:                            OLS   Adj. R-squared:                  0.759\n",
       "Method:                 Least Squares   F-statistic:                     9480.\n",
       "Date:                Sun, 30 Jan 2022   Prob (F-statistic):               0.00\n",
       "Time:                        12:14:09   Log-Likelihood:            -1.3232e+05\n",
       "No. Observations:               21038   AIC:                         2.646e+05\n",
       "Df Residuals:                   21030   BIC:                         2.647e+05\n",
       "Df Model:                           7                                         \n",
       "Covariance Type:            nonrobust                                         \n",
       "==========================================================================================\n",
       "                             coef    std err          t      P>|t|      [0.025      0.975]\n",
       "------------------------------------------------------------------------------------------\n",
       "const                    427.8266      3.089    138.480      0.000     421.771     433.882\n",
       "month                     -5.9331      0.261    -22.766      0.000      -6.444      -5.422\n",
       "day_of_week               17.5514      0.451     38.918      0.000      16.667      18.435\n",
       "country_Norway           196.7556      2.202     89.368      0.000     192.440     201.071\n",
       "country_Sweden            48.8324      2.201     22.189      0.000      44.519      53.146\n",
       "store_KaggleRama         209.1642      1.798    116.315      0.000     205.639     212.689\n",
       "product_Kaggle Mug      -274.5921      2.202   -124.707      0.000    -278.908    -270.276\n",
       "product_Kaggle Sticker  -448.7043      2.203   -203.680      0.000    -453.022    -444.386\n",
       "==============================================================================\n",
       "Omnibus:                    15395.306   Durbin-Watson:                   1.992\n",
       "Prob(Omnibus):                  0.000   Jarque-Bera (JB):           525285.240\n",
       "Skew:                           3.148   Prob(JB):                         0.00\n",
       "Kurtosis:                      26.656   Cond. No.                         32.7\n",
       "==============================================================================\n",
       "\n",
       "Notes:\n",
       "[1] Standard Errors assume that the covariance matrix of the errors is correctly specified.\n",
       "\"\"\""
      ]
     },
     "execution_count": 38,
     "metadata": {},
     "output_type": "execute_result"
    }
   ],
   "source": [
    "X_train_c = sm.add_constant(X_train)\n",
    "model  = sm.OLS(y_train,X_train_c)\n",
    "results = model.fit()\n",
    "results.summary()"
   ]
  },
  {
   "cell_type": "markdown",
   "id": "69a546a0",
   "metadata": {
    "papermill": {
     "duration": 0.078989,
     "end_time": "2022-01-30T12:14:09.430816",
     "exception": false,
     "start_time": "2022-01-30T12:14:09.351827",
     "status": "completed"
    },
    "tags": []
   },
   "source": [
    "Since probability for all features is less than 0.05 , all features are significant"
   ]
  },
  {
   "cell_type": "code",
   "execution_count": 39,
   "id": "aed9a725",
   "metadata": {
    "_kg_hide-input": true,
    "execution": {
     "iopub.execute_input": "2022-01-30T12:14:09.595505Z",
     "iopub.status.busy": "2022-01-30T12:14:09.594834Z",
     "iopub.status.idle": "2022-01-30T12:14:09.716765Z",
     "shell.execute_reply": "2022-01-30T12:14:09.718191Z",
     "shell.execute_reply.started": "2022-01-30T10:42:05.816988Z"
    },
    "papermill": {
     "duration": 0.208347,
     "end_time": "2022-01-30T12:14:09.718485",
     "exception": false,
     "start_time": "2022-01-30T12:14:09.510138",
     "status": "completed"
    },
    "tags": []
   },
   "outputs": [
    {
     "data": {
      "text/html": [
       "<div>\n",
       "<style scoped>\n",
       "    .dataframe tbody tr th:only-of-type {\n",
       "        vertical-align: middle;\n",
       "    }\n",
       "\n",
       "    .dataframe tbody tr th {\n",
       "        vertical-align: top;\n",
       "    }\n",
       "\n",
       "    .dataframe thead th {\n",
       "        text-align: right;\n",
       "    }\n",
       "</style>\n",
       "<table border=\"1\" class=\"dataframe\">\n",
       "  <thead>\n",
       "    <tr style=\"text-align: right;\">\n",
       "      <th></th>\n",
       "      <th>cols</th>\n",
       "      <th>vif</th>\n",
       "    </tr>\n",
       "  </thead>\n",
       "  <tbody>\n",
       "    <tr>\n",
       "      <th>0</th>\n",
       "      <td>month</td>\n",
       "      <td>3.187010</td>\n",
       "    </tr>\n",
       "    <tr>\n",
       "      <th>1</th>\n",
       "      <td>day_of_week</td>\n",
       "      <td>2.651406</td>\n",
       "    </tr>\n",
       "    <tr>\n",
       "      <th>2</th>\n",
       "      <td>country_Norway</td>\n",
       "      <td>1.748954</td>\n",
       "    </tr>\n",
       "    <tr>\n",
       "      <th>3</th>\n",
       "      <td>country_Sweden</td>\n",
       "      <td>1.742598</td>\n",
       "    </tr>\n",
       "    <tr>\n",
       "      <th>4</th>\n",
       "      <td>store_KaggleRama</td>\n",
       "      <td>1.836384</td>\n",
       "    </tr>\n",
       "    <tr>\n",
       "      <th>5</th>\n",
       "      <td>product_Kaggle Mug</td>\n",
       "      <td>1.744269</td>\n",
       "    </tr>\n",
       "    <tr>\n",
       "      <th>6</th>\n",
       "      <td>product_Kaggle Sticker</td>\n",
       "      <td>1.737817</td>\n",
       "    </tr>\n",
       "  </tbody>\n",
       "</table>\n",
       "</div>"
      ],
      "text/plain": [
       "                     cols       vif\n",
       "0                   month  3.187010\n",
       "1             day_of_week  2.651406\n",
       "2          country_Norway  1.748954\n",
       "3          country_Sweden  1.742598\n",
       "4        store_KaggleRama  1.836384\n",
       "5      product_Kaggle Mug  1.744269\n",
       "6  product_Kaggle Sticker  1.737817"
      ]
     },
     "execution_count": 39,
     "metadata": {},
     "output_type": "execute_result"
    }
   ],
   "source": [
    "from statsmodels.stats.outliers_influence import variance_inflation_factor\n",
    "vifs = [variance_inflation_factor(X_train,i) for i in range(X_train.shape[1])]\n",
    "vif_df = pd.DataFrame({'cols':X_train.columns,'vif':vifs})\n",
    "vif_df"
   ]
  },
  {
   "cell_type": "markdown",
   "id": "2f7329e0",
   "metadata": {
    "papermill": {
     "duration": 0.081377,
     "end_time": "2022-01-30T12:14:09.926557",
     "exception": false,
     "start_time": "2022-01-30T12:14:09.845180",
     "status": "completed"
    },
    "tags": []
   },
   "source": [
    "Values are well within range. So no multicollinearity"
   ]
  },
  {
   "cell_type": "code",
   "execution_count": 40,
   "id": "032a497e",
   "metadata": {
    "execution": {
     "iopub.execute_input": "2022-01-30T12:14:10.096228Z",
     "iopub.status.busy": "2022-01-30T12:14:10.092972Z",
     "iopub.status.idle": "2022-01-30T12:14:10.102953Z",
     "shell.execute_reply": "2022-01-30T12:14:10.102008Z",
     "shell.execute_reply.started": "2022-01-30T10:45:12.288974Z"
    },
    "papermill": {
     "duration": 0.094727,
     "end_time": "2022-01-30T12:14:10.103198",
     "exception": false,
     "start_time": "2022-01-30T12:14:10.008471",
     "status": "completed"
    },
    "tags": []
   },
   "outputs": [],
   "source": [
    "y_validate_predict = results.predict(sm.add_constant(X_validate))"
   ]
  },
  {
   "cell_type": "code",
   "execution_count": 41,
   "id": "e358bba3",
   "metadata": {
    "execution": {
     "iopub.execute_input": "2022-01-30T12:14:10.326310Z",
     "iopub.status.busy": "2022-01-30T12:14:10.325644Z",
     "iopub.status.idle": "2022-01-30T12:14:10.328667Z",
     "shell.execute_reply": "2022-01-30T12:14:10.329515Z",
     "shell.execute_reply.started": "2022-01-30T10:48:00.169383Z"
    },
    "papermill": {
     "duration": 0.091137,
     "end_time": "2022-01-30T12:14:10.329738",
     "exception": false,
     "start_time": "2022-01-30T12:14:10.238601",
     "status": "completed"
    },
    "tags": []
   },
   "outputs": [
    {
     "name": "stdout",
     "output_type": "stream",
     "text": [
      "R2 score on validation set is  0.7638380519701511\n"
     ]
    }
   ],
   "source": [
    "from sklearn.metrics import r2_score\n",
    "print('R2 score on validation set is ',r2_score(y_validate,y_validate_predict))\n",
    "validation_scores = {}\n",
    "validation_scores['lr'] = r2_score(y_validate,y_validate_predict)"
   ]
  },
  {
   "cell_type": "markdown",
   "id": "6ba69754",
   "metadata": {
    "papermill": {
     "duration": 0.080171,
     "end_time": "2022-01-30T12:14:10.491219",
     "exception": false,
     "start_time": "2022-01-30T12:14:10.411048",
     "status": "completed"
    },
    "tags": []
   },
   "source": [
    "Considering this Linear Regression one as a base model ,go forward with Other type of models"
   ]
  },
  {
   "cell_type": "code",
   "execution_count": 42,
   "id": "7e20f28d",
   "metadata": {
    "execution": {
     "iopub.execute_input": "2022-01-30T12:14:10.657642Z",
     "iopub.status.busy": "2022-01-30T12:14:10.655450Z",
     "iopub.status.idle": "2022-01-30T12:14:10.662132Z",
     "shell.execute_reply": "2022-01-30T12:14:10.661474Z",
     "shell.execute_reply.started": "2022-01-30T10:50:29.335206Z"
    },
    "papermill": {
     "duration": 0.090627,
     "end_time": "2022-01-30T12:14:10.662311",
     "exception": false,
     "start_time": "2022-01-30T12:14:10.571684",
     "status": "completed"
    },
    "tags": []
   },
   "outputs": [
    {
     "name": "stdout",
     "output_type": "stream",
     "text": [
      "Root mean squared error is  129.85250557566704\n"
     ]
    }
   ],
   "source": [
    "from sklearn.metrics import mean_squared_error\n",
    "mse = mean_squared_error(y_validate,y_validate_predict)\n",
    "rmse = mse**0.5\n",
    "print('Root mean squared error is ', rmse)"
   ]
  },
  {
   "cell_type": "code",
   "execution_count": 43,
   "id": "d7ba7022",
   "metadata": {
    "execution": {
     "iopub.execute_input": "2022-01-30T12:14:10.829076Z",
     "iopub.status.busy": "2022-01-30T12:14:10.828082Z",
     "iopub.status.idle": "2022-01-30T12:14:10.830455Z",
     "shell.execute_reply": "2022-01-30T12:14:10.830929Z",
     "shell.execute_reply.started": "2022-01-30T10:55:48.988869Z"
    },
    "papermill": {
     "duration": 0.088651,
     "end_time": "2022-01-30T12:14:10.831118",
     "exception": false,
     "start_time": "2022-01-30T12:14:10.742467",
     "status": "completed"
    },
    "tags": []
   },
   "outputs": [],
   "source": [
    "def smape(A, F):\n",
    "    return 100/len(A) * np.sum(2 * np.abs(F - A) / (np.abs(A) + np.abs(F)))"
   ]
  },
  {
   "cell_type": "markdown",
   "id": "e1e50222",
   "metadata": {
    "papermill": {
     "duration": 0.08003,
     "end_time": "2022-01-30T12:14:10.993402",
     "exception": false,
     "start_time": "2022-01-30T12:14:10.913372",
     "status": "completed"
    },
    "tags": []
   },
   "source": []
  },
  {
   "cell_type": "code",
   "execution_count": 44,
   "id": "e66c5bf6",
   "metadata": {
    "execution": {
     "iopub.execute_input": "2022-01-30T12:14:11.160072Z",
     "iopub.status.busy": "2022-01-30T12:14:11.159121Z",
     "iopub.status.idle": "2022-01-30T12:14:11.166721Z",
     "shell.execute_reply": "2022-01-30T12:14:11.167397Z",
     "shell.execute_reply.started": "2022-01-30T10:55:54.114942Z"
    },
    "papermill": {
     "duration": 0.092091,
     "end_time": "2022-01-30T12:14:11.167628",
     "exception": false,
     "start_time": "2022-01-30T12:14:11.075537",
     "status": "completed"
    },
    "tags": []
   },
   "outputs": [
    {
     "name": "stdout",
     "output_type": "stream",
     "text": [
      "32.138028480713906\n"
     ]
    }
   ],
   "source": [
    "print(smape(y_validate,y_validate_predict))"
   ]
  },
  {
   "cell_type": "code",
   "execution_count": 45,
   "id": "11044a43",
   "metadata": {
    "execution": {
     "iopub.execute_input": "2022-01-30T12:14:11.333728Z",
     "iopub.status.busy": "2022-01-30T12:14:11.332756Z",
     "iopub.status.idle": "2022-01-30T12:14:11.344503Z",
     "shell.execute_reply": "2022-01-30T12:14:11.345472Z",
     "shell.execute_reply.started": "2022-01-30T11:09:35.266302Z"
    },
    "papermill": {
     "duration": 0.097178,
     "end_time": "2022-01-30T12:14:11.345751",
     "exception": false,
     "start_time": "2022-01-30T12:14:11.248573",
     "status": "completed"
    },
    "tags": []
   },
   "outputs": [],
   "source": [
    "test_df['pred'] = results.predict(sm.add_constant(test_df))"
   ]
  },
  {
   "cell_type": "code",
   "execution_count": 46,
   "id": "239c603b",
   "metadata": {
    "execution": {
     "iopub.execute_input": "2022-01-30T12:14:11.566596Z",
     "iopub.status.busy": "2022-01-30T12:14:11.565590Z",
     "iopub.status.idle": "2022-01-30T12:14:11.576706Z",
     "shell.execute_reply": "2022-01-30T12:14:11.577258Z",
     "shell.execute_reply.started": "2022-01-30T11:09:40.276594Z"
    },
    "papermill": {
     "duration": 0.09876,
     "end_time": "2022-01-30T12:14:11.577425",
     "exception": false,
     "start_time": "2022-01-30T12:14:11.478665",
     "status": "completed"
    },
    "tags": []
   },
   "outputs": [
    {
     "data": {
      "text/html": [
       "<div>\n",
       "<style scoped>\n",
       "    .dataframe tbody tr th:only-of-type {\n",
       "        vertical-align: middle;\n",
       "    }\n",
       "\n",
       "    .dataframe tbody tr th {\n",
       "        vertical-align: top;\n",
       "    }\n",
       "\n",
       "    .dataframe thead th {\n",
       "        text-align: right;\n",
       "    }\n",
       "</style>\n",
       "<table border=\"1\" class=\"dataframe\">\n",
       "  <thead>\n",
       "    <tr style=\"text-align: right;\">\n",
       "      <th></th>\n",
       "      <th>month</th>\n",
       "      <th>day_of_week</th>\n",
       "      <th>country_Norway</th>\n",
       "      <th>country_Sweden</th>\n",
       "      <th>store_KaggleRama</th>\n",
       "      <th>product_Kaggle Mug</th>\n",
       "      <th>product_Kaggle Sticker</th>\n",
       "      <th>pred</th>\n",
       "    </tr>\n",
       "    <tr>\n",
       "      <th>row_id</th>\n",
       "      <th></th>\n",
       "      <th></th>\n",
       "      <th></th>\n",
       "      <th></th>\n",
       "      <th></th>\n",
       "      <th></th>\n",
       "      <th></th>\n",
       "      <th></th>\n",
       "    </tr>\n",
       "  </thead>\n",
       "  <tbody>\n",
       "    <tr>\n",
       "      <th>26298</th>\n",
       "      <td>1</td>\n",
       "      <td>1</td>\n",
       "      <td>0</td>\n",
       "      <td>0</td>\n",
       "      <td>0</td>\n",
       "      <td>1</td>\n",
       "      <td>0</td>\n",
       "      <td>164.852860</td>\n",
       "    </tr>\n",
       "    <tr>\n",
       "      <th>26299</th>\n",
       "      <td>1</td>\n",
       "      <td>1</td>\n",
       "      <td>0</td>\n",
       "      <td>0</td>\n",
       "      <td>0</td>\n",
       "      <td>0</td>\n",
       "      <td>0</td>\n",
       "      <td>439.444929</td>\n",
       "    </tr>\n",
       "    <tr>\n",
       "      <th>26300</th>\n",
       "      <td>1</td>\n",
       "      <td>1</td>\n",
       "      <td>0</td>\n",
       "      <td>0</td>\n",
       "      <td>0</td>\n",
       "      <td>0</td>\n",
       "      <td>1</td>\n",
       "      <td>-9.259358</td>\n",
       "    </tr>\n",
       "    <tr>\n",
       "      <th>26301</th>\n",
       "      <td>1</td>\n",
       "      <td>1</td>\n",
       "      <td>0</td>\n",
       "      <td>0</td>\n",
       "      <td>1</td>\n",
       "      <td>1</td>\n",
       "      <td>0</td>\n",
       "      <td>374.017058</td>\n",
       "    </tr>\n",
       "    <tr>\n",
       "      <th>26302</th>\n",
       "      <td>1</td>\n",
       "      <td>1</td>\n",
       "      <td>0</td>\n",
       "      <td>0</td>\n",
       "      <td>1</td>\n",
       "      <td>0</td>\n",
       "      <td>0</td>\n",
       "      <td>648.609127</td>\n",
       "    </tr>\n",
       "    <tr>\n",
       "      <th>...</th>\n",
       "      <td>...</td>\n",
       "      <td>...</td>\n",
       "      <td>...</td>\n",
       "      <td>...</td>\n",
       "      <td>...</td>\n",
       "      <td>...</td>\n",
       "      <td>...</td>\n",
       "      <td>...</td>\n",
       "    </tr>\n",
       "    <tr>\n",
       "      <th>32863</th>\n",
       "      <td>12</td>\n",
       "      <td>1</td>\n",
       "      <td>0</td>\n",
       "      <td>1</td>\n",
       "      <td>0</td>\n",
       "      <td>0</td>\n",
       "      <td>0</td>\n",
       "      <td>423.013571</td>\n",
       "    </tr>\n",
       "    <tr>\n",
       "      <th>32864</th>\n",
       "      <td>12</td>\n",
       "      <td>1</td>\n",
       "      <td>0</td>\n",
       "      <td>1</td>\n",
       "      <td>0</td>\n",
       "      <td>0</td>\n",
       "      <td>1</td>\n",
       "      <td>-25.690716</td>\n",
       "    </tr>\n",
       "    <tr>\n",
       "      <th>32865</th>\n",
       "      <td>12</td>\n",
       "      <td>1</td>\n",
       "      <td>0</td>\n",
       "      <td>1</td>\n",
       "      <td>1</td>\n",
       "      <td>1</td>\n",
       "      <td>0</td>\n",
       "      <td>357.585700</td>\n",
       "    </tr>\n",
       "    <tr>\n",
       "      <th>32866</th>\n",
       "      <td>12</td>\n",
       "      <td>1</td>\n",
       "      <td>0</td>\n",
       "      <td>1</td>\n",
       "      <td>1</td>\n",
       "      <td>0</td>\n",
       "      <td>0</td>\n",
       "      <td>632.177769</td>\n",
       "    </tr>\n",
       "    <tr>\n",
       "      <th>32867</th>\n",
       "      <td>12</td>\n",
       "      <td>1</td>\n",
       "      <td>0</td>\n",
       "      <td>1</td>\n",
       "      <td>1</td>\n",
       "      <td>0</td>\n",
       "      <td>1</td>\n",
       "      <td>183.473482</td>\n",
       "    </tr>\n",
       "  </tbody>\n",
       "</table>\n",
       "<p>6570 rows × 8 columns</p>\n",
       "</div>"
      ],
      "text/plain": [
       "        month  day_of_week  country_Norway  country_Sweden  store_KaggleRama  \\\n",
       "row_id                                                                         \n",
       "26298       1            1               0               0                 0   \n",
       "26299       1            1               0               0                 0   \n",
       "26300       1            1               0               0                 0   \n",
       "26301       1            1               0               0                 1   \n",
       "26302       1            1               0               0                 1   \n",
       "...       ...          ...             ...             ...               ...   \n",
       "32863      12            1               0               1                 0   \n",
       "32864      12            1               0               1                 0   \n",
       "32865      12            1               0               1                 1   \n",
       "32866      12            1               0               1                 1   \n",
       "32867      12            1               0               1                 1   \n",
       "\n",
       "        product_Kaggle Mug  product_Kaggle Sticker        pred  \n",
       "row_id                                                          \n",
       "26298                    1                       0  164.852860  \n",
       "26299                    0                       0  439.444929  \n",
       "26300                    0                       1   -9.259358  \n",
       "26301                    1                       0  374.017058  \n",
       "26302                    0                       0  648.609127  \n",
       "...                    ...                     ...         ...  \n",
       "32863                    0                       0  423.013571  \n",
       "32864                    0                       1  -25.690716  \n",
       "32865                    1                       0  357.585700  \n",
       "32866                    0                       0  632.177769  \n",
       "32867                    0                       1  183.473482  \n",
       "\n",
       "[6570 rows x 8 columns]"
      ]
     },
     "execution_count": 46,
     "metadata": {},
     "output_type": "execute_result"
    }
   ],
   "source": [
    "test_df"
   ]
  },
  {
   "cell_type": "code",
   "execution_count": 47,
   "id": "7fd6e9cd",
   "metadata": {
    "execution": {
     "iopub.execute_input": "2022-01-30T12:14:11.743860Z",
     "iopub.status.busy": "2022-01-30T12:14:11.742882Z",
     "iopub.status.idle": "2022-01-30T12:14:11.750748Z",
     "shell.execute_reply": "2022-01-30T12:14:11.751305Z",
     "shell.execute_reply.started": "2022-01-30T11:11:29.574473Z"
    },
    "papermill": {
     "duration": 0.092733,
     "end_time": "2022-01-30T12:14:11.751473",
     "exception": false,
     "start_time": "2022-01-30T12:14:11.658740",
     "status": "completed"
    },
    "tags": []
   },
   "outputs": [],
   "source": [
    "## for rows with negative values , convert to 0\n",
    "test_df['pred'] = test_df['pred'].apply(lambda x : 0 if x<0 else x)"
   ]
  },
  {
   "cell_type": "code",
   "execution_count": 48,
   "id": "261150a9",
   "metadata": {
    "execution": {
     "iopub.execute_input": "2022-01-30T12:14:11.920696Z",
     "iopub.status.busy": "2022-01-30T12:14:11.920038Z",
     "iopub.status.idle": "2022-01-30T12:14:11.922135Z",
     "shell.execute_reply": "2022-01-30T12:14:11.922701Z",
     "shell.execute_reply.started": "2022-01-30T11:15:58.193644Z"
    },
    "papermill": {
     "duration": 0.090397,
     "end_time": "2022-01-30T12:14:11.922881",
     "exception": false,
     "start_time": "2022-01-30T12:14:11.832484",
     "status": "completed"
    },
    "tags": []
   },
   "outputs": [],
   "source": [
    "test_df.reset_index(inplace=True)"
   ]
  },
  {
   "cell_type": "code",
   "execution_count": 49,
   "id": "32344c5c",
   "metadata": {
    "execution": {
     "iopub.execute_input": "2022-01-30T12:14:12.092414Z",
     "iopub.status.busy": "2022-01-30T12:14:12.091755Z",
     "iopub.status.idle": "2022-01-30T12:14:12.095870Z",
     "shell.execute_reply": "2022-01-30T12:14:12.096528Z",
     "shell.execute_reply.started": "2022-01-30T11:16:00.436618Z"
    },
    "papermill": {
     "duration": 0.090746,
     "end_time": "2022-01-30T12:14:12.096702",
     "exception": false,
     "start_time": "2022-01-30T12:14:12.005956",
     "status": "completed"
    },
    "tags": []
   },
   "outputs": [],
   "source": [
    "test_df.rename(columns={'pred':'num_sold'},inplace=True)"
   ]
  },
  {
   "cell_type": "code",
   "execution_count": 50,
   "id": "691cac03",
   "metadata": {
    "execution": {
     "iopub.execute_input": "2022-01-30T12:14:12.264238Z",
     "iopub.status.busy": "2022-01-30T12:14:12.263519Z",
     "iopub.status.idle": "2022-01-30T12:14:12.267208Z",
     "shell.execute_reply": "2022-01-30T12:14:12.267673Z",
     "shell.execute_reply.started": "2022-01-30T11:20:45.018722Z"
    },
    "papermill": {
     "duration": 0.089364,
     "end_time": "2022-01-30T12:14:12.267854",
     "exception": false,
     "start_time": "2022-01-30T12:14:12.178490",
     "status": "completed"
    },
    "tags": []
   },
   "outputs": [],
   "source": [
    "#test_df[['row_id','num_sold']].to_csv('./submission.csv',index=False)"
   ]
  },
  {
   "cell_type": "markdown",
   "id": "0d215a9f",
   "metadata": {
    "papermill": {
     "duration": 0.081015,
     "end_time": "2022-01-30T12:14:12.430389",
     "exception": false,
     "start_time": "2022-01-30T12:14:12.349374",
     "status": "completed"
    },
    "tags": []
   },
   "source": [
    "### 2. Decision tree based model"
   ]
  },
  {
   "cell_type": "markdown",
   "id": "14a70f74",
   "metadata": {
    "papermill": {
     "duration": 0.080861,
     "end_time": "2022-01-30T12:14:12.592671",
     "exception": false,
     "start_time": "2022-01-30T12:14:12.511810",
     "status": "completed"
    },
    "tags": []
   },
   "source": [
    "1) Base Decision Tree"
   ]
  },
  {
   "cell_type": "code",
   "execution_count": 51,
   "id": "12c659b8",
   "metadata": {
    "execution": {
     "iopub.execute_input": "2022-01-30T12:14:12.758308Z",
     "iopub.status.busy": "2022-01-30T12:14:12.757703Z",
     "iopub.status.idle": "2022-01-30T12:14:12.921033Z",
     "shell.execute_reply": "2022-01-30T12:14:12.921562Z",
     "shell.execute_reply.started": "2022-01-30T11:23:53.433090Z"
    },
    "papermill": {
     "duration": 0.247883,
     "end_time": "2022-01-30T12:14:12.921732",
     "exception": false,
     "start_time": "2022-01-30T12:14:12.673849",
     "status": "completed"
    },
    "tags": []
   },
   "outputs": [],
   "source": [
    "from sklearn.tree import DecisionTreeRegressor\n",
    "dt = DecisionTreeRegressor(random_state=42)\n"
   ]
  },
  {
   "cell_type": "code",
   "execution_count": 52,
   "id": "4206250a",
   "metadata": {
    "execution": {
     "iopub.execute_input": "2022-01-30T12:14:13.087492Z",
     "iopub.status.busy": "2022-01-30T12:14:13.086862Z",
     "iopub.status.idle": "2022-01-30T12:14:13.122111Z",
     "shell.execute_reply": "2022-01-30T12:14:13.121561Z",
     "shell.execute_reply.started": "2022-01-30T11:25:57.160593Z"
    },
    "papermill": {
     "duration": 0.119324,
     "end_time": "2022-01-30T12:14:13.122262",
     "exception": false,
     "start_time": "2022-01-30T12:14:13.002938",
     "status": "completed"
    },
    "tags": []
   },
   "outputs": [],
   "source": [
    "dt.fit(X_train,y_train)\n",
    "y_validate_pred_dt = dt.predict(X_validate)\n",
    "y_train_pred_dt = dt.predict(X_train)"
   ]
  },
  {
   "cell_type": "code",
   "execution_count": 53,
   "id": "eda9f322",
   "metadata": {
    "execution": {
     "iopub.execute_input": "2022-01-30T12:14:13.288058Z",
     "iopub.status.busy": "2022-01-30T12:14:13.287416Z",
     "iopub.status.idle": "2022-01-30T12:14:13.294582Z",
     "shell.execute_reply": "2022-01-30T12:14:13.295691Z",
     "shell.execute_reply.started": "2022-01-30T11:27:04.025832Z"
    },
    "papermill": {
     "duration": 0.092323,
     "end_time": "2022-01-30T12:14:13.295865",
     "exception": false,
     "start_time": "2022-01-30T12:14:13.203542",
     "status": "completed"
    },
    "tags": []
   },
   "outputs": [
    {
     "name": "stdout",
     "output_type": "stream",
     "text": [
      "R2 score for Validation set is  0.9030745451552524\n",
      "R2 score for Train set is 0.9133973031861822\n"
     ]
    }
   ],
   "source": [
    "print('R2 score for Validation set is ',r2_score(y_validate,y_validate_pred_dt))\n",
    "print('R2 score for Train set is',r2_score(y_train,y_train_pred_dt))"
   ]
  },
  {
   "cell_type": "markdown",
   "id": "da8bb2f7",
   "metadata": {
    "papermill": {
     "duration": 0.081068,
     "end_time": "2022-01-30T12:14:13.458420",
     "exception": false,
     "start_time": "2022-01-30T12:14:13.377352",
     "status": "completed"
    },
    "tags": []
   },
   "source": [
    "2) Hyper parameter tuning"
   ]
  },
  {
   "cell_type": "code",
   "execution_count": 54,
   "id": "32aeda4b",
   "metadata": {
    "execution": {
     "iopub.execute_input": "2022-01-30T12:14:13.627911Z",
     "iopub.status.busy": "2022-01-30T12:14:13.626975Z",
     "iopub.status.idle": "2022-01-30T12:14:13.630778Z",
     "shell.execute_reply": "2022-01-30T12:14:13.631232Z",
     "shell.execute_reply.started": "2022-01-30T11:39:46.373001Z"
    },
    "papermill": {
     "duration": 0.09149,
     "end_time": "2022-01-30T12:14:13.631405",
     "exception": false,
     "start_time": "2022-01-30T12:14:13.539915",
     "status": "completed"
    },
    "tags": []
   },
   "outputs": [
    {
     "name": "stdout",
     "output_type": "stream",
     "text": [
      "CPU times: user 85 µs, sys: 0 ns, total: 85 µs\n",
      "Wall time: 89.9 µs\n"
     ]
    }
   ],
   "source": [
    "%%time\n",
    "from sklearn.model_selection import GridSearchCV\n",
    "dt = DecisionTreeRegressor(random_state=42)\n",
    "paramgrid = {\n",
    "    'max_depth':[5,10,15,20],\n",
    "    'min_samples_split':[20,40,50]\n",
    "}\n",
    "grid = GridSearchCV(dt,param_grid=paramgrid,scoring='r2',return_train_score=True,verbose=1,n_jobs=-1)"
   ]
  },
  {
   "cell_type": "code",
   "execution_count": 55,
   "id": "30b8bb8b",
   "metadata": {
    "execution": {
     "iopub.execute_input": "2022-01-30T12:14:13.800794Z",
     "iopub.status.busy": "2022-01-30T12:14:13.799779Z",
     "iopub.status.idle": "2022-01-30T12:14:17.267107Z",
     "shell.execute_reply": "2022-01-30T12:14:17.267823Z",
     "shell.execute_reply.started": "2022-01-30T11:39:50.711999Z"
    },
    "papermill": {
     "duration": 3.554813,
     "end_time": "2022-01-30T12:14:17.268048",
     "exception": false,
     "start_time": "2022-01-30T12:14:13.713235",
     "status": "completed"
    },
    "tags": []
   },
   "outputs": [
    {
     "name": "stdout",
     "output_type": "stream",
     "text": [
      "Fitting 5 folds for each of 12 candidates, totalling 60 fits\n"
     ]
    },
    {
     "name": "stderr",
     "output_type": "stream",
     "text": [
      "[Parallel(n_jobs=-1)]: Using backend LokyBackend with 4 concurrent workers.\n"
     ]
    },
    {
     "name": "stdout",
     "output_type": "stream",
     "text": [
      "CPU times: user 492 ms, sys: 225 ms, total: 717 ms\n",
      "Wall time: 3.45 s\n"
     ]
    },
    {
     "name": "stderr",
     "output_type": "stream",
     "text": [
      "[Parallel(n_jobs=-1)]: Done  50 tasks      | elapsed:    3.3s\n",
      "[Parallel(n_jobs=-1)]: Done  60 out of  60 | elapsed:    3.4s finished\n"
     ]
    },
    {
     "data": {
      "text/plain": [
       "GridSearchCV(estimator=DecisionTreeRegressor(random_state=42), n_jobs=-1,\n",
       "             param_grid={'max_depth': [5, 10, 15, 20],\n",
       "                         'min_samples_split': [20, 40, 50]},\n",
       "             return_train_score=True, scoring='r2', verbose=1)"
      ]
     },
     "execution_count": 55,
     "metadata": {},
     "output_type": "execute_result"
    }
   ],
   "source": [
    "%%time\n",
    "grid.fit(X_train,y_train)"
   ]
  },
  {
   "cell_type": "code",
   "execution_count": 56,
   "id": "44f97c74",
   "metadata": {
    "execution": {
     "iopub.execute_input": "2022-01-30T12:14:17.442034Z",
     "iopub.status.busy": "2022-01-30T12:14:17.439185Z",
     "iopub.status.idle": "2022-01-30T12:14:17.445046Z",
     "shell.execute_reply": "2022-01-30T12:14:17.445611Z",
     "shell.execute_reply.started": "2022-01-30T11:40:14.077270Z"
    },
    "papermill": {
     "duration": 0.092947,
     "end_time": "2022-01-30T12:14:17.445773",
     "exception": false,
     "start_time": "2022-01-30T12:14:17.352826",
     "status": "completed"
    },
    "tags": []
   },
   "outputs": [
    {
     "data": {
      "text/plain": [
       "{'max_depth': 20, 'min_samples_split': 50}"
      ]
     },
     "execution_count": 56,
     "metadata": {},
     "output_type": "execute_result"
    }
   ],
   "source": [
    "grid.best_params_"
   ]
  },
  {
   "cell_type": "code",
   "execution_count": 57,
   "id": "d8437cc9",
   "metadata": {
    "execution": {
     "iopub.execute_input": "2022-01-30T12:14:17.618124Z",
     "iopub.status.busy": "2022-01-30T12:14:17.617131Z",
     "iopub.status.idle": "2022-01-30T12:14:17.622641Z",
     "shell.execute_reply": "2022-01-30T12:14:17.623242Z",
     "shell.execute_reply.started": "2022-01-30T11:40:50.602486Z"
    },
    "papermill": {
     "duration": 0.093607,
     "end_time": "2022-01-30T12:14:17.623412",
     "exception": false,
     "start_time": "2022-01-30T12:14:17.529805",
     "status": "completed"
    },
    "tags": []
   },
   "outputs": [
    {
     "data": {
      "text/plain": [
       "0.9042753388126311"
      ]
     },
     "execution_count": 57,
     "metadata": {},
     "output_type": "execute_result"
    }
   ],
   "source": [
    "grid.best_score_"
   ]
  },
  {
   "cell_type": "code",
   "execution_count": 58,
   "id": "0c5e6d7e",
   "metadata": {
    "execution": {
     "iopub.execute_input": "2022-01-30T12:14:17.796028Z",
     "iopub.status.busy": "2022-01-30T12:14:17.795004Z",
     "iopub.status.idle": "2022-01-30T12:14:17.798639Z",
     "shell.execute_reply": "2022-01-30T12:14:17.799260Z",
     "shell.execute_reply.started": "2022-01-30T11:42:52.226176Z"
    },
    "papermill": {
     "duration": 0.091395,
     "end_time": "2022-01-30T12:14:17.799432",
     "exception": false,
     "start_time": "2022-01-30T12:14:17.708037",
     "status": "completed"
    },
    "tags": []
   },
   "outputs": [],
   "source": [
    "dt_model = grid.best_estimator_"
   ]
  },
  {
   "cell_type": "code",
   "execution_count": 59,
   "id": "197a2264",
   "metadata": {
    "execution": {
     "iopub.execute_input": "2022-01-30T12:14:17.976775Z",
     "iopub.status.busy": "2022-01-30T12:14:17.976134Z",
     "iopub.status.idle": "2022-01-30T12:14:17.984659Z",
     "shell.execute_reply": "2022-01-30T12:14:17.985263Z",
     "shell.execute_reply.started": "2022-01-30T11:44:09.935651Z"
    },
    "papermill": {
     "duration": 0.101057,
     "end_time": "2022-01-30T12:14:17.985435",
     "exception": false,
     "start_time": "2022-01-30T12:14:17.884378",
     "status": "completed"
    },
    "tags": []
   },
   "outputs": [
    {
     "data": {
      "text/plain": [
       "10.212377606353552"
      ]
     },
     "execution_count": 59,
     "metadata": {},
     "output_type": "execute_result"
    }
   ],
   "source": [
    "y_validate_pred = dt_model.predict(X_validate)\n",
    "smape(y_validate,y_validate_pred)"
   ]
  },
  {
   "cell_type": "code",
   "execution_count": 60,
   "id": "9779a449",
   "metadata": {
    "execution": {
     "iopub.execute_input": "2022-01-30T12:14:18.159595Z",
     "iopub.status.busy": "2022-01-30T12:14:18.158537Z",
     "iopub.status.idle": "2022-01-30T12:14:18.168297Z",
     "shell.execute_reply": "2022-01-30T12:14:18.168817Z",
     "shell.execute_reply.started": "2022-01-30T11:46:47.342688Z"
    },
    "papermill": {
     "duration": 0.098728,
     "end_time": "2022-01-30T12:14:18.168991",
     "exception": false,
     "start_time": "2022-01-30T12:14:18.070263",
     "status": "completed"
    },
    "tags": []
   },
   "outputs": [],
   "source": [
    "test_df['dt_pred'] = dt_model.predict(test_df[['month', 'day_of_week', 'country_Norway', 'country_Sweden',\n",
    "       'store_KaggleRama', 'product_Kaggle Mug', 'product_Kaggle Sticker']])"
   ]
  },
  {
   "cell_type": "code",
   "execution_count": 61,
   "id": "9ce46520",
   "metadata": {
    "execution": {
     "iopub.execute_input": "2022-01-30T12:14:18.348650Z",
     "iopub.status.busy": "2022-01-30T12:14:18.347640Z",
     "iopub.status.idle": "2022-01-30T12:14:18.354349Z",
     "shell.execute_reply": "2022-01-30T12:14:18.355036Z",
     "shell.execute_reply.started": "2022-01-30T11:48:45.817481Z"
    },
    "papermill": {
     "duration": 0.100508,
     "end_time": "2022-01-30T12:14:18.355269",
     "exception": false,
     "start_time": "2022-01-30T12:14:18.254761",
     "status": "completed"
    },
    "tags": []
   },
   "outputs": [],
   "source": [
    "test_df.rename(columns={'num_sold':'lr_pred'},inplace=True)"
   ]
  },
  {
   "cell_type": "code",
   "execution_count": 62,
   "id": "5c6317f1",
   "metadata": {
    "execution": {
     "iopub.execute_input": "2022-01-30T12:14:18.601752Z",
     "iopub.status.busy": "2022-01-30T12:14:18.600684Z",
     "iopub.status.idle": "2022-01-30T12:14:18.604061Z",
     "shell.execute_reply": "2022-01-30T12:14:18.604996Z",
     "shell.execute_reply.started": "2022-01-30T11:49:19.336651Z"
    },
    "papermill": {
     "duration": 0.117732,
     "end_time": "2022-01-30T12:14:18.605200",
     "exception": false,
     "start_time": "2022-01-30T12:14:18.487468",
     "status": "completed"
    },
    "tags": []
   },
   "outputs": [],
   "source": [
    "#test_df[['row_id','dt_pred']].rename(columns={'dt_pred':'num_sold'}).to_csv('./submission.csv',index=False)"
   ]
  },
  {
   "cell_type": "markdown",
   "id": "49e8444a",
   "metadata": {
    "papermill": {
     "duration": 0.088004,
     "end_time": "2022-01-30T12:14:18.788428",
     "exception": false,
     "start_time": "2022-01-30T12:14:18.700424",
     "status": "completed"
    },
    "tags": []
   },
   "source": [
    "### 3. Ensemble Training - Random Forest"
   ]
  },
  {
   "cell_type": "markdown",
   "id": "78f2eca2",
   "metadata": {
    "papermill": {
     "duration": 0.087359,
     "end_time": "2022-01-30T12:14:18.961115",
     "exception": false,
     "start_time": "2022-01-30T12:14:18.873756",
     "status": "completed"
    },
    "tags": []
   },
   "source": [
    "1.) Base Model"
   ]
  },
  {
   "cell_type": "code",
   "execution_count": 63,
   "id": "15714c63",
   "metadata": {
    "execution": {
     "iopub.execute_input": "2022-01-30T12:14:19.138940Z",
     "iopub.status.busy": "2022-01-30T12:14:19.137810Z",
     "iopub.status.idle": "2022-01-30T12:14:19.167388Z",
     "shell.execute_reply": "2022-01-30T12:14:19.167925Z",
     "shell.execute_reply.started": "2022-01-30T11:53:15.588531Z"
    },
    "papermill": {
     "duration": 0.121462,
     "end_time": "2022-01-30T12:14:19.168136",
     "exception": false,
     "start_time": "2022-01-30T12:14:19.046674",
     "status": "completed"
    },
    "tags": []
   },
   "outputs": [],
   "source": [
    "from sklearn.ensemble import RandomForestRegressor"
   ]
  },
  {
   "cell_type": "code",
   "execution_count": 64,
   "id": "777de504",
   "metadata": {
    "execution": {
     "iopub.execute_input": "2022-01-30T12:14:19.346270Z",
     "iopub.status.busy": "2022-01-30T12:14:19.345384Z",
     "iopub.status.idle": "2022-01-30T12:14:19.347716Z",
     "shell.execute_reply": "2022-01-30T12:14:19.348200Z",
     "shell.execute_reply.started": "2022-01-30T11:53:40.234723Z"
    },
    "papermill": {
     "duration": 0.094168,
     "end_time": "2022-01-30T12:14:19.348374",
     "exception": false,
     "start_time": "2022-01-30T12:14:19.254206",
     "status": "completed"
    },
    "tags": []
   },
   "outputs": [],
   "source": [
    "rf_base = RandomForestRegressor(random_state=42)"
   ]
  },
  {
   "cell_type": "code",
   "execution_count": 65,
   "id": "e13e772b",
   "metadata": {
    "execution": {
     "iopub.execute_input": "2022-01-30T12:14:19.528067Z",
     "iopub.status.busy": "2022-01-30T12:14:19.523495Z",
     "iopub.status.idle": "2022-01-30T12:14:21.060832Z",
     "shell.execute_reply": "2022-01-30T12:14:21.060222Z",
     "shell.execute_reply.started": "2022-01-30T11:53:52.103895Z"
    },
    "papermill": {
     "duration": 1.625738,
     "end_time": "2022-01-30T12:14:21.060986",
     "exception": false,
     "start_time": "2022-01-30T12:14:19.435248",
     "status": "completed"
    },
    "tags": []
   },
   "outputs": [
    {
     "data": {
      "text/plain": [
       "RandomForestRegressor(random_state=42)"
      ]
     },
     "execution_count": 65,
     "metadata": {},
     "output_type": "execute_result"
    }
   ],
   "source": [
    "rf_base.fit(X_train,y_train)"
   ]
  },
  {
   "cell_type": "code",
   "execution_count": 66,
   "id": "a1110a89",
   "metadata": {
    "execution": {
     "iopub.execute_input": "2022-01-30T12:14:21.236687Z",
     "iopub.status.busy": "2022-01-30T12:14:21.235648Z",
     "iopub.status.idle": "2022-01-30T12:14:21.331873Z",
     "shell.execute_reply": "2022-01-30T12:14:21.331301Z",
     "shell.execute_reply.started": "2022-01-30T11:54:52.660724Z"
    },
    "papermill": {
     "duration": 0.18512,
     "end_time": "2022-01-30T12:14:21.332038",
     "exception": false,
     "start_time": "2022-01-30T12:14:21.146918",
     "status": "completed"
    },
    "tags": []
   },
   "outputs": [],
   "source": [
    "y_validate_rfbase_pred = rf_base.predict(X_validate)"
   ]
  },
  {
   "cell_type": "code",
   "execution_count": 67,
   "id": "0daf9e18",
   "metadata": {
    "execution": {
     "iopub.execute_input": "2022-01-30T12:14:21.510710Z",
     "iopub.status.busy": "2022-01-30T12:14:21.509106Z",
     "iopub.status.idle": "2022-01-30T12:14:21.515342Z",
     "shell.execute_reply": "2022-01-30T12:14:21.514680Z",
     "shell.execute_reply.started": "2022-01-30T11:55:29.659217Z"
    },
    "papermill": {
     "duration": 0.095535,
     "end_time": "2022-01-30T12:14:21.515486",
     "exception": false,
     "start_time": "2022-01-30T12:14:21.419951",
     "status": "completed"
    },
    "tags": []
   },
   "outputs": [
    {
     "name": "stdout",
     "output_type": "stream",
     "text": [
      "Base RF model r2score is  0.9032148134583188\n"
     ]
    }
   ],
   "source": [
    "print('Base RF model r2score is ',r2_score(y_validate,y_validate_rfbase_pred))"
   ]
  },
  {
   "cell_type": "markdown",
   "id": "f7593e27",
   "metadata": {
    "papermill": {
     "duration": 0.08546,
     "end_time": "2022-01-30T12:14:21.686809",
     "exception": false,
     "start_time": "2022-01-30T12:14:21.601349",
     "status": "completed"
    },
    "tags": []
   },
   "source": [
    "2.) Hyperparameter Tuning"
   ]
  },
  {
   "cell_type": "code",
   "execution_count": 68,
   "id": "449cf5b5",
   "metadata": {
    "execution": {
     "iopub.execute_input": "2022-01-30T12:14:21.861035Z",
     "iopub.status.busy": "2022-01-30T12:14:21.860407Z",
     "iopub.status.idle": "2022-01-30T12:14:21.864465Z",
     "shell.execute_reply": "2022-01-30T12:14:21.865031Z",
     "shell.execute_reply.started": "2022-01-30T12:04:33.451924Z"
    },
    "papermill": {
     "duration": 0.092641,
     "end_time": "2022-01-30T12:14:21.865198",
     "exception": false,
     "start_time": "2022-01-30T12:14:21.772557",
     "status": "completed"
    },
    "tags": []
   },
   "outputs": [],
   "source": [
    "paramgrid={\n",
    "    'max_depth':[5,10,15,20],\n",
    "    'min_samples_split':[20,40,50],\n",
    "    'n_estimators':[20,30,40],\n",
    "    'max_features':[3,4,5]\n",
    "}"
   ]
  },
  {
   "cell_type": "code",
   "execution_count": 69,
   "id": "32f159e5",
   "metadata": {
    "execution": {
     "iopub.execute_input": "2022-01-30T12:14:22.041154Z",
     "iopub.status.busy": "2022-01-30T12:14:22.040443Z",
     "iopub.status.idle": "2022-01-30T12:14:22.043721Z",
     "shell.execute_reply": "2022-01-30T12:14:22.044325Z",
     "shell.execute_reply.started": "2022-01-30T12:05:17.168930Z"
    },
    "papermill": {
     "duration": 0.09276,
     "end_time": "2022-01-30T12:14:22.044497",
     "exception": false,
     "start_time": "2022-01-30T12:14:21.951737",
     "status": "completed"
    },
    "tags": []
   },
   "outputs": [],
   "source": [
    "rf = RandomForestRegressor(random_state=42)"
   ]
  },
  {
   "cell_type": "code",
   "execution_count": 70,
   "id": "e0e5fdb8",
   "metadata": {
    "execution": {
     "iopub.execute_input": "2022-01-30T12:14:22.220456Z",
     "iopub.status.busy": "2022-01-30T12:14:22.219753Z",
     "iopub.status.idle": "2022-01-30T12:14:22.223703Z",
     "shell.execute_reply": "2022-01-30T12:14:22.224210Z",
     "shell.execute_reply.started": "2022-01-30T12:06:35.550714Z"
    },
    "papermill": {
     "duration": 0.093291,
     "end_time": "2022-01-30T12:14:22.224380",
     "exception": false,
     "start_time": "2022-01-30T12:14:22.131089",
     "status": "completed"
    },
    "tags": []
   },
   "outputs": [],
   "source": [
    "grid = GridSearchCV(rf,param_grid=paramgrid,n_jobs=-1,verbose=1,scoring='r2')"
   ]
  },
  {
   "cell_type": "code",
   "execution_count": 71,
   "id": "e6f0fec1",
   "metadata": {
    "execution": {
     "iopub.execute_input": "2022-01-30T12:14:22.401552Z",
     "iopub.status.busy": "2022-01-30T12:14:22.400585Z",
     "iopub.status.idle": "2022-01-30T12:15:17.270539Z",
     "shell.execute_reply": "2022-01-30T12:15:17.271090Z",
     "shell.execute_reply.started": "2022-01-30T12:06:56.278611Z"
    },
    "papermill": {
     "duration": 54.961613,
     "end_time": "2022-01-30T12:15:17.271268",
     "exception": false,
     "start_time": "2022-01-30T12:14:22.309655",
     "status": "completed"
    },
    "tags": []
   },
   "outputs": [
    {
     "name": "stdout",
     "output_type": "stream",
     "text": [
      "Fitting 5 folds for each of 108 candidates, totalling 540 fits\n"
     ]
    },
    {
     "name": "stderr",
     "output_type": "stream",
     "text": [
      "[Parallel(n_jobs=-1)]: Using backend LokyBackend with 4 concurrent workers.\n",
      "[Parallel(n_jobs=-1)]: Done  76 tasks      | elapsed:    5.5s\n",
      "[Parallel(n_jobs=-1)]: Done 364 tasks      | elapsed:   34.2s\n",
      "[Parallel(n_jobs=-1)]: Done 540 out of 540 | elapsed:   54.4s finished\n"
     ]
    },
    {
     "name": "stdout",
     "output_type": "stream",
     "text": [
      "CPU times: user 3.99 s, sys: 1.3 s, total: 5.28 s\n",
      "Wall time: 54.9 s\n"
     ]
    },
    {
     "data": {
      "text/plain": [
       "GridSearchCV(estimator=RandomForestRegressor(random_state=42), n_jobs=-1,\n",
       "             param_grid={'max_depth': [5, 10, 15, 20],\n",
       "                         'max_features': [3, 4, 5],\n",
       "                         'min_samples_split': [20, 40, 50],\n",
       "                         'n_estimators': [20, 30, 40]},\n",
       "             scoring='r2', verbose=1)"
      ]
     },
     "execution_count": 71,
     "metadata": {},
     "output_type": "execute_result"
    }
   ],
   "source": [
    "%%time\n",
    "grid.fit(X_train,y_train)"
   ]
  },
  {
   "cell_type": "code",
   "execution_count": 72,
   "id": "86accecc",
   "metadata": {
    "execution": {
     "iopub.execute_input": "2022-01-30T12:15:17.449631Z",
     "iopub.status.busy": "2022-01-30T12:15:17.448999Z",
     "iopub.status.idle": "2022-01-30T12:15:17.454669Z",
     "shell.execute_reply": "2022-01-30T12:15:17.454200Z",
     "shell.execute_reply.started": "2022-01-30T12:08:09.646485Z"
    },
    "papermill": {
     "duration": 0.095806,
     "end_time": "2022-01-30T12:15:17.454804",
     "exception": false,
     "start_time": "2022-01-30T12:15:17.358998",
     "status": "completed"
    },
    "tags": []
   },
   "outputs": [
    {
     "data": {
      "text/plain": [
       "{'max_depth': 20,\n",
       " 'max_features': 5,\n",
       " 'min_samples_split': 50,\n",
       " 'n_estimators': 40}"
      ]
     },
     "execution_count": 72,
     "metadata": {},
     "output_type": "execute_result"
    }
   ],
   "source": [
    "## params of optimised model\n",
    "grid.best_params_"
   ]
  },
  {
   "cell_type": "code",
   "execution_count": 73,
   "id": "e8845834",
   "metadata": {
    "execution": {
     "iopub.execute_input": "2022-01-30T12:15:17.634115Z",
     "iopub.status.busy": "2022-01-30T12:15:17.633442Z",
     "iopub.status.idle": "2022-01-30T12:15:17.636453Z",
     "shell.execute_reply": "2022-01-30T12:15:17.636931Z",
     "shell.execute_reply.started": "2022-01-30T12:08:50.760198Z"
    },
    "papermill": {
     "duration": 0.094197,
     "end_time": "2022-01-30T12:15:17.637120",
     "exception": false,
     "start_time": "2022-01-30T12:15:17.542923",
     "status": "completed"
    },
    "tags": []
   },
   "outputs": [],
   "source": [
    "rf_optimum = grid.best_estimator_"
   ]
  },
  {
   "cell_type": "code",
   "execution_count": 74,
   "id": "24b1d5f3",
   "metadata": {
    "execution": {
     "iopub.execute_input": "2022-01-30T12:15:17.816156Z",
     "iopub.status.busy": "2022-01-30T12:15:17.815504Z",
     "iopub.status.idle": "2022-01-30T12:15:17.850122Z",
     "shell.execute_reply": "2022-01-30T12:15:17.849508Z",
     "shell.execute_reply.started": "2022-01-30T12:09:22.135439Z"
    },
    "papermill": {
     "duration": 0.125486,
     "end_time": "2022-01-30T12:15:17.850273",
     "exception": false,
     "start_time": "2022-01-30T12:15:17.724787",
     "status": "completed"
    },
    "tags": []
   },
   "outputs": [],
   "source": [
    "y_validate_rfopt_pred = rf_optimum.predict(X_validate)"
   ]
  },
  {
   "cell_type": "code",
   "execution_count": 75,
   "id": "1fc1ca85",
   "metadata": {
    "execution": {
     "iopub.execute_input": "2022-01-30T12:15:18.031289Z",
     "iopub.status.busy": "2022-01-30T12:15:18.030542Z",
     "iopub.status.idle": "2022-01-30T12:15:18.036552Z",
     "shell.execute_reply": "2022-01-30T12:15:18.037338Z",
     "shell.execute_reply.started": "2022-01-30T12:10:08.658253Z"
    },
    "papermill": {
     "duration": 0.09946,
     "end_time": "2022-01-30T12:15:18.037569",
     "exception": false,
     "start_time": "2022-01-30T12:15:17.938109",
     "status": "completed"
    },
    "tags": []
   },
   "outputs": [
    {
     "name": "stdout",
     "output_type": "stream",
     "text": [
      "Optimized RF model r2score is  0.9110429104505293\n"
     ]
    }
   ],
   "source": [
    "print('Optimized RF model r2score is ',r2_score(y_validate,y_validate_rfopt_pred))"
   ]
  },
  {
   "cell_type": "code",
   "execution_count": 76,
   "id": "4a79caea",
   "metadata": {
    "execution": {
     "iopub.execute_input": "2022-01-30T12:15:18.219249Z",
     "iopub.status.busy": "2022-01-30T12:15:18.218543Z",
     "iopub.status.idle": "2022-01-30T12:15:18.248824Z",
     "shell.execute_reply": "2022-01-30T12:15:18.248244Z",
     "shell.execute_reply.started": "2022-01-30T12:11:05.807938Z"
    },
    "papermill": {
     "duration": 0.121767,
     "end_time": "2022-01-30T12:15:18.248974",
     "exception": false,
     "start_time": "2022-01-30T12:15:18.127207",
     "status": "completed"
    },
    "tags": []
   },
   "outputs": [],
   "source": [
    "## use the optimized model for prediction on test_df\n",
    "test_df['rf_pred'] = rf_optimum.predict(test_df[['month', 'day_of_week', 'country_Norway', 'country_Sweden',\n",
    "       'store_KaggleRama', 'product_Kaggle Mug', 'product_Kaggle Sticker']])"
   ]
  },
  {
   "cell_type": "code",
   "execution_count": 77,
   "id": "5efa13eb",
   "metadata": {
    "execution": {
     "iopub.execute_input": "2022-01-30T12:15:18.435899Z",
     "iopub.status.busy": "2022-01-30T12:15:18.435252Z",
     "iopub.status.idle": "2022-01-30T12:15:18.438387Z",
     "shell.execute_reply": "2022-01-30T12:15:18.437773Z",
     "shell.execute_reply.started": "2022-01-30T12:11:47.326791Z"
    },
    "papermill": {
     "duration": 0.101128,
     "end_time": "2022-01-30T12:15:18.438534",
     "exception": false,
     "start_time": "2022-01-30T12:15:18.337406",
     "status": "completed"
    },
    "tags": []
   },
   "outputs": [],
   "source": [
    "## correct negative values to 0\n",
    "test_df['rf_pred'] = test_df['rf_pred'].apply(lambda x: 0 if x<0 else x)"
   ]
  },
  {
   "cell_type": "code",
   "execution_count": 78,
   "id": "6771b816",
   "metadata": {
    "execution": {
     "iopub.execute_input": "2022-01-30T12:15:18.619167Z",
     "iopub.status.busy": "2022-01-30T12:15:18.618538Z",
     "iopub.status.idle": "2022-01-30T12:15:18.651289Z",
     "shell.execute_reply": "2022-01-30T12:15:18.650630Z",
     "shell.execute_reply.started": "2022-01-30T12:13:25.454135Z"
    },
    "papermill": {
     "duration": 0.1241,
     "end_time": "2022-01-30T12:15:18.651452",
     "exception": false,
     "start_time": "2022-01-30T12:15:18.527352",
     "status": "completed"
    },
    "tags": []
   },
   "outputs": [],
   "source": [
    "test_df[['row_id','rf_pred']].rename(columns={'rf_pred':'num_sold'}).to_csv('./submission.csv',index=False)"
   ]
  },
  {
   "cell_type": "code",
   "execution_count": null,
   "id": "594d0d01",
   "metadata": {
    "papermill": {
     "duration": 0.088794,
     "end_time": "2022-01-30T12:15:18.828721",
     "exception": false,
     "start_time": "2022-01-30T12:15:18.739927",
     "status": "completed"
    },
    "tags": []
   },
   "outputs": [],
   "source": []
  }
 ],
 "metadata": {
  "kernelspec": {
   "display_name": "Python 3",
   "language": "python",
   "name": "python3"
  },
  "language_info": {
   "codemirror_mode": {
    "name": "ipython",
    "version": 3
   },
   "file_extension": ".py",
   "mimetype": "text/x-python",
   "name": "python",
   "nbconvert_exporter": "python",
   "pygments_lexer": "ipython3",
   "version": "3.7.12"
  },
  "papermill": {
   "default_parameters": {},
   "duration": 92.197687,
   "end_time": "2022-01-30T12:15:19.931885",
   "environment_variables": {},
   "exception": null,
   "input_path": "__notebook__.ipynb",
   "output_path": "__notebook__.ipynb",
   "parameters": {},
   "start_time": "2022-01-30T12:13:47.734198",
   "version": "2.3.3"
  }
 },
 "nbformat": 4,
 "nbformat_minor": 5
}
