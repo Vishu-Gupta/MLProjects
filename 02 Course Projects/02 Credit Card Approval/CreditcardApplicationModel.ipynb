{
 "cells": [
  {
   "cell_type": "code",
   "execution_count": 1,
   "id": "4aff0cb2",
   "metadata": {},
   "outputs": [
    {
     "data": {
      "application/vnd.jupyter.widget-view+json": {
       "model_id": "95b5eac38fb14af08205d6e17a6c3d9c",
       "version_major": 2,
       "version_minor": 0
      },
      "text/plain": [
       "VBox()"
      ]
     },
     "metadata": {},
     "output_type": "display_data"
    },
    {
     "name": "stdout",
     "output_type": "stream",
     "text": [
      "Starting Spark application\n"
     ]
    },
    {
     "data": {
      "text/html": [
       "<table>\n",
       "<tr><th>ID</th><th>YARN Application ID</th><th>Kind</th><th>State</th><th>Spark UI</th><th>Driver log</th><th>Current session?</th></tr><tr><td>3</td><td>application_1641979226506_0004</td><td>pyspark</td><td>idle</td><td><a target=\"_blank\" href=\"http://ip-172-31-54-255.ec2.internal:20888/proxy/application_1641979226506_0004/\">Link</a></td><td><a target=\"_blank\" href=\"http://ip-172-31-61-49.ec2.internal:8042/node/containerlogs/container_1641979226506_0004_01_000001/livy\">Link</a></td><td>✔</td></tr></table>"
      ],
      "text/plain": [
       "<IPython.core.display.HTML object>"
      ]
     },
     "metadata": {},
     "output_type": "display_data"
    },
    {
     "data": {
      "application/vnd.jupyter.widget-view+json": {
       "model_id": "",
       "version_major": 2,
       "version_minor": 0
      },
      "text/plain": [
       "FloatProgress(value=0.0, bar_style='info', description='Progress:', layout=Layout(height='25px', width='50%'),…"
      ]
     },
     "metadata": {},
     "output_type": "display_data"
    },
    {
     "name": "stdout",
     "output_type": "stream",
     "text": [
      "SparkSession available as 'spark'.\n"
     ]
    },
    {
     "data": {
      "application/vnd.jupyter.widget-view+json": {
       "model_id": "",
       "version_major": 2,
       "version_minor": 0
      },
      "text/plain": [
       "FloatProgress(value=0.0, bar_style='info', description='Progress:', layout=Layout(height='25px', width='50%'),…"
      ]
     },
     "metadata": {},
     "output_type": "display_data"
    },
    {
     "name": "stdout",
     "output_type": "stream",
     "text": [
      "Collecting pandas==0.25.1\n",
      "  Using cached pandas-0.25.1-cp36-cp36m-manylinux1_x86_64.whl (10.5 MB)\n",
      "Collecting python-dateutil>=2.6.1\n",
      "  Using cached python_dateutil-2.8.2-py2.py3-none-any.whl (247 kB)\n",
      "Requirement already satisfied: numpy>=1.13.3 in /usr/local/lib64/python3.6/site-packages (from pandas==0.25.1) (1.14.5)\n",
      "Requirement already satisfied: pytz>=2017.2 in /usr/local/lib/python3.6/site-packages (from pandas==0.25.1) (2019.3)\n",
      "Requirement already satisfied: six>=1.5 in /usr/local/lib/python3.6/site-packages (from python-dateutil>=2.6.1->pandas==0.25.1) (1.13.0)\n",
      "Installing collected packages: python-dateutil, pandas\n",
      "Successfully installed pandas-0.25.1 python-dateutil-2.8.2\n",
      "\n",
      "Collecting matplotlib\n",
      "  Using cached matplotlib-3.3.4-cp36-cp36m-manylinux1_x86_64.whl (11.5 MB)\n",
      "Requirement already satisfied: python-dateutil>=2.1 in /mnt/tmp/1642007300965-0/lib/python3.6/site-packages (from matplotlib) (2.8.2)\n",
      "Collecting pillow>=6.2.0\n",
      "  Using cached Pillow-8.4.0-cp36-cp36m-manylinux_2_17_x86_64.manylinux2014_x86_64.whl (3.1 MB)\n",
      "Collecting numpy>=1.15\n",
      "  Using cached numpy-1.19.5-cp36-cp36m-manylinux2010_x86_64.whl (14.8 MB)\n",
      "Collecting kiwisolver>=1.0.1\n",
      "  Using cached kiwisolver-1.3.1-cp36-cp36m-manylinux1_x86_64.whl (1.1 MB)\n",
      "Collecting cycler>=0.10\n",
      "  Using cached cycler-0.11.0-py3-none-any.whl (6.4 kB)\n",
      "Collecting pyparsing!=2.0.4,!=2.1.2,!=2.1.6,>=2.0.3\n",
      "  Using cached pyparsing-3.0.6-py3-none-any.whl (97 kB)\n",
      "Requirement already satisfied: six>=1.5 in /usr/local/lib/python3.6/site-packages (from python-dateutil>=2.1->matplotlib) (1.13.0)\n",
      "Installing collected packages: pyparsing, pillow, numpy, kiwisolver, cycler, matplotlib\n",
      "  Attempting uninstall: numpy\n",
      "    Found existing installation: numpy 1.14.5\n",
      "    Not uninstalling numpy at /usr/local/lib64/python3.6/site-packages, outside environment /tmp/1642007300965-0\n",
      "    Can't uninstall 'numpy'. No files were found to uninstall.\n",
      "Successfully installed cycler-0.11.0 kiwisolver-1.3.1 matplotlib-3.3.4 numpy-1.19.5 pillow-8.4.0 pyparsing-3.0.6\n",
      "\n",
      "\n",
      "ERROR: pip's dependency resolver does not currently take into account all the packages that are installed. This behaviour is the source of the following dependency conflicts.\n",
      "python36-sagemaker-pyspark 1.2.6 requires pyspark==2.3.2, which is not installed."
     ]
    }
   ],
   "source": [
    "sc.install_pypi_package(\"pandas==0.25.1\") #Install pandas version 0.25.1 \n",
    "sc.install_pypi_package(\"matplotlib\", \"https://pypi.org/simple\")"
   ]
  },
  {
   "cell_type": "code",
   "execution_count": 2,
   "id": "08b420aa",
   "metadata": {},
   "outputs": [
    {
     "data": {
      "application/vnd.jupyter.widget-view+json": {
       "model_id": "fb9a1d9883f941f6b0cb481d081de5e5",
       "version_major": 2,
       "version_minor": 0
      },
      "text/plain": [
       "VBox()"
      ]
     },
     "metadata": {},
     "output_type": "display_data"
    },
    {
     "data": {
      "application/vnd.jupyter.widget-view+json": {
       "model_id": "",
       "version_major": 2,
       "version_minor": 0
      },
      "text/plain": [
       "FloatProgress(value=0.0, bar_style='info', description='Progress:', layout=Layout(height='25px', width='50%'),…"
      ]
     },
     "metadata": {},
     "output_type": "display_data"
    }
   ],
   "source": [
    "## loading data from s3 using keyword s3://\n",
    "application= spark.read.csv('s3://sqoop.oozie.ml/application_record.csv',header=True,inferSchema=True)"
   ]
  },
  {
   "cell_type": "code",
   "execution_count": 3,
   "id": "d1d752da",
   "metadata": {},
   "outputs": [
    {
     "data": {
      "application/vnd.jupyter.widget-view+json": {
       "model_id": "13d97cb814314e0389708368cecc993e",
       "version_major": 2,
       "version_minor": 0
      },
      "text/plain": [
       "VBox()"
      ]
     },
     "metadata": {},
     "output_type": "display_data"
    },
    {
     "data": {
      "application/vnd.jupyter.widget-view+json": {
       "model_id": "",
       "version_major": 2,
       "version_minor": 0
      },
      "text/plain": [
       "FloatProgress(value=0.0, bar_style='info', description='Progress:', layout=Layout(height='25px', width='50%'),…"
      ]
     },
     "metadata": {},
     "output_type": "display_data"
    }
   ],
   "source": [
    "credit= spark.read.csv('s3://sqoop.oozie.ml/credit_record.csv',header=True,inferSchema=True)"
   ]
  },
  {
   "cell_type": "code",
   "execution_count": 4,
   "id": "c00ff4bd",
   "metadata": {},
   "outputs": [
    {
     "data": {
      "application/vnd.jupyter.widget-view+json": {
       "model_id": "444e08c348ba4c4b87df96af34e70ecc",
       "version_major": 2,
       "version_minor": 0
      },
      "text/plain": [
       "VBox()"
      ]
     },
     "metadata": {},
     "output_type": "display_data"
    },
    {
     "data": {
      "application/vnd.jupyter.widget-view+json": {
       "model_id": "",
       "version_major": 2,
       "version_minor": 0
      },
      "text/plain": [
       "FloatProgress(value=0.0, bar_style='info', description='Progress:', layout=Layout(height='25px', width='50%'),…"
      ]
     },
     "metadata": {},
     "output_type": "display_data"
    },
    {
     "name": "stdout",
     "output_type": "stream",
     "text": [
      "root\n",
      " |-- ID: integer (nullable = true)\n",
      " |-- CODE_GENDER: string (nullable = true)\n",
      " |-- FLAG_OWN_CAR: string (nullable = true)\n",
      " |-- FLAG_OWN_REALTY: string (nullable = true)\n",
      " |-- CNT_CHILDREN: integer (nullable = true)\n",
      " |-- AMT_INCOME_TOTAL: double (nullable = true)\n",
      " |-- NAME_INCOME_TYPE: string (nullable = true)\n",
      " |-- NAME_EDUCATION_TYPE: string (nullable = true)\n",
      " |-- NAME_FAMILY_STATUS: string (nullable = true)\n",
      " |-- NAME_HOUSING_TYPE: string (nullable = true)\n",
      " |-- DAYS_BIRTH: integer (nullable = true)\n",
      " |-- DAYS_EMPLOYED: integer (nullable = true)\n",
      " |-- FLAG_MOBIL: integer (nullable = true)\n",
      " |-- FLAG_WORK_PHONE: integer (nullable = true)\n",
      " |-- FLAG_PHONE: integer (nullable = true)\n",
      " |-- FLAG_EMAIL: integer (nullable = true)\n",
      " |-- OCCUPATION_TYPE: string (nullable = true)\n",
      " |-- CNT_FAM_MEMBERS: double (nullable = true)"
     ]
    }
   ],
   "source": [
    "application.printSchema()"
   ]
  },
  {
   "cell_type": "code",
   "execution_count": 5,
   "id": "b1900d6a",
   "metadata": {},
   "outputs": [
    {
     "data": {
      "application/vnd.jupyter.widget-view+json": {
       "model_id": "fa6b7409cda04f7b950023de19f08d7c",
       "version_major": 2,
       "version_minor": 0
      },
      "text/plain": [
       "VBox()"
      ]
     },
     "metadata": {},
     "output_type": "display_data"
    },
    {
     "data": {
      "application/vnd.jupyter.widget-view+json": {
       "model_id": "",
       "version_major": 2,
       "version_minor": 0
      },
      "text/plain": [
       "FloatProgress(value=0.0, bar_style='info', description='Progress:', layout=Layout(height='25px', width='50%'),…"
      ]
     },
     "metadata": {},
     "output_type": "display_data"
    },
    {
     "name": "stdout",
     "output_type": "stream",
     "text": [
      "+-------+-----------+------------+---------------+------------+----------------+--------------------+-----------------------------+--------------------+-----------------+----------+-------------+----------+---------------+----------+----------+---------------+---------------+\n",
      "|ID     |CODE_GENDER|FLAG_OWN_CAR|FLAG_OWN_REALTY|CNT_CHILDREN|AMT_INCOME_TOTAL|NAME_INCOME_TYPE    |NAME_EDUCATION_TYPE          |NAME_FAMILY_STATUS  |NAME_HOUSING_TYPE|DAYS_BIRTH|DAYS_EMPLOYED|FLAG_MOBIL|FLAG_WORK_PHONE|FLAG_PHONE|FLAG_EMAIL|OCCUPATION_TYPE|CNT_FAM_MEMBERS|\n",
      "+-------+-----------+------------+---------------+------------+----------------+--------------------+-----------------------------+--------------------+-----------------+----------+-------------+----------+---------------+----------+----------+---------------+---------------+\n",
      "|5008804|M          |Y           |Y              |0           |427500.0        |Working             |Higher education             |Civil marriage      |Rented apartment |-12005    |-4542        |1         |1              |0         |0         |null           |2.0            |\n",
      "|5008805|M          |Y           |Y              |0           |427500.0        |Working             |Higher education             |Civil marriage      |Rented apartment |-12005    |-4542        |1         |1              |0         |0         |null           |2.0            |\n",
      "|5008806|M          |Y           |Y              |0           |112500.0        |Working             |Secondary / secondary special|Married             |House / apartment|-21474    |-1134        |1         |0              |0         |0         |Security staff |2.0            |\n",
      "|5008808|F          |N           |Y              |0           |270000.0        |Commercial associate|Secondary / secondary special|Single / not married|House / apartment|-19110    |-3051        |1         |0              |1         |1         |Sales staff    |1.0            |\n",
      "|5008809|F          |N           |Y              |0           |270000.0        |Commercial associate|Secondary / secondary special|Single / not married|House / apartment|-19110    |-3051        |1         |0              |1         |1         |Sales staff    |1.0            |\n",
      "|5008810|F          |N           |Y              |0           |270000.0        |Commercial associate|Secondary / secondary special|Single / not married|House / apartment|-19110    |-3051        |1         |0              |1         |1         |Sales staff    |1.0            |\n",
      "|5008811|F          |N           |Y              |0           |270000.0        |Commercial associate|Secondary / secondary special|Single / not married|House / apartment|-19110    |-3051        |1         |0              |1         |1         |Sales staff    |1.0            |\n",
      "|5008812|F          |N           |Y              |0           |283500.0        |Pensioner           |Higher education             |Separated           |House / apartment|-22464    |365243       |1         |0              |0         |0         |null           |1.0            |\n",
      "|5008813|F          |N           |Y              |0           |283500.0        |Pensioner           |Higher education             |Separated           |House / apartment|-22464    |365243       |1         |0              |0         |0         |null           |1.0            |\n",
      "|5008814|F          |N           |Y              |0           |283500.0        |Pensioner           |Higher education             |Separated           |House / apartment|-22464    |365243       |1         |0              |0         |0         |null           |1.0            |\n",
      "|5008815|M          |Y           |Y              |0           |270000.0        |Working             |Higher education             |Married             |House / apartment|-16872    |-769         |1         |1              |1         |1         |Accountants    |2.0            |\n",
      "|5112956|M          |Y           |Y              |0           |270000.0        |Working             |Higher education             |Married             |House / apartment|-16872    |-769         |1         |1              |1         |1         |Accountants    |2.0            |\n",
      "|6153651|M          |Y           |Y              |0           |270000.0        |Working             |Higher education             |Married             |House / apartment|-16872    |-769         |1         |1              |1         |1         |Accountants    |2.0            |\n",
      "|5008819|M          |Y           |Y              |0           |135000.0        |Commercial associate|Secondary / secondary special|Married             |House / apartment|-17778    |-1194        |1         |0              |0         |0         |Laborers       |2.0            |\n",
      "|5008820|M          |Y           |Y              |0           |135000.0        |Commercial associate|Secondary / secondary special|Married             |House / apartment|-17778    |-1194        |1         |0              |0         |0         |Laborers       |2.0            |\n",
      "|5008821|M          |Y           |Y              |0           |135000.0        |Commercial associate|Secondary / secondary special|Married             |House / apartment|-17778    |-1194        |1         |0              |0         |0         |Laborers       |2.0            |\n",
      "|5008822|M          |Y           |Y              |0           |135000.0        |Commercial associate|Secondary / secondary special|Married             |House / apartment|-17778    |-1194        |1         |0              |0         |0         |Laborers       |2.0            |\n",
      "|5008823|M          |Y           |Y              |0           |135000.0        |Commercial associate|Secondary / secondary special|Married             |House / apartment|-17778    |-1194        |1         |0              |0         |0         |Laborers       |2.0            |\n",
      "|5008824|M          |Y           |Y              |0           |135000.0        |Commercial associate|Secondary / secondary special|Married             |House / apartment|-17778    |-1194        |1         |0              |0         |0         |Laborers       |2.0            |\n",
      "|5008825|F          |Y           |N              |0           |130500.0        |Working             |Incomplete higher            |Married             |House / apartment|-10669    |-1103        |1         |0              |0         |0         |Accountants    |2.0            |\n",
      "+-------+-----------+------------+---------------+------------+----------------+--------------------+-----------------------------+--------------------+-----------------+----------+-------------+----------+---------------+----------+----------+---------------+---------------+\n",
      "only showing top 20 rows"
     ]
    }
   ],
   "source": [
    "application.show(20,truncate=False)"
   ]
  },
  {
   "cell_type": "code",
   "execution_count": 6,
   "id": "9acdc958",
   "metadata": {},
   "outputs": [
    {
     "data": {
      "application/vnd.jupyter.widget-view+json": {
       "model_id": "74b44effd3484f9a9e5075f9ff7641e5",
       "version_major": 2,
       "version_minor": 0
      },
      "text/plain": [
       "VBox()"
      ]
     },
     "metadata": {},
     "output_type": "display_data"
    },
    {
     "data": {
      "application/vnd.jupyter.widget-view+json": {
       "model_id": "",
       "version_major": 2,
       "version_minor": 0
      },
      "text/plain": [
       "FloatProgress(value=0.0, bar_style='info', description='Progress:', layout=Layout(height='25px', width='50%'),…"
      ]
     },
     "metadata": {},
     "output_type": "display_data"
    },
    {
     "name": "stdout",
     "output_type": "stream",
     "text": [
      "438557"
     ]
    }
   ],
   "source": [
    "application.count()"
   ]
  },
  {
   "cell_type": "code",
   "execution_count": 7,
   "id": "f6b8d285",
   "metadata": {},
   "outputs": [
    {
     "data": {
      "application/vnd.jupyter.widget-view+json": {
       "model_id": "f472e891414e451f8ffbaeaba8b370f3",
       "version_major": 2,
       "version_minor": 0
      },
      "text/plain": [
       "VBox()"
      ]
     },
     "metadata": {},
     "output_type": "display_data"
    },
    {
     "data": {
      "application/vnd.jupyter.widget-view+json": {
       "model_id": "",
       "version_major": 2,
       "version_minor": 0
      },
      "text/plain": [
       "FloatProgress(value=0.0, bar_style='info', description='Progress:', layout=Layout(height='25px', width='50%'),…"
      ]
     },
     "metadata": {},
     "output_type": "display_data"
    },
    {
     "name": "stdout",
     "output_type": "stream",
     "text": [
      "1048575"
     ]
    }
   ],
   "source": [
    "credit.count()"
   ]
  },
  {
   "cell_type": "markdown",
   "id": "e5bdf43a",
   "metadata": {},
   "source": [
    "## Questions needed to be answered"
   ]
  },
  {
   "cell_type": "markdown",
   "id": "8bcb0df7",
   "metadata": {},
   "source": [
    "### 1. What is the proportion of females in the applicant customer base?"
   ]
  },
  {
   "cell_type": "code",
   "execution_count": 8,
   "id": "3c602a18",
   "metadata": {},
   "outputs": [
    {
     "data": {
      "application/vnd.jupyter.widget-view+json": {
       "model_id": "20776cadac09477fa4a9fe2b342d98e4",
       "version_major": 2,
       "version_minor": 0
      },
      "text/plain": [
       "VBox()"
      ]
     },
     "metadata": {},
     "output_type": "display_data"
    },
    {
     "data": {
      "application/vnd.jupyter.widget-view+json": {
       "model_id": "",
       "version_major": 2,
       "version_minor": 0
      },
      "text/plain": [
       "FloatProgress(value=0.0, bar_style='info', description='Progress:', layout=Layout(height='25px', width='50%'),…"
      ]
     },
     "metadata": {},
     "output_type": "display_data"
    }
   ],
   "source": [
    "from pyspark.sql import functions as f\n",
    "from pyspark.sql.window import Window\n"
   ]
  },
  {
   "cell_type": "code",
   "execution_count": 9,
   "id": "d62c7b33",
   "metadata": {},
   "outputs": [
    {
     "data": {
      "application/vnd.jupyter.widget-view+json": {
       "model_id": "f587bf9c87ce496d9c43e1b7bb59671b",
       "version_major": 2,
       "version_minor": 0
      },
      "text/plain": [
       "VBox()"
      ]
     },
     "metadata": {},
     "output_type": "display_data"
    },
    {
     "data": {
      "application/vnd.jupyter.widget-view+json": {
       "model_id": "",
       "version_major": 2,
       "version_minor": 0
      },
      "text/plain": [
       "FloatProgress(value=0.0, bar_style='info', description='Progress:', layout=Layout(height='25px', width='50%'),…"
      ]
     },
     "metadata": {},
     "output_type": "display_data"
    },
    {
     "name": "stdout",
     "output_type": "stream",
     "text": [
      "root\n",
      " |-- ID: integer (nullable = true)\n",
      " |-- CODE_GENDER: string (nullable = true)\n",
      " |-- FLAG_OWN_CAR: string (nullable = true)\n",
      " |-- FLAG_OWN_REALTY: string (nullable = true)\n",
      " |-- CNT_CHILDREN: integer (nullable = true)\n",
      " |-- AMT_INCOME_TOTAL: double (nullable = true)\n",
      " |-- NAME_INCOME_TYPE: string (nullable = true)\n",
      " |-- NAME_EDUCATION_TYPE: string (nullable = true)\n",
      " |-- NAME_FAMILY_STATUS: string (nullable = true)\n",
      " |-- NAME_HOUSING_TYPE: string (nullable = true)\n",
      " |-- DAYS_BIRTH: integer (nullable = true)\n",
      " |-- DAYS_EMPLOYED: integer (nullable = true)\n",
      " |-- FLAG_MOBIL: integer (nullable = true)\n",
      " |-- FLAG_WORK_PHONE: integer (nullable = true)\n",
      " |-- FLAG_PHONE: integer (nullable = true)\n",
      " |-- FLAG_EMAIL: integer (nullable = true)\n",
      " |-- OCCUPATION_TYPE: string (nullable = true)\n",
      " |-- CNT_FAM_MEMBERS: double (nullable = true)"
     ]
    }
   ],
   "source": [
    "application.printSchema()"
   ]
  },
  {
   "cell_type": "code",
   "execution_count": 10,
   "id": "5ef2046d",
   "metadata": {},
   "outputs": [
    {
     "data": {
      "application/vnd.jupyter.widget-view+json": {
       "model_id": "393024d051ff4e6ba4bb9f9562e10bf7",
       "version_major": 2,
       "version_minor": 0
      },
      "text/plain": [
       "VBox()"
      ]
     },
     "metadata": {},
     "output_type": "display_data"
    },
    {
     "data": {
      "application/vnd.jupyter.widget-view+json": {
       "model_id": "",
       "version_major": 2,
       "version_minor": 0
      },
      "text/plain": [
       "FloatProgress(value=0.0, bar_style='info', description='Progress:', layout=Layout(height='25px', width='50%'),…"
      ]
     },
     "metadata": {},
     "output_type": "display_data"
    }
   ],
   "source": [
    "df =application.groupby('CODE_GENDER').count()"
   ]
  },
  {
   "cell_type": "code",
   "execution_count": 11,
   "id": "2ac48a71",
   "metadata": {},
   "outputs": [
    {
     "data": {
      "application/vnd.jupyter.widget-view+json": {
       "model_id": "c98878b1d0ff4c5c922cacdffb9710b0",
       "version_major": 2,
       "version_minor": 0
      },
      "text/plain": [
       "VBox()"
      ]
     },
     "metadata": {},
     "output_type": "display_data"
    },
    {
     "data": {
      "application/vnd.jupyter.widget-view+json": {
       "model_id": "",
       "version_major": 2,
       "version_minor": 0
      },
      "text/plain": [
       "FloatProgress(value=0.0, bar_style='info', description='Progress:', layout=Layout(height='25px', width='50%'),…"
      ]
     },
     "metadata": {},
     "output_type": "display_data"
    },
    {
     "name": "stdout",
     "output_type": "stream",
     "text": [
      "+-----------+------+------------------+\n",
      "|CODE_GENDER| count|       prop_gender|\n",
      "+-----------+------+------------------+\n",
      "|          F|294440|0.6713836513839706|\n",
      "|          M|144117|0.3286163486160294|\n",
      "+-----------+------+------------------+"
     ]
    }
   ],
   "source": [
    "df.withColumn('prop_gender',f.col('count')/f.sum('count').over(Window.partitionBy())).show()"
   ]
  },
  {
   "cell_type": "markdown",
   "id": "67daf463",
   "metadata": {},
   "source": [
    "#### 67.14% of the applications have been filed by Females"
   ]
  },
  {
   "cell_type": "markdown",
   "id": "55f40d75",
   "metadata": {},
   "source": [
    "### 2. Is homeownership higher among male applicants or female applicants?"
   ]
  },
  {
   "cell_type": "code",
   "execution_count": 12,
   "id": "1944b28b",
   "metadata": {},
   "outputs": [
    {
     "data": {
      "application/vnd.jupyter.widget-view+json": {
       "model_id": "f0bdd49d6f394bf4aaa34b87834ca01f",
       "version_major": 2,
       "version_minor": 0
      },
      "text/plain": [
       "VBox()"
      ]
     },
     "metadata": {},
     "output_type": "display_data"
    },
    {
     "data": {
      "application/vnd.jupyter.widget-view+json": {
       "model_id": "",
       "version_major": 2,
       "version_minor": 0
      },
      "text/plain": [
       "FloatProgress(value=0.0, bar_style='info', description='Progress:', layout=Layout(height='25px', width='50%'),…"
      ]
     },
     "metadata": {},
     "output_type": "display_data"
    },
    {
     "name": "stdout",
     "output_type": "stream",
     "text": [
      "+-------------------+\n",
      "|  NAME_HOUSING_TYPE|\n",
      "+-------------------+\n",
      "|  House / apartment|\n",
      "|Municipal apartment|\n",
      "|    Co-op apartment|\n",
      "|   Rented apartment|\n",
      "|   Office apartment|\n",
      "|       With parents|\n",
      "+-------------------+"
     ]
    }
   ],
   "source": [
    "application.select('NAME_HOUSING_TYPE').distinct().show()"
   ]
  },
  {
   "cell_type": "markdown",
   "id": "c601c2ce",
   "metadata": {},
   "source": [
    "##### In this House/Apartment category satisfies home ownership"
   ]
  },
  {
   "cell_type": "code",
   "execution_count": 13,
   "id": "aa26ffbd",
   "metadata": {},
   "outputs": [
    {
     "data": {
      "application/vnd.jupyter.widget-view+json": {
       "model_id": "cde400f0eb334b1985a946c1100f1651",
       "version_major": 2,
       "version_minor": 0
      },
      "text/plain": [
       "VBox()"
      ]
     },
     "metadata": {},
     "output_type": "display_data"
    },
    {
     "data": {
      "application/vnd.jupyter.widget-view+json": {
       "model_id": "",
       "version_major": 2,
       "version_minor": 0
      },
      "text/plain": [
       "FloatProgress(value=0.0, bar_style='info', description='Progress:', layout=Layout(height='25px', width='50%'),…"
      ]
     },
     "metadata": {},
     "output_type": "display_data"
    }
   ],
   "source": [
    "df = application.groupby('NAME_HOUSING_TYPE').pivot('CODE_GENDER').count()"
   ]
  },
  {
   "cell_type": "code",
   "execution_count": 14,
   "id": "de63009f",
   "metadata": {},
   "outputs": [
    {
     "data": {
      "application/vnd.jupyter.widget-view+json": {
       "model_id": "0cab3bbba56a490b9d47dd4173dcb10a",
       "version_major": 2,
       "version_minor": 0
      },
      "text/plain": [
       "VBox()"
      ]
     },
     "metadata": {},
     "output_type": "display_data"
    },
    {
     "data": {
      "application/vnd.jupyter.widget-view+json": {
       "model_id": "",
       "version_major": 2,
       "version_minor": 0
      },
      "text/plain": [
       "FloatProgress(value=0.0, bar_style='info', description='Progress:', layout=Layout(height='25px', width='50%'),…"
      ]
     },
     "metadata": {},
     "output_type": "display_data"
    },
    {
     "name": "stdout",
     "output_type": "stream",
     "text": [
      "+-------------------+------+------+--------------------+--------------------+\n",
      "|  NAME_HOUSING_TYPE|     F|     M|              Prop_F|              Prop_M|\n",
      "+-------------------+------+------+--------------------+--------------------+\n",
      "|  House / apartment|267607|126224|  0.9088676810216003|  0.8758439323605126|\n",
      "|Municipal apartment| 10019|  4195| 0.03402730607254449|0.029108293955605515|\n",
      "|    Co-op apartment|   862|   677|0.002927591359869583|0.004697572111548...|\n",
      "|   Rented apartment|  3284|  2690|0.011153375900013585|0.018665389926240485|\n",
      "|   Office apartment|  2122|  1800|0.007206901236245...|0.012489851995253856|\n",
      "|       With parents| 10546|  8531| 0.03581714440972694| 0.05919495965083925|\n",
      "+-------------------+------+------+--------------------+--------------------+"
     ]
    }
   ],
   "source": [
    "df.withColumn('Prop_F',f.col('F')/f.sum('F').over(Window.partitionBy())).withColumn('Prop_M',f.col('M')/f.sum('M').over(Window.partitionBy())).show()"
   ]
  },
  {
   "cell_type": "markdown",
   "id": "ef9b1ea4",
   "metadata": {},
   "source": [
    "#### 90.88% females own their home/apartment wheras 87.58% males own their homes. Hence higher among female applicants"
   ]
  },
  {
   "cell_type": "markdown",
   "id": "5b6afe49",
   "metadata": {},
   "source": [
    "### 3. Is there any correlation between the customer's income level and education level?"
   ]
  },
  {
   "cell_type": "code",
   "execution_count": 15,
   "id": "49a15a47",
   "metadata": {},
   "outputs": [
    {
     "data": {
      "application/vnd.jupyter.widget-view+json": {
       "model_id": "b81282d516f9463db57367bd04120f30",
       "version_major": 2,
       "version_minor": 0
      },
      "text/plain": [
       "VBox()"
      ]
     },
     "metadata": {},
     "output_type": "display_data"
    },
    {
     "data": {
      "application/vnd.jupyter.widget-view+json": {
       "model_id": "",
       "version_major": 2,
       "version_minor": 0
      },
      "text/plain": [
       "FloatProgress(value=0.0, bar_style='info', description='Progress:', layout=Layout(height='25px', width='50%'),…"
      ]
     },
     "metadata": {},
     "output_type": "display_data"
    }
   ],
   "source": [
    "from pyspark.ml.stat import Correlation"
   ]
  },
  {
   "cell_type": "code",
   "execution_count": 16,
   "id": "bf3a35a9",
   "metadata": {},
   "outputs": [
    {
     "data": {
      "application/vnd.jupyter.widget-view+json": {
       "model_id": "f05a6671057f46a9a9405d1f38c66066",
       "version_major": 2,
       "version_minor": 0
      },
      "text/plain": [
       "VBox()"
      ]
     },
     "metadata": {},
     "output_type": "display_data"
    },
    {
     "data": {
      "application/vnd.jupyter.widget-view+json": {
       "model_id": "",
       "version_major": 2,
       "version_minor": 0
      },
      "text/plain": [
       "FloatProgress(value=0.0, bar_style='info', description='Progress:', layout=Layout(height='25px', width='50%'),…"
      ]
     },
     "metadata": {},
     "output_type": "display_data"
    },
    {
     "name": "stdout",
     "output_type": "stream",
     "text": [
      "+-----------------------------+\n",
      "|NAME_EDUCATION_TYPE          |\n",
      "+-----------------------------+\n",
      "|Academic degree              |\n",
      "|Incomplete higher            |\n",
      "|Secondary / secondary special|\n",
      "|Lower secondary              |\n",
      "|Higher education             |\n",
      "+-----------------------------+"
     ]
    }
   ],
   "source": [
    "application.select('NAME_EDUCATION_TYPE').distinct().show(truncate=False)"
   ]
  },
  {
   "cell_type": "code",
   "execution_count": 17,
   "id": "c59ebf55",
   "metadata": {},
   "outputs": [
    {
     "data": {
      "application/vnd.jupyter.widget-view+json": {
       "model_id": "6aa17df4ada54e97a93f8a68d316a904",
       "version_major": 2,
       "version_minor": 0
      },
      "text/plain": [
       "VBox()"
      ]
     },
     "metadata": {},
     "output_type": "display_data"
    },
    {
     "data": {
      "application/vnd.jupyter.widget-view+json": {
       "model_id": "",
       "version_major": 2,
       "version_minor": 0
      },
      "text/plain": [
       "FloatProgress(value=0.0, bar_style='info', description='Progress:', layout=Layout(height='25px', width='50%'),…"
      ]
     },
     "metadata": {},
     "output_type": "display_data"
    }
   ],
   "source": [
    "## Since NAME_EDUCATION_TYPE is string, need to create a numeric column in ascending order\n",
    "from pyspark.sql.functions import when\n",
    "application = application.withColumn('Education_level',when(f.col('NAME_EDUCATION_TYPE')=='Lower secondary',0).when(f.col('NAME_EDUCATION_TYPE')=='Secondary / secondary special',1).when(f.col('NAME_EDUCATION_TYPE')=='Incomplete higher',2).when(f.col('NAME_EDUCATION_TYPE')=='Higher education',3).otherwise(4))\n",
    "                                    "
   ]
  },
  {
   "cell_type": "code",
   "execution_count": 18,
   "id": "4d394326",
   "metadata": {},
   "outputs": [
    {
     "data": {
      "application/vnd.jupyter.widget-view+json": {
       "model_id": "3b6e4bb738c544f388363b6bc42ce8af",
       "version_major": 2,
       "version_minor": 0
      },
      "text/plain": [
       "VBox()"
      ]
     },
     "metadata": {},
     "output_type": "display_data"
    },
    {
     "data": {
      "application/vnd.jupyter.widget-view+json": {
       "model_id": "",
       "version_major": 2,
       "version_minor": 0
      },
      "text/plain": [
       "FloatProgress(value=0.0, bar_style='info', description='Progress:', layout=Layout(height='25px', width='50%'),…"
      ]
     },
     "metadata": {},
     "output_type": "display_data"
    }
   ],
   "source": [
    "corr = application.select('AMT_INCOME_TOTAL','Education_level')"
   ]
  },
  {
   "cell_type": "code",
   "execution_count": 19,
   "id": "c29dd0a0",
   "metadata": {},
   "outputs": [
    {
     "data": {
      "application/vnd.jupyter.widget-view+json": {
       "model_id": "dd0927bf7f4447509ce1f54ffdb90fb2",
       "version_major": 2,
       "version_minor": 0
      },
      "text/plain": [
       "VBox()"
      ]
     },
     "metadata": {},
     "output_type": "display_data"
    },
    {
     "data": {
      "application/vnd.jupyter.widget-view+json": {
       "model_id": "",
       "version_major": 2,
       "version_minor": 0
      },
      "text/plain": [
       "FloatProgress(value=0.0, bar_style='info', description='Progress:', layout=Layout(height='25px', width='50%'),…"
      ]
     },
     "metadata": {},
     "output_type": "display_data"
    }
   ],
   "source": [
    "corr_df = corr.toPandas()"
   ]
  },
  {
   "cell_type": "code",
   "execution_count": 20,
   "id": "6a39bbe6",
   "metadata": {},
   "outputs": [
    {
     "data": {
      "application/vnd.jupyter.widget-view+json": {
       "model_id": "86605feb15f549b9ac212582fcc7b4d8",
       "version_major": 2,
       "version_minor": 0
      },
      "text/plain": [
       "VBox()"
      ]
     },
     "metadata": {},
     "output_type": "display_data"
    },
    {
     "data": {
      "application/vnd.jupyter.widget-view+json": {
       "model_id": "",
       "version_major": 2,
       "version_minor": 0
      },
      "text/plain": [
       "FloatProgress(value=0.0, bar_style='info', description='Progress:', layout=Layout(height='25px', width='50%'),…"
      ]
     },
     "metadata": {},
     "output_type": "display_data"
    },
    {
     "name": "stdout",
     "output_type": "stream",
     "text": [
      "                  AMT_INCOME_TOTAL  Education_level\n",
      "AMT_INCOME_TOTAL          1.000000         0.221403\n",
      "Education_level           0.221403         1.000000"
     ]
    }
   ],
   "source": [
    "corr_df.corr()"
   ]
  },
  {
   "cell_type": "markdown",
   "id": "f046fe08",
   "metadata": {},
   "source": [
    "#### There is a weak correlation of 0.22 between AMT_INCOME_TOTAL and Education"
   ]
  },
  {
   "cell_type": "markdown",
   "id": "24e82bd9",
   "metadata": {},
   "source": [
    "### 4. What is the average and median salary of the applicant base?"
   ]
  },
  {
   "cell_type": "code",
   "execution_count": 21,
   "id": "a7f6c87f",
   "metadata": {},
   "outputs": [
    {
     "data": {
      "application/vnd.jupyter.widget-view+json": {
       "model_id": "17c000742f16449da9e2da52bc4c58c0",
       "version_major": 2,
       "version_minor": 0
      },
      "text/plain": [
       "VBox()"
      ]
     },
     "metadata": {},
     "output_type": "display_data"
    },
    {
     "data": {
      "application/vnd.jupyter.widget-view+json": {
       "model_id": "",
       "version_major": 2,
       "version_minor": 0
      },
      "text/plain": [
       "FloatProgress(value=0.0, bar_style='info', description='Progress:', layout=Layout(height='25px', width='50%'),…"
      ]
     },
     "metadata": {},
     "output_type": "display_data"
    },
    {
     "name": "stdout",
     "output_type": "stream",
     "text": [
      "+---------------------+\n",
      "|avg(AMT_INCOME_TOTAL)|\n",
      "+---------------------+\n",
      "|   187524.28600950394|\n",
      "+---------------------+"
     ]
    }
   ],
   "source": [
    "application.agg({'AMT_INCOME_TOTAL':'mean'}).show()\n"
   ]
  },
  {
   "cell_type": "code",
   "execution_count": 22,
   "id": "1dce7e80",
   "metadata": {},
   "outputs": [
    {
     "data": {
      "application/vnd.jupyter.widget-view+json": {
       "model_id": "4a6d0e89cbef4830b11be2a45aa36d22",
       "version_major": 2,
       "version_minor": 0
      },
      "text/plain": [
       "VBox()"
      ]
     },
     "metadata": {},
     "output_type": "display_data"
    },
    {
     "data": {
      "application/vnd.jupyter.widget-view+json": {
       "model_id": "",
       "version_major": 2,
       "version_minor": 0
      },
      "text/plain": [
       "FloatProgress(value=0.0, bar_style='info', description='Progress:', layout=Layout(height='25px', width='50%'),…"
      ]
     },
     "metadata": {},
     "output_type": "display_data"
    },
    {
     "name": "stdout",
     "output_type": "stream",
     "text": [
      "160780.5"
     ]
    }
   ],
   "source": [
    "application.approxQuantile('AMT_INCOME_TOTAL',[0.5],0)[0]\n",
    "## Median can be found by using approxQuantile , which returns a list. Hence, [0] to retrive value"
   ]
  },
  {
   "cell_type": "markdown",
   "id": "1b83183a",
   "metadata": {},
   "source": [
    "#### Mean of Income is 187524.28 and the median is 160780.5"
   ]
  },
  {
   "cell_type": "markdown",
   "id": "92894223",
   "metadata": {},
   "source": [
    "Other questions are related to Good and Bad customers , hence need to analyze the Credit data and create target variable"
   ]
  },
  {
   "cell_type": "code",
   "execution_count": 23,
   "id": "0f3f1689",
   "metadata": {},
   "outputs": [
    {
     "data": {
      "application/vnd.jupyter.widget-view+json": {
       "model_id": "2baef7eaa2d34e03a931d3bd2941a35e",
       "version_major": 2,
       "version_minor": 0
      },
      "text/plain": [
       "VBox()"
      ]
     },
     "metadata": {},
     "output_type": "display_data"
    },
    {
     "data": {
      "application/vnd.jupyter.widget-view+json": {
       "model_id": "",
       "version_major": 2,
       "version_minor": 0
      },
      "text/plain": [
       "FloatProgress(value=0.0, bar_style='info', description='Progress:', layout=Layout(height='25px', width='50%'),…"
      ]
     },
     "metadata": {},
     "output_type": "display_data"
    },
    {
     "name": "stdout",
     "output_type": "stream",
     "text": [
      "root\n",
      " |-- ID: integer (nullable = true)\n",
      " |-- MONTHS_BALANCE: integer (nullable = true)\n",
      " |-- STATUS: string (nullable = true)"
     ]
    }
   ],
   "source": [
    "credit.printSchema()"
   ]
  },
  {
   "cell_type": "code",
   "execution_count": 24,
   "id": "c6e4b07b",
   "metadata": {},
   "outputs": [
    {
     "data": {
      "application/vnd.jupyter.widget-view+json": {
       "model_id": "07d22a3188b446ee97e612b2ccd4b7df",
       "version_major": 2,
       "version_minor": 0
      },
      "text/plain": [
       "VBox()"
      ]
     },
     "metadata": {},
     "output_type": "display_data"
    },
    {
     "data": {
      "application/vnd.jupyter.widget-view+json": {
       "model_id": "",
       "version_major": 2,
       "version_minor": 0
      },
      "text/plain": [
       "FloatProgress(value=0.0, bar_style='info', description='Progress:', layout=Layout(height='25px', width='50%'),…"
      ]
     },
     "metadata": {},
     "output_type": "display_data"
    },
    {
     "name": "stdout",
     "output_type": "stream",
     "text": [
      "+-------+--------------+------+\n",
      "|     ID|MONTHS_BALANCE|STATUS|\n",
      "+-------+--------------+------+\n",
      "|5001711|             0|     X|\n",
      "|5001711|            -1|     0|\n",
      "|5001711|            -2|     0|\n",
      "|5001711|            -3|     0|\n",
      "|5001712|             0|     C|\n",
      "|5001712|            -1|     C|\n",
      "|5001712|            -2|     C|\n",
      "|5001712|            -3|     C|\n",
      "|5001712|            -4|     C|\n",
      "|5001712|            -5|     C|\n",
      "|5001712|            -6|     C|\n",
      "|5001712|            -7|     C|\n",
      "|5001712|            -8|     C|\n",
      "|5001712|            -9|     0|\n",
      "|5001712|           -10|     0|\n",
      "|5001712|           -11|     0|\n",
      "|5001712|           -12|     0|\n",
      "|5001712|           -13|     0|\n",
      "|5001712|           -14|     0|\n",
      "|5001712|           -15|     0|\n",
      "+-------+--------------+------+\n",
      "only showing top 20 rows"
     ]
    }
   ],
   "source": [
    "credit.show()"
   ]
  },
  {
   "cell_type": "markdown",
   "id": "c366ebd1",
   "metadata": {},
   "source": [
    "As per data dictionary , status is as\n",
    "\n",
    "0: 1-29 days past due\n",
    "\n",
    "1: 30-59 days past due \n",
    "\n",
    "2: 60-89 days overdue \n",
    "\n",
    "3: 90-119 days overdue \n",
    "\n",
    "4: 120-149 days overdue \n",
    "\n",
    "5: Overdue or bad debts, write-offs for more than 150 days \n",
    "\n",
    "C: paid off that month \n",
    "\n",
    "X: No loan for the month\n",
    "\n",
    "For this, we need to consider delinquent those who have ever been overdue >=60 days. This would be 2 to 5  "
   ]
  },
  {
   "cell_type": "code",
   "execution_count": 25,
   "id": "56af69a7",
   "metadata": {},
   "outputs": [
    {
     "data": {
      "application/vnd.jupyter.widget-view+json": {
       "model_id": "ca33d2deac42449aadb4f50e4c338c43",
       "version_major": 2,
       "version_minor": 0
      },
      "text/plain": [
       "VBox()"
      ]
     },
     "metadata": {},
     "output_type": "display_data"
    },
    {
     "data": {
      "application/vnd.jupyter.widget-view+json": {
       "model_id": "",
       "version_major": 2,
       "version_minor": 0
      },
      "text/plain": [
       "FloatProgress(value=0.0, bar_style='info', description='Progress:', layout=Layout(height='25px', width='50%'),…"
      ]
     },
     "metadata": {},
     "output_type": "display_data"
    }
   ],
   "source": [
    "credit_summary = credit.groupby('ID').pivot('STATUS').count()"
   ]
  },
  {
   "cell_type": "code",
   "execution_count": 26,
   "id": "fbe0017a",
   "metadata": {},
   "outputs": [
    {
     "data": {
      "application/vnd.jupyter.widget-view+json": {
       "model_id": "33dd822501174d23a3efb218b2f9844e",
       "version_major": 2,
       "version_minor": 0
      },
      "text/plain": [
       "VBox()"
      ]
     },
     "metadata": {},
     "output_type": "display_data"
    },
    {
     "data": {
      "application/vnd.jupyter.widget-view+json": {
       "model_id": "",
       "version_major": 2,
       "version_minor": 0
      },
      "text/plain": [
       "FloatProgress(value=0.0, bar_style='info', description='Progress:', layout=Layout(height='25px', width='50%'),…"
      ]
     },
     "metadata": {},
     "output_type": "display_data"
    },
    {
     "name": "stdout",
     "output_type": "stream",
     "text": [
      "+-------+----+----+----+----+----+----+----+----+\n",
      "|     ID|   0|   1|   2|   3|   4|   5|   C|   X|\n",
      "+-------+----+----+----+----+----+----+----+----+\n",
      "|5061822|   5|null|null|null|null|null|null|   1|\n",
      "|5060509|  28|   1|null|null|null|null|null|   5|\n",
      "|5009304|   5|null|null|null|null|null|   6|  24|\n",
      "|5021819|  38|null|null|null|null|null|null|null|\n",
      "|5044479|   2|null|null|null|null|null|null|   1|\n",
      "|5092149|   1|null|null|null|null|null|null|   6|\n",
      "|5135899|   6|null|null|null|null|null|  17|   7|\n",
      "|5142868|  26|null|null|null|null|null|null|   1|\n",
      "|5149573|   4|null|null|null|null|null|  33|null|\n",
      "|5068077|   5|null|null|null|null|null|   1|null|\n",
      "|5089546|  14|   1|null|null|null|null|null|   4|\n",
      "|5090925|  10|null|null|null|null|null|null|   1|\n",
      "|5112842|   6|null|null|null|null|null|   8|null|\n",
      "|5005681|  13|null|null|null|null|null|  13|   5|\n",
      "|5009033|   4|null|null|null|null|null|null|  13|\n",
      "|5058510|null|null|null|null|null|null|   4|   7|\n",
      "|5078408|   3|null|null|null|null|null|null|   7|\n",
      "|5095205|  10|null|null|null|null|null|   6|null|\n",
      "|5033694|   6|null|null|null|null|null|null|   1|\n",
      "|5096014|null|null|null|null|null|null|null|  18|\n",
      "+-------+----+----+----+----+----+----+----+----+\n",
      "only showing top 20 rows"
     ]
    }
   ],
   "source": [
    "credit_summary.show()"
   ]
  },
  {
   "cell_type": "code",
   "execution_count": 27,
   "id": "8edf60fe",
   "metadata": {},
   "outputs": [
    {
     "data": {
      "application/vnd.jupyter.widget-view+json": {
       "model_id": "461ea6a1b4454b2d8f8227bf4d13f4af",
       "version_major": 2,
       "version_minor": 0
      },
      "text/plain": [
       "VBox()"
      ]
     },
     "metadata": {},
     "output_type": "display_data"
    },
    {
     "data": {
      "application/vnd.jupyter.widget-view+json": {
       "model_id": "",
       "version_major": 2,
       "version_minor": 0
      },
      "text/plain": [
       "FloatProgress(value=0.0, bar_style='info', description='Progress:', layout=Layout(height='25px', width='50%'),…"
      ]
     },
     "metadata": {},
     "output_type": "display_data"
    }
   ],
   "source": [
    "credit_summary = credit_summary.na.fill(0)"
   ]
  },
  {
   "cell_type": "code",
   "execution_count": 28,
   "id": "b2b4af36",
   "metadata": {},
   "outputs": [
    {
     "data": {
      "application/vnd.jupyter.widget-view+json": {
       "model_id": "bb15e7378d504aad830ad55f29f69ddf",
       "version_major": 2,
       "version_minor": 0
      },
      "text/plain": [
       "VBox()"
      ]
     },
     "metadata": {},
     "output_type": "display_data"
    },
    {
     "data": {
      "application/vnd.jupyter.widget-view+json": {
       "model_id": "",
       "version_major": 2,
       "version_minor": 0
      },
      "text/plain": [
       "FloatProgress(value=0.0, bar_style='info', description='Progress:', layout=Layout(height='25px', width='50%'),…"
      ]
     },
     "metadata": {},
     "output_type": "display_data"
    },
    {
     "name": "stdout",
     "output_type": "stream",
     "text": [
      "+-------+---+---+---+---+---+---+---+---+\n",
      "|     ID|  0|  1|  2|  3|  4|  5|  C|  X|\n",
      "+-------+---+---+---+---+---+---+---+---+\n",
      "|5061822|  5|  0|  0|  0|  0|  0|  0|  1|\n",
      "|5060509| 28|  1|  0|  0|  0|  0|  0|  5|\n",
      "|5009304|  5|  0|  0|  0|  0|  0|  6| 24|\n",
      "|5021819| 38|  0|  0|  0|  0|  0|  0|  0|\n",
      "|5044479|  2|  0|  0|  0|  0|  0|  0|  1|\n",
      "|5092149|  1|  0|  0|  0|  0|  0|  0|  6|\n",
      "|5135899|  6|  0|  0|  0|  0|  0| 17|  7|\n",
      "|5142868| 26|  0|  0|  0|  0|  0|  0|  1|\n",
      "|5149573|  4|  0|  0|  0|  0|  0| 33|  0|\n",
      "|5068077|  5|  0|  0|  0|  0|  0|  1|  0|\n",
      "|5089546| 14|  1|  0|  0|  0|  0|  0|  4|\n",
      "|5090925| 10|  0|  0|  0|  0|  0|  0|  1|\n",
      "|5112842|  6|  0|  0|  0|  0|  0|  8|  0|\n",
      "|5005681| 13|  0|  0|  0|  0|  0| 13|  5|\n",
      "|5009033|  4|  0|  0|  0|  0|  0|  0| 13|\n",
      "|5058510|  0|  0|  0|  0|  0|  0|  4|  7|\n",
      "|5078408|  3|  0|  0|  0|  0|  0|  0|  7|\n",
      "|5095205| 10|  0|  0|  0|  0|  0|  6|  0|\n",
      "|5033694|  6|  0|  0|  0|  0|  0|  0|  1|\n",
      "|5096014|  0|  0|  0|  0|  0|  0|  0| 18|\n",
      "+-------+---+---+---+---+---+---+---+---+\n",
      "only showing top 20 rows"
     ]
    }
   ],
   "source": [
    "credit_summary.show()"
   ]
  },
  {
   "cell_type": "code",
   "execution_count": 29,
   "id": "c0c1a211",
   "metadata": {},
   "outputs": [
    {
     "data": {
      "application/vnd.jupyter.widget-view+json": {
       "model_id": "f9adeb075f4445f980b8540f2d23f745",
       "version_major": 2,
       "version_minor": 0
      },
      "text/plain": [
       "VBox()"
      ]
     },
     "metadata": {},
     "output_type": "display_data"
    },
    {
     "data": {
      "application/vnd.jupyter.widget-view+json": {
       "model_id": "",
       "version_major": 2,
       "version_minor": 0
      },
      "text/plain": [
       "FloatProgress(value=0.0, bar_style='info', description='Progress:', layout=Layout(height='25px', width='50%'),…"
      ]
     },
     "metadata": {},
     "output_type": "display_data"
    }
   ],
   "source": [
    "credit_summary = credit_summary.withColumn('Total_Delinquent',f.col('2')+f.col('3')+f.col('4')+f.col('5')).withColumn('Delinquent',when(f.col('Total_Delinquent')>0,1).otherwise(0))"
   ]
  },
  {
   "cell_type": "code",
   "execution_count": 30,
   "id": "37980090",
   "metadata": {},
   "outputs": [
    {
     "data": {
      "application/vnd.jupyter.widget-view+json": {
       "model_id": "0957a1dc7a5546c6abbbaead73da5af5",
       "version_major": 2,
       "version_minor": 0
      },
      "text/plain": [
       "VBox()"
      ]
     },
     "metadata": {},
     "output_type": "display_data"
    },
    {
     "data": {
      "application/vnd.jupyter.widget-view+json": {
       "model_id": "",
       "version_major": 2,
       "version_minor": 0
      },
      "text/plain": [
       "FloatProgress(value=0.0, bar_style='info', description='Progress:', layout=Layout(height='25px', width='50%'),…"
      ]
     },
     "metadata": {},
     "output_type": "display_data"
    },
    {
     "name": "stdout",
     "output_type": "stream",
     "text": [
      "+----------+-----+\n",
      "|Delinquent|count|\n",
      "+----------+-----+\n",
      "|         1|  667|\n",
      "|         0|45318|\n",
      "+----------+-----+"
     ]
    }
   ],
   "source": [
    "credit_summary.groupby('Delinquent').count().show()"
   ]
  },
  {
   "cell_type": "markdown",
   "id": "3c06bc05",
   "metadata": {},
   "source": [
    "Merging this dataframe with application df."
   ]
  },
  {
   "cell_type": "code",
   "execution_count": 31,
   "id": "d69b9e00",
   "metadata": {},
   "outputs": [
    {
     "data": {
      "application/vnd.jupyter.widget-view+json": {
       "model_id": "0dcadb5f7ea146d284bfc6afe98da04c",
       "version_major": 2,
       "version_minor": 0
      },
      "text/plain": [
       "VBox()"
      ]
     },
     "metadata": {},
     "output_type": "display_data"
    },
    {
     "data": {
      "application/vnd.jupyter.widget-view+json": {
       "model_id": "",
       "version_major": 2,
       "version_minor": 0
      },
      "text/plain": [
       "FloatProgress(value=0.0, bar_style='info', description='Progress:', layout=Layout(height='25px', width='50%'),…"
      ]
     },
     "metadata": {},
     "output_type": "display_data"
    }
   ],
   "source": [
    "df = application.join(credit_summary.select('ID','Delinquent'),application.ID==credit_summary.ID,how='inner')"
   ]
  },
  {
   "cell_type": "code",
   "execution_count": 32,
   "id": "e792b83e",
   "metadata": {},
   "outputs": [
    {
     "data": {
      "application/vnd.jupyter.widget-view+json": {
       "model_id": "a7b7260ca4bd44cabdad0e866e5e0ebc",
       "version_major": 2,
       "version_minor": 0
      },
      "text/plain": [
       "VBox()"
      ]
     },
     "metadata": {},
     "output_type": "display_data"
    },
    {
     "data": {
      "application/vnd.jupyter.widget-view+json": {
       "model_id": "",
       "version_major": 2,
       "version_minor": 0
      },
      "text/plain": [
       "FloatProgress(value=0.0, bar_style='info', description='Progress:', layout=Layout(height='25px', width='50%'),…"
      ]
     },
     "metadata": {},
     "output_type": "display_data"
    },
    {
     "name": "stdout",
     "output_type": "stream",
     "text": [
      "+-------+-----------+------------+---------------+------------+----------------+--------------------+--------------------+--------------------+-----------------+----------+-------------+----------+---------------+----------+----------+---------------+---------------+---------------+-------+----------+\n",
      "|     ID|CODE_GENDER|FLAG_OWN_CAR|FLAG_OWN_REALTY|CNT_CHILDREN|AMT_INCOME_TOTAL|    NAME_INCOME_TYPE| NAME_EDUCATION_TYPE|  NAME_FAMILY_STATUS|NAME_HOUSING_TYPE|DAYS_BIRTH|DAYS_EMPLOYED|FLAG_MOBIL|FLAG_WORK_PHONE|FLAG_PHONE|FLAG_EMAIL|OCCUPATION_TYPE|CNT_FAM_MEMBERS|Education_level|     ID|Delinquent|\n",
      "+-------+-----------+------------+---------------+------------+----------------+--------------------+--------------------+--------------------+-----------------+----------+-------------+----------+---------------+----------+----------+---------------+---------------+---------------+-------+----------+\n",
      "|5008804|          M|           Y|              Y|           0|        427500.0|             Working|    Higher education|      Civil marriage| Rented apartment|    -12005|        -4542|         1|              1|         0|         0|           null|            2.0|              3|5008804|         0|\n",
      "|5008805|          M|           Y|              Y|           0|        427500.0|             Working|    Higher education|      Civil marriage| Rented apartment|    -12005|        -4542|         1|              1|         0|         0|           null|            2.0|              3|5008805|         0|\n",
      "|5008806|          M|           Y|              Y|           0|        112500.0|             Working|Secondary / secon...|             Married|House / apartment|    -21474|        -1134|         1|              0|         0|         0| Security staff|            2.0|              1|5008806|         0|\n",
      "|5008808|          F|           N|              Y|           0|        270000.0|Commercial associate|Secondary / secon...|Single / not married|House / apartment|    -19110|        -3051|         1|              0|         1|         1|    Sales staff|            1.0|              1|5008808|         0|\n",
      "|5008809|          F|           N|              Y|           0|        270000.0|Commercial associate|Secondary / secon...|Single / not married|House / apartment|    -19110|        -3051|         1|              0|         1|         1|    Sales staff|            1.0|              1|5008809|         0|\n",
      "|5008810|          F|           N|              Y|           0|        270000.0|Commercial associate|Secondary / secon...|Single / not married|House / apartment|    -19110|        -3051|         1|              0|         1|         1|    Sales staff|            1.0|              1|5008810|         0|\n",
      "|5008811|          F|           N|              Y|           0|        270000.0|Commercial associate|Secondary / secon...|Single / not married|House / apartment|    -19110|        -3051|         1|              0|         1|         1|    Sales staff|            1.0|              1|5008811|         0|\n",
      "|5008812|          F|           N|              Y|           0|        283500.0|           Pensioner|    Higher education|           Separated|House / apartment|    -22464|       365243|         1|              0|         0|         0|           null|            1.0|              3|5008812|         0|\n",
      "|5008813|          F|           N|              Y|           0|        283500.0|           Pensioner|    Higher education|           Separated|House / apartment|    -22464|       365243|         1|              0|         0|         0|           null|            1.0|              3|5008813|         0|\n",
      "|5008814|          F|           N|              Y|           0|        283500.0|           Pensioner|    Higher education|           Separated|House / apartment|    -22464|       365243|         1|              0|         0|         0|           null|            1.0|              3|5008814|         0|\n",
      "|5008815|          M|           Y|              Y|           0|        270000.0|             Working|    Higher education|             Married|House / apartment|    -16872|         -769|         1|              1|         1|         1|    Accountants|            2.0|              3|5008815|         0|\n",
      "|5112956|          M|           Y|              Y|           0|        270000.0|             Working|    Higher education|             Married|House / apartment|    -16872|         -769|         1|              1|         1|         1|    Accountants|            2.0|              3|5112956|         0|\n",
      "|5008819|          M|           Y|              Y|           0|        135000.0|Commercial associate|Secondary / secon...|             Married|House / apartment|    -17778|        -1194|         1|              0|         0|         0|       Laborers|            2.0|              1|5008819|         0|\n",
      "|5008820|          M|           Y|              Y|           0|        135000.0|Commercial associate|Secondary / secon...|             Married|House / apartment|    -17778|        -1194|         1|              0|         0|         0|       Laborers|            2.0|              1|5008820|         0|\n",
      "|5008821|          M|           Y|              Y|           0|        135000.0|Commercial associate|Secondary / secon...|             Married|House / apartment|    -17778|        -1194|         1|              0|         0|         0|       Laborers|            2.0|              1|5008821|         0|\n",
      "|5008822|          M|           Y|              Y|           0|        135000.0|Commercial associate|Secondary / secon...|             Married|House / apartment|    -17778|        -1194|         1|              0|         0|         0|       Laborers|            2.0|              1|5008822|         0|\n",
      "|5008823|          M|           Y|              Y|           0|        135000.0|Commercial associate|Secondary / secon...|             Married|House / apartment|    -17778|        -1194|         1|              0|         0|         0|       Laborers|            2.0|              1|5008823|         0|\n",
      "|5008824|          M|           Y|              Y|           0|        135000.0|Commercial associate|Secondary / secon...|             Married|House / apartment|    -17778|        -1194|         1|              0|         0|         0|       Laborers|            2.0|              1|5008824|         0|\n",
      "|5008825|          F|           Y|              N|           0|        130500.0|             Working|   Incomplete higher|             Married|House / apartment|    -10669|        -1103|         1|              0|         0|         0|    Accountants|            2.0|              2|5008825|         0|\n",
      "|5008826|          F|           Y|              N|           0|        130500.0|             Working|   Incomplete higher|             Married|House / apartment|    -10669|        -1103|         1|              0|         0|         0|    Accountants|            2.0|              2|5008826|         0|\n",
      "+-------+-----------+------------+---------------+------------+----------------+--------------------+--------------------+--------------------+-----------------+----------+-------------+----------+---------------+----------+----------+---------------+---------------+---------------+-------+----------+\n",
      "only showing top 20 rows"
     ]
    }
   ],
   "source": [
    "df.show()"
   ]
  },
  {
   "cell_type": "code",
   "execution_count": 33,
   "id": "9e50c6bd",
   "metadata": {},
   "outputs": [
    {
     "data": {
      "application/vnd.jupyter.widget-view+json": {
       "model_id": "a7c99554399d4c50a1d5c4f644a73f18",
       "version_major": 2,
       "version_minor": 0
      },
      "text/plain": [
       "VBox()"
      ]
     },
     "metadata": {},
     "output_type": "display_data"
    },
    {
     "data": {
      "application/vnd.jupyter.widget-view+json": {
       "model_id": "",
       "version_major": 2,
       "version_minor": 0
      },
      "text/plain": [
       "FloatProgress(value=0.0, bar_style='info', description='Progress:', layout=Layout(height='25px', width='50%'),…"
      ]
     },
     "metadata": {},
     "output_type": "display_data"
    }
   ],
   "source": [
    "df = df.drop('ID')"
   ]
  },
  {
   "cell_type": "code",
   "execution_count": 34,
   "id": "2d7bb54a",
   "metadata": {},
   "outputs": [
    {
     "data": {
      "application/vnd.jupyter.widget-view+json": {
       "model_id": "7087f584a22243bf9500a8918615a9ad",
       "version_major": 2,
       "version_minor": 0
      },
      "text/plain": [
       "VBox()"
      ]
     },
     "metadata": {},
     "output_type": "display_data"
    },
    {
     "data": {
      "application/vnd.jupyter.widget-view+json": {
       "model_id": "",
       "version_major": 2,
       "version_minor": 0
      },
      "text/plain": [
       "FloatProgress(value=0.0, bar_style='info', description='Progress:', layout=Layout(height='25px', width='50%'),…"
      ]
     },
     "metadata": {},
     "output_type": "display_data"
    },
    {
     "name": "stdout",
     "output_type": "stream",
     "text": [
      "36457"
     ]
    }
   ],
   "source": [
    "df.count()"
   ]
  },
  {
   "cell_type": "markdown",
   "id": "4521f8b5",
   "metadata": {},
   "source": [
    "### 5. Is the proportion of bad customers higher for people who own cars?"
   ]
  },
  {
   "cell_type": "code",
   "execution_count": 35,
   "id": "4deee67a",
   "metadata": {},
   "outputs": [
    {
     "data": {
      "application/vnd.jupyter.widget-view+json": {
       "model_id": "7eb7db07762143448cbb0fdb621a9dcc",
       "version_major": 2,
       "version_minor": 0
      },
      "text/plain": [
       "VBox()"
      ]
     },
     "metadata": {},
     "output_type": "display_data"
    },
    {
     "data": {
      "application/vnd.jupyter.widget-view+json": {
       "model_id": "",
       "version_major": 2,
       "version_minor": 0
      },
      "text/plain": [
       "FloatProgress(value=0.0, bar_style='info', description='Progress:', layout=Layout(height='25px', width='50%'),…"
      ]
     },
     "metadata": {},
     "output_type": "display_data"
    }
   ],
   "source": [
    "car_prop = df.groupby('FLAG_OWN_CAR').agg(f.sum('Delinquent').alias('Bad_customers'),f.count('Delinquent').alias('Total_customers'))"
   ]
  },
  {
   "cell_type": "code",
   "execution_count": 36,
   "id": "42ed0b55",
   "metadata": {},
   "outputs": [
    {
     "data": {
      "application/vnd.jupyter.widget-view+json": {
       "model_id": "da79aca2201849bbbfbd0e7cdb65b892",
       "version_major": 2,
       "version_minor": 0
      },
      "text/plain": [
       "VBox()"
      ]
     },
     "metadata": {},
     "output_type": "display_data"
    },
    {
     "data": {
      "application/vnd.jupyter.widget-view+json": {
       "model_id": "",
       "version_major": 2,
       "version_minor": 0
      },
      "text/plain": [
       "FloatProgress(value=0.0, bar_style='info', description='Progress:', layout=Layout(height='25px', width='50%'),…"
      ]
     },
     "metadata": {},
     "output_type": "display_data"
    },
    {
     "name": "stdout",
     "output_type": "stream",
     "text": [
      "+------------+-------------+---------------+--------------------+\n",
      "|FLAG_OWN_CAR|Bad_customers|Total_customers|            prop_bad|\n",
      "+------------+-------------+---------------+--------------------+\n",
      "|           Y|          224|          13843|0.016181463555587663|\n",
      "|           N|          392|          22614|0.017334394622800037|\n",
      "+------------+-------------+---------------+--------------------+"
     ]
    }
   ],
   "source": [
    "car_prop.withColumn('prop_bad',f.col('Bad_customers')/f.col('Total_customers')).show()"
   ]
  },
  {
   "cell_type": "markdown",
   "id": "a1d89f1e",
   "metadata": {},
   "source": [
    "#### 1.7% bad customers for those who don't own car and 1.6% bad customers for those who own car.\n",
    "#### Hence proportion higher in those who don't\n",
    "Since  the values are similar, hence not a lot of impact from this variable on the model. Maybe can be dropped later"
   ]
  },
  {
   "cell_type": "markdown",
   "id": "1200972b",
   "metadata": {},
   "source": [
    "### 6. Is the proportion of bad customers higher for those living on rent than the rest of the population?"
   ]
  },
  {
   "cell_type": "code",
   "execution_count": 37,
   "id": "74a0040c",
   "metadata": {
    "scrolled": true
   },
   "outputs": [
    {
     "data": {
      "application/vnd.jupyter.widget-view+json": {
       "model_id": "1ecb445b65a94179af0fcf147c5fec20",
       "version_major": 2,
       "version_minor": 0
      },
      "text/plain": [
       "VBox()"
      ]
     },
     "metadata": {},
     "output_type": "display_data"
    },
    {
     "data": {
      "application/vnd.jupyter.widget-view+json": {
       "model_id": "",
       "version_major": 2,
       "version_minor": 0
      },
      "text/plain": [
       "FloatProgress(value=0.0, bar_style='info', description='Progress:', layout=Layout(height='25px', width='50%'),…"
      ]
     },
     "metadata": {},
     "output_type": "display_data"
    }
   ],
   "source": [
    "renters = df.select('NAME_HOUSING_TYPE','Delinquent').withColumn('renter',when(f.col('NAME_HOUSING_TYPE')=='Rented apartment','On_rent').otherwise('Not_On_rent'))"
   ]
  },
  {
   "cell_type": "code",
   "execution_count": 38,
   "id": "e91a582a",
   "metadata": {},
   "outputs": [
    {
     "data": {
      "application/vnd.jupyter.widget-view+json": {
       "model_id": "3607e2c996c84f42bc08275719c044ef",
       "version_major": 2,
       "version_minor": 0
      },
      "text/plain": [
       "VBox()"
      ]
     },
     "metadata": {},
     "output_type": "display_data"
    },
    {
     "data": {
      "application/vnd.jupyter.widget-view+json": {
       "model_id": "",
       "version_major": 2,
       "version_minor": 0
      },
      "text/plain": [
       "FloatProgress(value=0.0, bar_style='info', description='Progress:', layout=Layout(height='25px', width='50%'),…"
      ]
     },
     "metadata": {},
     "output_type": "display_data"
    }
   ],
   "source": [
    "renter_prop = renters.groupby('renter').agg(f.sum('Delinquent').alias('Bad_customers'),f.count('Delinquent').alias('Total_customers'))"
   ]
  },
  {
   "cell_type": "code",
   "execution_count": 39,
   "id": "fbf6ca7a",
   "metadata": {},
   "outputs": [
    {
     "data": {
      "application/vnd.jupyter.widget-view+json": {
       "model_id": "222d131fbb1c487589dc6e127eb9a2f4",
       "version_major": 2,
       "version_minor": 0
      },
      "text/plain": [
       "VBox()"
      ]
     },
     "metadata": {},
     "output_type": "display_data"
    },
    {
     "data": {
      "application/vnd.jupyter.widget-view+json": {
       "model_id": "",
       "version_major": 2,
       "version_minor": 0
      },
      "text/plain": [
       "FloatProgress(value=0.0, bar_style='info', description='Progress:', layout=Layout(height='25px', width='50%'),…"
      ]
     },
     "metadata": {},
     "output_type": "display_data"
    },
    {
     "name": "stdout",
     "output_type": "stream",
     "text": [
      "+-----------+-------------+---------------+--------------------+\n",
      "|     renter|Bad_customers|Total_customers|            prop_bad|\n",
      "+-----------+-------------+---------------+--------------------+\n",
      "|Not_On_rent|          608|          35882|0.016944428961596345|\n",
      "|    On_rent|            8|            575| 0.01391304347826087|\n",
      "+-----------+-------------+---------------+--------------------+"
     ]
    }
   ],
   "source": [
    "renter_prop.withColumn('prop_bad',f.col('Bad_customers')/f.col('Total_customers')).show()"
   ]
  },
  {
   "cell_type": "markdown",
   "id": "7418a121",
   "metadata": {},
   "source": [
    "#### Proportion of bad customers on rent is 1.39% whereas for those not on rent its 1.69%. Hence is more for those not on rent"
   ]
  },
  {
   "cell_type": "markdown",
   "id": "1cf14117",
   "metadata": {},
   "source": [
    "### 7. Is the proportion of bad customers higher for those who are single than married customers?"
   ]
  },
  {
   "cell_type": "code",
   "execution_count": 40,
   "id": "e2b65642",
   "metadata": {},
   "outputs": [
    {
     "data": {
      "application/vnd.jupyter.widget-view+json": {
       "model_id": "e441a6fc9dfb4ec69a53eb044da7553b",
       "version_major": 2,
       "version_minor": 0
      },
      "text/plain": [
       "VBox()"
      ]
     },
     "metadata": {},
     "output_type": "display_data"
    },
    {
     "data": {
      "application/vnd.jupyter.widget-view+json": {
       "model_id": "",
       "version_major": 2,
       "version_minor": 0
      },
      "text/plain": [
       "FloatProgress(value=0.0, bar_style='info', description='Progress:', layout=Layout(height='25px', width='50%'),…"
      ]
     },
     "metadata": {},
     "output_type": "display_data"
    },
    {
     "name": "stdout",
     "output_type": "stream",
     "text": [
      "+--------------------+\n",
      "|  NAME_FAMILY_STATUS|\n",
      "+--------------------+\n",
      "|           Separated|\n",
      "|             Married|\n",
      "|Single / not married|\n",
      "|               Widow|\n",
      "|      Civil marriage|\n",
      "+--------------------+"
     ]
    }
   ],
   "source": [
    "df.select('NAME_FAMILY_STATUS').distinct().show()"
   ]
  },
  {
   "cell_type": "markdown",
   "id": "d0b80ea7",
   "metadata": {},
   "source": [
    "Married and Civil marriage can be considered as married customers, others as single"
   ]
  },
  {
   "cell_type": "code",
   "execution_count": 41,
   "id": "ca8f27d1",
   "metadata": {},
   "outputs": [
    {
     "data": {
      "application/vnd.jupyter.widget-view+json": {
       "model_id": "1b770ae7d42f48d2bd22efdb7a2f4f92",
       "version_major": 2,
       "version_minor": 0
      },
      "text/plain": [
       "VBox()"
      ]
     },
     "metadata": {},
     "output_type": "display_data"
    },
    {
     "data": {
      "application/vnd.jupyter.widget-view+json": {
       "model_id": "",
       "version_major": 2,
       "version_minor": 0
      },
      "text/plain": [
       "FloatProgress(value=0.0, bar_style='info', description='Progress:', layout=Layout(height='25px', width='50%'),…"
      ]
     },
     "metadata": {},
     "output_type": "display_data"
    }
   ],
   "source": [
    "married = df.select('NAME_FAMILY_STATUS','Delinquent').withColumn('Marital_status',when(f.col('NAME_FAMILY_STATUS')=='Married','Married').when(f.col('NAME_FAMILY_STATUS')=='Civil marriage','Married').otherwise('Single'))"
   ]
  },
  {
   "cell_type": "code",
   "execution_count": 42,
   "id": "6bea17f4",
   "metadata": {},
   "outputs": [
    {
     "data": {
      "application/vnd.jupyter.widget-view+json": {
       "model_id": "f6bcd215f0304887808bef824d1b61ba",
       "version_major": 2,
       "version_minor": 0
      },
      "text/plain": [
       "VBox()"
      ]
     },
     "metadata": {},
     "output_type": "display_data"
    },
    {
     "data": {
      "application/vnd.jupyter.widget-view+json": {
       "model_id": "",
       "version_major": 2,
       "version_minor": 0
      },
      "text/plain": [
       "FloatProgress(value=0.0, bar_style='info', description='Progress:', layout=Layout(height='25px', width='50%'),…"
      ]
     },
     "metadata": {},
     "output_type": "display_data"
    }
   ],
   "source": [
    "married_prop = married.groupby('Marital_status').agg(f.sum('Delinquent').alias('Bad_customers'),f.count('Delinquent').alias('Total_customers'))"
   ]
  },
  {
   "cell_type": "code",
   "execution_count": 43,
   "id": "ce34ca38",
   "metadata": {},
   "outputs": [
    {
     "data": {
      "application/vnd.jupyter.widget-view+json": {
       "model_id": "bc23a56e40304feb98c2f55836efc303",
       "version_major": 2,
       "version_minor": 0
      },
      "text/plain": [
       "VBox()"
      ]
     },
     "metadata": {},
     "output_type": "display_data"
    },
    {
     "data": {
      "application/vnd.jupyter.widget-view+json": {
       "model_id": "",
       "version_major": 2,
       "version_minor": 0
      },
      "text/plain": [
       "FloatProgress(value=0.0, bar_style='info', description='Progress:', layout=Layout(height='25px', width='50%'),…"
      ]
     },
     "metadata": {},
     "output_type": "display_data"
    },
    {
     "name": "stdout",
     "output_type": "stream",
     "text": [
      "+--------------+-------------+---------------+--------------------+\n",
      "|Marital_status|Bad_customers|Total_customers|            prop_bad|\n",
      "+--------------+-------------+---------------+--------------------+\n",
      "|       Married|          439|          27993|0.015682492051584326|\n",
      "|        Single|          177|           8464|0.020912098298676747|\n",
      "+--------------+-------------+---------------+--------------------+"
     ]
    }
   ],
   "source": [
    "married_prop.withColumn('prop_bad',f.col('Bad_customers')/f.col('Total_customers')).show()"
   ]
  },
  {
   "cell_type": "markdown",
   "id": "609ed519",
   "metadata": {},
   "source": [
    "#### 1.56% of married customers are Delinquent but 2.09% of Single customers are delinquent. Hence Proportion higher in Single customers"
   ]
  },
  {
   "cell_type": "code",
   "execution_count": 44,
   "id": "73b7bb62",
   "metadata": {},
   "outputs": [
    {
     "data": {
      "application/vnd.jupyter.widget-view+json": {
       "model_id": "632edde9e1d448ea89b415032270f173",
       "version_major": 2,
       "version_minor": 0
      },
      "text/plain": [
       "VBox()"
      ]
     },
     "metadata": {},
     "output_type": "display_data"
    },
    {
     "data": {
      "application/vnd.jupyter.widget-view+json": {
       "model_id": "",
       "version_major": 2,
       "version_minor": 0
      },
      "text/plain": [
       "FloatProgress(value=0.0, bar_style='info', description='Progress:', layout=Layout(height='25px', width='50%'),…"
      ]
     },
     "metadata": {},
     "output_type": "display_data"
    },
    {
     "name": "stdout",
     "output_type": "stream",
     "text": [
      "+-----------+------------+---------------+------------+----------------+----------------+-------------------+------------------+-----------------+----------+-------------+----------+---------------+----------+----------+---------------+---------------+---------------+----------+\n",
      "|CODE_GENDER|FLAG_OWN_CAR|FLAG_OWN_REALTY|CNT_CHILDREN|AMT_INCOME_TOTAL|NAME_INCOME_TYPE|NAME_EDUCATION_TYPE|NAME_FAMILY_STATUS|NAME_HOUSING_TYPE|DAYS_BIRTH|DAYS_EMPLOYED|FLAG_MOBIL|FLAG_WORK_PHONE|FLAG_PHONE|FLAG_EMAIL|OCCUPATION_TYPE|CNT_FAM_MEMBERS|Education_level|Delinquent|\n",
      "+-----------+------------+---------------+------------+----------------+----------------+-------------------+------------------+-----------------+----------+-------------+----------+---------------+----------+----------+---------------+---------------+---------------+----------+\n",
      "|          2|           2|              2|           9|             265|               5|                  5|                 5|                6|      7183|         3640|         1|              2|         2|         2|             18|             10|              5|         2|\n",
      "+-----------+------------+---------------+------------+----------------+----------------+-------------------+------------------+-----------------+----------+-------------+----------+---------------+----------+----------+---------------+---------------+---------------+----------+"
     ]
    }
   ],
   "source": [
    "from pyspark.sql.functions import col, countDistinct\n",
    "df.agg(*(countDistinct(col(c)).alias(c) for c in df.columns)).show()"
   ]
  },
  {
   "cell_type": "markdown",
   "id": "ce5bf6f4",
   "metadata": {},
   "source": [
    "This indicates that the FLAG_MOBIL column has only one value. It can be dropped as will have no impact"
   ]
  },
  {
   "cell_type": "code",
   "execution_count": 45,
   "id": "0ffadf70",
   "metadata": {},
   "outputs": [
    {
     "data": {
      "application/vnd.jupyter.widget-view+json": {
       "model_id": "5e7072ce7f71497a886d6eecec5df57d",
       "version_major": 2,
       "version_minor": 0
      },
      "text/plain": [
       "VBox()"
      ]
     },
     "metadata": {},
     "output_type": "display_data"
    },
    {
     "data": {
      "application/vnd.jupyter.widget-view+json": {
       "model_id": "",
       "version_major": 2,
       "version_minor": 0
      },
      "text/plain": [
       "FloatProgress(value=0.0, bar_style='info', description='Progress:', layout=Layout(height='25px', width='50%'),…"
      ]
     },
     "metadata": {},
     "output_type": "display_data"
    }
   ],
   "source": [
    "df = df.drop('FLAG_MOBIL')"
   ]
  },
  {
   "cell_type": "code",
   "execution_count": 46,
   "id": "04be963a",
   "metadata": {},
   "outputs": [
    {
     "data": {
      "application/vnd.jupyter.widget-view+json": {
       "model_id": "4ceb2e535fb14b6d93f90be44abf8a9d",
       "version_major": 2,
       "version_minor": 0
      },
      "text/plain": [
       "VBox()"
      ]
     },
     "metadata": {},
     "output_type": "display_data"
    },
    {
     "data": {
      "application/vnd.jupyter.widget-view+json": {
       "model_id": "",
       "version_major": 2,
       "version_minor": 0
      },
      "text/plain": [
       "FloatProgress(value=0.0, bar_style='info', description='Progress:', layout=Layout(height='25px', width='50%'),…"
      ]
     },
     "metadata": {},
     "output_type": "display_data"
    }
   ],
   "source": [
    "#### Class for creating woe and iv as given in additional section\n",
    "class WOE_IV(object):\n",
    "    \n",
    "    \"\"\"\n",
    "    This class contains methods that are used for calculating the WOE and IV values in a given dataset.\n",
    "    \n",
    "    Attributes\n",
    "    ----------\n",
    "    df : spark DataFrame\n",
    "        The spark dataframe\n",
    "    cols_to_woe : list\n",
    "        Columns that you want to convert in WOE and IV\n",
    "    label_column : str\n",
    "        target column of the data\n",
    "    good_label : str\n",
    "        Predicted variable in the form of 1 or 0\n",
    "    \"\"\"\n",
    "    \n",
    "    def __init__(self, df, cols_to_woe, label_column, good_label):\n",
    "        self.df = df\n",
    "        self.cols_to_woe = cols_to_woe\n",
    "        self.label_column = label_column\n",
    "        self.good_label = good_label\n",
    "        self.fit_data = {} # This is a dictionary which will store all the WOE and IV computed in the latter part of the code\n",
    "\n",
    "    def fit(self):  \n",
    "        \"\"\"\n",
    "        This method takes the columns in 'cols_to_woe' and calculates the good and bad amounts, and then assigns the WOE values in the dictionary, 'fit_data'\n",
    "        \"\"\"\n",
    "        for col_to_woe in self.cols_to_woe: # Iterating over each column in the list, cols_to_woe\n",
    "            \n",
    "            total_good = self.compute_total_amount_of_good() # Computes the total amount of good labels in the entire dataset\n",
    "            total_bad = self.compute_total_amount_of_bad() # Computes the total amount of bad labels in the entire dataset\n",
    "            \n",
    "            woe_df = self.df.select(col_to_woe) # This dataframe stores the column, col_to_woe from the DataFrame\n",
    "            categories = woe_df.distinct().collect() # Creates a list of all the distinct categories in the column, col_to_woe\n",
    "            for category_row in categories: # Iterating over each category in the distinct categories of the column\n",
    "                category = category_row[col_to_woe]\n",
    "                \n",
    "                # For each category, we calculate the good_amount and bad_amount\n",
    "                good_amount = self.compute_good_amount(col_to_woe, category)\n",
    "                bad_amount = self.compute_bad_amount(col_to_woe, category)\n",
    "                \n",
    "                # If the good_amount or bad_amount is 0, we replace it with 0.5, because in the calculation of woe, it comes in the denominator resulting in a Nan value which will give an error\n",
    "                good_amount = good_amount if good_amount != 0 else 0.5\n",
    "                bad_amount = bad_amount if bad_amount != 0 else 0.5\n",
    "\n",
    "                # Calculating the fraction of good_amount and bad_amount specific to that category\n",
    "                good_dist = good_amount / total_good\n",
    "                bad_dist = bad_amount / total_bad\n",
    "\n",
    "                # Calling the build_fit_data method which calculates the WOE and IV for the category in the column and stores it in the dictionary, fit_data\n",
    "                self.build_fit_data(col_to_woe, category, good_dist, bad_dist)\n",
    "\n",
    "    def transform(self, df):\n",
    "        \"\"\"\n",
    "        This method creates a column called \"col_to_woe + '_woe'\" which replaces the given category value with the WOE value.\n",
    "        It finally returns a final dataframe containing the WOE values in place of the columns\n",
    "        \"\"\"\n",
    "        def _encode_woe(col_to_woe_):\n",
    "            return F.coalesce(\n",
    "                *[F.when(F.col(col_to_woe_) == category, F.lit(woe_iv['woe']))\n",
    "                  for category, woe_iv in self.fit_data[col_to_woe_].items()]\n",
    "            )\n",
    "\n",
    "        for col_to_woe, woe_info in self.fit_data.items():\n",
    "            # Adds another column to the df containing the final WOE values\n",
    "            df = df.withColumn(col_to_woe + '_woe', _encode_woe(col_to_woe))\n",
    "        return df\n",
    "\n",
    "    def compute_total_amount_of_good(self):\n",
    "     # Computes the total amount of good labels in the entire dataset\n",
    "        return self.df.select(self.label_column).filter(F.col(self.label_column) == self.good_label).count()\n",
    "\n",
    "    def compute_total_amount_of_bad(self):\n",
    "     # Computes the total amount of bad labels in the entire dataset\n",
    "        return self.df.select(self.label_column).filter(F.col(self.label_column) != self.good_label).count()\n",
    "\n",
    "    def compute_good_amount(self, col_to_woe, category):\n",
    "     # Computes the total amount of good labels for the specific class in the feature\n",
    "        return self.df.select(col_to_woe, self.label_column)\\\n",
    "                      .filter(\n",
    "                            (F.col(col_to_woe) == category) & (F.col(self.label_column) == self.good_label)\n",
    "                      ).count()\n",
    "\n",
    "    def compute_bad_amount(self, col_to_woe, category):\n",
    "        # Computes the total amount of bad labels for the specific class in the feature\n",
    "        return self.df.select(col_to_woe, self.label_column)\\\n",
    "                      .filter(\n",
    "                            (F.col(col_to_woe) == category) & (F.col(self.label_column) != self.good_label)\n",
    "                      ).count()\n",
    "\n",
    "    def build_fit_data(self, col_to_woe, category, good_dist, bad_dist):\n",
    "        \"\"\"\n",
    "        Calculates the WOE and value for the specific category and saves it in the woe_info dictionary which is saves in the fit_data dictionary\n",
    "        \n",
    "        \n",
    "        Attributes:\n",
    "        col_to_woe: str\n",
    "        name of the feature\n",
    "        \n",
    "        category: str\n",
    "        Class of that feature\n",
    "        \n",
    "        good_dist: float\n",
    "        Fraction of good labels specific to that category\n",
    "        \n",
    "        bad_dist: float\n",
    "        Fraction of bad labels specific to that category\n",
    "        \"\"\"\n",
    "        woe_info = {\n",
    "            category: {\n",
    "                'woe': math.log(good_dist / bad_dist), # Calculating the WOE value for the category in the column\n",
    "                'iv': (good_dist - bad_dist) * math.log(good_dist / bad_dist) # Calculating the IV value for the category in the column\n",
    "            }\n",
    "        }\n",
    "\n",
    "        # Adding the feature, col_to_woe to fit_data if not present already\n",
    "        if col_to_woe not in self.fit_data:\n",
    "            self.fit_data[col_to_woe] = woe_info\n",
    "        else:\n",
    "            self.fit_data[col_to_woe].update(woe_info)\n",
    "\n",
    "    def compute_iv(self):\n",
    "        \"\"\"\n",
    "        Returns the IV dictionary which contains the IV value for each feature\n",
    "        \"\"\"\n",
    "        iv_dict = {}\n",
    "\n",
    "        for woe_col, categories in self.fit_data.items():\n",
    "            iv_dict[woe_col] = 0\n",
    "            for category, woe_iv in categories.items():\n",
    "                iv_dict[woe_col] += woe_iv['iv'] # IV for the feature = IV value for the indiviual categories of the feature (column)\n",
    "        return iv_dict"
   ]
  },
  {
   "cell_type": "code",
   "execution_count": 47,
   "id": "cd3813d4",
   "metadata": {},
   "outputs": [
    {
     "data": {
      "application/vnd.jupyter.widget-view+json": {
       "model_id": "11f9d5c5188849498a1b12bf01d5adce",
       "version_major": 2,
       "version_minor": 0
      },
      "text/plain": [
       "VBox()"
      ]
     },
     "metadata": {},
     "output_type": "display_data"
    },
    {
     "data": {
      "application/vnd.jupyter.widget-view+json": {
       "model_id": "",
       "version_major": 2,
       "version_minor": 0
      },
      "text/plain": [
       "FloatProgress(value=0.0, bar_style='info', description='Progress:', layout=Layout(height='25px', width='50%'),…"
      ]
     },
     "metadata": {},
     "output_type": "display_data"
    },
    {
     "name": "stdout",
     "output_type": "stream",
     "text": [
      "AMT_INCOME_TOTALbucket\n",
      "DAYS_EMPLOYEDbucket\n",
      "['CODE_GENDER', 'FLAG_OWN_CAR', 'FLAG_OWN_REALTY', 'CNT_CHILDREN', 'AMT_INCOME_TOTAL', 'NAME_INCOME_TYPE', 'NAME_EDUCATION_TYPE', 'NAME_FAMILY_STATUS', 'NAME_HOUSING_TYPE', 'DAYS_BIRTH', 'DAYS_EMPLOYED', 'FLAG_WORK_PHONE', 'FLAG_PHONE', 'FLAG_EMAIL', 'OCCUPATION_TYPE', 'CNT_FAM_MEMBERS', 'Education_level', 'Delinquent', 'AMT_INCOME_TOTALbucket', 'DAYS_EMPLOYEDbucket']"
     ]
    }
   ],
   "source": [
    "#Creating monotonous bins for continous variables\n",
    "from pyspark.ml.feature import QuantileDiscretizer\n",
    "spike_cols = ['CNT_CHILDREN','AMT_INCOME_TOTAL','DAYS_BIRTH','DAYS_EMPLOYED','CNT_FAM_MEMBERS']\n",
    "max_bucket = 5\n",
    "for x in spike_cols:\n",
    "    r = 0\n",
    "    n = max_bucket\n",
    "    while ((r < 1) & (n>1)):\n",
    "        discretizer = QuantileDiscretizer(numBuckets=n, inputCol=x, outputCol=x + \"bucket\")\n",
    "        d1 = discretizer.fit(df).transform(df)\n",
    "        d2 = d1.groupby(x+ \"bucket\").agg(f.mean(x).alias(\"X1\"),f.mean(\"Delinquent\").alias(\"Y1\")).orderBy(\"X1\")\n",
    "        corr_df = d2.select('X1','Y1').toPandas()\n",
    "        r=corr_df.corr(method='spearman').iloc[0,1]\n",
    "        if(r == 1):\n",
    "            print(x+\"bucket\")\n",
    "            df = discretizer.fit(df).transform(df)\n",
    "        elif(r<0):\n",
    "            r=r*(-1)\n",
    "        n = n-1\n",
    "print(df.columns)\n"
   ]
  },
  {
   "cell_type": "code",
   "execution_count": 48,
   "id": "68f661c0",
   "metadata": {},
   "outputs": [
    {
     "data": {
      "application/vnd.jupyter.widget-view+json": {
       "model_id": "54fd8aa3b3dc4f67b2dc5c0b377dcf48",
       "version_major": 2,
       "version_minor": 0
      },
      "text/plain": [
       "VBox()"
      ]
     },
     "metadata": {},
     "output_type": "display_data"
    },
    {
     "data": {
      "application/vnd.jupyter.widget-view+json": {
       "model_id": "",
       "version_major": 2,
       "version_minor": 0
      },
      "text/plain": [
       "FloatProgress(value=0.0, bar_style='info', description='Progress:', layout=Layout(height='25px', width='50%'),…"
      ]
     },
     "metadata": {},
     "output_type": "display_data"
    }
   ],
   "source": [
    "df=df.na.fill('Missing') ## imputing category Missing for missing values. WOE value for this category will be calculated"
   ]
  },
  {
   "cell_type": "code",
   "execution_count": 50,
   "id": "4e1037b6",
   "metadata": {},
   "outputs": [
    {
     "data": {
      "application/vnd.jupyter.widget-view+json": {
       "model_id": "e1b60c83a12149359875f69b067674f8",
       "version_major": 2,
       "version_minor": 0
      },
      "text/plain": [
       "VBox()"
      ]
     },
     "metadata": {},
     "output_type": "display_data"
    },
    {
     "data": {
      "application/vnd.jupyter.widget-view+json": {
       "model_id": "",
       "version_major": 2,
       "version_minor": 0
      },
      "text/plain": [
       "FloatProgress(value=0.0, bar_style='info', description='Progress:', layout=Layout(height='25px', width='50%'),…"
      ]
     },
     "metadata": {},
     "output_type": "display_data"
    }
   ],
   "source": [
    "import math\n",
    "cols_to_woe = ['CODE_GENDER', 'FLAG_OWN_CAR','FLAG_OWN_REALTY','FLAG_OWN_REALTY','NAME_INCOME_TYPE','NAME_EDUCATION_TYPE',\n",
    "               'NAME_FAMILY_STATUS','NAME_HOUSING_TYPE','FLAG_WORK_PHONE','FLAG_PHONE','FLAG_EMAIL','OCCUPATION_TYPE',\n",
    "               'AMT_INCOME_TOTALbucket','DAYS_EMPLOYEDbucket']\n",
    "from pyspark.sql import functions as F\n",
    "woe = WOE_IV(df, cols_to_woe, 'Delinquent', 0)\n",
    "woe.fit()\n",
    "encoded_df = woe.transform(df)\n",
    "ivs = woe.compute_iv()"
   ]
  },
  {
   "cell_type": "code",
   "execution_count": 51,
   "id": "47c52219",
   "metadata": {},
   "outputs": [
    {
     "data": {
      "application/vnd.jupyter.widget-view+json": {
       "model_id": "7773be9cd19c4384a36a1d81b6fa829f",
       "version_major": 2,
       "version_minor": 0
      },
      "text/plain": [
       "VBox()"
      ]
     },
     "metadata": {},
     "output_type": "display_data"
    },
    {
     "data": {
      "application/vnd.jupyter.widget-view+json": {
       "model_id": "",
       "version_major": 2,
       "version_minor": 0
      },
      "text/plain": [
       "FloatProgress(value=0.0, bar_style='info', description='Progress:', layout=Layout(height='25px', width='50%'),…"
      ]
     },
     "metadata": {},
     "output_type": "display_data"
    },
    {
     "name": "stdout",
     "output_type": "stream",
     "text": [
      "36457\n",
      "36457"
     ]
    }
   ],
   "source": [
    "encoded_df.write.format(\"com.databricks.spark.csv\").mode('overwrite').save('encodeddf3.csv',header = 'true') # checkpoint\n",
    "encoded_df_saved = spark.read.csv(\"encodeddf3.csv\", header=True, inferSchema=True)\n",
    "print(encoded_df.count())\n",
    "print(encoded_df_saved.count())"
   ]
  },
  {
   "cell_type": "code",
   "execution_count": 52,
   "id": "c42de46b",
   "metadata": {},
   "outputs": [
    {
     "data": {
      "application/vnd.jupyter.widget-view+json": {
       "model_id": "20e83f8e387a45a5ab74ff8575738104",
       "version_major": 2,
       "version_minor": 0
      },
      "text/plain": [
       "VBox()"
      ]
     },
     "metadata": {},
     "output_type": "display_data"
    },
    {
     "data": {
      "application/vnd.jupyter.widget-view+json": {
       "model_id": "",
       "version_major": 2,
       "version_minor": 0
      },
      "text/plain": [
       "FloatProgress(value=0.0, bar_style='info', description='Progress:', layout=Layout(height='25px', width='50%'),…"
      ]
     },
     "metadata": {},
     "output_type": "display_data"
    }
   ],
   "source": [
    "from pyspark.sql import DataFrame\n",
    "from pyspark.ml.feature import QuantileDiscretizer\n",
    "from pyspark.ml.feature import VectorAssembler\n",
    "from pyspark.ml.classification import LogisticRegression\n",
    "from pyspark.sql.functions import udf\n",
    "from pyspark.sql.types import FloatType\n",
    "from pyspark.mllib.evaluation import BinaryClassificationMetrics\n",
    "from pyspark.mllib.regression import LabeledPoint\n",
    "from pyspark.mllib.evaluation import MulticlassMetrics\n",
    "from pyspark.sql.types import DoubleType\n",
    "from pyspark.sql.types import FloatType"
   ]
  },
  {
   "cell_type": "code",
   "execution_count": 53,
   "id": "53052ef6",
   "metadata": {},
   "outputs": [
    {
     "data": {
      "application/vnd.jupyter.widget-view+json": {
       "model_id": "a86f7db09a7b481c9607db4d69ecb1ef",
       "version_major": 2,
       "version_minor": 0
      },
      "text/plain": [
       "VBox()"
      ]
     },
     "metadata": {},
     "output_type": "display_data"
    },
    {
     "data": {
      "application/vnd.jupyter.widget-view+json": {
       "model_id": "",
       "version_major": 2,
       "version_minor": 0
      },
      "text/plain": [
       "FloatProgress(value=0.0, bar_style='info', description='Progress:', layout=Layout(height='25px', width='50%'),…"
      ]
     },
     "metadata": {},
     "output_type": "display_data"
    },
    {
     "name": "stdout",
     "output_type": "stream",
     "text": [
      "['CODE_GENDER_woe', 'FLAG_OWN_REALTY_woe', 'NAME_INCOME_TYPE_woe', 'NAME_EDUCATION_TYPE_woe', 'NAME_FAMILY_STATUS_woe', 'NAME_HOUSING_TYPE_woe', 'OCCUPATION_TYPE_woe', 'DAYS_EMPLOYEDbucket_woe']"
     ]
    }
   ],
   "source": [
    "features = [key+\"_woe\" for key,value in ivs.items() if value>0.002] ## selecting features with IV greater than 0.002\n",
    "print(features)"
   ]
  },
  {
   "cell_type": "code",
   "execution_count": 55,
   "id": "09719765",
   "metadata": {},
   "outputs": [
    {
     "data": {
      "application/vnd.jupyter.widget-view+json": {
       "model_id": "2a4db28002be413f9d4a46fdeebfc45f",
       "version_major": 2,
       "version_minor": 0
      },
      "text/plain": [
       "VBox()"
      ]
     },
     "metadata": {},
     "output_type": "display_data"
    },
    {
     "data": {
      "application/vnd.jupyter.widget-view+json": {
       "model_id": "",
       "version_major": 2,
       "version_minor": 0
      },
      "text/plain": [
       "FloatProgress(value=0.0, bar_style='info', description='Progress:', layout=Layout(height='25px', width='50%'),…"
      ]
     },
     "metadata": {},
     "output_type": "display_data"
    }
   ],
   "source": [
    "encoded_df_saved = encoded_df_saved.withColumnRenamed('Delinquent','target')"
   ]
  },
  {
   "cell_type": "code",
   "execution_count": 56,
   "id": "cba0d413",
   "metadata": {},
   "outputs": [
    {
     "data": {
      "application/vnd.jupyter.widget-view+json": {
       "model_id": "5fb4da2eee904997a107d07e7e4542fb",
       "version_major": 2,
       "version_minor": 0
      },
      "text/plain": [
       "VBox()"
      ]
     },
     "metadata": {},
     "output_type": "display_data"
    },
    {
     "data": {
      "application/vnd.jupyter.widget-view+json": {
       "model_id": "",
       "version_major": 2,
       "version_minor": 0
      },
      "text/plain": [
       "FloatProgress(value=0.0, bar_style='info', description='Progress:', layout=Layout(height='25px', width='50%'),…"
      ]
     },
     "metadata": {},
     "output_type": "display_data"
    }
   ],
   "source": [
    "train, test = encoded_df_saved.randomSplit([0.7, 0.3], seed = 2018)\n",
    "\n",
    "#Creating feature vector column with all the input variables\n",
    "assembler = VectorAssembler(inputCols=features, outputCol=\"features\")\n",
    "train = assembler.transform(train)\n",
    "test = assembler.transform(test)\n",
    "\n",
    "#Building logistic regression model and predict on test & train dataset using the same model \n",
    "lr = LogisticRegression(labelCol=\"target\", featuresCol= \"features\",maxIter=10)\n",
    "model=lr.fit(train)\n",
    "predict_train=model.transform(train)\n",
    "predict_test=model.transform(test)\n",
    "#predict_test.select(\"target\",\"prediction\",\"probability\").show(truncate=False)"
   ]
  },
  {
   "cell_type": "code",
   "execution_count": 57,
   "id": "1543c9af",
   "metadata": {},
   "outputs": [
    {
     "data": {
      "application/vnd.jupyter.widget-view+json": {
       "model_id": "5762eb3b36a346ebb4ee97c28115f3c0",
       "version_major": 2,
       "version_minor": 0
      },
      "text/plain": [
       "VBox()"
      ]
     },
     "metadata": {},
     "output_type": "display_data"
    },
    {
     "data": {
      "application/vnd.jupyter.widget-view+json": {
       "model_id": "",
       "version_major": 2,
       "version_minor": 0
      },
      "text/plain": [
       "FloatProgress(value=0.0, bar_style='info', description='Progress:', layout=Layout(height='25px', width='50%'),…"
      ]
     },
     "metadata": {},
     "output_type": "display_data"
    }
   ],
   "source": [
    "#Creating a probability column for target probability \n",
    "secondelement=udf(lambda v:float(v[1]),FloatType())\n",
    "predict_train = predict_train.withColumn('prob_int', secondelement('probability'))\n",
    "predict_test = predict_test.withColumn('prob_int', secondelement('probability'))"
   ]
  },
  {
   "cell_type": "code",
   "execution_count": 66,
   "id": "eb23bdfc",
   "metadata": {},
   "outputs": [
    {
     "data": {
      "application/vnd.jupyter.widget-view+json": {
       "model_id": "13f1b8e863a44dc48fbe0795214ce44e",
       "version_major": 2,
       "version_minor": 0
      },
      "text/plain": [
       "VBox()"
      ]
     },
     "metadata": {},
     "output_type": "display_data"
    },
    {
     "data": {
      "application/vnd.jupyter.widget-view+json": {
       "model_id": "",
       "version_major": 2,
       "version_minor": 0
      },
      "text/plain": [
       "FloatProgress(value=0.0, bar_style='info', description='Progress:', layout=Layout(height='25px', width='50%'),…"
      ]
     },
     "metadata": {},
     "output_type": "display_data"
    },
    {
     "name": "stdout",
     "output_type": "stream",
     "text": [
      "+-----------+-----+-----------+------------+----+-----+------------------+-------------------+--------------------+--------+\n",
      "|PROB_BUCKET|Total|   max_prob|    min_prob|bads|goods|          %cumuBad|          %cumuGood|               %diff|max_diff|\n",
      "+-----------+-----+-----------+------------+----+-----+------------------+-------------------+--------------------+--------+\n",
      "|        9.0| 2574|0.104513474| 0.025098018|  90| 2484|0.2102803738317757|0.09911815170982802| 0.11116222212194768|        |\n",
      "|        8.0| 2576|0.025017241| 0.021174047|  54| 2522|0.3364485981308411|0.19975260364710107| 0.13669599448374004|        |\n",
      "|        7.0| 2504|0.021159854| 0.018497499|  46| 2458|0.4439252336448598|0.29783328678025617| 0.14609194686460364|   <----|\n",
      "|        6.0| 3212| 0.01849441| 0.017233854|  53| 3159|0.5677570093457944| 0.4238857188460157|  0.1438712904997787|        |\n",
      "|        5.0| 1967|0.017231567| 0.015982034|  29| 1938|0.6355140186915887| 0.5012170304457124| 0.13429698824587633|        |\n",
      "|        4.0| 2459| 0.01597476| 0.014327605|  34| 2425|0.7149532710280374| 0.5979809265392443| 0.11697234448879312|        |\n",
      "|        3.0| 2716|0.014299083| 0.012899939|  42| 2674|0.8130841121495327| 0.7046805793862975| 0.10840353276323522|        |\n",
      "|        2.0| 2387|0.012898004| 0.011476496|  33| 2354|0.8901869158878505| 0.7986113882127609| 0.09157552767508959|        |\n",
      "|        1.0| 2650|0.011459363| 0.009658434|  28| 2622| 0.955607476635514| 0.9032361039064682|0.052371372729045795|        |\n",
      "|        0.0| 2444|0.009652858|0.0027170756|  19| 2425|               1.0|                1.0|                 0.0|        |\n",
      "+-----------+-----+-----------+------------+----+-----+------------------+-------------------+--------------------+--------+\n",
      "\n",
      "+-----------+-----+-----------+------------+----+-----+-------------------+-------------------+-------------------+--------+\n",
      "|PROB_BUCKET|Total|   max_prob|    min_prob|bads|goods|           %cumuBad|          %cumuGood|              %diff|max_diff|\n",
      "+-----------+-----+-----------+------------+----+-----+-------------------+-------------------+-------------------+--------+\n",
      "|        9.0| 1116| 0.08510279| 0.025098018|  36| 1080|0.19148936170212766|0.10018552875695733|0.09130383294517033|        |\n",
      "|        8.0| 1086|0.025091948| 0.021309175|  23| 1063|0.31382978723404253|0.19879406307977737|0.11503572415426516|        |\n",
      "|        7.0| 1097|0.021297012| 0.018613981|  27| 1070| 0.4574468085106383|0.29805194805194807|0.15939486045869022|        |\n",
      "|        6.0| 1457|0.018604277| 0.017233854|  27| 1430|  0.601063829787234|0.43070500927643784| 0.1703588205107962|   <----|\n",
      "|        5.0|  744|0.017231567| 0.016190816|  11|  733| 0.6595744680851063| 0.4987012987012987|0.16087316938380763|        |\n",
      "|        4.0| 1092|0.016180653| 0.014472273|  17| 1075|               0.75| 0.5984230055658627| 0.1515769944341373|        |\n",
      "|        3.0| 1224|0.014467846| 0.012899939|  15| 1209| 0.8297872340425532| 0.7105751391465677| 0.1192120948959855|        |\n",
      "|        2.0|  974| 0.01289475| 0.011477752|  13|  961|  0.898936170212766|  0.799721706864564|0.09921446334820194|        |\n",
      "|        1.0| 1131|0.011476496| 0.009658434|  12| 1119| 0.9627659574468085| 0.9035250463821892|0.05924091106461926|        |\n",
      "|        0.0| 1047|0.009657449|0.0027170756|   7| 1040|                1.0|                1.0|                0.0|        |\n",
      "+-----------+-----+-----------+------------+----+-----+-------------------+-------------------+-------------------+--------+"
     ]
    }
   ],
   "source": [
    "#calculating KS\n",
    "\n",
    "#Creating deciles using the predcited probability column \n",
    "discretizer = QuantileDiscretizer(numBuckets=10, inputCol=\"prob_int\", outputCol=\"PROB_BUCKET\")\n",
    "predict_train = discretizer.fit(predict_train).transform(predict_train)\n",
    "predict_test = discretizer.fit(predict_test).transform(predict_test)\n",
    "\n",
    "#Creating #Good & # bad for each decile \n",
    "ks_train = predict_train.groupby('PROB_BUCKET').agg(F.count(\"CODE_GENDER\").alias(\"Total\"), \n",
    "                                                    F.max(\"prob_int\").alias(\"max_prob\"), \n",
    "                                                    F.min(\"prob_int\").alias(\"min_prob\"),  \n",
    "                                                    F.sum(\"target\").alias(\"bads\") ,\n",
    "                                                    F.count(F.when(col(\"target\") == 0,1)).alias(\"goods\")).sort(col('PROB_BUCKET').desc())\n",
    "\n",
    "ks_test = predict_test.groupby('PROB_BUCKET').agg(F.count(\"CODE_GENDER\").alias(\"Total\"), \n",
    "                                                  F.max(\"prob_int\").alias(\"max_prob\"), \n",
    "                                                  F.min(\"prob_int\").alias(\"min_prob\"),  \n",
    "                                                  F.sum(\"target\").alias(\"bads\") ,\n",
    "                                                  F.count(F.when(col(\"target\") == 0,1)).alias(\"goods\")).sort(col('PROB_BUCKET').desc())\n",
    "\n",
    "#Creating %cumulative good,%cumulative bad & KS \n",
    "ks_train = ks_train.withColumn('%cumuBad', F.sum('bads').over(Window.orderBy(F.col('PROB_BUCKET').desc()).rowsBetween(Window.unboundedPreceding, 0))/ F.sum('bads').over(Window.partitionBy()))\n",
    "ks_train = ks_train.withColumn('%cumuGood', F.sum('goods').over(Window.orderBy(F.col('PROB_BUCKET').desc()).rowsBetween(Window.unboundedPreceding, 0))/ F.sum('goods').over(Window.partitionBy()))\n",
    "ks_train = ks_train.withColumn('%diff', F.col('%cumuBad') -  F.col('%cumuGood'))\n",
    "ks_train = ks_train.withColumn('max_diff', F.when(F.col('%diff') ==F.max('%diff').over(Window.partitionBy()) ,'<----').otherwise(' '))\n",
    "\n",
    "ks_test = ks_test.withColumn('%cumuBad', F.sum('bads').over(Window.orderBy(F.col('PROB_BUCKET').desc()).rowsBetween(Window.unboundedPreceding, 0))/ F.sum('bads').over(Window.partitionBy()))\n",
    "ks_test = ks_test.withColumn('%cumuGood', F.sum('goods').over(Window.orderBy(F.col('PROB_BUCKET').desc()).rowsBetween(Window.unboundedPreceding, 0))/ F.sum('goods').over(Window.partitionBy()))\n",
    "ks_test = ks_test.withColumn('%diff', F.col('%cumuBad') -  F.col('%cumuGood'))\n",
    "ks_test = ks_test.withColumn('max_diff', F.when(F.col('%diff') ==F.max('%diff').over(Window.partitionBy()) ,'<----').otherwise(' '))\n",
    "\n",
    "ks_train.sort(col('PROB_BUCKET').desc()).show()\n",
    "ks_test.sort(col('PROB_BUCKET').desc()).show()"
   ]
  },
  {
   "cell_type": "code",
   "execution_count": 68,
   "id": "e915346b",
   "metadata": {},
   "outputs": [
    {
     "data": {
      "application/vnd.jupyter.widget-view+json": {
       "model_id": "422ce68a14304eb6aff3a3a7da262438",
       "version_major": 2,
       "version_minor": 0
      },
      "text/plain": [
       "VBox()"
      ]
     },
     "metadata": {},
     "output_type": "display_data"
    },
    {
     "data": {
      "application/vnd.jupyter.widget-view+json": {
       "model_id": "",
       "version_major": 2,
       "version_minor": 0
      },
      "text/plain": [
       "FloatProgress(value=0.0, bar_style='info', description='Progress:', layout=Layout(height='25px', width='50%'),…"
      ]
     },
     "metadata": {},
     "output_type": "display_data"
    },
    {
     "name": "stdout",
     "output_type": "stream",
     "text": [
      "+----------+------+-----+\n",
      "|pred_class|target|count|\n",
      "+----------+------+-----+\n",
      "|         1|     0| 4661|\n",
      "|         1|     1|  113|\n",
      "|         0|     0| 6119|\n",
      "|         0|     1|   75|\n",
      "+----------+------+-----+\n",
      "\n",
      "[[6119. 4661.]\n",
      " [  75.  113.]]\n",
      "Summary Stats\n",
      "Precision = 0.023669878508588187\n",
      "Recall = 0.601063829787234\n",
      "F1 Score = 0.5681983953318746\n",
      "Area under PR = 0.0223675303669041\n",
      "Area under ROC = 0.5843445308490902"
     ]
    }
   ],
   "source": [
    "#Creating prediction classs based on the prob cut off by KS value\n",
    "from pyspark.sql.types import DoubleType\n",
    "min_prob_max_ks = ks_test.where(col(\"max_diff\") == '<----').select(col(\"min_prob\")).collect()[0]\n",
    "predict_test = predict_test.withColumn('pred_class', F.when(F.col('prob_int') > round(min_prob_max_ks[0],4) ,1).otherwise(0))\n",
    "predict_test.groupBy('pred_class','target').count().show()\n",
    "\n",
    "#Generating evaluation metrics\n",
    "results = predict_test.select(['pred_class', 'target'])\n",
    "results = results.withColumn(\"target\", results[\"target\"].cast(DoubleType()))\n",
    "results = results.withColumn(\"pred_class\", results[\"pred_class\"].cast(DoubleType()))\n",
    "\n",
    "predictionAndLabels=results.rdd\n",
    "metrics = MulticlassMetrics(predictionAndLabels)\n",
    "metrics1 = BinaryClassificationMetrics(predictionAndLabels)\n",
    "\n",
    "cm=metrics.confusionMatrix().toArray()\n",
    "print(cm)\n",
    "# Overall statistics\n",
    "precision = metrics.precision(1)\n",
    "recall = metrics.recall(1)\n",
    "f1Score = metrics.fMeasure()\n",
    "print(\"Summary Stats\")\n",
    "print(\"Precision = %s\" % precision)\n",
    "print(\"Recall = %s\" % recall)\n",
    "print(\"F1 Score = %s\" % f1Score)\n",
    "# Area under precision-recall curve\n",
    "print(\"Area under PR = %s\" % metrics1.areaUnderPR)\n",
    "# Area under ROC curve\n",
    "print(\"Area under ROC = %s\" % metrics1.areaUnderROC)"
   ]
  },
  {
   "cell_type": "code",
   "execution_count": null,
   "id": "2099f8a8",
   "metadata": {},
   "outputs": [],
   "source": []
  }
 ],
 "metadata": {
  "kernelspec": {
   "display_name": "PySpark",
   "language": "",
   "name": "pysparkkernel"
  },
  "language_info": {
   "codemirror_mode": {
    "name": "python",
    "version": 2
   },
   "mimetype": "text/x-python",
   "name": "pyspark",
   "pygments_lexer": "python2"
  }
 },
 "nbformat": 4,
 "nbformat_minor": 5
}
