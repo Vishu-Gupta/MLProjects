{
 "cells": [
  {
   "cell_type": "code",
   "execution_count": 1,
   "metadata": {},
   "outputs": [],
   "source": [
    "# Setting the environment variables"
   ]
  },
  {
   "cell_type": "code",
   "execution_count": 2,
   "metadata": {},
   "outputs": [],
   "source": [
    "import os\n",
    "import sys\n",
    "os.environ[\"PYSPARK_PYTHON\"]=\"/usr/bin/python3\"\n",
    "os.environ[\"PYSPARK_DRIVER_PYTHON\"]=\"/usr/bin/python3\"\n",
    "os.environ[\"PYSPARK_DRIVER_PYTHON_OPTS\"]=\"notebook --no-browser\"\n",
    "os.environ[\"JAVA_HOME\"] = \"/usr/java/jdk1.8.0_161/jre\"\n",
    "os.environ[\"SPARK_HOME\"] = \"/home/ec2-user/spark-2.4.4-bin-hadoop2.7\"\n",
    "os.environ[\"PYLIB\"] = os.environ[\"SPARK_HOME\"] + \"/python/lib\"\n",
    "sys.path.insert(0, os.environ[\"PYLIB\"] + \"/py4j-0.10.7-src.zip\")\n",
    "sys.path.insert(0, os.environ[\"PYLIB\"] + \"/pyspark.zip\")"
   ]
  },
  {
   "cell_type": "markdown",
   "metadata": {},
   "source": [
    "# Ecommerce Churn Assignment"
   ]
  },
  {
   "cell_type": "markdown",
   "metadata": {},
   "source": [
    "The aim of the assignment is to build a model that predicts whether a person purchases an item after it has been added to the cart or not. Being a classification problem, you are expected to use your understanding of all the three models covered till now. You must select the most robust model and provide a solution that predicts the churn in the most suitable manner. \n",
    "\n",
    "For this assignment, you are provided the data associated with an e-commerce company for the month of October 2019. Your task is to first analyse the data, and then perform multiple steps towards the model building process.\n",
    "\n",
    "The broad tasks are:\n",
    "- Data Exploration\n",
    "- Feature Engineering\n",
    "- Model Selection\n",
    "- Model Inference"
   ]
  },
  {
   "cell_type": "markdown",
   "metadata": {},
   "source": [
    "### Data description"
   ]
  },
  {
   "cell_type": "markdown",
   "metadata": {},
   "source": [
    "The dataset stores the information of a customer session on the e-commerce platform. It records the activity and the associated parameters with it.\n",
    "\n",
    "- **event_time**: Date and time when user accesses the platform\n",
    "- **event_type**: Action performed by the customer\n",
    "            - View\n",
    "            - Cart\n",
    "            - Purchase\n",
    "            - Remove from cart\n",
    "- **product_id**: Unique number to identify the product in the event\n",
    "- **category_id**: Unique number to identify the category of the product\n",
    "- **category_code**: Stores primary and secondary categories of the product\n",
    "- **brand**: Brand associated with the product\n",
    "- **price**: Price of the product\n",
    "- **user_id**: Unique ID for a customer\n",
    "- **user_session**: Session ID for a user\n"
   ]
  },
  {
   "cell_type": "markdown",
   "metadata": {},
   "source": [
    "### Initialising the SparkSession"
   ]
  },
  {
   "cell_type": "markdown",
   "metadata": {},
   "source": [
    "The dataset provided is 5 GBs in size. Therefore, it is expected that you increase the driver memory to a greater number. You can refer to notebook 1 for the steps involved here."
   ]
  },
  {
   "cell_type": "code",
   "execution_count": 3,
   "metadata": {},
   "outputs": [],
   "source": [
    "# Spark environment\n",
    "from pyspark import SparkConf\n",
    "from pyspark.sql import SparkSession"
   ]
  },
  {
   "cell_type": "code",
   "execution_count": 4,
   "metadata": {},
   "outputs": [
    {
     "data": {
      "text/html": [
       "\n",
       "            <div>\n",
       "                <p><b>SparkSession - in-memory</b></p>\n",
       "                \n",
       "        <div>\n",
       "            <p><b>SparkContext</b></p>\n",
       "\n",
       "            <p><a href=\"http://ip-172-31-84-191.ec2.internal:4040\">Spark UI</a></p>\n",
       "\n",
       "            <dl>\n",
       "              <dt>Version</dt>\n",
       "                <dd><code>v2.4.4</code></dd>\n",
       "              <dt>Master</dt>\n",
       "                <dd><code>local[*]</code></dd>\n",
       "              <dt>AppName</dt>\n",
       "                <dd><code>demo</code></dd>\n",
       "            </dl>\n",
       "        </div>\n",
       "        \n",
       "            </div>\n",
       "        "
      ],
      "text/plain": [
       "<pyspark.sql.session.SparkSession at 0x7fe538044ad0>"
      ]
     },
     "execution_count": 4,
     "metadata": {},
     "output_type": "execute_result"
    }
   ],
   "source": [
    "# initialising the session with 14 GB driver memory\n",
    "MAX_MEMORY = \"14G\"\n",
    "\n",
    "spark = SparkSession \\\n",
    "    .builder \\\n",
    "    .appName(\"demo\") \\\n",
    "    .config(\"spark.driver.memory\", MAX_MEMORY) \\\n",
    "    .getOrCreate()\n",
    "\n",
    "spark"
   ]
  },
  {
   "cell_type": "code",
   "execution_count": 5,
   "metadata": {},
   "outputs": [],
   "source": [
    "## loading clean data\n",
    "df  = spark.read.parquet('cleaned_df.parquet')"
   ]
  },
  {
   "cell_type": "code",
   "execution_count": 6,
   "metadata": {},
   "outputs": [
    {
     "name": "stdout",
     "output_type": "stream",
     "text": [
      "+-------+-----------+-----------+----------+-------------+----------------+-------------+----------------------------+--------------+--------+-------------+------------+\n",
      "|  price|day_of_week|   main_cat|   sub_cat|user_activity|product_affinity|sub_cat_views|avg_shopping_expense_per_cat|session_counts|hour_bin|brand_reduced|is_Purchased|\n",
      "+-------+-----------+-----------+----------+-------------+----------------+-------------+----------------------------+--------------+--------+-------------+------------+\n",
      "| 755.49|          1|electronics|smartphone|            3|               5|            6|                         0.0|             2|       2|        apple|           0|\n",
      "| 558.03|          5| appliances|   kitchen|            2|               1|           16|                         0.0|             8|       3|        Other|           0|\n",
      "| 545.63|          6|electronics|smartphone|            2|               1|            1|                         0.0|             1|       3|      samsung|           0|\n",
      "| 164.59|          6|electronics|smartphone|            3|               2|           18|                         0.0|             3|       2|       xiaomi|           0|\n",
      "|  22.94|          1|electronics|     audio|            2|               1|            1|                         0.0|             1|       2|       xiaomi|           0|\n",
      "| 460.63|          3|electronics|smartphone|            2|               2|            5|                      584.29|             3|       1|        apple|           1|\n",
      "| 288.03|          3|electronics|smartphone|            2|               2|            9|                      334.11|             3|       2|      samsung|           1|\n",
      "| 122.98|          1|electronics|     video|            3|               2|            2|                         0.0|            10|       2|        artel|           1|\n",
      "| 130.76|          3|electronics|smartphone|            2|               1|            1|                         0.0|             1|       1|      samsung|           1|\n",
      "| 635.77|          6|electronics|    clocks|            2|               2|            2|                         0.0|             4|       2|        apple|           1|\n",
      "| 244.51|          1|electronics|    tablet|            2|               1|            1|                         0.0|             4|       2|      samsung|           1|\n",
      "| 244.51|          1|electronics|    tablet|            6|               4|            4|                         0.0|             4|       2|      samsung|           1|\n",
      "|  126.1|          4| appliances|   kitchen|           10|               3|            6|                         0.0|             3|       2|      samsung|           0|\n",
      "| 131.92|          7|electronics|smartphone|            2|               3|            5|                      172.02|             7|       2|      samsung|           1|\n",
      "|1055.06|          3|electronics|smartphone|            2|               9|           17|                         0.0|             8|       2|        apple|           1|\n",
      "|1055.06|          3|electronics|smartphone|            3|              11|           20|                         0.0|            10|       2|        apple|           1|\n",
      "|1055.06|          3|electronics|smartphone|            2|              24|           41|                         0.0|            18|       3|        apple|           1|\n",
      "| 1746.5|          1|electronics|smartphone|            7|               1|           11|                     1634.51|             3|       3|        apple|           0|\n",
      "|1740.95|          2|electronics|smartphone|           16|              12|           68|                         0.0|             6|       2|        apple|           1|\n",
      "| 566.04|          6|electronics|smartphone|            6|               6|           13|                         0.0|             3|       1|        apple|           0|\n",
      "+-------+-----------+-----------+----------+-------------+----------------+-------------+----------------------------+--------------+--------+-------------+------------+\n",
      "only showing top 20 rows\n",
      "\n"
     ]
    }
   ],
   "source": [
    "df.show(20)"
   ]
  },
  {
   "cell_type": "code",
   "execution_count": 7,
   "metadata": {},
   "outputs": [
    {
     "name": "stdout",
     "output_type": "stream",
     "text": [
      "root\n",
      " |-- price: double (nullable = true)\n",
      " |-- day_of_week: integer (nullable = true)\n",
      " |-- main_cat: string (nullable = true)\n",
      " |-- sub_cat: string (nullable = true)\n",
      " |-- user_activity: long (nullable = true)\n",
      " |-- product_affinity: long (nullable = true)\n",
      " |-- sub_cat_views: long (nullable = true)\n",
      " |-- avg_shopping_expense_per_cat: double (nullable = true)\n",
      " |-- session_counts: long (nullable = true)\n",
      " |-- hour_bin: integer (nullable = true)\n",
      " |-- brand_reduced: string (nullable = true)\n",
      " |-- is_Purchased: integer (nullable = true)\n",
      "\n"
     ]
    }
   ],
   "source": [
    "df.printSchema()"
   ]
  },
  {
   "cell_type": "code",
   "execution_count": 8,
   "metadata": {},
   "outputs": [
    {
     "name": "stdout",
     "output_type": "stream",
     "text": [
      "+------------------------+-----------------------+-----------------------------+\n",
      "|count(DISTINCT main_cat)|count(DISTINCT sub_cat)|count(DISTINCT brand_reduced)|\n",
      "+------------------------+-----------------------+-----------------------------+\n",
      "|                      13|                     38|                           20|\n",
      "+------------------------+-----------------------+-----------------------------+\n",
      "\n"
     ]
    }
   ],
   "source": [
    "from pyspark.sql.functions import countDistinct\n",
    "categ_col = ['main_cat','sub_cat','brand_reduced']\n",
    "df.agg(*[countDistinct(c) for c in categ_col]).show()"
   ]
  },
  {
   "cell_type": "markdown",
   "metadata": {},
   "source": [
    "<hr>"
   ]
  },
  {
   "cell_type": "markdown",
   "metadata": {},
   "source": [
    "## Task 3: Model Selection\n",
    "3 models for classification:\t\n",
    "- Logistic Regression\n",
    "- Decision Tree\n",
    "- Random Forest"
   ]
  },
  {
   "cell_type": "markdown",
   "metadata": {},
   "source": [
    "### Model 1: Logistic Regression"
   ]
  },
  {
   "cell_type": "code",
   "execution_count": 9,
   "metadata": {},
   "outputs": [
    {
     "data": {
      "text/plain": [
       "['price',\n",
       " 'day_of_week',\n",
       " 'main_cat',\n",
       " 'sub_cat',\n",
       " 'user_activity',\n",
       " 'product_affinity',\n",
       " 'sub_cat_views',\n",
       " 'avg_shopping_expense_per_cat',\n",
       " 'session_counts',\n",
       " 'hour_bin',\n",
       " 'brand_reduced',\n",
       " 'is_Purchased']"
      ]
     },
     "execution_count": 9,
     "metadata": {},
     "output_type": "execute_result"
    }
   ],
   "source": [
    "df.columns"
   ]
  },
  {
   "cell_type": "code",
   "execution_count": 10,
   "metadata": {},
   "outputs": [],
   "source": [
    "# Additional steps for Logistic regression - Feature selection, Correlation, etc.\n",
    "num_feature_cols = ['price',\n",
    " 'day_of_week',\n",
    " 'user_activity',\n",
    " 'product_affinity',\n",
    " 'sub_cat_views',\n",
    " 'avg_shopping_expense_per_cat',\n",
    " 'session_counts',\n",
    " 'hour_bin']\n",
    "from pyspark.ml.stat import Correlation\n",
    "from pyspark.ml.feature import VectorAssembler\n",
    "\n",
    "# convert to vector column first\n",
    "vector_col = \"corr_features\"\n",
    "assembler = VectorAssembler(inputCols=num_feature_cols, outputCol=vector_col)\n",
    "df_vector = assembler.transform(df).select(vector_col)\n",
    "\n",
    "# get correlation matrix\n",
    "matrix = Correlation.corr(df_vector, vector_col)\n",
    "\n",
    "    "
   ]
  },
  {
   "cell_type": "code",
   "execution_count": 11,
   "metadata": {},
   "outputs": [],
   "source": [
    "import pandas as pd"
   ]
  },
  {
   "cell_type": "code",
   "execution_count": 12,
   "metadata": {},
   "outputs": [],
   "source": [
    "cor_matrix = pd.DataFrame(matrix.collect()[0][\"pearson({})\".format(vector_col)].values.reshape(8,8),columns=num_feature_cols)\n",
    "cor_matrix['cols'] = num_feature_cols\n",
    "cor_matrix.set_index('cols',inplace=True)"
   ]
  },
  {
   "cell_type": "code",
   "execution_count": 13,
   "metadata": {},
   "outputs": [
    {
     "data": {
      "text/html": [
       "<div>\n",
       "<style scoped>\n",
       "    .dataframe tbody tr th:only-of-type {\n",
       "        vertical-align: middle;\n",
       "    }\n",
       "\n",
       "    .dataframe tbody tr th {\n",
       "        vertical-align: top;\n",
       "    }\n",
       "\n",
       "    .dataframe thead th {\n",
       "        text-align: right;\n",
       "    }\n",
       "</style>\n",
       "<table border=\"1\" class=\"dataframe\">\n",
       "  <thead>\n",
       "    <tr style=\"text-align: right;\">\n",
       "      <th></th>\n",
       "      <th>price</th>\n",
       "      <th>day_of_week</th>\n",
       "      <th>user_activity</th>\n",
       "      <th>product_affinity</th>\n",
       "      <th>sub_cat_views</th>\n",
       "      <th>avg_shopping_expense_per_cat</th>\n",
       "      <th>session_counts</th>\n",
       "      <th>hour_bin</th>\n",
       "    </tr>\n",
       "    <tr>\n",
       "      <th>cols</th>\n",
       "      <th></th>\n",
       "      <th></th>\n",
       "      <th></th>\n",
       "      <th></th>\n",
       "      <th></th>\n",
       "      <th></th>\n",
       "      <th></th>\n",
       "      <th></th>\n",
       "    </tr>\n",
       "  </thead>\n",
       "  <tbody>\n",
       "    <tr>\n",
       "      <th>price</th>\n",
       "      <td>1.000000</td>\n",
       "      <td>0.001539</td>\n",
       "      <td>-0.059865</td>\n",
       "      <td>0.024020</td>\n",
       "      <td>0.026532</td>\n",
       "      <td>0.399999</td>\n",
       "      <td>0.051099</td>\n",
       "      <td>0.036779</td>\n",
       "    </tr>\n",
       "    <tr>\n",
       "      <th>day_of_week</th>\n",
       "      <td>0.001539</td>\n",
       "      <td>1.000000</td>\n",
       "      <td>-0.001285</td>\n",
       "      <td>-0.004189</td>\n",
       "      <td>-0.007383</td>\n",
       "      <td>-0.008033</td>\n",
       "      <td>-0.012001</td>\n",
       "      <td>0.001437</td>\n",
       "    </tr>\n",
       "    <tr>\n",
       "      <th>user_activity</th>\n",
       "      <td>-0.059865</td>\n",
       "      <td>-0.001285</td>\n",
       "      <td>1.000000</td>\n",
       "      <td>0.109441</td>\n",
       "      <td>0.230759</td>\n",
       "      <td>-0.015072</td>\n",
       "      <td>0.008443</td>\n",
       "      <td>0.043661</td>\n",
       "    </tr>\n",
       "    <tr>\n",
       "      <th>product_affinity</th>\n",
       "      <td>0.024020</td>\n",
       "      <td>-0.004189</td>\n",
       "      <td>0.109441</td>\n",
       "      <td>1.000000</td>\n",
       "      <td>0.549332</td>\n",
       "      <td>0.175337</td>\n",
       "      <td>0.500828</td>\n",
       "      <td>-0.016350</td>\n",
       "    </tr>\n",
       "    <tr>\n",
       "      <th>sub_cat_views</th>\n",
       "      <td>0.026532</td>\n",
       "      <td>-0.007383</td>\n",
       "      <td>0.230759</td>\n",
       "      <td>0.549332</td>\n",
       "      <td>1.000000</td>\n",
       "      <td>0.184410</td>\n",
       "      <td>0.699351</td>\n",
       "      <td>0.002704</td>\n",
       "    </tr>\n",
       "    <tr>\n",
       "      <th>avg_shopping_expense_per_cat</th>\n",
       "      <td>0.399999</td>\n",
       "      <td>-0.008033</td>\n",
       "      <td>-0.015072</td>\n",
       "      <td>0.175337</td>\n",
       "      <td>0.184410</td>\n",
       "      <td>1.000000</td>\n",
       "      <td>0.226792</td>\n",
       "      <td>-0.004401</td>\n",
       "    </tr>\n",
       "    <tr>\n",
       "      <th>session_counts</th>\n",
       "      <td>0.051099</td>\n",
       "      <td>-0.012001</td>\n",
       "      <td>0.008443</td>\n",
       "      <td>0.500828</td>\n",
       "      <td>0.699351</td>\n",
       "      <td>0.226792</td>\n",
       "      <td>1.000000</td>\n",
       "      <td>-0.006888</td>\n",
       "    </tr>\n",
       "    <tr>\n",
       "      <th>hour_bin</th>\n",
       "      <td>0.036779</td>\n",
       "      <td>0.001437</td>\n",
       "      <td>0.043661</td>\n",
       "      <td>-0.016350</td>\n",
       "      <td>0.002704</td>\n",
       "      <td>-0.004401</td>\n",
       "      <td>-0.006888</td>\n",
       "      <td>1.000000</td>\n",
       "    </tr>\n",
       "  </tbody>\n",
       "</table>\n",
       "</div>"
      ],
      "text/plain": [
       "                                 price  day_of_week  user_activity  \\\n",
       "cols                                                                 \n",
       "price                         1.000000     0.001539      -0.059865   \n",
       "day_of_week                   0.001539     1.000000      -0.001285   \n",
       "user_activity                -0.059865    -0.001285       1.000000   \n",
       "product_affinity              0.024020    -0.004189       0.109441   \n",
       "sub_cat_views                 0.026532    -0.007383       0.230759   \n",
       "avg_shopping_expense_per_cat  0.399999    -0.008033      -0.015072   \n",
       "session_counts                0.051099    -0.012001       0.008443   \n",
       "hour_bin                      0.036779     0.001437       0.043661   \n",
       "\n",
       "                              product_affinity  sub_cat_views  \\\n",
       "cols                                                            \n",
       "price                                 0.024020       0.026532   \n",
       "day_of_week                          -0.004189      -0.007383   \n",
       "user_activity                         0.109441       0.230759   \n",
       "product_affinity                      1.000000       0.549332   \n",
       "sub_cat_views                         0.549332       1.000000   \n",
       "avg_shopping_expense_per_cat          0.175337       0.184410   \n",
       "session_counts                        0.500828       0.699351   \n",
       "hour_bin                             -0.016350       0.002704   \n",
       "\n",
       "                              avg_shopping_expense_per_cat  session_counts  \\\n",
       "cols                                                                         \n",
       "price                                             0.399999        0.051099   \n",
       "day_of_week                                      -0.008033       -0.012001   \n",
       "user_activity                                    -0.015072        0.008443   \n",
       "product_affinity                                  0.175337        0.500828   \n",
       "sub_cat_views                                     0.184410        0.699351   \n",
       "avg_shopping_expense_per_cat                      1.000000        0.226792   \n",
       "session_counts                                    0.226792        1.000000   \n",
       "hour_bin                                         -0.004401       -0.006888   \n",
       "\n",
       "                              hour_bin  \n",
       "cols                                    \n",
       "price                         0.036779  \n",
       "day_of_week                   0.001437  \n",
       "user_activity                 0.043661  \n",
       "product_affinity             -0.016350  \n",
       "sub_cat_views                 0.002704  \n",
       "avg_shopping_expense_per_cat -0.004401  \n",
       "session_counts               -0.006888  \n",
       "hour_bin                      1.000000  "
      ]
     },
     "execution_count": 13,
     "metadata": {},
     "output_type": "execute_result"
    }
   ],
   "source": [
    "cor_matrix"
   ]
  },
  {
   "cell_type": "markdown",
   "metadata": {},
   "source": [
    "There are some strong correlations:\n",
    "\n",
    "1) sub_cat_views with session_counts - 0.699351\n",
    "\n",
    "2) product_affinity with sub_cat_views - 0.549332\n",
    "\n",
    "3) product_affinity with session_counts - 0.500828\n",
    "\n",
    "4) Price with avg_shopping_expense_per_cat - 0.399999\n",
    "\n",
    "avg_shopping_expense_per_cat is user behaviour based and price is product based. Both are important. Keep them for now.\n",
    "will reevaluate in case of unstable model\n",
    "\n",
    "removing session_counts and sub_cat_views for first model"
   ]
  },
  {
   "cell_type": "code",
   "execution_count": 14,
   "metadata": {},
   "outputs": [],
   "source": [
    "features = ['price',\n",
    " 'day_of_week',\n",
    " 'main_cat',\n",
    " 'sub_cat',\n",
    " 'user_activity',\n",
    " 'product_affinity',\n",
    " 'avg_shopping_expense_per_cat',\n",
    " 'hour_bin',\n",
    " 'brand_reduced']"
   ]
  },
  {
   "cell_type": "markdown",
   "metadata": {},
   "source": [
    "#### Feature Transformation"
   ]
  },
  {
   "cell_type": "code",
   "execution_count": 15,
   "metadata": {},
   "outputs": [],
   "source": [
    "# Check if only the required columns are present to build the model\n",
    "# If not, drop the redundant columns\n"
   ]
  },
  {
   "cell_type": "code",
   "execution_count": 16,
   "metadata": {},
   "outputs": [],
   "source": [
    "# Categorising the attributes into its type - Continuous and Categorical\n",
    "categ_cols = ['main_cat','sub_cat','brand_reduced']\n",
    "num_categ_cols = ['day_of_week','hour_bin']\n",
    "num_cols  =  ['price',\n",
    " 'user_activity',\n",
    " 'product_affinity',\n",
    " 'avg_shopping_expense_per_cat']"
   ]
  },
  {
   "cell_type": "code",
   "execution_count": 17,
   "metadata": {},
   "outputs": [],
   "source": [
    "# Feature transformation for categorical features\n",
    "stages = []\n",
    "from pyspark.ml.feature import StringIndexer\n",
    "for c in categ_cols:   \n",
    "    si = StringIndexer(inputCol=c,outputCol=c+'_ix')\n",
    "    stages.append(si)"
   ]
  },
  {
   "cell_type": "code",
   "execution_count": 18,
   "metadata": {},
   "outputs": [],
   "source": [
    "from pyspark.ml.feature import OneHotEncoderEstimator\n",
    "cols_to_encode = num_categ_cols + [c+'_ix' for c in categ_cols]\n",
    "encoded_cols = [c+'_enc' for c in num_categ_cols] + [c+'_enc' for c in categ_cols]\n",
    "ohe = OneHotEncoderEstimator(inputCols =cols_to_encode, outputCols = encoded_cols)\n",
    "stages.append(ohe)"
   ]
  },
  {
   "cell_type": "code",
   "execution_count": 19,
   "metadata": {},
   "outputs": [],
   "source": [
    "## updating features\n",
    "features = num_cols + encoded_cols"
   ]
  },
  {
   "cell_type": "code",
   "execution_count": 20,
   "metadata": {},
   "outputs": [],
   "source": [
    "# Vector assembler to combine all the features\n",
    "from pyspark.ml.feature import VectorAssembler,StandardScaler\n",
    "assembler = VectorAssembler(inputCols=features,outputCol='features')\n",
    "scaler = StandardScaler(inputCol='features',outputCol='scaled_features')"
   ]
  },
  {
   "cell_type": "code",
   "execution_count": 21,
   "metadata": {},
   "outputs": [],
   "source": [
    "stages.append(assembler)\n",
    "stages.append(scaler)"
   ]
  },
  {
   "cell_type": "code",
   "execution_count": 22,
   "metadata": {},
   "outputs": [
    {
     "data": {
      "text/plain": [
       "[StringIndexer_ad88b4fbfe2c,\n",
       " StringIndexer_1b6cacae1ad4,\n",
       " StringIndexer_558730643be9,\n",
       " OneHotEncoderEstimator_322c93d38025,\n",
       " VectorAssembler_928a2627a277,\n",
       " StandardScaler_1f7d38cad843]"
      ]
     },
     "execution_count": 22,
     "metadata": {},
     "output_type": "execute_result"
    }
   ],
   "source": [
    "stages"
   ]
  },
  {
   "cell_type": "code",
   "execution_count": 23,
   "metadata": {},
   "outputs": [],
   "source": [
    "# Pipeline for the tasks\n",
    "from pyspark.ml import Pipeline\n",
    "pipeline = Pipeline(stages=stages)"
   ]
  },
  {
   "cell_type": "code",
   "execution_count": 24,
   "metadata": {},
   "outputs": [],
   "source": [
    "# Transforming the dataframe df\n",
    "df = pipeline.fit(df).transform(df)"
   ]
  },
  {
   "cell_type": "code",
   "execution_count": 25,
   "metadata": {},
   "outputs": [
    {
     "name": "stdout",
     "output_type": "stream",
     "text": [
      "root\n",
      " |-- price: double (nullable = true)\n",
      " |-- day_of_week: integer (nullable = true)\n",
      " |-- main_cat: string (nullable = true)\n",
      " |-- sub_cat: string (nullable = true)\n",
      " |-- user_activity: long (nullable = true)\n",
      " |-- product_affinity: long (nullable = true)\n",
      " |-- sub_cat_views: long (nullable = true)\n",
      " |-- avg_shopping_expense_per_cat: double (nullable = true)\n",
      " |-- session_counts: long (nullable = true)\n",
      " |-- hour_bin: integer (nullable = true)\n",
      " |-- brand_reduced: string (nullable = true)\n",
      " |-- is_Purchased: integer (nullable = true)\n",
      " |-- main_cat_ix: double (nullable = false)\n",
      " |-- sub_cat_ix: double (nullable = false)\n",
      " |-- brand_reduced_ix: double (nullable = false)\n",
      " |-- brand_reduced_enc: vector (nullable = true)\n",
      " |-- hour_bin_enc: vector (nullable = true)\n",
      " |-- main_cat_enc: vector (nullable = true)\n",
      " |-- sub_cat_enc: vector (nullable = true)\n",
      " |-- day_of_week_enc: vector (nullable = true)\n",
      " |-- features: vector (nullable = true)\n",
      " |-- scaled_features: vector (nullable = true)\n",
      "\n"
     ]
    }
   ],
   "source": [
    "# Schema of the transformed df\n",
    "df.printSchema()"
   ]
  },
  {
   "cell_type": "code",
   "execution_count": 26,
   "metadata": {
    "scrolled": true
   },
   "outputs": [
    {
     "name": "stdout",
     "output_type": "stream",
     "text": [
      "+-------+-----------+-----------+----------+-------------+----------------+-------------+----------------------------+--------------+--------+-------------+------------+-----------------+-------------+--------------+--------------+---------------+--------------------+--------------------+\n",
      "|  price|day_of_week|   main_cat|   sub_cat|user_activity|product_affinity|sub_cat_views|avg_shopping_expense_per_cat|session_counts|hour_bin|brand_reduced|is_Purchased|brand_reduced_enc| hour_bin_enc|  main_cat_enc|   sub_cat_enc|day_of_week_enc|            features|     scaled_features|\n",
      "+-------+-----------+-----------+----------+-------------+----------------+-------------+----------------------------+--------------+--------+-------------+------------+-----------------+-------------+--------------+--------------+---------------+--------------------+--------------------+\n",
      "| 755.49|          1|electronics|smartphone|            3|               5|            6|                         0.0|             2|       2|        apple|           0|   (19,[1],[1.0])|(4,[2],[1.0])|(12,[0],[1.0])|(37,[0],[1.0])|  (7,[1],[1.0])|(83,[0,1,2,5,13,1...|(83,[0,1,2,5,13,1...|\n",
      "| 558.03|          5| appliances|   kitchen|            2|               1|           16|                         0.0|             8|       3|        Other|           0|   (19,[2],[1.0])|(4,[3],[1.0])|(12,[1],[1.0])|(37,[1],[1.0])|  (7,[5],[1.0])|(83,[0,1,2,9,14,1...|(83,[0,1,2,9,14,1...|\n",
      "| 545.63|          6|electronics|smartphone|            2|               1|            1|                         0.0|             1|       3|      samsung|           0|   (19,[0],[1.0])|(4,[3],[1.0])|(12,[0],[1.0])|(37,[0],[1.0])|  (7,[6],[1.0])|(83,[0,1,2,10,14,...|(83,[0,1,2,10,14,...|\n",
      "| 164.59|          6|electronics|smartphone|            3|               2|           18|                         0.0|             3|       2|       xiaomi|           0|   (19,[3],[1.0])|(4,[2],[1.0])|(12,[0],[1.0])|(37,[0],[1.0])|  (7,[6],[1.0])|(83,[0,1,2,10,13,...|(83,[0,1,2,10,13,...|\n",
      "|  22.94|          1|electronics|     audio|            2|               1|            1|                         0.0|             1|       2|       xiaomi|           0|   (19,[3],[1.0])|(4,[2],[1.0])|(12,[0],[1.0])|(37,[2],[1.0])|  (7,[1],[1.0])|(83,[0,1,2,5,13,1...|(83,[0,1,2,5,13,1...|\n",
      "| 460.63|          3|electronics|smartphone|            2|               2|            5|                      584.29|             3|       1|        apple|           1|   (19,[1],[1.0])|(4,[1],[1.0])|(12,[0],[1.0])|(37,[0],[1.0])|  (7,[3],[1.0])|(83,[0,1,2,3,7,12...|(83,[0,1,2,3,7,12...|\n",
      "| 288.03|          3|electronics|smartphone|            2|               2|            9|                      334.11|             3|       2|      samsung|           1|   (19,[0],[1.0])|(4,[2],[1.0])|(12,[0],[1.0])|(37,[0],[1.0])|  (7,[3],[1.0])|(83,[0,1,2,3,7,13...|(83,[0,1,2,3,7,13...|\n",
      "| 122.98|          1|electronics|     video|            3|               2|            2|                         0.0|            10|       2|        artel|           1|  (19,[13],[1.0])|(4,[2],[1.0])|(12,[0],[1.0])|(37,[3],[1.0])|  (7,[1],[1.0])|(83,[0,1,2,5,13,1...|(83,[0,1,2,5,13,1...|\n",
      "| 130.76|          3|electronics|smartphone|            2|               1|            1|                         0.0|             1|       1|      samsung|           1|   (19,[0],[1.0])|(4,[1],[1.0])|(12,[0],[1.0])|(37,[0],[1.0])|  (7,[3],[1.0])|(83,[0,1,2,7,12,1...|(83,[0,1,2,7,12,1...|\n",
      "| 635.77|          6|electronics|    clocks|            2|               2|            2|                         0.0|             4|       2|        apple|           1|   (19,[1],[1.0])|(4,[2],[1.0])|(12,[0],[1.0])|(37,[5],[1.0])|  (7,[6],[1.0])|(83,[0,1,2,10,13,...|(83,[0,1,2,10,13,...|\n",
      "| 244.51|          1|electronics|    tablet|            2|               1|            1|                         0.0|             4|       2|      samsung|           1|   (19,[0],[1.0])|(4,[2],[1.0])|(12,[0],[1.0])|(37,[7],[1.0])|  (7,[1],[1.0])|(83,[0,1,2,5,13,1...|(83,[0,1,2,5,13,1...|\n",
      "| 244.51|          1|electronics|    tablet|            6|               4|            4|                         0.0|             4|       2|      samsung|           1|   (19,[0],[1.0])|(4,[2],[1.0])|(12,[0],[1.0])|(37,[7],[1.0])|  (7,[1],[1.0])|(83,[0,1,2,5,13,1...|(83,[0,1,2,5,13,1...|\n",
      "|  126.1|          4| appliances|   kitchen|           10|               3|            6|                         0.0|             3|       2|      samsung|           0|   (19,[0],[1.0])|(4,[2],[1.0])|(12,[1],[1.0])|(37,[1],[1.0])|  (7,[4],[1.0])|(83,[0,1,2,8,13,1...|(83,[0,1,2,8,13,1...|\n",
      "| 131.92|          7|electronics|smartphone|            2|               3|            5|                      172.02|             7|       2|      samsung|           1|   (19,[0],[1.0])|(4,[2],[1.0])|(12,[0],[1.0])|(37,[0],[1.0])|      (7,[],[])|(83,[0,1,2,3,13,1...|(83,[0,1,2,3,13,1...|\n",
      "|1055.06|          3|electronics|smartphone|            2|               9|           17|                         0.0|             8|       2|        apple|           1|   (19,[1],[1.0])|(4,[2],[1.0])|(12,[0],[1.0])|(37,[0],[1.0])|  (7,[3],[1.0])|(83,[0,1,2,7,13,1...|(83,[0,1,2,7,13,1...|\n",
      "|1055.06|          3|electronics|smartphone|            3|              11|           20|                         0.0|            10|       2|        apple|           1|   (19,[1],[1.0])|(4,[2],[1.0])|(12,[0],[1.0])|(37,[0],[1.0])|  (7,[3],[1.0])|(83,[0,1,2,7,13,1...|(83,[0,1,2,7,13,1...|\n",
      "|1055.06|          3|electronics|smartphone|            2|              24|           41|                         0.0|            18|       3|        apple|           1|   (19,[1],[1.0])|(4,[3],[1.0])|(12,[0],[1.0])|(37,[0],[1.0])|  (7,[3],[1.0])|(83,[0,1,2,7,14,1...|(83,[0,1,2,7,14,1...|\n",
      "| 1746.5|          1|electronics|smartphone|            7|               1|           11|                     1634.51|             3|       3|        apple|           0|   (19,[1],[1.0])|(4,[3],[1.0])|(12,[0],[1.0])|(37,[0],[1.0])|  (7,[1],[1.0])|(83,[0,1,2,3,5,14...|(83,[0,1,2,3,5,14...|\n",
      "|1740.95|          2|electronics|smartphone|           16|              12|           68|                         0.0|             6|       2|        apple|           1|   (19,[1],[1.0])|(4,[2],[1.0])|(12,[0],[1.0])|(37,[0],[1.0])|  (7,[2],[1.0])|(83,[0,1,2,6,13,1...|(83,[0,1,2,6,13,1...|\n",
      "| 566.04|          6|electronics|smartphone|            6|               6|           13|                         0.0|             3|       1|        apple|           0|   (19,[1],[1.0])|(4,[1],[1.0])|(12,[0],[1.0])|(37,[0],[1.0])|  (7,[6],[1.0])|(83,[0,1,2,10,12,...|(83,[0,1,2,10,12,...|\n",
      "+-------+-----------+-----------+----------+-------------+----------------+-------------+----------------------------+--------------+--------+-------------+------------+-----------------+-------------+--------------+--------------+---------------+--------------------+--------------------+\n",
      "only showing top 20 rows\n",
      "\n"
     ]
    }
   ],
   "source": [
    "# Checking the elements of the transformed df - Top 20 rows\n",
    "df = df.drop(*['main_cat_ix','sub_cat_ix','brand_reduced_ix'])\n",
    "df.show(20)"
   ]
  },
  {
   "cell_type": "code",
   "execution_count": 27,
   "metadata": {},
   "outputs": [],
   "source": [
    "# Storing the transformed df in S3 bucket to prevent repetition of steps again\n"
   ]
  },
  {
   "cell_type": "markdown",
   "metadata": {},
   "source": [
    "#### Train-test split"
   ]
  },
  {
   "cell_type": "code",
   "execution_count": 28,
   "metadata": {},
   "outputs": [
    {
     "name": "stdout",
     "output_type": "stream",
     "text": [
      "+------------+------+\n",
      "|is_Purchased| count|\n",
      "+------------+------+\n",
      "|           1|486047|\n",
      "|           0|298314|\n",
      "+------------+------+\n",
      "\n"
     ]
    }
   ],
   "source": [
    "df.groupby('is_Purchased').count().show()"
   ]
  },
  {
   "cell_type": "code",
   "execution_count": 29,
   "metadata": {},
   "outputs": [],
   "source": [
    "# Splitting the data into train and test (Remember you are expected to compare the model later)\n",
    "# since imbalanced distribution, split dfs based on label value\n",
    "from pyspark.sql.functions import col\n",
    "df_0 = df.filter(col('is_Purchased')== 0)\n",
    "df_1 = df.filter(col('is_Purchased')== 1)\n",
    "train_0,test_0 = df_0.randomSplit([0.7,0.3],seed=42)\n",
    "train_1,test_1 = df_1.randomSplit([0.7,0.3],seed=42)\n",
    "train_df = train_0.union(train_1)\n",
    "test_df = test_0.union(test_1)"
   ]
  },
  {
   "cell_type": "code",
   "execution_count": 30,
   "metadata": {},
   "outputs": [
    {
     "data": {
      "text/plain": [
       "549880"
      ]
     },
     "execution_count": 30,
     "metadata": {},
     "output_type": "execute_result"
    }
   ],
   "source": [
    "# Number of rows in train and test data\n",
    "train_df.count()"
   ]
  },
  {
   "cell_type": "code",
   "execution_count": 31,
   "metadata": {},
   "outputs": [
    {
     "data": {
      "text/plain": [
       "234481"
      ]
     },
     "execution_count": 31,
     "metadata": {},
     "output_type": "execute_result"
    }
   ],
   "source": [
    "test_df.count()"
   ]
  },
  {
   "cell_type": "markdown",
   "metadata": {},
   "source": [
    "#### Model Fitting"
   ]
  },
  {
   "cell_type": "code",
   "execution_count": 32,
   "metadata": {},
   "outputs": [],
   "source": [
    "# Building the model\n",
    "from pyspark.ml.classification import LogisticRegression\n",
    "lr = LogisticRegression(featuresCol='scaled_features',labelCol='is_Purchased')"
   ]
  },
  {
   "cell_type": "code",
   "execution_count": 33,
   "metadata": {},
   "outputs": [],
   "source": [
    "# Fitting the model on transformed df\n",
    "model = lr.fit(train_df)"
   ]
  },
  {
   "cell_type": "code",
   "execution_count": 34,
   "metadata": {},
   "outputs": [],
   "source": [
    "trainingsummary = model.summary"
   ]
  },
  {
   "cell_type": "code",
   "execution_count": 35,
   "metadata": {},
   "outputs": [
    {
     "data": {
      "text/plain": [
       "0.70130210319589"
      ]
     },
     "execution_count": 35,
     "metadata": {},
     "output_type": "execute_result"
    }
   ],
   "source": [
    "trainingsummary.areaUnderROC"
   ]
  },
  {
   "cell_type": "code",
   "execution_count": 36,
   "metadata": {},
   "outputs": [],
   "source": [
    "fpr = trainingsummary.roc.select('FPR').collect()\n",
    "tpr = trainingsummary.roc.select('TPR').collect()"
   ]
  },
  {
   "cell_type": "code",
   "execution_count": 37,
   "metadata": {},
   "outputs": [],
   "source": [
    "import matplotlib.pyplot as plt"
   ]
  },
  {
   "cell_type": "code",
   "execution_count": 38,
   "metadata": {},
   "outputs": [
    {
     "data": {
      "image/png": "[encoded data removed]",
      "text/plain": [
       "<Figure size 360x288 with 1 Axes>"
      ]
     },
     "metadata": {
      "needs_background": "light"
     },
     "output_type": "display_data"
    }
   ],
   "source": [
    "plt.figure(figsize=(5,4))\n",
    "plt.xlabel('FPR')\n",
    "plt.ylabel('TPR')\n",
    "plt.plot(fpr,tpr,color='r',label=f'AUROC = {round(trainingsummary.areaUnderROC,3)}')\n",
    "plt.plot(fpr,fpr,'b--',label=f'No Skill')\n",
    "plt.legend()\n",
    "plt.plot\n",
    "plt.title('ROC curve training')\n",
    "plt.show()"
   ]
  },
  {
   "cell_type": "markdown",
   "metadata": {},
   "source": [
    "#### Model Analysis"
   ]
  },
  {
   "cell_type": "markdown",
   "metadata": {},
   "source": [
    "Required Steps:\n",
    "- Fit on test data\n",
    "- Performance analysis\n",
    "    - Appropriate Metric with reasoning\n",
    "    - Threshold selection"
   ]
  },
  {
   "cell_type": "code",
   "execution_count": 39,
   "metadata": {},
   "outputs": [],
   "source": [
    "# For getting the best threshold for the model, fmeasure is being maximized. "
   ]
  },
  {
   "cell_type": "code",
   "execution_count": 40,
   "metadata": {},
   "outputs": [],
   "source": [
    "# Set the model threshold to maximize F-Measure\n",
    "fMeasure = trainingsummary.fMeasureByThreshold\n",
    "maxFMeasure = fMeasure.groupBy().max('F-Measure').select('max(F-Measure)').head()\n",
    "bestThreshold = fMeasure.where(fMeasure['F-Measure'] == maxFMeasure['max(F-Measure)']) \\\n",
    "    .select('threshold').head()['threshold']"
   ]
  },
  {
   "cell_type": "code",
   "execution_count": 41,
   "metadata": {},
   "outputs": [
    {
     "data": {
      "text/plain": [
       "0.30136065945667695"
      ]
     },
     "execution_count": 41,
     "metadata": {},
     "output_type": "execute_result"
    }
   ],
   "source": [
    "bestThreshold"
   ]
  },
  {
   "cell_type": "code",
   "execution_count": 42,
   "metadata": {},
   "outputs": [],
   "source": [
    "trainpred = model.transform(train_df)"
   ]
  },
  {
   "cell_type": "code",
   "execution_count": 43,
   "metadata": {},
   "outputs": [],
   "source": [
    "testpred = model.transform(test_df)"
   ]
  },
  {
   "cell_type": "code",
   "execution_count": 44,
   "metadata": {},
   "outputs": [],
   "source": [
    "from pyspark.sql.functions import udf\n",
    "from pyspark.sql.types import FloatType\n",
    "getProb = udf(lambda x: float(x[1]),FloatType())\n",
    "trainpred = trainpred.withColumn('prob_purchased',getProb(col('probability')))\n",
    "testpred = testpred.withColumn('prob_purchased',getProb(col('probability')))"
   ]
  },
  {
   "cell_type": "code",
   "execution_count": 45,
   "metadata": {},
   "outputs": [
    {
     "name": "stdout",
     "output_type": "stream",
     "text": [
      "AUROC test is  0.701\n"
     ]
    }
   ],
   "source": [
    "from pyspark.mllib.evaluation import BinaryClassificationMetrics\n",
    "from pyspark.mllib.evaluation import MulticlassMetrics\n",
    "\n",
    "# AUC ROC for test set\n",
    "testpreds = testpred.select('is_Purchased','prob_purchased').rdd.map(lambda row: (float(row['prob_purchased']), float(row['is_Purchased'])))\n",
    "b_metrics = BinaryClassificationMetrics(testpreds)\n",
    "print('AUROC test is ',round(b_metrics.areaUnderROC,3))"
   ]
  },
  {
   "cell_type": "code",
   "execution_count": 46,
   "metadata": {},
   "outputs": [],
   "source": [
    "predAndLabelstrain = trainpred.select('prediction','is_Purchased').rdd.map(lambda row: (float(row['prediction']), float(row['is_Purchased'])))\n",
    "predAndLabelstest = testpred.select('prediction','is_Purchased').rdd.map(lambda row: (float(row['prediction']), float(row['is_Purchased'])))\n",
    "trainMetrics = MulticlassMetrics(predAndLabelstrain)\n",
    "testMetrics = MulticlassMetrics(predAndLabelstest)"
   ]
  },
  {
   "cell_type": "code",
   "execution_count": 47,
   "metadata": {},
   "outputs": [
    {
     "name": "stdout",
     "output_type": "stream",
     "text": [
      "Precision Comaprison\n",
      "Train : 0.6718563071676856\n",
      "Test : 0.6727275735415771\n"
     ]
    }
   ],
   "source": [
    "print('Precision Comaprison')\n",
    "print(f'Train : {trainMetrics.precision(1.0)}')\n",
    "print(f'Test : {testMetrics.precision(1.0)}')"
   ]
  },
  {
   "cell_type": "code",
   "execution_count": 48,
   "metadata": {},
   "outputs": [
    {
     "name": "stdout",
     "output_type": "stream",
     "text": [
      "Recall Comaprison\n",
      "Train : 0.8377818041928882\n",
      "Test : 0.838267430833299\n"
     ]
    }
   ],
   "source": [
    "print('Recall Comaprison')\n",
    "print(f'Train : {trainMetrics.recall(1.0)}')\n",
    "print(f'Test : {testMetrics.recall(1.0)}')"
   ]
  },
  {
   "cell_type": "code",
   "execution_count": 49,
   "metadata": {},
   "outputs": [
    {
     "name": "stdout",
     "output_type": "stream",
     "text": [
      "fMeasure Comaprison\n",
      "Train : 0.7457005555722551\n",
      "Test : 0.7464294892976466\n"
     ]
    }
   ],
   "source": [
    "print('fMeasure Comaprison')\n",
    "print(f'Train : {trainMetrics.fMeasure(1.0)}')\n",
    "print(f'Test : {testMetrics.fMeasure(1.0)}')"
   ]
  },
  {
   "cell_type": "code",
   "execution_count": 50,
   "metadata": {},
   "outputs": [
    {
     "name": "stdout",
     "output_type": "stream",
     "text": [
      "Confusion Matrix\n",
      "Train :\n",
      " [[ 70012. 139339.]\n",
      " [ 55240. 285289.]]\n",
      "Test : \n",
      "[[ 29620.  59343.]\n",
      " [ 23535. 121983.]]\n"
     ]
    }
   ],
   "source": [
    "print('Confusion Matrix')\n",
    "print(f'Train :\\n {trainMetrics.confusionMatrix().toArray()}')\n",
    "print(f'Test : \\n{testMetrics.confusionMatrix().toArray()}')"
   ]
  },
  {
   "cell_type": "code",
   "execution_count": 51,
   "metadata": {},
   "outputs": [],
   "source": [
    "## tuning using the best threshold based on fMeasure\n",
    "from pyspark.sql.functions import when,col\n",
    "trainpred = trainpred.withColumn('tunedPrediction',when(col('prob_purchased')>=bestThreshold,1.0).otherwise(0.0))\n",
    "testpred = testpred.withColumn('tunedPrediction',when(col('prob_purchased')>=bestThreshold,1.0).otherwise(0.0))"
   ]
  },
  {
   "cell_type": "code",
   "execution_count": 52,
   "metadata": {},
   "outputs": [],
   "source": [
    "predAndLabelstrain = trainpred.select('tunedPrediction','is_Purchased').rdd.map(lambda row: (float(row['tunedPrediction']), float(row['is_Purchased'])))\n",
    "predAndLabelstest = testpred.select('tunedPrediction','is_Purchased').rdd.map(lambda row: (float(row['tunedPrediction']), float(row['is_Purchased'])))\n",
    "trainMetrics = MulticlassMetrics(predAndLabelstrain)\n",
    "testMetrics = MulticlassMetrics(predAndLabelstest)"
   ]
  },
  {
   "cell_type": "code",
   "execution_count": 53,
   "metadata": {},
   "outputs": [
    {
     "name": "stdout",
     "output_type": "stream",
     "text": [
      "Precision Comaprison\n",
      "Train : 0.6203034081842431\n",
      "Test : 0.6216215058920253\n"
     ]
    }
   ],
   "source": [
    "print('Precision Comaprison')\n",
    "print(f'Train : {trainMetrics.precision(1.0)}')\n",
    "print(f'Test : {testMetrics.precision(1.0)}')"
   ]
  },
  {
   "cell_type": "code",
   "execution_count": 54,
   "metadata": {},
   "outputs": [
    {
     "name": "stdout",
     "output_type": "stream",
     "text": [
      "Recall Comaprison\n",
      "Train : 0.9977035729702903\n",
      "Test : 0.9976154152750862\n"
     ]
    }
   ],
   "source": [
    "print('Recall Comaprison')\n",
    "print(f'Train : {trainMetrics.recall(1.0)}')\n",
    "print(f'Test : {testMetrics.recall(1.0)}')"
   ]
  },
  {
   "cell_type": "code",
   "execution_count": 55,
   "metadata": {},
   "outputs": [
    {
     "name": "stdout",
     "output_type": "stream",
     "text": [
      "fMeasure Comaprison\n",
      "Train : 0.7649891921102404\n",
      "Test : 0.7659647438095892\n"
     ]
    }
   ],
   "source": [
    "print('fMeasure Comaprison')\n",
    "print(f'Train : {trainMetrics.fMeasure(1.0)}')\n",
    "print(f'Test : {testMetrics.fMeasure(1.0)}')"
   ]
  },
  {
   "cell_type": "code",
   "execution_count": 56,
   "metadata": {},
   "outputs": [
    {
     "name": "stdout",
     "output_type": "stream",
     "text": [
      "Confusion Matrix\n",
      "Train :\n",
      " [[  1387. 207964.]\n",
      " [   782. 339747.]]\n",
      "Test : \n",
      "[[   598.  88365.]\n",
      " [   347. 145171.]]\n"
     ]
    }
   ],
   "source": [
    "print('Confusion Matrix')\n",
    "print(f'Train :\\n {trainMetrics.confusionMatrix().toArray()}')\n",
    "print(f'Test : \\n{testMetrics.confusionMatrix().toArray()}')"
   ]
  },
  {
   "cell_type": "markdown",
   "metadata": {},
   "source": [
    "### Finding the feature importance"
   ]
  },
  {
   "cell_type": "code",
   "execution_count": 57,
   "metadata": {},
   "outputs": [],
   "source": [
    "# Defining a function to extract features along with the feature importance score\n",
    "def ExtractFeatureImp(featureImp,dataset,featuresCol):\n",
    "    list_extract=[]\n",
    "    for i in dataset.schema[featuresCol].metadata[\"ml_attr\"][\"attrs\"]:\n",
    "        list_extract=list_extract+dataset.schema[featuresCol].metadata[\"ml_attr\"][\"attrs\"][i]\n",
    "    varlist=pd.DataFrame(list_extract)\n",
    "    varlist['score']=varlist['idx'].apply(lambda x: featureImp[x])\n",
    "    return(varlist.sort_values('score',ascending=False))"
   ]
  },
  {
   "cell_type": "code",
   "execution_count": 58,
   "metadata": {},
   "outputs": [],
   "source": [
    "# Printing the feature importance scores\n",
    "featureImp = pd.DataFrame(ExtractFeatureImp(model.coefficients,trainpred,\"features\"))"
   ]
  },
  {
   "cell_type": "code",
   "execution_count": 59,
   "metadata": {},
   "outputs": [],
   "source": [
    "featureImp['abs_coeff'] = featureImp['score'].apply(abs)"
   ]
  },
  {
   "cell_type": "code",
   "execution_count": 60,
   "metadata": {
    "scrolled": true
   },
   "outputs": [
    {
     "data": {
      "text/html": [
       "<div>\n",
       "<style scoped>\n",
       "    .dataframe tbody tr th:only-of-type {\n",
       "        vertical-align: middle;\n",
       "    }\n",
       "\n",
       "    .dataframe tbody tr th {\n",
       "        vertical-align: top;\n",
       "    }\n",
       "\n",
       "    .dataframe thead th {\n",
       "        text-align: right;\n",
       "    }\n",
       "</style>\n",
       "<table border=\"1\" class=\"dataframe\">\n",
       "  <thead>\n",
       "    <tr style=\"text-align: right;\">\n",
       "      <th></th>\n",
       "      <th>idx</th>\n",
       "      <th>name</th>\n",
       "      <th>score</th>\n",
       "      <th>abs_coeff</th>\n",
       "    </tr>\n",
       "  </thead>\n",
       "  <tbody>\n",
       "    <tr>\n",
       "      <th>3</th>\n",
       "      <td>3</td>\n",
       "      <td>avg_shopping_expense_per_cat</td>\n",
       "      <td>0.943846</td>\n",
       "      <td>0.943846</td>\n",
       "    </tr>\n",
       "    <tr>\n",
       "      <th>2</th>\n",
       "      <td>2</td>\n",
       "      <td>product_affinity</td>\n",
       "      <td>0.418346</td>\n",
       "      <td>0.418346</td>\n",
       "    </tr>\n",
       "    <tr>\n",
       "      <th>0</th>\n",
       "      <td>0</td>\n",
       "      <td>price</td>\n",
       "      <td>-0.254123</td>\n",
       "      <td>0.254123</td>\n",
       "    </tr>\n",
       "    <tr>\n",
       "      <th>23</th>\n",
       "      <td>23</td>\n",
       "      <td>main_cat_enc_accessories</td>\n",
       "      <td>-0.154469</td>\n",
       "      <td>0.154469</td>\n",
       "    </tr>\n",
       "    <tr>\n",
       "      <th>48</th>\n",
       "      <td>48</td>\n",
       "      <td>sub_cat_enc_bag</td>\n",
       "      <td>0.140000</td>\n",
       "      <td>0.140000</td>\n",
       "    </tr>\n",
       "    <tr>\n",
       "      <th>...</th>\n",
       "      <td>...</td>\n",
       "      <td>...</td>\n",
       "      <td>...</td>\n",
       "      <td>...</td>\n",
       "    </tr>\n",
       "    <tr>\n",
       "      <th>39</th>\n",
       "      <td>39</td>\n",
       "      <td>sub_cat_enc_iron</td>\n",
       "      <td>0.001254</td>\n",
       "      <td>0.001254</td>\n",
       "    </tr>\n",
       "    <tr>\n",
       "      <th>65</th>\n",
       "      <td>65</td>\n",
       "      <td>brand_reduced_enc_apple</td>\n",
       "      <td>0.000657</td>\n",
       "      <td>0.000657</td>\n",
       "    </tr>\n",
       "    <tr>\n",
       "      <th>52</th>\n",
       "      <td>52</td>\n",
       "      <td>sub_cat_enc_bedroom</td>\n",
       "      <td>0.000625</td>\n",
       "      <td>0.000625</td>\n",
       "    </tr>\n",
       "    <tr>\n",
       "      <th>4</th>\n",
       "      <td>4</td>\n",
       "      <td>day_of_week_enc_0</td>\n",
       "      <td>0.000000</td>\n",
       "      <td>0.000000</td>\n",
       "    </tr>\n",
       "    <tr>\n",
       "      <th>11</th>\n",
       "      <td>11</td>\n",
       "      <td>hour_bin_enc_0</td>\n",
       "      <td>0.000000</td>\n",
       "      <td>0.000000</td>\n",
       "    </tr>\n",
       "  </tbody>\n",
       "</table>\n",
       "<p>83 rows × 4 columns</p>\n",
       "</div>"
      ],
      "text/plain": [
       "    idx                          name     score  abs_coeff\n",
       "3     3  avg_shopping_expense_per_cat  0.943846   0.943846\n",
       "2     2              product_affinity  0.418346   0.418346\n",
       "0     0                         price -0.254123   0.254123\n",
       "23   23      main_cat_enc_accessories -0.154469   0.154469\n",
       "48   48               sub_cat_enc_bag  0.140000   0.140000\n",
       "..  ...                           ...       ...        ...\n",
       "39   39              sub_cat_enc_iron  0.001254   0.001254\n",
       "65   65       brand_reduced_enc_apple  0.000657   0.000657\n",
       "52   52           sub_cat_enc_bedroom  0.000625   0.000625\n",
       "4     4             day_of_week_enc_0  0.000000   0.000000\n",
       "11   11                hour_bin_enc_0  0.000000   0.000000\n",
       "\n",
       "[83 rows x 4 columns]"
      ]
     },
     "execution_count": 60,
     "metadata": {},
     "output_type": "execute_result"
    }
   ],
   "source": [
    "featureImp.sort_values('abs_coeff',ascending=False)"
   ]
  },
  {
   "cell_type": "code",
   "execution_count": 61,
   "metadata": {},
   "outputs": [
    {
     "data": {
      "text/plain": [
       "<BarContainer object of 83 artists>"
      ]
     },
     "execution_count": 61,
     "metadata": {},
     "output_type": "execute_result"
    },
    {
     "data": {
      "image/png": "[encoded data removed]",
      "text/plain": [
       "<Figure size 1440x720 with 1 Axes>"
      ]
     },
     "metadata": {
      "needs_background": "light"
     },
     "output_type": "display_data"
    }
   ],
   "source": [
    "plt.figure(figsize=(20,10))\n",
    "plt.xticks(rotation=90)\n",
    "plt.bar(data=featureImp,x='name',height='score')"
   ]
  },
  {
   "cell_type": "markdown",
   "metadata": {},
   "source": [
    "#### Updated model, if any\n",
    "Repeat the steps "
   ]
  },
  {
   "cell_type": "code",
   "execution_count": null,
   "metadata": {},
   "outputs": [],
   "source": []
  }
 ],
 "metadata": {
  "kernelspec": {
   "display_name": "Python 3",
   "language": "python",
   "name": "python3"
  },
  "language_info": {
   "codemirror_mode": {
    "name": "ipython",
    "version": 3
   },
   "file_extension": ".py",
   "mimetype": "text/x-python",
   "name": "python",
   "nbconvert_exporter": "python",
   "pygments_lexer": "ipython3",
   "version": "3.7.9"
  }
 },
 "nbformat": 4,
 "nbformat_minor": 4
}
