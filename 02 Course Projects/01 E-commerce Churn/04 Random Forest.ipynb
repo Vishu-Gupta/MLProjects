{
 "cells": [
  {
   "cell_type": "code",
   "execution_count": 1,
   "metadata": {},
   "outputs": [],
   "source": [
    "# Setting the environment variables"
   ]
  },
  {
   "cell_type": "code",
   "execution_count": 2,
   "metadata": {},
   "outputs": [],
   "source": [
    "import os\n",
    "import sys\n",
    "os.environ[\"PYSPARK_PYTHON\"]=\"/usr/bin/python3\"\n",
    "os.environ[\"PYSPARK_DRIVER_PYTHON\"]=\"/usr/bin/python3\"\n",
    "os.environ[\"PYSPARK_DRIVER_PYTHON_OPTS\"]=\"notebook --no-browser\"\n",
    "os.environ[\"JAVA_HOME\"] = \"/usr/java/jdk1.8.0_161/jre\"\n",
    "os.environ[\"SPARK_HOME\"] = \"/home/ec2-user/spark-2.4.4-bin-hadoop2.7\"\n",
    "os.environ[\"PYLIB\"] = os.environ[\"SPARK_HOME\"] + \"/python/lib\"\n",
    "sys.path.insert(0, os.environ[\"PYLIB\"] + \"/py4j-0.10.7-src.zip\")\n",
    "sys.path.insert(0, os.environ[\"PYLIB\"] + \"/pyspark.zip\")"
   ]
  },
  {
   "cell_type": "code",
   "execution_count": 3,
   "metadata": {},
   "outputs": [],
   "source": [
    "import pandas as pd\n",
    "import numpy as np\n",
    "import matplotlib.pyplot as plt"
   ]
  },
  {
   "cell_type": "code",
   "execution_count": 4,
   "metadata": {},
   "outputs": [],
   "source": [
    "# Spark environment\n",
    "from pyspark import SparkConf\n",
    "from pyspark.sql import SparkSession"
   ]
  },
  {
   "cell_type": "code",
   "execution_count": 5,
   "metadata": {},
   "outputs": [
    {
     "data": {
      "text/html": [
       "\n",
       "            <div>\n",
       "                <p><b>SparkSession - in-memory</b></p>\n",
       "                \n",
       "        <div>\n",
       "            <p><b>SparkContext</b></p>\n",
       "\n",
       "            <p><a href=\"http://ip-172-31-84-191.ec2.internal:4041\">Spark UI</a></p>\n",
       "\n",
       "            <dl>\n",
       "              <dt>Version</dt>\n",
       "                <dd><code>v2.4.4</code></dd>\n",
       "              <dt>Master</dt>\n",
       "                <dd><code>local[*]</code></dd>\n",
       "              <dt>AppName</dt>\n",
       "                <dd><code>demo</code></dd>\n",
       "            </dl>\n",
       "        </div>\n",
       "        \n",
       "            </div>\n",
       "        "
      ],
      "text/plain": [
       "<pyspark.sql.session.SparkSession at 0x7f5f87731c50>"
      ]
     },
     "execution_count": 5,
     "metadata": {},
     "output_type": "execute_result"
    }
   ],
   "source": [
    "# initialising the session with 14 GB driver memory\n",
    "MAX_MEMORY = \"14G\"\n",
    "\n",
    "spark = SparkSession \\\n",
    "    .builder \\\n",
    "    .appName(\"demo\") \\\n",
    "    .config(\"spark.driver.memory\", MAX_MEMORY) \\\n",
    "    .config(\"spark.executor.heartbeatInterval\",'10000s') \\\n",
    "    .config(\"spark.network.timeout\",'10200s') \\\n",
    "    .getOrCreate()\n",
    "\n",
    "spark"
   ]
  },
  {
   "cell_type": "markdown",
   "metadata": {},
   "source": [
    "# Ecommerce Churn Assignment"
   ]
  },
  {
   "cell_type": "markdown",
   "metadata": {},
   "source": [
    "The aim of the assignment is to build a model that predicts whether a person purchases an item after it has been added to the cart or not. Being a classification problem, you are expected to use your understanding of all the three models covered till now. You must select the most robust model and provide a solution that predicts the churn in the most suitable manner. \n",
    "\n",
    "For this assignment, you are provided the data associated with an e-commerce company for the month of October 2019. Your task is to first analyse the data, and then perform multiple steps towards the model building process.\n",
    "\n",
    "The broad tasks are:\n",
    "- Data Exploration\n",
    "- Feature Engineering\n",
    "- Model Selection\n",
    "- Model Inference"
   ]
  },
  {
   "cell_type": "markdown",
   "metadata": {},
   "source": [
    "### Data description"
   ]
  },
  {
   "cell_type": "markdown",
   "metadata": {},
   "source": [
    "The dataset stores the information of a customer session on the e-commerce platform. It records the activity and the associated parameters with it.\n",
    "\n",
    "- **event_time**: Date and time when user accesses the platform\n",
    "- **event_type**: Action performed by the customer\n",
    "            - View\n",
    "            - Cart\n",
    "            - Purchase\n",
    "            - Remove from cart\n",
    "- **product_id**: Unique number to identify the product in the event\n",
    "- **category_id**: Unique number to identify the category of the product\n",
    "- **category_code**: Stores primary and secondary categories of the product\n",
    "- **brand**: Brand associated with the product\n",
    "- **price**: Price of the product\n",
    "- **user_id**: Unique ID for a customer\n",
    "- **user_session**: Session ID for a user\n"
   ]
  },
  {
   "cell_type": "markdown",
   "metadata": {},
   "source": [
    "### Initialising the SparkSession"
   ]
  },
  {
   "cell_type": "markdown",
   "metadata": {},
   "source": [
    "The dataset provided is 5 GBs in size. Therefore, it is expected that you increase the driver memory to a greater number. You can refer to notebook 1 for the steps involved here."
   ]
  },
  {
   "cell_type": "code",
   "execution_count": 6,
   "metadata": {},
   "outputs": [],
   "source": [
    "## loading clean data\n",
    "df  = spark.read.parquet('cleaned_df.parquet')"
   ]
  },
  {
   "cell_type": "markdown",
   "metadata": {},
   "source": [
    "## Task 3: Model Selection\n",
    "3 models for classification:\t\n",
    "- Logistic Regression\n",
    "- Decision Tree\n",
    "- Random Forest"
   ]
  },
  {
   "cell_type": "markdown",
   "metadata": {},
   "source": [
    "### Model 3: Random Forest"
   ]
  },
  {
   "cell_type": "code",
   "execution_count": 7,
   "metadata": {},
   "outputs": [],
   "source": [
    "# Additional steps for Decision Trees, if any\n"
   ]
  },
  {
   "cell_type": "code",
   "execution_count": null,
   "metadata": {},
   "outputs": [],
   "source": []
  },
  {
   "cell_type": "markdown",
   "metadata": {},
   "source": [
    "#### Feature Transformation (Code will be same; check for the columns)"
   ]
  },
  {
   "cell_type": "code",
   "execution_count": 8,
   "metadata": {},
   "outputs": [],
   "source": [
    "# Categorising the attributes into its type - Continuous and Categorical\n",
    "# Categorising the attributes into its type - Continuous and Categorical\n",
    "categ_cols = ['main_cat','sub_cat','brand_reduced']\n",
    "num_categ_cols = ['day_of_week','hour_bin']\n",
    "num_cols  =  ['price',\n",
    " 'user_activity',\n",
    " 'product_affinity',\n",
    " 'avg_shopping_expense_per_cat','session_counts','sub_cat_views']"
   ]
  },
  {
   "cell_type": "code",
   "execution_count": 9,
   "metadata": {},
   "outputs": [],
   "source": [
    "# Feature transformation for categorical features\n",
    "stages = []\n",
    "from pyspark.ml.feature import StringIndexer\n",
    "for c in categ_cols:   \n",
    "    si = StringIndexer(inputCol=c,outputCol=c+'_ix')\n",
    "    stages.append(si)"
   ]
  },
  {
   "cell_type": "code",
   "execution_count": 10,
   "metadata": {},
   "outputs": [],
   "source": [
    "from pyspark.ml.feature import OneHotEncoderEstimator\n",
    "cols_to_encode = num_categ_cols + [c+'_ix' for c in categ_cols]\n",
    "encoded_cols = [c+'_enc' for c in num_categ_cols] + [c+'_enc' for c in categ_cols]\n",
    "ohe = OneHotEncoderEstimator(inputCols =cols_to_encode, outputCols = encoded_cols)\n",
    "stages.append(ohe)"
   ]
  },
  {
   "cell_type": "code",
   "execution_count": 11,
   "metadata": {},
   "outputs": [],
   "source": [
    "## updating features\n",
    "features = num_cols + encoded_cols"
   ]
  },
  {
   "cell_type": "code",
   "execution_count": 12,
   "metadata": {},
   "outputs": [],
   "source": [
    "# Vector assembler to combine all the features\n",
    "from pyspark.ml.feature import VectorAssembler,StandardScaler\n",
    "assembler = VectorAssembler(inputCols=features,outputCol='features')\n",
    "stages.append(assembler)"
   ]
  },
  {
   "cell_type": "code",
   "execution_count": 13,
   "metadata": {},
   "outputs": [],
   "source": [
    "# Pipeline for the tasks\n",
    "from pyspark.ml import Pipeline\n",
    "pipeline = Pipeline(stages=stages)\n"
   ]
  },
  {
   "cell_type": "code",
   "execution_count": 14,
   "metadata": {},
   "outputs": [],
   "source": [
    "# Transforming the dataframe df\n",
    "df = pipeline.fit(df).transform(df)"
   ]
  },
  {
   "cell_type": "code",
   "execution_count": 15,
   "metadata": {},
   "outputs": [
    {
     "name": "stdout",
     "output_type": "stream",
     "text": [
      "root\n",
      " |-- price: double (nullable = true)\n",
      " |-- day_of_week: integer (nullable = true)\n",
      " |-- main_cat: string (nullable = true)\n",
      " |-- sub_cat: string (nullable = true)\n",
      " |-- user_activity: long (nullable = true)\n",
      " |-- product_affinity: long (nullable = true)\n",
      " |-- sub_cat_views: long (nullable = true)\n",
      " |-- avg_shopping_expense_per_cat: double (nullable = true)\n",
      " |-- session_counts: long (nullable = true)\n",
      " |-- hour_bin: integer (nullable = true)\n",
      " |-- brand_reduced: string (nullable = true)\n",
      " |-- is_Purchased: integer (nullable = true)\n",
      " |-- main_cat_ix: double (nullable = false)\n",
      " |-- sub_cat_ix: double (nullable = false)\n",
      " |-- brand_reduced_ix: double (nullable = false)\n",
      " |-- brand_reduced_enc: vector (nullable = true)\n",
      " |-- hour_bin_enc: vector (nullable = true)\n",
      " |-- main_cat_enc: vector (nullable = true)\n",
      " |-- sub_cat_enc: vector (nullable = true)\n",
      " |-- day_of_week_enc: vector (nullable = true)\n",
      " |-- features: vector (nullable = true)\n",
      "\n"
     ]
    }
   ],
   "source": [
    "# Schema of the transformed df\n",
    "df.printSchema()\n"
   ]
  },
  {
   "cell_type": "code",
   "execution_count": 16,
   "metadata": {},
   "outputs": [
    {
     "name": "stdout",
     "output_type": "stream",
     "text": [
      "+-------+-----------+-----------+----------+-------------+----------------+-------------+----------------------------+--------------+--------+-------------+------------+-----------+----------+----------------+-----------------+-------------+--------------+--------------+---------------+--------------------+\n",
      "|  price|day_of_week|   main_cat|   sub_cat|user_activity|product_affinity|sub_cat_views|avg_shopping_expense_per_cat|session_counts|hour_bin|brand_reduced|is_Purchased|main_cat_ix|sub_cat_ix|brand_reduced_ix|brand_reduced_enc| hour_bin_enc|  main_cat_enc|   sub_cat_enc|day_of_week_enc|            features|\n",
      "+-------+-----------+-----------+----------+-------------+----------------+-------------+----------------------------+--------------+--------+-------------+------------+-----------+----------+----------------+-----------------+-------------+--------------+--------------+---------------+--------------------+\n",
      "| 755.49|          1|electronics|smartphone|            3|               5|            6|                         0.0|             2|       2|        apple|           0|        0.0|       0.0|             1.0|   (19,[1],[1.0])|(4,[2],[1.0])|(12,[0],[1.0])|(37,[0],[1.0])|  (7,[1],[1.0])|(85,[0,1,2,4,5,7,...|\n",
      "| 558.03|          5| appliances|   kitchen|            2|               1|           16|                         0.0|             8|       3|        Other|           0|        1.0|       1.0|             2.0|   (19,[2],[1.0])|(4,[3],[1.0])|(12,[1],[1.0])|(37,[1],[1.0])|  (7,[5],[1.0])|(85,[0,1,2,4,5,11...|\n",
      "| 545.63|          6|electronics|smartphone|            2|               1|            1|                         0.0|             1|       3|      samsung|           0|        0.0|       0.0|             0.0|   (19,[0],[1.0])|(4,[3],[1.0])|(12,[0],[1.0])|(37,[0],[1.0])|  (7,[6],[1.0])|(85,[0,1,2,4,5,12...|\n",
      "| 164.59|          6|electronics|smartphone|            3|               2|           18|                         0.0|             3|       2|       xiaomi|           0|        0.0|       0.0|             3.0|   (19,[3],[1.0])|(4,[2],[1.0])|(12,[0],[1.0])|(37,[0],[1.0])|  (7,[6],[1.0])|(85,[0,1,2,4,5,12...|\n",
      "|  22.94|          1|electronics|     audio|            2|               1|            1|                         0.0|             1|       2|       xiaomi|           0|        0.0|       2.0|             3.0|   (19,[3],[1.0])|(4,[2],[1.0])|(12,[0],[1.0])|(37,[2],[1.0])|  (7,[1],[1.0])|(85,[0,1,2,4,5,7,...|\n",
      "| 460.63|          3|electronics|smartphone|            2|               2|            5|                      584.29|             3|       1|        apple|           1|        0.0|       0.0|             1.0|   (19,[1],[1.0])|(4,[1],[1.0])|(12,[0],[1.0])|(37,[0],[1.0])|  (7,[3],[1.0])|(85,[0,1,2,3,4,5,...|\n",
      "| 288.03|          3|electronics|smartphone|            2|               2|            9|                      334.11|             3|       2|      samsung|           1|        0.0|       0.0|             0.0|   (19,[0],[1.0])|(4,[2],[1.0])|(12,[0],[1.0])|(37,[0],[1.0])|  (7,[3],[1.0])|(85,[0,1,2,3,4,5,...|\n",
      "| 122.98|          1|electronics|     video|            3|               2|            2|                         0.0|            10|       2|        artel|           1|        0.0|       3.0|            13.0|  (19,[13],[1.0])|(4,[2],[1.0])|(12,[0],[1.0])|(37,[3],[1.0])|  (7,[1],[1.0])|(85,[0,1,2,4,5,7,...|\n",
      "| 130.76|          3|electronics|smartphone|            2|               1|            1|                         0.0|             1|       1|      samsung|           1|        0.0|       0.0|             0.0|   (19,[0],[1.0])|(4,[1],[1.0])|(12,[0],[1.0])|(37,[0],[1.0])|  (7,[3],[1.0])|(85,[0,1,2,4,5,9,...|\n",
      "| 635.77|          6|electronics|    clocks|            2|               2|            2|                         0.0|             4|       2|        apple|           1|        0.0|       5.0|             1.0|   (19,[1],[1.0])|(4,[2],[1.0])|(12,[0],[1.0])|(37,[5],[1.0])|  (7,[6],[1.0])|(85,[0,1,2,4,5,12...|\n",
      "| 244.51|          1|electronics|    tablet|            2|               1|            1|                         0.0|             4|       2|      samsung|           1|        0.0|       7.0|             0.0|   (19,[0],[1.0])|(4,[2],[1.0])|(12,[0],[1.0])|(37,[7],[1.0])|  (7,[1],[1.0])|(85,[0,1,2,4,5,7,...|\n",
      "| 244.51|          1|electronics|    tablet|            6|               4|            4|                         0.0|             4|       2|      samsung|           1|        0.0|       7.0|             0.0|   (19,[0],[1.0])|(4,[2],[1.0])|(12,[0],[1.0])|(37,[7],[1.0])|  (7,[1],[1.0])|(85,[0,1,2,4,5,7,...|\n",
      "|  126.1|          4| appliances|   kitchen|           10|               3|            6|                         0.0|             3|       2|      samsung|           0|        1.0|       1.0|             0.0|   (19,[0],[1.0])|(4,[2],[1.0])|(12,[1],[1.0])|(37,[1],[1.0])|  (7,[4],[1.0])|(85,[0,1,2,4,5,10...|\n",
      "| 131.92|          7|electronics|smartphone|            2|               3|            5|                      172.02|             7|       2|      samsung|           1|        0.0|       0.0|             0.0|   (19,[0],[1.0])|(4,[2],[1.0])|(12,[0],[1.0])|(37,[0],[1.0])|      (7,[],[])|(85,[0,1,2,3,4,5,...|\n",
      "|1055.06|          3|electronics|smartphone|            2|               9|           17|                         0.0|             8|       2|        apple|           1|        0.0|       0.0|             1.0|   (19,[1],[1.0])|(4,[2],[1.0])|(12,[0],[1.0])|(37,[0],[1.0])|  (7,[3],[1.0])|(85,[0,1,2,4,5,9,...|\n",
      "|1055.06|          3|electronics|smartphone|            3|              11|           20|                         0.0|            10|       2|        apple|           1|        0.0|       0.0|             1.0|   (19,[1],[1.0])|(4,[2],[1.0])|(12,[0],[1.0])|(37,[0],[1.0])|  (7,[3],[1.0])|(85,[0,1,2,4,5,9,...|\n",
      "|1055.06|          3|electronics|smartphone|            2|              24|           41|                         0.0|            18|       3|        apple|           1|        0.0|       0.0|             1.0|   (19,[1],[1.0])|(4,[3],[1.0])|(12,[0],[1.0])|(37,[0],[1.0])|  (7,[3],[1.0])|(85,[0,1,2,4,5,9,...|\n",
      "| 1746.5|          1|electronics|smartphone|            7|               1|           11|                     1634.51|             3|       3|        apple|           0|        0.0|       0.0|             1.0|   (19,[1],[1.0])|(4,[3],[1.0])|(12,[0],[1.0])|(37,[0],[1.0])|  (7,[1],[1.0])|(85,[0,1,2,3,4,5,...|\n",
      "|1740.95|          2|electronics|smartphone|           16|              12|           68|                         0.0|             6|       2|        apple|           1|        0.0|       0.0|             1.0|   (19,[1],[1.0])|(4,[2],[1.0])|(12,[0],[1.0])|(37,[0],[1.0])|  (7,[2],[1.0])|(85,[0,1,2,4,5,8,...|\n",
      "| 566.04|          6|electronics|smartphone|            6|               6|           13|                         0.0|             3|       1|        apple|           0|        0.0|       0.0|             1.0|   (19,[1],[1.0])|(4,[1],[1.0])|(12,[0],[1.0])|(37,[0],[1.0])|  (7,[6],[1.0])|(85,[0,1,2,4,5,12...|\n",
      "+-------+-----------+-----------+----------+-------------+----------------+-------------+----------------------------+--------------+--------+-------------+------------+-----------+----------+----------------+-----------------+-------------+--------------+--------------+---------------+--------------------+\n",
      "only showing top 20 rows\n",
      "\n"
     ]
    }
   ],
   "source": [
    "# Checking the elements of the transformed df - Top 20 rows\n",
    "df.show(20)"
   ]
  },
  {
   "cell_type": "code",
   "execution_count": 17,
   "metadata": {},
   "outputs": [],
   "source": [
    "# Storing the transformed df in S3 bucket to prevent repetition of steps again\n"
   ]
  },
  {
   "cell_type": "markdown",
   "metadata": {},
   "source": [
    "#### Train-test split"
   ]
  },
  {
   "cell_type": "code",
   "execution_count": 18,
   "metadata": {},
   "outputs": [],
   "source": [
    "# Splitting the data into train and test (Remember you are expected to compare the model later)\n",
    "# Splitting the data into train and test (Remember you are expected to compare the model later)\n",
    "# since imbalanced distribution, split dfs based on label value\n",
    "from pyspark.sql.functions import col\n",
    "from pyspark.sql.types import DoubleType\n",
    "df = df.withColumnRenamed('is_Purchased','label')\n",
    "df_0 = df.filter(col('label')== 0)\n",
    "df_1 = df.filter(col('label')== 1)\n",
    "train_0,test_0 = df_0.randomSplit([0.7,0.3],seed=42)\n",
    "train_1,test_1 = df_1.randomSplit([0.7,0.3],seed=42)\n",
    "train_df = train_0.union(train_1)\n",
    "test_df = test_0.union(test_1)"
   ]
  },
  {
   "cell_type": "code",
   "execution_count": 19,
   "metadata": {},
   "outputs": [
    {
     "data": {
      "text/plain": [
       "549880"
      ]
     },
     "execution_count": 19,
     "metadata": {},
     "output_type": "execute_result"
    }
   ],
   "source": [
    "# Number of rows in train and test data\n",
    "train_df.count()"
   ]
  },
  {
   "cell_type": "code",
   "execution_count": 20,
   "metadata": {},
   "outputs": [
    {
     "data": {
      "text/plain": [
       "234481"
      ]
     },
     "execution_count": 20,
     "metadata": {},
     "output_type": "execute_result"
    }
   ],
   "source": [
    "test_df.count()"
   ]
  },
  {
   "cell_type": "markdown",
   "metadata": {},
   "source": [
    "#### Model Fitting"
   ]
  },
  {
   "cell_type": "code",
   "execution_count": 22,
   "metadata": {},
   "outputs": [],
   "source": [
    "## Base Model\n",
    "from pyspark.ml.classification import RandomForestClassifier\n",
    "rf = RandomForestClassifier(featuresCol='features',labelCol='label',numTrees=20)\n",
    "model = rf.fit(train_df)"
   ]
  },
  {
   "cell_type": "code",
   "execution_count": 23,
   "metadata": {},
   "outputs": [],
   "source": [
    "trainpred = model.transform(train_df)"
   ]
  },
  {
   "cell_type": "code",
   "execution_count": 24,
   "metadata": {},
   "outputs": [
    {
     "data": {
      "text/plain": [
       "0.7112225872063033"
      ]
     },
     "execution_count": 24,
     "metadata": {},
     "output_type": "execute_result"
    }
   ],
   "source": [
    "from pyspark.ml.evaluation import BinaryClassificationEvaluator\n",
    "evaluator = BinaryClassificationEvaluator()\n",
    "evaluator.evaluate(trainpred,{evaluator.metricName:'areaUnderROC'})"
   ]
  },
  {
   "cell_type": "code",
   "execution_count": 25,
   "metadata": {},
   "outputs": [],
   "source": [
    "# Building the model with hyperparameter tuning\n",
    "# Create ParamGrid for Cross Validation\n",
    "from pyspark.ml.tuning import CrossValidator, ParamGridBuilder,CrossValidatorModel\n",
    "rf = RandomForestClassifier(featuresCol='features',labelCol='label')\n",
    "grid = ParamGridBuilder().addGrid(rf.maxDepth, [5,10,15,20,25])\\\n",
    "                        .addGrid(rf.numTrees,[20,25,30])\\\n",
    "                        .build()"
   ]
  },
  {
   "cell_type": "code",
   "execution_count": 26,
   "metadata": {},
   "outputs": [],
   "source": [
    "# Run cross-validation steps\n",
    "evaluator = BinaryClassificationEvaluator()\n",
    "cv = CrossValidator(estimator=rf,estimatorParamMaps=grid,evaluator=evaluator)"
   ]
  },
  {
   "cell_type": "code",
   "execution_count": 27,
   "metadata": {},
   "outputs": [],
   "source": [
    "# Fitting the models on transformed df\n",
    "cvModel = cv.fit(train_df)"
   ]
  },
  {
   "cell_type": "code",
   "execution_count": 28,
   "metadata": {},
   "outputs": [],
   "source": [
    "# Best model from the results of cross-validation\n",
    "rf_bestModel = cvModel.bestModel"
   ]
  },
  {
   "cell_type": "code",
   "execution_count": 29,
   "metadata": {},
   "outputs": [
    {
     "data": {
      "text/plain": [
       "0.7112225872063033"
      ]
     },
     "execution_count": 29,
     "metadata": {},
     "output_type": "execute_result"
    }
   ],
   "source": [
    "evaluator = BinaryClassificationEvaluator()\n",
    "evaluator.evaluate(trainpred,{evaluator.metricName:'areaUnderROC'})"
   ]
  },
  {
   "cell_type": "markdown",
   "metadata": {},
   "source": [
    "#### Model Analysis"
   ]
  },
  {
   "cell_type": "markdown",
   "metadata": {},
   "source": [
    "Required Steps:\n",
    "- Fit on test data\n",
    "- Performance analysis\n",
    "    - Appropriate Metric with reasoning"
   ]
  },
  {
   "cell_type": "code",
   "execution_count": 30,
   "metadata": {},
   "outputs": [],
   "source": [
    "testpred = rf_bestModel.transform(test_df)"
   ]
  },
  {
   "cell_type": "code",
   "execution_count": 31,
   "metadata": {},
   "outputs": [
    {
     "data": {
      "text/plain": [
       "0.7570759857177993"
      ]
     },
     "execution_count": 31,
     "metadata": {},
     "output_type": "execute_result"
    }
   ],
   "source": [
    "evaluator = BinaryClassificationEvaluator()\n",
    "evaluator.evaluate(testpred,{evaluator.metricName:'areaUnderROC'})"
   ]
  },
  {
   "cell_type": "code",
   "execution_count": 32,
   "metadata": {},
   "outputs": [
    {
     "name": "stdout",
     "output_type": "stream",
     "text": [
      "Train f1 score is 0.520442219365067\n",
      "Test f1 score is 0.6617978888286482\n"
     ]
    }
   ],
   "source": [
    "from pyspark.ml.evaluation import MulticlassClassificationEvaluator\n",
    "evaluator = MulticlassClassificationEvaluator()\n",
    "print(f'Train f1 score is {evaluator.evaluate(trainpred,{evaluator.metricName: \"f1\"})}')\n",
    "print(f'Test f1 score is {evaluator.evaluate(testpred,{evaluator.metricName: \"f1\"})}')"
   ]
  },
  {
   "cell_type": "code",
   "execution_count": 33,
   "metadata": {},
   "outputs": [],
   "source": [
    "# Evaluate base model\n",
    "from pyspark.sql.functions import udf\n",
    "from pyspark.sql.types import FloatType\n",
    "getProb = udf(lambda x: float(x[1]),FloatType())\n",
    "trainpred = trainpred.withColumn('prob_purchased',getProb(col('probability')))\n",
    "testpred = testpred.withColumn('prob_purchased',getProb(col('probability')))"
   ]
  },
  {
   "cell_type": "code",
   "execution_count": 34,
   "metadata": {},
   "outputs": [],
   "source": [
    "from pyspark.mllib.evaluation import BinaryClassificationMetrics\n",
    "\n",
    "# Scala version implements .roc() and .pr()\n",
    "# Python: https://spark.apache.org/docs/latest/api/python/_modules/pyspark/mllib/common.html\n",
    "# Scala: https://spark.apache.org/docs/latest/api/java/org/apache/spark/mllib/evaluation/BinaryClassificationMetrics.html\n",
    "class CurveMetrics(BinaryClassificationMetrics):\n",
    "    def __init__(self, *args):\n",
    "        super(CurveMetrics, self).__init__(*args)\n",
    "\n",
    "    def _to_list(self, rdd):\n",
    "        points = []\n",
    "        # Note this collect could be inefficient for large datasets \n",
    "        # considering there may be one probability per datapoint (at most)\n",
    "        # The Scala version takes a numBins parameter, \n",
    "        # but it doesn't seem possible to pass this from Python to Java\n",
    "        for row in rdd.collect():\n",
    "            # Results are returned as type scala.Tuple2, \n",
    "            # which doesn't appear to have a py4j mapping\n",
    "            points += [(float(row._1()), float(row._2()))]\n",
    "        return points\n",
    "\n",
    "    def get_curve(self, method):\n",
    "        rdd = getattr(self._java_model, method)().toJavaRDD()\n",
    "        return self._to_list(rdd)"
   ]
  },
  {
   "cell_type": "code",
   "execution_count": 35,
   "metadata": {},
   "outputs": [],
   "source": [
    "# Returns as a list (false positive rate, true positive rate)\n",
    "pred_train = trainpred.select('label','prob_purchased').rdd.map(lambda row: (float(row['prob_purchased']), float(row['label'])))\n",
    "pred_test = testpred.select('label','prob_purchased').rdd.map(lambda row: (float(row['prob_purchased']), float(row['label'])))\n",
    "point_train = CurveMetrics(pred_train).get_curve('roc')\n",
    "point_test = CurveMetrics(pred_test).get_curve('roc')"
   ]
  },
  {
   "cell_type": "code",
   "execution_count": 36,
   "metadata": {},
   "outputs": [],
   "source": [
    "evaluator = BinaryClassificationEvaluator()"
   ]
  },
  {
   "cell_type": "code",
   "execution_count": 37,
   "metadata": {},
   "outputs": [
    {
     "data": {
      "image/png": "[encoded data removed]",
      "text/plain": [
       "<Figure size 432x288 with 1 Axes>"
      ]
     },
     "metadata": {
      "needs_background": "light"
     },
     "output_type": "display_data"
    }
   ],
   "source": [
    "plt.figure()\n",
    "x_val = [x[0] for x in point_train]\n",
    "y_val = [x[1] for x in point_train]\n",
    "plt.title('Train ROC')\n",
    "plt.xlabel('FPR')\n",
    "plt.ylabel('TPR')\n",
    "plt.plot(x_val, y_val,label=f'AUCROC ={evaluator.evaluate(trainpred,{evaluator.metricName:\"areaUnderROC\"})}')\n",
    "plt.legend()\n",
    "plt.show()"
   ]
  },
  {
   "cell_type": "code",
   "execution_count": 38,
   "metadata": {},
   "outputs": [
    {
     "data": {
      "image/png": "[encoded data removed]",
      "text/plain": [
       "<Figure size 432x288 with 1 Axes>"
      ]
     },
     "metadata": {
      "needs_background": "light"
     },
     "output_type": "display_data"
    }
   ],
   "source": [
    "plt.figure()\n",
    "x_val = [x[0] for x in point_test]\n",
    "y_val = [x[1] for x in point_test]\n",
    "plt.title('Test ROC')\n",
    "plt.xlabel('FPR')\n",
    "plt.ylabel('TPR')\n",
    "plt.plot(x_val, y_val)\n",
    "plt.plot(x_val, y_val,label=f'AUCROC ={evaluator.evaluate(testpred,{evaluator.metricName:\"areaUnderROC\"})}')\n",
    "plt.legend()\n",
    "plt.show()"
   ]
  },
  {
   "cell_type": "markdown",
   "metadata": {},
   "source": [
    "#### Summary of the best Random Forest model"
   ]
  },
  {
   "cell_type": "code",
   "execution_count": 39,
   "metadata": {},
   "outputs": [],
   "source": [
    "featureImp = rf_bestModel.featureImportances"
   ]
  },
  {
   "cell_type": "code",
   "execution_count": 40,
   "metadata": {},
   "outputs": [],
   "source": [
    "def ExtractFeatureImp(featureImp, dataset, featuresCol):\n",
    "    list_extract = []\n",
    "    for i in dataset.schema[featuresCol].metadata[\"ml_attr\"][\"attrs\"]:\n",
    "        list_extract = list_extract + dataset.schema[featuresCol].metadata[\"ml_attr\"][\"attrs\"][i]\n",
    "    varlist = pd.DataFrame(list_extract)\n",
    "    varlist['score'] = varlist['idx'].apply(lambda x: featureImp[x])\n",
    "    return(varlist.sort_values('score', ascending = False))"
   ]
  },
  {
   "cell_type": "code",
   "execution_count": 41,
   "metadata": {
    "scrolled": true
   },
   "outputs": [
    {
     "data": {
      "text/html": [
       "<div>\n",
       "<style scoped>\n",
       "    .dataframe tbody tr th:only-of-type {\n",
       "        vertical-align: middle;\n",
       "    }\n",
       "\n",
       "    .dataframe tbody tr th {\n",
       "        vertical-align: top;\n",
       "    }\n",
       "\n",
       "    .dataframe thead th {\n",
       "        text-align: right;\n",
       "    }\n",
       "</style>\n",
       "<table border=\"1\" class=\"dataframe\">\n",
       "  <thead>\n",
       "    <tr style=\"text-align: right;\">\n",
       "      <th></th>\n",
       "      <th>idx</th>\n",
       "      <th>name</th>\n",
       "      <th>score</th>\n",
       "    </tr>\n",
       "  </thead>\n",
       "  <tbody>\n",
       "    <tr>\n",
       "      <th>3</th>\n",
       "      <td>3</td>\n",
       "      <td>avg_shopping_expense_per_cat</td>\n",
       "      <td>0.461689</td>\n",
       "    </tr>\n",
       "    <tr>\n",
       "      <th>2</th>\n",
       "      <td>2</td>\n",
       "      <td>product_affinity</td>\n",
       "      <td>0.100755</td>\n",
       "    </tr>\n",
       "    <tr>\n",
       "      <th>5</th>\n",
       "      <td>5</td>\n",
       "      <td>sub_cat_views</td>\n",
       "      <td>0.073113</td>\n",
       "    </tr>\n",
       "    <tr>\n",
       "      <th>4</th>\n",
       "      <td>4</td>\n",
       "      <td>session_counts</td>\n",
       "      <td>0.062837</td>\n",
       "    </tr>\n",
       "    <tr>\n",
       "      <th>0</th>\n",
       "      <td>0</td>\n",
       "      <td>price</td>\n",
       "      <td>0.060061</td>\n",
       "    </tr>\n",
       "    <tr>\n",
       "      <th>1</th>\n",
       "      <td>1</td>\n",
       "      <td>user_activity</td>\n",
       "      <td>0.048234</td>\n",
       "    </tr>\n",
       "    <tr>\n",
       "      <th>29</th>\n",
       "      <td>29</td>\n",
       "      <td>sub_cat_enc_smartphone</td>\n",
       "      <td>0.013392</td>\n",
       "    </tr>\n",
       "    <tr>\n",
       "      <th>66</th>\n",
       "      <td>66</td>\n",
       "      <td>brand_reduced_enc_samsung</td>\n",
       "      <td>0.010070</td>\n",
       "    </tr>\n",
       "    <tr>\n",
       "      <th>15</th>\n",
       "      <td>15</td>\n",
       "      <td>hour_bin_enc_2</td>\n",
       "      <td>0.009485</td>\n",
       "    </tr>\n",
       "    <tr>\n",
       "      <th>17</th>\n",
       "      <td>17</td>\n",
       "      <td>main_cat_enc_electronics</td>\n",
       "      <td>0.009049</td>\n",
       "    </tr>\n",
       "    <tr>\n",
       "      <th>68</th>\n",
       "      <td>68</td>\n",
       "      <td>brand_reduced_enc_Other</td>\n",
       "      <td>0.008604</td>\n",
       "    </tr>\n",
       "    <tr>\n",
       "      <th>16</th>\n",
       "      <td>16</td>\n",
       "      <td>hour_bin_enc_3</td>\n",
       "      <td>0.007915</td>\n",
       "    </tr>\n",
       "    <tr>\n",
       "      <th>7</th>\n",
       "      <td>7</td>\n",
       "      <td>day_of_week_enc_1</td>\n",
       "      <td>0.007910</td>\n",
       "    </tr>\n",
       "    <tr>\n",
       "      <th>11</th>\n",
       "      <td>11</td>\n",
       "      <td>day_of_week_enc_5</td>\n",
       "      <td>0.007767</td>\n",
       "    </tr>\n",
       "    <tr>\n",
       "      <th>12</th>\n",
       "      <td>12</td>\n",
       "      <td>day_of_week_enc_6</td>\n",
       "      <td>0.007739</td>\n",
       "    </tr>\n",
       "    <tr>\n",
       "      <th>69</th>\n",
       "      <td>69</td>\n",
       "      <td>brand_reduced_enc_xiaomi</td>\n",
       "      <td>0.007494</td>\n",
       "    </tr>\n",
       "    <tr>\n",
       "      <th>9</th>\n",
       "      <td>9</td>\n",
       "      <td>day_of_week_enc_3</td>\n",
       "      <td>0.007466</td>\n",
       "    </tr>\n",
       "    <tr>\n",
       "      <th>10</th>\n",
       "      <td>10</td>\n",
       "      <td>day_of_week_enc_4</td>\n",
       "      <td>0.007411</td>\n",
       "    </tr>\n",
       "    <tr>\n",
       "      <th>14</th>\n",
       "      <td>14</td>\n",
       "      <td>hour_bin_enc_1</td>\n",
       "      <td>0.007356</td>\n",
       "    </tr>\n",
       "    <tr>\n",
       "      <th>8</th>\n",
       "      <td>8</td>\n",
       "      <td>day_of_week_enc_2</td>\n",
       "      <td>0.007281</td>\n",
       "    </tr>\n",
       "    <tr>\n",
       "      <th>67</th>\n",
       "      <td>67</td>\n",
       "      <td>brand_reduced_enc_apple</td>\n",
       "      <td>0.005164</td>\n",
       "    </tr>\n",
       "    <tr>\n",
       "      <th>30</th>\n",
       "      <td>30</td>\n",
       "      <td>sub_cat_enc_kitchen</td>\n",
       "      <td>0.004126</td>\n",
       "    </tr>\n",
       "    <tr>\n",
       "      <th>18</th>\n",
       "      <td>18</td>\n",
       "      <td>main_cat_enc_appliances</td>\n",
       "      <td>0.003985</td>\n",
       "    </tr>\n",
       "    <tr>\n",
       "      <th>31</th>\n",
       "      <td>31</td>\n",
       "      <td>sub_cat_enc_audio</td>\n",
       "      <td>0.003355</td>\n",
       "    </tr>\n",
       "    <tr>\n",
       "      <th>32</th>\n",
       "      <td>32</td>\n",
       "      <td>sub_cat_enc_video</td>\n",
       "      <td>0.003232</td>\n",
       "    </tr>\n",
       "  </tbody>\n",
       "</table>\n",
       "</div>"
      ],
      "text/plain": [
       "    idx                          name     score\n",
       "3     3  avg_shopping_expense_per_cat  0.461689\n",
       "2     2              product_affinity  0.100755\n",
       "5     5                 sub_cat_views  0.073113\n",
       "4     4                session_counts  0.062837\n",
       "0     0                         price  0.060061\n",
       "1     1                 user_activity  0.048234\n",
       "29   29        sub_cat_enc_smartphone  0.013392\n",
       "66   66     brand_reduced_enc_samsung  0.010070\n",
       "15   15                hour_bin_enc_2  0.009485\n",
       "17   17      main_cat_enc_electronics  0.009049\n",
       "68   68       brand_reduced_enc_Other  0.008604\n",
       "16   16                hour_bin_enc_3  0.007915\n",
       "7     7             day_of_week_enc_1  0.007910\n",
       "11   11             day_of_week_enc_5  0.007767\n",
       "12   12             day_of_week_enc_6  0.007739\n",
       "69   69      brand_reduced_enc_xiaomi  0.007494\n",
       "9     9             day_of_week_enc_3  0.007466\n",
       "10   10             day_of_week_enc_4  0.007411\n",
       "14   14                hour_bin_enc_1  0.007356\n",
       "8     8             day_of_week_enc_2  0.007281\n",
       "67   67       brand_reduced_enc_apple  0.005164\n",
       "30   30           sub_cat_enc_kitchen  0.004126\n",
       "18   18       main_cat_enc_appliances  0.003985\n",
       "31   31             sub_cat_enc_audio  0.003355\n",
       "32   32             sub_cat_enc_video  0.003232"
      ]
     },
     "execution_count": 41,
     "metadata": {},
     "output_type": "execute_result"
    }
   ],
   "source": [
    "imp = ExtractFeatureImp(featureImp,trainpred,'features')\n",
    "imp.head(rf_bestModel._java_obj.getMaxDepth())"
   ]
  },
  {
   "cell_type": "code",
   "execution_count": 42,
   "metadata": {},
   "outputs": [
    {
     "data": {
      "text/plain": [
       "25"
      ]
     },
     "execution_count": 42,
     "metadata": {},
     "output_type": "execute_result"
    }
   ],
   "source": [
    "rf_bestModel._java_obj.getMaxDepth()"
   ]
  },
  {
   "cell_type": "code",
   "execution_count": 43,
   "metadata": {},
   "outputs": [
    {
     "data": {
      "text/plain": [
       "25"
      ]
     },
     "execution_count": 43,
     "metadata": {},
     "output_type": "execute_result"
    }
   ],
   "source": [
    "rf_bestModel._java_obj.getNumTrees()"
   ]
  },
  {
   "cell_type": "code",
   "execution_count": null,
   "metadata": {},
   "outputs": [],
   "source": []
  }
 ],
 "metadata": {
  "kernelspec": {
   "display_name": "Python 3",
   "language": "python",
   "name": "python3"
  },
  "language_info": {
   "codemirror_mode": {
    "name": "ipython",
    "version": 3
   },
   "file_extension": ".py",
   "mimetype": "text/x-python",
   "name": "python",
   "nbconvert_exporter": "python",
   "pygments_lexer": "ipython3",
   "version": "3.7.9"
  }
 },
 "nbformat": 4,
 "nbformat_minor": 4
}
