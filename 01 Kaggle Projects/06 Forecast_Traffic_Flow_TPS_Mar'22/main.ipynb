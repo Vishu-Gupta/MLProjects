{
  "nbformat": 4,
  "nbformat_minor": 0,
  "metadata": {
    "colab": {
      "name": "Forecast Traffic Flow - TPS Mar'22 .ipynb",
      "provenance": [],
      "authorship_tag": "ABX9TyPD02RKUPKpYBaQeuXM5tCQ",
      "include_colab_link": true
    },
    "kernelspec": {
      "name": "python3",
      "display_name": "Python 3"
    },
    "language_info": {
      "name": "python"
    }
  },
  "cells": [
    {
      "cell_type": "markdown",
      "metadata": {
        "id": "view-in-github",
        "colab_type": "text"
      },
      "source": [
        "<a href=\"https://colab.research.google.com/github/Vishu-Gupta/MLProjects/blob/main/01%20Kaggle%20Projects/06%20Forecast_Traffic_Flow_TPS_Mar'22/main.ipynb\" target=\"_parent\"><img src=\"https://colab.research.google.com/assets/colab-badge.svg\" alt=\"Open In Colab\"/></a>"
      ]
    },
    {
      "cell_type": "markdown",
      "source": [
        "This a Kaggle competition , part of the Mar'22 TPS.\n",
        "\n",
        "Link: https://www.kaggle.com/c/tabular-playground-series-mar-2022"
      ],
      "metadata": {
        "id": "tJY-_5mSiWAQ"
      }
    },
    {
      "cell_type": "markdown",
      "source": [
        "## 01 Linking with Kaggle and getting the datasets"
      ],
      "metadata": {
        "id": "Ab9Q4hEsivDz"
      }
    },
    {
      "cell_type": "code",
      "source": [
        "from google.colab import drive\n",
        "drive.mount('/content/drive/')"
      ],
      "metadata": {
        "colab": {
          "base_uri": "https://localhost:8080/"
        },
        "id": "_GiwLmV6iVZw",
        "outputId": "ed355e08-db9e-4a48-abcc-22d1644416ce"
      },
      "execution_count": 1,
      "outputs": [
        {
          "output_type": "stream",
          "name": "stdout",
          "text": [
            "Drive already mounted at /content/drive/; to attempt to forcibly remount, call drive.mount(\"/content/drive/\", force_remount=True).\n"
          ]
        }
      ]
    },
    {
      "cell_type": "code",
      "execution_count": 2,
      "metadata": {
        "colab": {
          "base_uri": "https://localhost:8080/"
        },
        "id": "CE16F5Nnhn4U",
        "outputId": "f3a8ba01-b060-4916-e801-779f367e5db7"
      },
      "outputs": [
        {
          "output_type": "stream",
          "name": "stdout",
          "text": [
            "mkdir: cannot create directory ‘/root/.kaggle’: File exists\n"
          ]
        }
      ],
      "source": [
        "!mkdir ~/.kaggle"
      ]
    },
    {
      "cell_type": "code",
      "source": [
        "!cp /content/drive/MyDrive/kaggle.json ~/.kaggle/kaggle.json\n",
        "! chmod 600 ~/.kaggle/kaggle.json"
      ],
      "metadata": {
        "id": "PyI2Cw8YjrG2"
      },
      "execution_count": 3,
      "outputs": []
    },
    {
      "cell_type": "code",
      "source": [
        "! kaggle competitions download tabular-playground-series-mar-2022"
      ],
      "metadata": {
        "colab": {
          "base_uri": "https://localhost:8080/"
        },
        "id": "0MsJ2Asxj0ZR",
        "outputId": "e766e59f-cae0-458b-ca5e-49b0ade8771d"
      },
      "execution_count": 4,
      "outputs": [
        {
          "output_type": "stream",
          "name": "stdout",
          "text": [
            "Warning: Looks like you're using an outdated API Version, please consider updating (server 1.5.12 / client 1.5.4)\n",
            "test.csv: Skipping, found more recently modified local copy (use --force to force download)\n",
            "sample_submission.csv: Skipping, found more recently modified local copy (use --force to force download)\n",
            "Downloading train.csv.zip to /content\n",
            "100% 4.69M/4.69M [00:00<00:00, 17.9MB/s]\n",
            "\n"
          ]
        }
      ]
    },
    {
      "cell_type": "code",
      "source": [
        "!unzip train.csv.zip"
      ],
      "metadata": {
        "colab": {
          "base_uri": "https://localhost:8080/"
        },
        "id": "pVXsZ82Vj4J1",
        "outputId": "fa6b96ec-b69f-469f-da71-73bd93423aa9"
      },
      "execution_count": 5,
      "outputs": [
        {
          "output_type": "stream",
          "name": "stdout",
          "text": [
            "Archive:  train.csv.zip\n",
            "replace train.csv? [y]es, [n]o, [A]ll, [N]one, [r]ename: y\n",
            "  inflating: train.csv               \n"
          ]
        }
      ]
    },
    {
      "cell_type": "code",
      "source": [
        "!rm train.csv.zip # removing the zip file"
      ],
      "metadata": {
        "id": "mjJBfQKnj9Ml"
      },
      "execution_count": 6,
      "outputs": []
    },
    {
      "cell_type": "code",
      "source": [
        "import pandas as pd\n",
        "import numpy as np\n",
        "import matplotlib.pyplot as plt\n",
        "import seaborn as sns"
      ],
      "metadata": {
        "id": "7kSiC0v6kNvj"
      },
      "execution_count": 7,
      "outputs": []
    },
    {
      "cell_type": "code",
      "source": [
        "data = pd.read_csv('train.csv')\n",
        "df_test = pd.read_csv('test.csv')"
      ],
      "metadata": {
        "id": "2cF-PTb9kA8Y"
      },
      "execution_count": 8,
      "outputs": []
    },
    {
      "cell_type": "markdown",
      "source": [
        "## 02 Data Description\n",
        "train.csv - the training set, comprising measurements of traffic congestion across 65 roadways from April through September of 1991.\n",
        "\n",
        "row_id - a unique identifier for this instance\n",
        "\n",
        "time - the 20-minute period in which each measurement was taken\n",
        "\n",
        "x - the east-west midpoint coordinate of the roadway\n",
        "\n",
        "y - the north-south midpoint coordinate of the roadway\n",
        "\n",
        "direction - the direction of travel of the roadway. EB indicates \n",
        "\"eastbound\" travel, for example, while SW indicates a \"southwest\" direction of travel.\n",
        "\n",
        "congestion - congestion levels for the roadway during each hour; the target. The congestion measurements have been normalized to the range 0 to 100.\n",
        "\n",
        "test.csv - the test set; you will make hourly predictions for roadways identified by a coordinate location and a direction of travel on the day of 1991-09-30."
      ],
      "metadata": {
        "id": "0bOXSTsYnHqz"
      }
    },
    {
      "cell_type": "markdown",
      "source": [
        "## 03 Data Preparation and EDA"
      ],
      "metadata": {
        "id": "r-iOStAckewf"
      }
    },
    {
      "cell_type": "code",
      "source": [
        "data.shape # size of training data"
      ],
      "metadata": {
        "colab": {
          "base_uri": "https://localhost:8080/"
        },
        "id": "9QmWo8H7kVTO",
        "outputId": "74d37566-f6a6-4ecd-fd65-5dadf80d13ef"
      },
      "execution_count": 9,
      "outputs": [
        {
          "output_type": "execute_result",
          "data": {
            "text/plain": [
              "(848835, 6)"
            ]
          },
          "metadata": {},
          "execution_count": 9
        }
      ]
    },
    {
      "cell_type": "code",
      "source": [
        "df_test.shape # size of test data"
      ],
      "metadata": {
        "colab": {
          "base_uri": "https://localhost:8080/"
        },
        "id": "yF7Hvz_nkmba",
        "outputId": "4e45b96b-5524-4811-b5dc-b8a18dd38a3b"
      },
      "execution_count": 10,
      "outputs": [
        {
          "output_type": "execute_result",
          "data": {
            "text/plain": [
              "(2340, 5)"
            ]
          },
          "metadata": {},
          "execution_count": 10
        }
      ]
    },
    {
      "cell_type": "code",
      "source": [
        "data.head(20)"
      ],
      "metadata": {
        "colab": {
          "base_uri": "https://localhost:8080/",
          "height": 676
        },
        "id": "3KMsGw-ektD_",
        "outputId": "b0d9f12e-cc1f-4164-873f-3957d21072eb"
      },
      "execution_count": 11,
      "outputs": [
        {
          "output_type": "execute_result",
          "data": {
            "text/html": [
              "\n",
              "  <div id=\"df-6d74cbf8-d67e-42cb-8780-f176e512e937\">\n",
              "    <div class=\"colab-df-container\">\n",
              "      <div>\n",
              "<style scoped>\n",
              "    .dataframe tbody tr th:only-of-type {\n",
              "        vertical-align: middle;\n",
              "    }\n",
              "\n",
              "    .dataframe tbody tr th {\n",
              "        vertical-align: top;\n",
              "    }\n",
              "\n",
              "    .dataframe thead th {\n",
              "        text-align: right;\n",
              "    }\n",
              "</style>\n",
              "<table border=\"1\" class=\"dataframe\">\n",
              "  <thead>\n",
              "    <tr style=\"text-align: right;\">\n",
              "      <th></th>\n",
              "      <th>row_id</th>\n",
              "      <th>time</th>\n",
              "      <th>x</th>\n",
              "      <th>y</th>\n",
              "      <th>direction</th>\n",
              "      <th>congestion</th>\n",
              "    </tr>\n",
              "  </thead>\n",
              "  <tbody>\n",
              "    <tr>\n",
              "      <th>0</th>\n",
              "      <td>0</td>\n",
              "      <td>1991-04-01 00:00:00</td>\n",
              "      <td>0</td>\n",
              "      <td>0</td>\n",
              "      <td>EB</td>\n",
              "      <td>70</td>\n",
              "    </tr>\n",
              "    <tr>\n",
              "      <th>1</th>\n",
              "      <td>1</td>\n",
              "      <td>1991-04-01 00:00:00</td>\n",
              "      <td>0</td>\n",
              "      <td>0</td>\n",
              "      <td>NB</td>\n",
              "      <td>49</td>\n",
              "    </tr>\n",
              "    <tr>\n",
              "      <th>2</th>\n",
              "      <td>2</td>\n",
              "      <td>1991-04-01 00:00:00</td>\n",
              "      <td>0</td>\n",
              "      <td>0</td>\n",
              "      <td>SB</td>\n",
              "      <td>24</td>\n",
              "    </tr>\n",
              "    <tr>\n",
              "      <th>3</th>\n",
              "      <td>3</td>\n",
              "      <td>1991-04-01 00:00:00</td>\n",
              "      <td>0</td>\n",
              "      <td>1</td>\n",
              "      <td>EB</td>\n",
              "      <td>18</td>\n",
              "    </tr>\n",
              "    <tr>\n",
              "      <th>4</th>\n",
              "      <td>4</td>\n",
              "      <td>1991-04-01 00:00:00</td>\n",
              "      <td>0</td>\n",
              "      <td>1</td>\n",
              "      <td>NB</td>\n",
              "      <td>60</td>\n",
              "    </tr>\n",
              "    <tr>\n",
              "      <th>5</th>\n",
              "      <td>5</td>\n",
              "      <td>1991-04-01 00:00:00</td>\n",
              "      <td>0</td>\n",
              "      <td>1</td>\n",
              "      <td>SB</td>\n",
              "      <td>58</td>\n",
              "    </tr>\n",
              "    <tr>\n",
              "      <th>6</th>\n",
              "      <td>6</td>\n",
              "      <td>1991-04-01 00:00:00</td>\n",
              "      <td>0</td>\n",
              "      <td>1</td>\n",
              "      <td>WB</td>\n",
              "      <td>26</td>\n",
              "    </tr>\n",
              "    <tr>\n",
              "      <th>7</th>\n",
              "      <td>7</td>\n",
              "      <td>1991-04-01 00:00:00</td>\n",
              "      <td>0</td>\n",
              "      <td>2</td>\n",
              "      <td>EB</td>\n",
              "      <td>31</td>\n",
              "    </tr>\n",
              "    <tr>\n",
              "      <th>8</th>\n",
              "      <td>8</td>\n",
              "      <td>1991-04-01 00:00:00</td>\n",
              "      <td>0</td>\n",
              "      <td>2</td>\n",
              "      <td>NB</td>\n",
              "      <td>49</td>\n",
              "    </tr>\n",
              "    <tr>\n",
              "      <th>9</th>\n",
              "      <td>9</td>\n",
              "      <td>1991-04-01 00:00:00</td>\n",
              "      <td>0</td>\n",
              "      <td>2</td>\n",
              "      <td>SB</td>\n",
              "      <td>46</td>\n",
              "    </tr>\n",
              "    <tr>\n",
              "      <th>10</th>\n",
              "      <td>10</td>\n",
              "      <td>1991-04-01 00:00:00</td>\n",
              "      <td>0</td>\n",
              "      <td>2</td>\n",
              "      <td>WB</td>\n",
              "      <td>29</td>\n",
              "    </tr>\n",
              "    <tr>\n",
              "      <th>11</th>\n",
              "      <td>11</td>\n",
              "      <td>1991-04-01 00:00:00</td>\n",
              "      <td>0</td>\n",
              "      <td>3</td>\n",
              "      <td>EB</td>\n",
              "      <td>18</td>\n",
              "    </tr>\n",
              "    <tr>\n",
              "      <th>12</th>\n",
              "      <td>12</td>\n",
              "      <td>1991-04-01 00:00:00</td>\n",
              "      <td>0</td>\n",
              "      <td>3</td>\n",
              "      <td>NB</td>\n",
              "      <td>16</td>\n",
              "    </tr>\n",
              "    <tr>\n",
              "      <th>13</th>\n",
              "      <td>13</td>\n",
              "      <td>1991-04-01 00:00:00</td>\n",
              "      <td>0</td>\n",
              "      <td>3</td>\n",
              "      <td>NE</td>\n",
              "      <td>21</td>\n",
              "    </tr>\n",
              "    <tr>\n",
              "      <th>14</th>\n",
              "      <td>14</td>\n",
              "      <td>1991-04-01 00:00:00</td>\n",
              "      <td>0</td>\n",
              "      <td>3</td>\n",
              "      <td>SB</td>\n",
              "      <td>49</td>\n",
              "    </tr>\n",
              "    <tr>\n",
              "      <th>15</th>\n",
              "      <td>15</td>\n",
              "      <td>1991-04-01 00:00:00</td>\n",
              "      <td>0</td>\n",
              "      <td>3</td>\n",
              "      <td>SW</td>\n",
              "      <td>47</td>\n",
              "    </tr>\n",
              "    <tr>\n",
              "      <th>16</th>\n",
              "      <td>16</td>\n",
              "      <td>1991-04-01 00:00:00</td>\n",
              "      <td>0</td>\n",
              "      <td>3</td>\n",
              "      <td>WB</td>\n",
              "      <td>51</td>\n",
              "    </tr>\n",
              "    <tr>\n",
              "      <th>17</th>\n",
              "      <td>17</td>\n",
              "      <td>1991-04-01 00:00:00</td>\n",
              "      <td>1</td>\n",
              "      <td>0</td>\n",
              "      <td>EB</td>\n",
              "      <td>74</td>\n",
              "    </tr>\n",
              "    <tr>\n",
              "      <th>18</th>\n",
              "      <td>18</td>\n",
              "      <td>1991-04-01 00:00:00</td>\n",
              "      <td>1</td>\n",
              "      <td>0</td>\n",
              "      <td>NB</td>\n",
              "      <td>74</td>\n",
              "    </tr>\n",
              "    <tr>\n",
              "      <th>19</th>\n",
              "      <td>19</td>\n",
              "      <td>1991-04-01 00:00:00</td>\n",
              "      <td>1</td>\n",
              "      <td>0</td>\n",
              "      <td>NE</td>\n",
              "      <td>43</td>\n",
              "    </tr>\n",
              "  </tbody>\n",
              "</table>\n",
              "</div>\n",
              "      <button class=\"colab-df-convert\" onclick=\"convertToInteractive('df-6d74cbf8-d67e-42cb-8780-f176e512e937')\"\n",
              "              title=\"Convert this dataframe to an interactive table.\"\n",
              "              style=\"display:none;\">\n",
              "        \n",
              "  <svg xmlns=\"http://www.w3.org/2000/svg\" height=\"24px\"viewBox=\"0 0 24 24\"\n",
              "       width=\"24px\">\n",
              "    <path d=\"M0 0h24v24H0V0z\" fill=\"none\"/>\n",
              "    <path d=\"M18.56 5.44l.94 2.06.94-2.06 2.06-.94-2.06-.94-.94-2.06-.94 2.06-2.06.94zm-11 1L8.5 8.5l.94-2.06 2.06-.94-2.06-.94L8.5 2.5l-.94 2.06-2.06.94zm10 10l.94 2.06.94-2.06 2.06-.94-2.06-.94-.94-2.06-.94 2.06-2.06.94z\"/><path d=\"M17.41 7.96l-1.37-1.37c-.4-.4-.92-.59-1.43-.59-.52 0-1.04.2-1.43.59L10.3 9.45l-7.72 7.72c-.78.78-.78 2.05 0 2.83L4 21.41c.39.39.9.59 1.41.59.51 0 1.02-.2 1.41-.59l7.78-7.78 2.81-2.81c.8-.78.8-2.07 0-2.86zM5.41 20L4 18.59l7.72-7.72 1.47 1.35L5.41 20z\"/>\n",
              "  </svg>\n",
              "      </button>\n",
              "      \n",
              "  <style>\n",
              "    .colab-df-container {\n",
              "      display:flex;\n",
              "      flex-wrap:wrap;\n",
              "      gap: 12px;\n",
              "    }\n",
              "\n",
              "    .colab-df-convert {\n",
              "      background-color: #E8F0FE;\n",
              "      border: none;\n",
              "      border-radius: 50%;\n",
              "      cursor: pointer;\n",
              "      display: none;\n",
              "      fill: #1967D2;\n",
              "      height: 32px;\n",
              "      padding: 0 0 0 0;\n",
              "      width: 32px;\n",
              "    }\n",
              "\n",
              "    .colab-df-convert:hover {\n",
              "      background-color: #E2EBFA;\n",
              "      box-shadow: 0px 1px 2px rgba(60, 64, 67, 0.3), 0px 1px 3px 1px rgba(60, 64, 67, 0.15);\n",
              "      fill: #174EA6;\n",
              "    }\n",
              "\n",
              "    [theme=dark] .colab-df-convert {\n",
              "      background-color: #3B4455;\n",
              "      fill: #D2E3FC;\n",
              "    }\n",
              "\n",
              "    [theme=dark] .colab-df-convert:hover {\n",
              "      background-color: #434B5C;\n",
              "      box-shadow: 0px 1px 3px 1px rgba(0, 0, 0, 0.15);\n",
              "      filter: drop-shadow(0px 1px 2px rgba(0, 0, 0, 0.3));\n",
              "      fill: #FFFFFF;\n",
              "    }\n",
              "  </style>\n",
              "\n",
              "      <script>\n",
              "        const buttonEl =\n",
              "          document.querySelector('#df-6d74cbf8-d67e-42cb-8780-f176e512e937 button.colab-df-convert');\n",
              "        buttonEl.style.display =\n",
              "          google.colab.kernel.accessAllowed ? 'block' : 'none';\n",
              "\n",
              "        async function convertToInteractive(key) {\n",
              "          const element = document.querySelector('#df-6d74cbf8-d67e-42cb-8780-f176e512e937');\n",
              "          const dataTable =\n",
              "            await google.colab.kernel.invokeFunction('convertToInteractive',\n",
              "                                                     [key], {});\n",
              "          if (!dataTable) return;\n",
              "\n",
              "          const docLinkHtml = 'Like what you see? Visit the ' +\n",
              "            '<a target=\"_blank\" href=https://colab.research.google.com/notebooks/data_table.ipynb>data table notebook</a>'\n",
              "            + ' to learn more about interactive tables.';\n",
              "          element.innerHTML = '';\n",
              "          dataTable['output_type'] = 'display_data';\n",
              "          await google.colab.output.renderOutput(dataTable, element);\n",
              "          const docLink = document.createElement('div');\n",
              "          docLink.innerHTML = docLinkHtml;\n",
              "          element.appendChild(docLink);\n",
              "        }\n",
              "      </script>\n",
              "    </div>\n",
              "  </div>\n",
              "  "
            ],
            "text/plain": [
              "    row_id                 time  x  y direction  congestion\n",
              "0        0  1991-04-01 00:00:00  0  0        EB          70\n",
              "1        1  1991-04-01 00:00:00  0  0        NB          49\n",
              "2        2  1991-04-01 00:00:00  0  0        SB          24\n",
              "3        3  1991-04-01 00:00:00  0  1        EB          18\n",
              "4        4  1991-04-01 00:00:00  0  1        NB          60\n",
              "5        5  1991-04-01 00:00:00  0  1        SB          58\n",
              "6        6  1991-04-01 00:00:00  0  1        WB          26\n",
              "7        7  1991-04-01 00:00:00  0  2        EB          31\n",
              "8        8  1991-04-01 00:00:00  0  2        NB          49\n",
              "9        9  1991-04-01 00:00:00  0  2        SB          46\n",
              "10      10  1991-04-01 00:00:00  0  2        WB          29\n",
              "11      11  1991-04-01 00:00:00  0  3        EB          18\n",
              "12      12  1991-04-01 00:00:00  0  3        NB          16\n",
              "13      13  1991-04-01 00:00:00  0  3        NE          21\n",
              "14      14  1991-04-01 00:00:00  0  3        SB          49\n",
              "15      15  1991-04-01 00:00:00  0  3        SW          47\n",
              "16      16  1991-04-01 00:00:00  0  3        WB          51\n",
              "17      17  1991-04-01 00:00:00  1  0        EB          74\n",
              "18      18  1991-04-01 00:00:00  1  0        NB          74\n",
              "19      19  1991-04-01 00:00:00  1  0        NE          43"
            ]
          },
          "metadata": {},
          "execution_count": 11
        }
      ]
    },
    {
      "cell_type": "code",
      "source": [
        "data.nunique()"
      ],
      "metadata": {
        "colab": {
          "base_uri": "https://localhost:8080/"
        },
        "id": "8a3NWPu_kzYv",
        "outputId": "696ecebf-d68a-4a1a-b2f7-00638672adf1"
      },
      "execution_count": 12,
      "outputs": [
        {
          "output_type": "execute_result",
          "data": {
            "text/plain": [
              "row_id        848835\n",
              "time           13059\n",
              "x                  3\n",
              "y                  4\n",
              "direction          8\n",
              "congestion       101\n",
              "dtype: int64"
            ]
          },
          "metadata": {},
          "execution_count": 12
        }
      ]
    },
    {
      "cell_type": "code",
      "source": [
        "data.isnull().sum() # check for missing values"
      ],
      "metadata": {
        "colab": {
          "base_uri": "https://localhost:8080/"
        },
        "id": "2mTNQ16bmG5Y",
        "outputId": "ba8edf10-adaa-43b9-8533-fcc092dcf07b"
      },
      "execution_count": 13,
      "outputs": [
        {
          "output_type": "execute_result",
          "data": {
            "text/plain": [
              "row_id        0\n",
              "time          0\n",
              "x             0\n",
              "y             0\n",
              "direction     0\n",
              "congestion    0\n",
              "dtype: int64"
            ]
          },
          "metadata": {},
          "execution_count": 13
        }
      ]
    },
    {
      "cell_type": "code",
      "source": [
        "# no missing values.\n",
        "# check for datatypes\n",
        "data.info()"
      ],
      "metadata": {
        "colab": {
          "base_uri": "https://localhost:8080/"
        },
        "id": "cdrzmz1enlPf",
        "outputId": "57bb9a42-e7f1-42b2-830d-e946baaf093a"
      },
      "execution_count": 14,
      "outputs": [
        {
          "output_type": "stream",
          "name": "stdout",
          "text": [
            "<class 'pandas.core.frame.DataFrame'>\n",
            "RangeIndex: 848835 entries, 0 to 848834\n",
            "Data columns (total 6 columns):\n",
            " #   Column      Non-Null Count   Dtype \n",
            "---  ------      --------------   ----- \n",
            " 0   row_id      848835 non-null  int64 \n",
            " 1   time        848835 non-null  object\n",
            " 2   x           848835 non-null  int64 \n",
            " 3   y           848835 non-null  int64 \n",
            " 4   direction   848835 non-null  object\n",
            " 5   congestion  848835 non-null  int64 \n",
            "dtypes: int64(4), object(2)\n",
            "memory usage: 38.9+ MB\n"
          ]
        }
      ]
    },
    {
      "cell_type": "code",
      "source": [
        "#time is an object. Needs to be converted into datetime datatype\n",
        "data['time'] = pd.to_datetime(data['time'])"
      ],
      "metadata": {
        "id": "H9A3FbDznzij"
      },
      "execution_count": 15,
      "outputs": []
    },
    {
      "cell_type": "code",
      "source": [
        "data.info()"
      ],
      "metadata": {
        "colab": {
          "base_uri": "https://localhost:8080/"
        },
        "id": "HrVb09q6oPVj",
        "outputId": "0643e03c-ee6e-4179-dc02-edf37be3109e"
      },
      "execution_count": 16,
      "outputs": [
        {
          "output_type": "stream",
          "name": "stdout",
          "text": [
            "<class 'pandas.core.frame.DataFrame'>\n",
            "RangeIndex: 848835 entries, 0 to 848834\n",
            "Data columns (total 6 columns):\n",
            " #   Column      Non-Null Count   Dtype         \n",
            "---  ------      --------------   -----         \n",
            " 0   row_id      848835 non-null  int64         \n",
            " 1   time        848835 non-null  datetime64[ns]\n",
            " 2   x           848835 non-null  int64         \n",
            " 3   y           848835 non-null  int64         \n",
            " 4   direction   848835 non-null  object        \n",
            " 5   congestion  848835 non-null  int64         \n",
            "dtypes: datetime64[ns](1), int64(4), object(1)\n",
            "memory usage: 38.9+ MB\n"
          ]
        }
      ]
    },
    {
      "cell_type": "code",
      "source": [
        "# for traffic the features given are the x, y points , and also the direction.\n",
        "# in addition some important feature could be day_of_week , hour of day, the 20 minute interval of the data\n",
        "# deriving these features\n",
        "\n",
        "data['day_of_week'] = data['time'].dt.day_of_week\n",
        "data['hour'] = data['time'].dt.hour\n",
        "data['minute_interval'] = data['time'].dt.minute"
      ],
      "metadata": {
        "id": "ldrm9EOUouEk"
      },
      "execution_count": 17,
      "outputs": []
    },
    {
      "cell_type": "code",
      "source": [
        "data.nunique()"
      ],
      "metadata": {
        "colab": {
          "base_uri": "https://localhost:8080/"
        },
        "id": "Y971gZ1npquy",
        "outputId": "2f7ea6dc-ab85-4a54-bd92-04d5cfc929eb"
      },
      "execution_count": 18,
      "outputs": [
        {
          "output_type": "execute_result",
          "data": {
            "text/plain": [
              "row_id             848835\n",
              "time                13059\n",
              "x                       3\n",
              "y                       4\n",
              "direction               8\n",
              "congestion            101\n",
              "day_of_week             7\n",
              "hour                   24\n",
              "minute_interval         3\n",
              "dtype: int64"
            ]
          },
          "metadata": {},
          "execution_count": 18
        }
      ]
    },
    {
      "cell_type": "code",
      "source": [
        "# keeping hours as numerical. Encoding all others\n",
        "\n",
        "categ_cols = ['x','y','direction','day_of_week','minute_interval']\n",
        "df = data\n",
        "df = pd.get_dummies(df,columns=categ_cols,drop_first=True)"
      ],
      "metadata": {
        "id": "2ibIn8_ep-PK"
      },
      "execution_count": 19,
      "outputs": []
    },
    {
      "cell_type": "code",
      "source": [
        "df.head()"
      ],
      "metadata": {
        "colab": {
          "base_uri": "https://localhost:8080/",
          "height": 357
        },
        "id": "srSDW44YrvYY",
        "outputId": "51812286-6c00-427d-ec25-d7e7da5b42f5"
      },
      "execution_count": 20,
      "outputs": [
        {
          "output_type": "execute_result",
          "data": {
            "text/html": [
              "\n",
              "  <div id=\"df-3b318554-71ed-4139-b64d-984ef2c83b3f\">\n",
              "    <div class=\"colab-df-container\">\n",
              "      <div>\n",
              "<style scoped>\n",
              "    .dataframe tbody tr th:only-of-type {\n",
              "        vertical-align: middle;\n",
              "    }\n",
              "\n",
              "    .dataframe tbody tr th {\n",
              "        vertical-align: top;\n",
              "    }\n",
              "\n",
              "    .dataframe thead th {\n",
              "        text-align: right;\n",
              "    }\n",
              "</style>\n",
              "<table border=\"1\" class=\"dataframe\">\n",
              "  <thead>\n",
              "    <tr style=\"text-align: right;\">\n",
              "      <th></th>\n",
              "      <th>row_id</th>\n",
              "      <th>time</th>\n",
              "      <th>congestion</th>\n",
              "      <th>hour</th>\n",
              "      <th>x_1</th>\n",
              "      <th>x_2</th>\n",
              "      <th>y_1</th>\n",
              "      <th>y_2</th>\n",
              "      <th>y_3</th>\n",
              "      <th>direction_NB</th>\n",
              "      <th>direction_NE</th>\n",
              "      <th>direction_NW</th>\n",
              "      <th>direction_SB</th>\n",
              "      <th>direction_SE</th>\n",
              "      <th>direction_SW</th>\n",
              "      <th>direction_WB</th>\n",
              "      <th>day_of_week_1</th>\n",
              "      <th>day_of_week_2</th>\n",
              "      <th>day_of_week_3</th>\n",
              "      <th>day_of_week_4</th>\n",
              "      <th>day_of_week_5</th>\n",
              "      <th>day_of_week_6</th>\n",
              "      <th>minute_interval_20</th>\n",
              "      <th>minute_interval_40</th>\n",
              "    </tr>\n",
              "  </thead>\n",
              "  <tbody>\n",
              "    <tr>\n",
              "      <th>0</th>\n",
              "      <td>0</td>\n",
              "      <td>1991-04-01</td>\n",
              "      <td>70</td>\n",
              "      <td>0</td>\n",
              "      <td>0</td>\n",
              "      <td>0</td>\n",
              "      <td>0</td>\n",
              "      <td>0</td>\n",
              "      <td>0</td>\n",
              "      <td>0</td>\n",
              "      <td>0</td>\n",
              "      <td>0</td>\n",
              "      <td>0</td>\n",
              "      <td>0</td>\n",
              "      <td>0</td>\n",
              "      <td>0</td>\n",
              "      <td>0</td>\n",
              "      <td>0</td>\n",
              "      <td>0</td>\n",
              "      <td>0</td>\n",
              "      <td>0</td>\n",
              "      <td>0</td>\n",
              "      <td>0</td>\n",
              "      <td>0</td>\n",
              "    </tr>\n",
              "    <tr>\n",
              "      <th>1</th>\n",
              "      <td>1</td>\n",
              "      <td>1991-04-01</td>\n",
              "      <td>49</td>\n",
              "      <td>0</td>\n",
              "      <td>0</td>\n",
              "      <td>0</td>\n",
              "      <td>0</td>\n",
              "      <td>0</td>\n",
              "      <td>0</td>\n",
              "      <td>1</td>\n",
              "      <td>0</td>\n",
              "      <td>0</td>\n",
              "      <td>0</td>\n",
              "      <td>0</td>\n",
              "      <td>0</td>\n",
              "      <td>0</td>\n",
              "      <td>0</td>\n",
              "      <td>0</td>\n",
              "      <td>0</td>\n",
              "      <td>0</td>\n",
              "      <td>0</td>\n",
              "      <td>0</td>\n",
              "      <td>0</td>\n",
              "      <td>0</td>\n",
              "    </tr>\n",
              "    <tr>\n",
              "      <th>2</th>\n",
              "      <td>2</td>\n",
              "      <td>1991-04-01</td>\n",
              "      <td>24</td>\n",
              "      <td>0</td>\n",
              "      <td>0</td>\n",
              "      <td>0</td>\n",
              "      <td>0</td>\n",
              "      <td>0</td>\n",
              "      <td>0</td>\n",
              "      <td>0</td>\n",
              "      <td>0</td>\n",
              "      <td>0</td>\n",
              "      <td>1</td>\n",
              "      <td>0</td>\n",
              "      <td>0</td>\n",
              "      <td>0</td>\n",
              "      <td>0</td>\n",
              "      <td>0</td>\n",
              "      <td>0</td>\n",
              "      <td>0</td>\n",
              "      <td>0</td>\n",
              "      <td>0</td>\n",
              "      <td>0</td>\n",
              "      <td>0</td>\n",
              "    </tr>\n",
              "    <tr>\n",
              "      <th>3</th>\n",
              "      <td>3</td>\n",
              "      <td>1991-04-01</td>\n",
              "      <td>18</td>\n",
              "      <td>0</td>\n",
              "      <td>0</td>\n",
              "      <td>0</td>\n",
              "      <td>1</td>\n",
              "      <td>0</td>\n",
              "      <td>0</td>\n",
              "      <td>0</td>\n",
              "      <td>0</td>\n",
              "      <td>0</td>\n",
              "      <td>0</td>\n",
              "      <td>0</td>\n",
              "      <td>0</td>\n",
              "      <td>0</td>\n",
              "      <td>0</td>\n",
              "      <td>0</td>\n",
              "      <td>0</td>\n",
              "      <td>0</td>\n",
              "      <td>0</td>\n",
              "      <td>0</td>\n",
              "      <td>0</td>\n",
              "      <td>0</td>\n",
              "    </tr>\n",
              "    <tr>\n",
              "      <th>4</th>\n",
              "      <td>4</td>\n",
              "      <td>1991-04-01</td>\n",
              "      <td>60</td>\n",
              "      <td>0</td>\n",
              "      <td>0</td>\n",
              "      <td>0</td>\n",
              "      <td>1</td>\n",
              "      <td>0</td>\n",
              "      <td>0</td>\n",
              "      <td>1</td>\n",
              "      <td>0</td>\n",
              "      <td>0</td>\n",
              "      <td>0</td>\n",
              "      <td>0</td>\n",
              "      <td>0</td>\n",
              "      <td>0</td>\n",
              "      <td>0</td>\n",
              "      <td>0</td>\n",
              "      <td>0</td>\n",
              "      <td>0</td>\n",
              "      <td>0</td>\n",
              "      <td>0</td>\n",
              "      <td>0</td>\n",
              "      <td>0</td>\n",
              "    </tr>\n",
              "  </tbody>\n",
              "</table>\n",
              "</div>\n",
              "      <button class=\"colab-df-convert\" onclick=\"convertToInteractive('df-3b318554-71ed-4139-b64d-984ef2c83b3f')\"\n",
              "              title=\"Convert this dataframe to an interactive table.\"\n",
              "              style=\"display:none;\">\n",
              "        \n",
              "  <svg xmlns=\"http://www.w3.org/2000/svg\" height=\"24px\"viewBox=\"0 0 24 24\"\n",
              "       width=\"24px\">\n",
              "    <path d=\"M0 0h24v24H0V0z\" fill=\"none\"/>\n",
              "    <path d=\"M18.56 5.44l.94 2.06.94-2.06 2.06-.94-2.06-.94-.94-2.06-.94 2.06-2.06.94zm-11 1L8.5 8.5l.94-2.06 2.06-.94-2.06-.94L8.5 2.5l-.94 2.06-2.06.94zm10 10l.94 2.06.94-2.06 2.06-.94-2.06-.94-.94-2.06-.94 2.06-2.06.94z\"/><path d=\"M17.41 7.96l-1.37-1.37c-.4-.4-.92-.59-1.43-.59-.52 0-1.04.2-1.43.59L10.3 9.45l-7.72 7.72c-.78.78-.78 2.05 0 2.83L4 21.41c.39.39.9.59 1.41.59.51 0 1.02-.2 1.41-.59l7.78-7.78 2.81-2.81c.8-.78.8-2.07 0-2.86zM5.41 20L4 18.59l7.72-7.72 1.47 1.35L5.41 20z\"/>\n",
              "  </svg>\n",
              "      </button>\n",
              "      \n",
              "  <style>\n",
              "    .colab-df-container {\n",
              "      display:flex;\n",
              "      flex-wrap:wrap;\n",
              "      gap: 12px;\n",
              "    }\n",
              "\n",
              "    .colab-df-convert {\n",
              "      background-color: #E8F0FE;\n",
              "      border: none;\n",
              "      border-radius: 50%;\n",
              "      cursor: pointer;\n",
              "      display: none;\n",
              "      fill: #1967D2;\n",
              "      height: 32px;\n",
              "      padding: 0 0 0 0;\n",
              "      width: 32px;\n",
              "    }\n",
              "\n",
              "    .colab-df-convert:hover {\n",
              "      background-color: #E2EBFA;\n",
              "      box-shadow: 0px 1px 2px rgba(60, 64, 67, 0.3), 0px 1px 3px 1px rgba(60, 64, 67, 0.15);\n",
              "      fill: #174EA6;\n",
              "    }\n",
              "\n",
              "    [theme=dark] .colab-df-convert {\n",
              "      background-color: #3B4455;\n",
              "      fill: #D2E3FC;\n",
              "    }\n",
              "\n",
              "    [theme=dark] .colab-df-convert:hover {\n",
              "      background-color: #434B5C;\n",
              "      box-shadow: 0px 1px 3px 1px rgba(0, 0, 0, 0.15);\n",
              "      filter: drop-shadow(0px 1px 2px rgba(0, 0, 0, 0.3));\n",
              "      fill: #FFFFFF;\n",
              "    }\n",
              "  </style>\n",
              "\n",
              "      <script>\n",
              "        const buttonEl =\n",
              "          document.querySelector('#df-3b318554-71ed-4139-b64d-984ef2c83b3f button.colab-df-convert');\n",
              "        buttonEl.style.display =\n",
              "          google.colab.kernel.accessAllowed ? 'block' : 'none';\n",
              "\n",
              "        async function convertToInteractive(key) {\n",
              "          const element = document.querySelector('#df-3b318554-71ed-4139-b64d-984ef2c83b3f');\n",
              "          const dataTable =\n",
              "            await google.colab.kernel.invokeFunction('convertToInteractive',\n",
              "                                                     [key], {});\n",
              "          if (!dataTable) return;\n",
              "\n",
              "          const docLinkHtml = 'Like what you see? Visit the ' +\n",
              "            '<a target=\"_blank\" href=https://colab.research.google.com/notebooks/data_table.ipynb>data table notebook</a>'\n",
              "            + ' to learn more about interactive tables.';\n",
              "          element.innerHTML = '';\n",
              "          dataTable['output_type'] = 'display_data';\n",
              "          await google.colab.output.renderOutput(dataTable, element);\n",
              "          const docLink = document.createElement('div');\n",
              "          docLink.innerHTML = docLinkHtml;\n",
              "          element.appendChild(docLink);\n",
              "        }\n",
              "      </script>\n",
              "    </div>\n",
              "  </div>\n",
              "  "
            ],
            "text/plain": [
              "   row_id       time  ...  minute_interval_20  minute_interval_40\n",
              "0       0 1991-04-01  ...                   0                   0\n",
              "1       1 1991-04-01  ...                   0                   0\n",
              "2       2 1991-04-01  ...                   0                   0\n",
              "3       3 1991-04-01  ...                   0                   0\n",
              "4       4 1991-04-01  ...                   0                   0\n",
              "\n",
              "[5 rows x 24 columns]"
            ]
          },
          "metadata": {},
          "execution_count": 20
        }
      ]
    },
    {
      "cell_type": "code",
      "source": [
        "features = list(df.columns)\n",
        "features.remove('row_id')\n",
        "features.remove('congestion')\n",
        "features.remove('time')"
      ],
      "metadata": {
        "id": "r6LvflHNr5pE"
      },
      "execution_count": 21,
      "outputs": []
    },
    {
      "cell_type": "code",
      "source": [
        "len(features)"
      ],
      "metadata": {
        "colab": {
          "base_uri": "https://localhost:8080/"
        },
        "id": "d1FTKhUxuIx6",
        "outputId": "d1b81c72-044f-434c-e136-38e65be3a4b5"
      },
      "execution_count": 22,
      "outputs": [
        {
          "output_type": "execute_result",
          "data": {
            "text/plain": [
              "21"
            ]
          },
          "metadata": {},
          "execution_count": 22
        }
      ]
    },
    {
      "cell_type": "code",
      "source": [
        "# convert the test data in same fashion\n",
        "df_test['time'] = pd.to_datetime(df_test['time'])\n",
        "df_test['day_of_week'] = df_test['time'].dt.day_of_week\n",
        "df_test['hour'] = df_test['time'].dt.hour\n",
        "df_test['minute_interval'] = df_test['time'].dt.minute\n",
        "df_test = pd.get_dummies(df_test,columns=categ_cols,drop_first=True)"
      ],
      "metadata": {
        "id": "p7gA5pC-1aJ6"
      },
      "execution_count": 23,
      "outputs": []
    },
    {
      "cell_type": "code",
      "source": [
        "df_test.shape"
      ],
      "metadata": {
        "colab": {
          "base_uri": "https://localhost:8080/"
        },
        "id": "NLoR_KzF302F",
        "outputId": "114dac05-95d1-4e0d-9f49-3d170fb6abdd"
      },
      "execution_count": 24,
      "outputs": [
        {
          "output_type": "execute_result",
          "data": {
            "text/plain": [
              "(2340, 17)"
            ]
          },
          "metadata": {},
          "execution_count": 24
        }
      ]
    },
    {
      "cell_type": "code",
      "source": [
        "features"
      ],
      "metadata": {
        "colab": {
          "base_uri": "https://localhost:8080/"
        },
        "id": "_n9SDCdU4Pqv",
        "outputId": "ad2b1a05-51a5-46cb-a249-166ef1854c69"
      },
      "execution_count": 25,
      "outputs": [
        {
          "output_type": "execute_result",
          "data": {
            "text/plain": [
              "['hour',\n",
              " 'x_1',\n",
              " 'x_2',\n",
              " 'y_1',\n",
              " 'y_2',\n",
              " 'y_3',\n",
              " 'direction_NB',\n",
              " 'direction_NE',\n",
              " 'direction_NW',\n",
              " 'direction_SB',\n",
              " 'direction_SE',\n",
              " 'direction_SW',\n",
              " 'direction_WB',\n",
              " 'day_of_week_1',\n",
              " 'day_of_week_2',\n",
              " 'day_of_week_3',\n",
              " 'day_of_week_4',\n",
              " 'day_of_week_5',\n",
              " 'day_of_week_6',\n",
              " 'minute_interval_20',\n",
              " 'minute_interval_40']"
            ]
          },
          "metadata": {},
          "execution_count": 25
        }
      ]
    },
    {
      "cell_type": "code",
      "source": [
        "# since its only one day data , need to match with train\n",
        "df_test['day_of_week_1'] = 0\n",
        "df_test['day_of_week_2'] = 0\n",
        "df_test['day_of_week_3'] = 0\n",
        "df_test['day_of_week_4'] = 0\n",
        "df_test['day_of_week_5'] = 0\n",
        "df_test['day_of_week_6'] = 0"
      ],
      "metadata": {
        "id": "qoXEgOKM2oA6"
      },
      "execution_count": 33,
      "outputs": []
    },
    {
      "cell_type": "code",
      "source": [
        "from sklearn.model_selection import train_test_split\n",
        "df_train , df_validate = train_test_split(df,train_size=0.8,random_state=42)"
      ],
      "metadata": {
        "id": "KPWttc4zuW-6"
      },
      "execution_count": 27,
      "outputs": []
    },
    {
      "cell_type": "markdown",
      "source": [
        "## 04 Model building"
      ],
      "metadata": {
        "id": "eIIyZlo91Wui"
      }
    },
    {
      "cell_type": "code",
      "source": [
        "import statsmodels.api as sm\n",
        "model = sm.OLS(df_train['congestion'],sm.add_constant(df_train[features]))\n",
        "results = model.fit()\n",
        "results.summary()"
      ],
      "metadata": {
        "colab": {
          "base_uri": "https://localhost:8080/",
          "height": 952
        },
        "id": "2vtYcxO7txRV",
        "outputId": "e7e060f6-7b13-4cd0-fdda-49667684bdf9"
      },
      "execution_count": 28,
      "outputs": [
        {
          "output_type": "stream",
          "name": "stderr",
          "text": [
            "/usr/local/lib/python3.7/dist-packages/statsmodels/tools/_testing.py:19: FutureWarning: pandas.util.testing is deprecated. Use the functions in the public API at pandas.testing instead.\n",
            "  import pandas.util.testing as tm\n",
            "/usr/local/lib/python3.7/dist-packages/statsmodels/tsa/tsatools.py:117: FutureWarning: In a future version of pandas all arguments of concat except for the argument 'objs' will be keyword-only\n",
            "  x = pd.concat(x[::order], 1)\n"
          ]
        },
        {
          "output_type": "execute_result",
          "data": {
            "text/html": [
              "<table class=\"simpletable\">\n",
              "<caption>OLS Regression Results</caption>\n",
              "<tr>\n",
              "  <th>Dep. Variable:</th>       <td>congestion</td>    <th>  R-squared:         </th>  <td>   0.240</td>  \n",
              "</tr>\n",
              "<tr>\n",
              "  <th>Model:</th>                   <td>OLS</td>       <th>  Adj. R-squared:    </th>  <td>   0.240</td>  \n",
              "</tr>\n",
              "<tr>\n",
              "  <th>Method:</th>             <td>Least Squares</td>  <th>  F-statistic:       </th>  <td>1.022e+04</td> \n",
              "</tr>\n",
              "<tr>\n",
              "  <th>Date:</th>             <td>Tue, 01 Mar 2022</td> <th>  Prob (F-statistic):</th>   <td>  0.00</td>   \n",
              "</tr>\n",
              "<tr>\n",
              "  <th>Time:</th>                 <td>19:08:52</td>     <th>  Log-Likelihood:    </th> <td>-2.7864e+06</td>\n",
              "</tr>\n",
              "<tr>\n",
              "  <th>No. Observations:</th>      <td>679068</td>      <th>  AIC:               </th>  <td>5.573e+06</td> \n",
              "</tr>\n",
              "<tr>\n",
              "  <th>Df Residuals:</th>          <td>679046</td>      <th>  BIC:               </th>  <td>5.573e+06</td> \n",
              "</tr>\n",
              "<tr>\n",
              "  <th>Df Model:</th>              <td>    21</td>      <th>                     </th>      <td> </td>     \n",
              "</tr>\n",
              "<tr>\n",
              "  <th>Covariance Type:</th>      <td>nonrobust</td>    <th>                     </th>      <td> </td>     \n",
              "</tr>\n",
              "</table>\n",
              "<table class=\"simpletable\">\n",
              "<tr>\n",
              "           <td></td>             <th>coef</th>     <th>std err</th>      <th>t</th>      <th>P>|t|</th>  <th>[0.025</th>    <th>0.975]</th>  \n",
              "</tr>\n",
              "<tr>\n",
              "  <th>const</th>              <td>   41.5297</td> <td>    0.084</td> <td>  492.121</td> <td> 0.000</td> <td>   41.364</td> <td>   41.695</td>\n",
              "</tr>\n",
              "<tr>\n",
              "  <th>hour</th>               <td>    0.3545</td> <td>    0.003</td> <td>  138.165</td> <td> 0.000</td> <td>    0.349</td> <td>    0.359</td>\n",
              "</tr>\n",
              "<tr>\n",
              "  <th>x_1</th>                <td>    7.2087</td> <td>    0.047</td> <td>  152.503</td> <td> 0.000</td> <td>    7.116</td> <td>    7.301</td>\n",
              "</tr>\n",
              "<tr>\n",
              "  <th>x_2</th>                <td>    7.1951</td> <td>    0.047</td> <td>  152.849</td> <td> 0.000</td> <td>    7.103</td> <td>    7.287</td>\n",
              "</tr>\n",
              "<tr>\n",
              "  <th>y_1</th>                <td>   -2.2911</td> <td>    0.055</td> <td>  -41.764</td> <td> 0.000</td> <td>   -2.399</td> <td>   -2.184</td>\n",
              "</tr>\n",
              "<tr>\n",
              "  <th>y_2</th>                <td>    3.9788</td> <td>    0.053</td> <td>   74.738</td> <td> 0.000</td> <td>    3.874</td> <td>    4.083</td>\n",
              "</tr>\n",
              "<tr>\n",
              "  <th>y_3</th>                <td>   -3.9003</td> <td>    0.053</td> <td>  -73.223</td> <td> 0.000</td> <td>   -4.005</td> <td>   -3.796</td>\n",
              "</tr>\n",
              "<tr>\n",
              "  <th>direction_NB</th>       <td>    2.2778</td> <td>    0.058</td> <td>   38.953</td> <td> 0.000</td> <td>    2.163</td> <td>    2.392</td>\n",
              "</tr>\n",
              "<tr>\n",
              "  <th>direction_NE</th>       <td>  -10.6695</td> <td>    0.069</td> <td> -154.105</td> <td> 0.000</td> <td>  -10.805</td> <td>  -10.534</td>\n",
              "</tr>\n",
              "<tr>\n",
              "  <th>direction_NW</th>       <td>  -26.1673</td> <td>    0.114</td> <td> -230.504</td> <td> 0.000</td> <td>  -26.390</td> <td>  -25.945</td>\n",
              "</tr>\n",
              "<tr>\n",
              "  <th>direction_SB</th>       <td>    4.1602</td> <td>    0.058</td> <td>   71.122</td> <td> 0.000</td> <td>    4.046</td> <td>    4.275</td>\n",
              "</tr>\n",
              "<tr>\n",
              "  <th>direction_SE</th>       <td>  -18.5071</td> <td>    0.114</td> <td> -162.523</td> <td> 0.000</td> <td>  -18.730</td> <td>  -18.284</td>\n",
              "</tr>\n",
              "<tr>\n",
              "  <th>direction_SW</th>       <td>   -8.6212</td> <td>    0.069</td> <td> -124.584</td> <td> 0.000</td> <td>   -8.757</td> <td>   -8.486</td>\n",
              "</tr>\n",
              "<tr>\n",
              "  <th>direction_WB</th>       <td>   -0.1374</td> <td>    0.060</td> <td>   -2.292</td> <td> 0.022</td> <td>   -0.255</td> <td>   -0.020</td>\n",
              "</tr>\n",
              "<tr>\n",
              "  <th>day_of_week_1</th>      <td>    0.6937</td> <td>    0.066</td> <td>   10.489</td> <td> 0.000</td> <td>    0.564</td> <td>    0.823</td>\n",
              "</tr>\n",
              "<tr>\n",
              "  <th>day_of_week_2</th>      <td>    0.6162</td> <td>    0.066</td> <td>    9.315</td> <td> 0.000</td> <td>    0.487</td> <td>    0.746</td>\n",
              "</tr>\n",
              "<tr>\n",
              "  <th>day_of_week_3</th>      <td>    0.7534</td> <td>    0.066</td> <td>   11.354</td> <td> 0.000</td> <td>    0.623</td> <td>    0.884</td>\n",
              "</tr>\n",
              "<tr>\n",
              "  <th>day_of_week_4</th>      <td>    0.8931</td> <td>    0.066</td> <td>   13.508</td> <td> 0.000</td> <td>    0.764</td> <td>    1.023</td>\n",
              "</tr>\n",
              "<tr>\n",
              "  <th>day_of_week_5</th>      <td>   -1.4413</td> <td>    0.066</td> <td>  -21.726</td> <td> 0.000</td> <td>   -1.571</td> <td>   -1.311</td>\n",
              "</tr>\n",
              "<tr>\n",
              "  <th>day_of_week_6</th>      <td>   -3.3913</td> <td>    0.066</td> <td>  -51.286</td> <td> 0.000</td> <td>   -3.521</td> <td>   -3.262</td>\n",
              "</tr>\n",
              "<tr>\n",
              "  <th>minute_interval_20</th> <td>   -0.0006</td> <td>    0.044</td> <td>   -0.013</td> <td> 0.990</td> <td>   -0.086</td> <td>    0.085</td>\n",
              "</tr>\n",
              "<tr>\n",
              "  <th>minute_interval_40</th> <td>   -0.0013</td> <td>    0.044</td> <td>   -0.031</td> <td> 0.975</td> <td>   -0.087</td> <td>    0.084</td>\n",
              "</tr>\n",
              "</table>\n",
              "<table class=\"simpletable\">\n",
              "<tr>\n",
              "  <th>Omnibus:</th>       <td>2981.851</td> <th>  Durbin-Watson:     </th> <td>   2.002</td>\n",
              "</tr>\n",
              "<tr>\n",
              "  <th>Prob(Omnibus):</th>  <td> 0.000</td>  <th>  Jarque-Bera (JB):  </th> <td>3018.200</td>\n",
              "</tr>\n",
              "<tr>\n",
              "  <th>Skew:</th>           <td> 0.162</td>  <th>  Prob(JB):          </th> <td>    0.00</td>\n",
              "</tr>\n",
              "<tr>\n",
              "  <th>Kurtosis:</th>       <td> 2.960</td>  <th>  Cond. No.          </th> <td>    108.</td>\n",
              "</tr>\n",
              "</table><br/><br/>Warnings:<br/>[1] Standard Errors assume that the covariance matrix of the errors is correctly specified."
            ],
            "text/plain": [
              "<class 'statsmodels.iolib.summary.Summary'>\n",
              "\"\"\"\n",
              "                            OLS Regression Results                            \n",
              "==============================================================================\n",
              "Dep. Variable:             congestion   R-squared:                       0.240\n",
              "Model:                            OLS   Adj. R-squared:                  0.240\n",
              "Method:                 Least Squares   F-statistic:                 1.022e+04\n",
              "Date:                Tue, 01 Mar 2022   Prob (F-statistic):               0.00\n",
              "Time:                        19:08:52   Log-Likelihood:            -2.7864e+06\n",
              "No. Observations:              679068   AIC:                         5.573e+06\n",
              "Df Residuals:                  679046   BIC:                         5.573e+06\n",
              "Df Model:                          21                                         \n",
              "Covariance Type:            nonrobust                                         \n",
              "======================================================================================\n",
              "                         coef    std err          t      P>|t|      [0.025      0.975]\n",
              "--------------------------------------------------------------------------------------\n",
              "const                 41.5297      0.084    492.121      0.000      41.364      41.695\n",
              "hour                   0.3545      0.003    138.165      0.000       0.349       0.359\n",
              "x_1                    7.2087      0.047    152.503      0.000       7.116       7.301\n",
              "x_2                    7.1951      0.047    152.849      0.000       7.103       7.287\n",
              "y_1                   -2.2911      0.055    -41.764      0.000      -2.399      -2.184\n",
              "y_2                    3.9788      0.053     74.738      0.000       3.874       4.083\n",
              "y_3                   -3.9003      0.053    -73.223      0.000      -4.005      -3.796\n",
              "direction_NB           2.2778      0.058     38.953      0.000       2.163       2.392\n",
              "direction_NE         -10.6695      0.069   -154.105      0.000     -10.805     -10.534\n",
              "direction_NW         -26.1673      0.114   -230.504      0.000     -26.390     -25.945\n",
              "direction_SB           4.1602      0.058     71.122      0.000       4.046       4.275\n",
              "direction_SE         -18.5071      0.114   -162.523      0.000     -18.730     -18.284\n",
              "direction_SW          -8.6212      0.069   -124.584      0.000      -8.757      -8.486\n",
              "direction_WB          -0.1374      0.060     -2.292      0.022      -0.255      -0.020\n",
              "day_of_week_1          0.6937      0.066     10.489      0.000       0.564       0.823\n",
              "day_of_week_2          0.6162      0.066      9.315      0.000       0.487       0.746\n",
              "day_of_week_3          0.7534      0.066     11.354      0.000       0.623       0.884\n",
              "day_of_week_4          0.8931      0.066     13.508      0.000       0.764       1.023\n",
              "day_of_week_5         -1.4413      0.066    -21.726      0.000      -1.571      -1.311\n",
              "day_of_week_6         -3.3913      0.066    -51.286      0.000      -3.521      -3.262\n",
              "minute_interval_20    -0.0006      0.044     -0.013      0.990      -0.086       0.085\n",
              "minute_interval_40    -0.0013      0.044     -0.031      0.975      -0.087       0.084\n",
              "==============================================================================\n",
              "Omnibus:                     2981.851   Durbin-Watson:                   2.002\n",
              "Prob(Omnibus):                  0.000   Jarque-Bera (JB):             3018.200\n",
              "Skew:                           0.162   Prob(JB):                         0.00\n",
              "Kurtosis:                       2.960   Cond. No.                         108.\n",
              "==============================================================================\n",
              "\n",
              "Warnings:\n",
              "[1] Standard Errors assume that the covariance matrix of the errors is correctly specified.\n",
              "\"\"\""
            ]
          },
          "metadata": {},
          "execution_count": 28
        }
      ]
    },
    {
      "cell_type": "code",
      "source": [
        "# removing the minute_interval parameters as they have no dependency\n",
        "\n",
        "features.remove('minute_interval_20')\n",
        "features.remove('minute_interval_40')\n",
        "\n",
        "# Model 2\n",
        "model = sm.OLS(df_train['congestion'],sm.add_constant(df_train[features]))\n",
        "results = model.fit()\n",
        "results.summary()"
      ],
      "metadata": {
        "colab": {
          "base_uri": "https://localhost:8080/",
          "height": 875
        },
        "id": "hZzvd1-ru9v7",
        "outputId": "df5f351e-2cf0-418c-97b8-bb6b48160116"
      },
      "execution_count": 29,
      "outputs": [
        {
          "output_type": "stream",
          "name": "stderr",
          "text": [
            "/usr/local/lib/python3.7/dist-packages/statsmodels/tsa/tsatools.py:117: FutureWarning: In a future version of pandas all arguments of concat except for the argument 'objs' will be keyword-only\n",
            "  x = pd.concat(x[::order], 1)\n"
          ]
        },
        {
          "output_type": "execute_result",
          "data": {
            "text/html": [
              "<table class=\"simpletable\">\n",
              "<caption>OLS Regression Results</caption>\n",
              "<tr>\n",
              "  <th>Dep. Variable:</th>       <td>congestion</td>    <th>  R-squared:         </th>  <td>   0.240</td>  \n",
              "</tr>\n",
              "<tr>\n",
              "  <th>Model:</th>                   <td>OLS</td>       <th>  Adj. R-squared:    </th>  <td>   0.240</td>  \n",
              "</tr>\n",
              "<tr>\n",
              "  <th>Method:</th>             <td>Least Squares</td>  <th>  F-statistic:       </th>  <td>1.130e+04</td> \n",
              "</tr>\n",
              "<tr>\n",
              "  <th>Date:</th>             <td>Tue, 01 Mar 2022</td> <th>  Prob (F-statistic):</th>   <td>  0.00</td>   \n",
              "</tr>\n",
              "<tr>\n",
              "  <th>Time:</th>                 <td>19:08:54</td>     <th>  Log-Likelihood:    </th> <td>-2.7864e+06</td>\n",
              "</tr>\n",
              "<tr>\n",
              "  <th>No. Observations:</th>      <td>679068</td>      <th>  AIC:               </th>  <td>5.573e+06</td> \n",
              "</tr>\n",
              "<tr>\n",
              "  <th>Df Residuals:</th>          <td>679048</td>      <th>  BIC:               </th>  <td>5.573e+06</td> \n",
              "</tr>\n",
              "<tr>\n",
              "  <th>Df Model:</th>              <td>    19</td>      <th>                     </th>      <td> </td>     \n",
              "</tr>\n",
              "<tr>\n",
              "  <th>Covariance Type:</th>      <td>nonrobust</td>    <th>                     </th>      <td> </td>     \n",
              "</tr>\n",
              "</table>\n",
              "<table class=\"simpletable\">\n",
              "<tr>\n",
              "        <td></td>           <th>coef</th>     <th>std err</th>      <th>t</th>      <th>P>|t|</th>  <th>[0.025</th>    <th>0.975]</th>  \n",
              "</tr>\n",
              "<tr>\n",
              "  <th>const</th>         <td>   41.5290</td> <td>    0.081</td> <td>  515.475</td> <td> 0.000</td> <td>   41.371</td> <td>   41.687</td>\n",
              "</tr>\n",
              "<tr>\n",
              "  <th>hour</th>          <td>    0.3545</td> <td>    0.003</td> <td>  138.166</td> <td> 0.000</td> <td>    0.349</td> <td>    0.359</td>\n",
              "</tr>\n",
              "<tr>\n",
              "  <th>x_1</th>           <td>    7.2087</td> <td>    0.047</td> <td>  152.503</td> <td> 0.000</td> <td>    7.116</td> <td>    7.301</td>\n",
              "</tr>\n",
              "<tr>\n",
              "  <th>x_2</th>           <td>    7.1951</td> <td>    0.047</td> <td>  152.849</td> <td> 0.000</td> <td>    7.103</td> <td>    7.287</td>\n",
              "</tr>\n",
              "<tr>\n",
              "  <th>y_1</th>           <td>   -2.2911</td> <td>    0.055</td> <td>  -41.764</td> <td> 0.000</td> <td>   -2.399</td> <td>   -2.184</td>\n",
              "</tr>\n",
              "<tr>\n",
              "  <th>y_2</th>           <td>    3.9788</td> <td>    0.053</td> <td>   74.738</td> <td> 0.000</td> <td>    3.874</td> <td>    4.083</td>\n",
              "</tr>\n",
              "<tr>\n",
              "  <th>y_3</th>           <td>   -3.9003</td> <td>    0.053</td> <td>  -73.223</td> <td> 0.000</td> <td>   -4.005</td> <td>   -3.796</td>\n",
              "</tr>\n",
              "<tr>\n",
              "  <th>direction_NB</th>  <td>    2.2778</td> <td>    0.058</td> <td>   38.953</td> <td> 0.000</td> <td>    2.163</td> <td>    2.392</td>\n",
              "</tr>\n",
              "<tr>\n",
              "  <th>direction_NE</th>  <td>  -10.6695</td> <td>    0.069</td> <td> -154.105</td> <td> 0.000</td> <td>  -10.805</td> <td>  -10.534</td>\n",
              "</tr>\n",
              "<tr>\n",
              "  <th>direction_NW</th>  <td>  -26.1673</td> <td>    0.114</td> <td> -230.504</td> <td> 0.000</td> <td>  -26.390</td> <td>  -25.945</td>\n",
              "</tr>\n",
              "<tr>\n",
              "  <th>direction_SB</th>  <td>    4.1602</td> <td>    0.058</td> <td>   71.122</td> <td> 0.000</td> <td>    4.046</td> <td>    4.275</td>\n",
              "</tr>\n",
              "<tr>\n",
              "  <th>direction_SE</th>  <td>  -18.5071</td> <td>    0.114</td> <td> -162.523</td> <td> 0.000</td> <td>  -18.730</td> <td>  -18.284</td>\n",
              "</tr>\n",
              "<tr>\n",
              "  <th>direction_SW</th>  <td>   -8.6212</td> <td>    0.069</td> <td> -124.584</td> <td> 0.000</td> <td>   -8.757</td> <td>   -8.486</td>\n",
              "</tr>\n",
              "<tr>\n",
              "  <th>direction_WB</th>  <td>   -0.1374</td> <td>    0.060</td> <td>   -2.292</td> <td> 0.022</td> <td>   -0.255</td> <td>   -0.020</td>\n",
              "</tr>\n",
              "<tr>\n",
              "  <th>day_of_week_1</th> <td>    0.6937</td> <td>    0.066</td> <td>   10.489</td> <td> 0.000</td> <td>    0.564</td> <td>    0.823</td>\n",
              "</tr>\n",
              "<tr>\n",
              "  <th>day_of_week_2</th> <td>    0.6162</td> <td>    0.066</td> <td>    9.315</td> <td> 0.000</td> <td>    0.487</td> <td>    0.746</td>\n",
              "</tr>\n",
              "<tr>\n",
              "  <th>day_of_week_3</th> <td>    0.7534</td> <td>    0.066</td> <td>   11.354</td> <td> 0.000</td> <td>    0.623</td> <td>    0.884</td>\n",
              "</tr>\n",
              "<tr>\n",
              "  <th>day_of_week_4</th> <td>    0.8931</td> <td>    0.066</td> <td>   13.508</td> <td> 0.000</td> <td>    0.764</td> <td>    1.023</td>\n",
              "</tr>\n",
              "<tr>\n",
              "  <th>day_of_week_5</th> <td>   -1.4413</td> <td>    0.066</td> <td>  -21.726</td> <td> 0.000</td> <td>   -1.571</td> <td>   -1.311</td>\n",
              "</tr>\n",
              "<tr>\n",
              "  <th>day_of_week_6</th> <td>   -3.3913</td> <td>    0.066</td> <td>  -51.286</td> <td> 0.000</td> <td>   -3.521</td> <td>   -3.262</td>\n",
              "</tr>\n",
              "</table>\n",
              "<table class=\"simpletable\">\n",
              "<tr>\n",
              "  <th>Omnibus:</th>       <td>2981.857</td> <th>  Durbin-Watson:     </th> <td>   2.002</td>\n",
              "</tr>\n",
              "<tr>\n",
              "  <th>Prob(Omnibus):</th>  <td> 0.000</td>  <th>  Jarque-Bera (JB):  </th> <td>3018.206</td>\n",
              "</tr>\n",
              "<tr>\n",
              "  <th>Skew:</th>           <td> 0.162</td>  <th>  Prob(JB):          </th> <td>    0.00</td>\n",
              "</tr>\n",
              "<tr>\n",
              "  <th>Kurtosis:</th>       <td> 2.960</td>  <th>  Cond. No.          </th> <td>    108.</td>\n",
              "</tr>\n",
              "</table><br/><br/>Warnings:<br/>[1] Standard Errors assume that the covariance matrix of the errors is correctly specified."
            ],
            "text/plain": [
              "<class 'statsmodels.iolib.summary.Summary'>\n",
              "\"\"\"\n",
              "                            OLS Regression Results                            \n",
              "==============================================================================\n",
              "Dep. Variable:             congestion   R-squared:                       0.240\n",
              "Model:                            OLS   Adj. R-squared:                  0.240\n",
              "Method:                 Least Squares   F-statistic:                 1.130e+04\n",
              "Date:                Tue, 01 Mar 2022   Prob (F-statistic):               0.00\n",
              "Time:                        19:08:54   Log-Likelihood:            -2.7864e+06\n",
              "No. Observations:              679068   AIC:                         5.573e+06\n",
              "Df Residuals:                  679048   BIC:                         5.573e+06\n",
              "Df Model:                          19                                         \n",
              "Covariance Type:            nonrobust                                         \n",
              "=================================================================================\n",
              "                    coef    std err          t      P>|t|      [0.025      0.975]\n",
              "---------------------------------------------------------------------------------\n",
              "const            41.5290      0.081    515.475      0.000      41.371      41.687\n",
              "hour              0.3545      0.003    138.166      0.000       0.349       0.359\n",
              "x_1               7.2087      0.047    152.503      0.000       7.116       7.301\n",
              "x_2               7.1951      0.047    152.849      0.000       7.103       7.287\n",
              "y_1              -2.2911      0.055    -41.764      0.000      -2.399      -2.184\n",
              "y_2               3.9788      0.053     74.738      0.000       3.874       4.083\n",
              "y_3              -3.9003      0.053    -73.223      0.000      -4.005      -3.796\n",
              "direction_NB      2.2778      0.058     38.953      0.000       2.163       2.392\n",
              "direction_NE    -10.6695      0.069   -154.105      0.000     -10.805     -10.534\n",
              "direction_NW    -26.1673      0.114   -230.504      0.000     -26.390     -25.945\n",
              "direction_SB      4.1602      0.058     71.122      0.000       4.046       4.275\n",
              "direction_SE    -18.5071      0.114   -162.523      0.000     -18.730     -18.284\n",
              "direction_SW     -8.6212      0.069   -124.584      0.000      -8.757      -8.486\n",
              "direction_WB     -0.1374      0.060     -2.292      0.022      -0.255      -0.020\n",
              "day_of_week_1     0.6937      0.066     10.489      0.000       0.564       0.823\n",
              "day_of_week_2     0.6162      0.066      9.315      0.000       0.487       0.746\n",
              "day_of_week_3     0.7534      0.066     11.354      0.000       0.623       0.884\n",
              "day_of_week_4     0.8931      0.066     13.508      0.000       0.764       1.023\n",
              "day_of_week_5    -1.4413      0.066    -21.726      0.000      -1.571      -1.311\n",
              "day_of_week_6    -3.3913      0.066    -51.286      0.000      -3.521      -3.262\n",
              "==============================================================================\n",
              "Omnibus:                     2981.857   Durbin-Watson:                   2.002\n",
              "Prob(Omnibus):                  0.000   Jarque-Bera (JB):             3018.206\n",
              "Skew:                           0.162   Prob(JB):                         0.00\n",
              "Kurtosis:                       2.960   Cond. No.                         108.\n",
              "==============================================================================\n",
              "\n",
              "Warnings:\n",
              "[1] Standard Errors assume that the covariance matrix of the errors is correctly specified.\n",
              "\"\"\""
            ]
          },
          "metadata": {},
          "execution_count": 29
        }
      ]
    },
    {
      "cell_type": "code",
      "source": [
        "# go for complex models\n",
        "from sklearn.tree import DecisionTreeRegressor\n",
        "dt = DecisionTreeRegressor(random_state=42)\n",
        "dt_base = dt.fit(df_train[features],df_train['congestion'])\n",
        "df_train['dt_base_pred'] = dt_base.predict(df_train[features])\n",
        "df_validate['dt_base_pred'] = dt_base.predict(df_validate[features])"
      ],
      "metadata": {
        "id": "9ySw9fKAzMFN"
      },
      "execution_count": 30,
      "outputs": []
    },
    {
      "cell_type": "code",
      "source": [
        "from sklearn.metrics import mean_absolute_error\n",
        "print('DT-Base : Training error is ',mean_absolute_error(df_train['congestion'],df_train['dt_base_pred']))\n",
        "print('DT-Base : Validation error is ',mean_absolute_error(df_validate['congestion'],df_validate['dt_base_pred']))"
      ],
      "metadata": {
        "colab": {
          "base_uri": "https://localhost:8080/"
        },
        "id": "g6l_7ULe0KIK",
        "outputId": "6daae078-a835-4bc1-80fc-149455c95184"
      },
      "execution_count": 31,
      "outputs": [
        {
          "output_type": "stream",
          "name": "stdout",
          "text": [
            "DT-Base : Training error is  6.302402783719343\n",
            "DT-Base : Validation error is  6.393968368193805\n"
          ]
        }
      ]
    },
    {
      "cell_type": "code",
      "source": [
        "df_test['dt_base_pred'] = dt_base.predict(df_test[features])"
      ],
      "metadata": {
        "id": "9NDIfgvR1FyJ"
      },
      "execution_count": 34,
      "outputs": []
    },
    {
      "cell_type": "code",
      "source": [
        "df_test[['row_id','dt_base_pred']].rename(columns={'dt_base_pred':'congestion'}).to_csv('Submission dt_base.csv',index=False)"
      ],
      "metadata": {
        "id": "8V42AMNb2hk3"
      },
      "execution_count": 35,
      "outputs": []
    },
    {
      "cell_type": "code",
      "source": [
        "!kaggle competitions submit tabular-playground-series-mar-2022 -f 'Submission dt_base.csv' -m \"Untuned Decision tree model\""
      ],
      "metadata": {
        "colab": {
          "base_uri": "https://localhost:8080/"
        },
        "id": "CmwVwcWe5J7t",
        "outputId": "ff958e9f-aa50-4f33-f477-27f383a22a89"
      },
      "execution_count": 37,
      "outputs": [
        {
          "output_type": "stream",
          "name": "stdout",
          "text": [
            "Warning: Looks like you're using an outdated API Version, please consider updating (server 1.5.12 / client 1.5.4)\n",
            "100% 53.4k/53.4k [00:07<00:00, 7.10kB/s]\n",
            "Successfully submitted to Tabular Playground Series - Mar 2022"
          ]
        }
      ]
    },
    {
      "cell_type": "code",
      "source": [
        ""
      ],
      "metadata": {
        "id": "7Em1Y6VB5dgS"
      },
      "execution_count": null,
      "outputs": []
    }
  ]
}