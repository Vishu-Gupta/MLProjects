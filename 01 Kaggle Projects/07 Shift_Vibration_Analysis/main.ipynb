{
  "nbformat": 4,
  "nbformat_minor": 0,
  "metadata": {
    "colab": {
      "name": "Shift Vibration Analysis.ipynb",
      "provenance": [],
      "authorship_tag": "ABX9TyMzeswSbsce3f0i6DPs7Uzd",
      "include_colab_link": true
    },
    "kernelspec": {
      "name": "python3",
      "display_name": "Python 3"
    },
    "language_info": {
      "name": "python"
    }
  },
  "cells": [
    {
      "cell_type": "markdown",
      "metadata": {
        "id": "view-in-github",
        "colab_type": "text"
      },
      "source": [
        "<a href=\"https://colab.research.google.com/github/Vishu-Gupta/MLProjects/blob/main/01%20Kaggle%20Projects/07%20Shift_Vibration_Analysis/main.ipynb\" target=\"_parent\"><img src=\"https://colab.research.google.com/assets/colab-badge.svg\" alt=\"Open In Colab\"/></a>"
      ]
    },
    {
      "cell_type": "markdown",
      "source": [
        "This is analysis of a Kaggle Dataset.\n",
        "\n",
        "https://www.kaggle.com/jishnukoliyadan/vibration-analysis-on-rotating-shaft\n",
        "\n",
        "This dataset is intended to train and evaluate damage detection in rotary machines"
      ],
      "metadata": {
        "id": "opKQe_99B_gq"
      }
    },
    {
      "cell_type": "code",
      "source": [
        "from google.colab import drive\n",
        "drive.mount('/content/drive')"
      ],
      "metadata": {
        "colab": {
          "base_uri": "https://localhost:8080/"
        },
        "id": "J1ZG3UHACBTY",
        "outputId": "ac95f61f-26ec-4799-c03a-9fe7026bbcf9"
      },
      "execution_count": 1,
      "outputs": [
        {
          "output_type": "stream",
          "name": "stdout",
          "text": [
            "Mounted at /content/drive\n"
          ]
        }
      ]
    },
    {
      "cell_type": "code",
      "execution_count": 4,
      "metadata": {
        "colab": {
          "base_uri": "https://localhost:8080/"
        },
        "id": "9w5ta2dIB6fz",
        "outputId": "ddcd1b41-d3bd-4d50-b9bc-1abaaa39d422"
      },
      "outputs": [
        {
          "output_type": "stream",
          "name": "stdout",
          "text": [
            "mkdir: cannot create directory ‘/root/.kaggle’: File exists\n"
          ]
        }
      ],
      "source": [
        "!mkdir ~/.kaggle"
      ]
    },
    {
      "cell_type": "code",
      "source": [
        "!cp /content/drive/MyDrive/kaggle.json ~/.kaggle/"
      ],
      "metadata": {
        "id": "QDwboOyaC-ug"
      },
      "execution_count": 5,
      "outputs": []
    },
    {
      "cell_type": "code",
      "source": [
        "!kaggle datasets download -d jishnukoliyadan/vibration-analysis-on-rotating-shaft"
      ],
      "metadata": {
        "colab": {
          "base_uri": "https://localhost:8080/"
        },
        "id": "urJNIR7nDiVg",
        "outputId": "c3439992-7752-436e-c4e6-438d19c7a527"
      },
      "execution_count": 6,
      "outputs": [
        {
          "output_type": "stream",
          "name": "stdout",
          "text": [
            "Downloading vibration-analysis-on-rotating-shaft.zip to /content\n",
            "100% 2.62G/2.62G [01:06<00:00, 60.4MB/s]\n",
            "100% 2.62G/2.62G [01:06<00:00, 42.4MB/s]\n"
          ]
        }
      ]
    },
    {
      "cell_type": "code",
      "source": [
        "!unzip vibration-analysis-on-rotating-shaft.zip"
      ],
      "metadata": {
        "colab": {
          "base_uri": "https://localhost:8080/"
        },
        "id": "TUfd9fZZETbb",
        "outputId": "c06a3f3b-3d3f-4b98-bb56-e391ed1c966b"
      },
      "execution_count": 7,
      "outputs": [
        {
          "output_type": "stream",
          "name": "stdout",
          "text": [
            "Archive:  vibration-analysis-on-rotating-shaft.zip\n",
            "  inflating: 0D.csv                  \n",
            "  inflating: 0E.csv                  \n",
            "  inflating: 1D.csv                  \n",
            "  inflating: 1E.csv                  \n",
            "  inflating: 2D.csv                  \n",
            "  inflating: 2E.csv                  \n",
            "  inflating: 3D.csv                  \n",
            "  inflating: 3E.csv                  \n",
            "  inflating: 4D.csv                  \n",
            "  inflating: 4E.csv                  \n"
          ]
        }
      ]
    },
    {
      "cell_type": "code",
      "source": [
        "!rm vibration-analysis-on-rotating-shaft.zip"
      ],
      "metadata": {
        "id": "AgYSNMt0EeWH"
      },
      "execution_count": 8,
      "outputs": []
    },
    {
      "cell_type": "markdown",
      "source": [
        "Installing Java Runtime ENV and Pyspark"
      ],
      "metadata": {
        "id": "TVyYZordEhk4"
      }
    },
    {
      "cell_type": "code",
      "source": [
        "# Installing spark \n",
        "!apt-get install openjdk-8-jre\n",
        "!apt-get install scala\n",
        "!pip install py4j\n",
        "!wget -q https://downloads.apache.org/spark/spark-2.4.8/spark-2.4.8-bin-hadoop2.7.tgz\n",
        "!tar xf spark-2.4.8-bin-hadoop2.7.tgz\n",
        "!pip install -q findspark\n",
        "\n",
        "# Installing databricks packages\n",
        "!wget -q https://github.com/databricks/spark-deep-learning/archive/refs/tags/v1.5.0.zip \n",
        "!unzip v1.5.0.zip\n",
        "!mv spark-deep-learning-1.5.0 databricks:spark-deep-learning:1.5.0-spark2.4-s_2.11\n",
        "\n",
        "# Clearing unnecessary space\n",
        "!rm -r *.tgz *.zip sample_data\n",
        "!ls\n",
        "\n",
        "# Setting up environment variables\n",
        "import os\n",
        "os.environ[\"JAVA_HOME\"] = \"/usr/lib/jvm/java-8-openjdk-amd64\"\n",
        "os.environ[\"SPARK_HOME\"] = \"/content/spark-2.4.8-bin-hadoop2.7\"\n",
        "\n",
        "SUBMIT_ARGS = \"--packages databricks:spark-deep-learning:1.5.0-spark2.4-s_2.11 pyspark-shell\"\n",
        "os.environ[\"PYSPARK_SUBMIT_ARGS\"] = SUBMIT_ARGS\n",
        "\n",
        "# Importing and initating spark\n",
        "import findspark\n",
        "findspark.init()"
      ],
      "metadata": {
        "colab": {
          "base_uri": "https://localhost:8080/"
        },
        "id": "VJp01yivD_JQ",
        "outputId": "9a94219d-2431-49be-f518-b3376ca17547"
      },
      "execution_count": 9,
      "outputs": [
        {
          "output_type": "stream",
          "name": "stdout",
          "text": [
            "Reading package lists... Done\n",
            "Building dependency tree       \n",
            "Reading state information... Done\n",
            "The following package was automatically installed and is no longer required:\n",
            "  libnvidia-common-470\n",
            "Use 'apt autoremove' to remove it.\n",
            "The following additional packages will be installed:\n",
            "  fonts-dejavu-core fonts-dejavu-extra libatk-wrapper-java\n",
            "  libatk-wrapper-java-jni libgail-common libgail18 libgtk2.0-0 libgtk2.0-bin\n",
            "  libgtk2.0-common libxxf86dga1 openjdk-8-jre-headless x11-utils\n",
            "Suggested packages:\n",
            "  gvfs icedtea-8-plugin libnss-mdns fonts-ipafont-gothic fonts-ipafont-mincho\n",
            "  fonts-wqy-microhei fonts-wqy-zenhei fonts-indic mesa-utils\n",
            "The following NEW packages will be installed:\n",
            "  fonts-dejavu-core fonts-dejavu-extra libatk-wrapper-java\n",
            "  libatk-wrapper-java-jni libgail-common libgail18 libgtk2.0-0 libgtk2.0-bin\n",
            "  libgtk2.0-common libxxf86dga1 openjdk-8-jre openjdk-8-jre-headless x11-utils\n",
            "0 upgraded, 13 newly installed, 0 to remove and 39 not upgraded.\n",
            "Need to get 33.6 MB of archives.\n",
            "After this operation, 122 MB of additional disk space will be used.\n",
            "Get:1 http://archive.ubuntu.com/ubuntu bionic/main amd64 libxxf86dga1 amd64 2:1.1.4-1 [13.7 kB]\n",
            "Get:2 http://archive.ubuntu.com/ubuntu bionic/main amd64 fonts-dejavu-core all 2.37-1 [1,041 kB]\n",
            "Get:3 http://archive.ubuntu.com/ubuntu bionic/main amd64 fonts-dejavu-extra all 2.37-1 [1,953 kB]\n",
            "Get:4 http://archive.ubuntu.com/ubuntu bionic/main amd64 x11-utils amd64 7.7+3build1 [196 kB]\n",
            "Get:5 http://archive.ubuntu.com/ubuntu bionic/main amd64 libatk-wrapper-java all 0.33.3-20ubuntu0.1 [34.7 kB]\n",
            "Get:6 http://archive.ubuntu.com/ubuntu bionic/main amd64 libatk-wrapper-java-jni amd64 0.33.3-20ubuntu0.1 [28.3 kB]\n",
            "Get:7 http://archive.ubuntu.com/ubuntu bionic/main amd64 libgtk2.0-common all 2.24.32-1ubuntu1 [125 kB]\n",
            "Get:8 http://archive.ubuntu.com/ubuntu bionic/main amd64 libgtk2.0-0 amd64 2.24.32-1ubuntu1 [1,769 kB]\n",
            "Get:9 http://archive.ubuntu.com/ubuntu bionic/main amd64 libgail18 amd64 2.24.32-1ubuntu1 [14.2 kB]\n",
            "Get:10 http://archive.ubuntu.com/ubuntu bionic/main amd64 libgail-common amd64 2.24.32-1ubuntu1 [112 kB]\n",
            "Get:11 http://archive.ubuntu.com/ubuntu bionic/main amd64 libgtk2.0-bin amd64 2.24.32-1ubuntu1 [7,536 B]\n",
            "Get:12 http://archive.ubuntu.com/ubuntu bionic-updates/universe amd64 openjdk-8-jre-headless amd64 8u312-b07-0ubuntu1~18.04 [28.2 MB]\n",
            "Get:13 http://archive.ubuntu.com/ubuntu bionic-updates/universe amd64 openjdk-8-jre amd64 8u312-b07-0ubuntu1~18.04 [69.6 kB]\n",
            "Fetched 33.6 MB in 5s (6,665 kB/s)\n",
            "Selecting previously unselected package libxxf86dga1:amd64.\n",
            "(Reading database ... 155320 files and directories currently installed.)\n",
            "Preparing to unpack .../00-libxxf86dga1_2%3a1.1.4-1_amd64.deb ...\n",
            "Unpacking libxxf86dga1:amd64 (2:1.1.4-1) ...\n",
            "Selecting previously unselected package fonts-dejavu-core.\n",
            "Preparing to unpack .../01-fonts-dejavu-core_2.37-1_all.deb ...\n",
            "Unpacking fonts-dejavu-core (2.37-1) ...\n",
            "Selecting previously unselected package fonts-dejavu-extra.\n",
            "Preparing to unpack .../02-fonts-dejavu-extra_2.37-1_all.deb ...\n",
            "Unpacking fonts-dejavu-extra (2.37-1) ...\n",
            "Selecting previously unselected package x11-utils.\n",
            "Preparing to unpack .../03-x11-utils_7.7+3build1_amd64.deb ...\n",
            "Unpacking x11-utils (7.7+3build1) ...\n",
            "Selecting previously unselected package libatk-wrapper-java.\n",
            "Preparing to unpack .../04-libatk-wrapper-java_0.33.3-20ubuntu0.1_all.deb ...\n",
            "Unpacking libatk-wrapper-java (0.33.3-20ubuntu0.1) ...\n",
            "Selecting previously unselected package libatk-wrapper-java-jni:amd64.\n",
            "Preparing to unpack .../05-libatk-wrapper-java-jni_0.33.3-20ubuntu0.1_amd64.deb ...\n",
            "Unpacking libatk-wrapper-java-jni:amd64 (0.33.3-20ubuntu0.1) ...\n",
            "Selecting previously unselected package libgtk2.0-common.\n",
            "Preparing to unpack .../06-libgtk2.0-common_2.24.32-1ubuntu1_all.deb ...\n",
            "Unpacking libgtk2.0-common (2.24.32-1ubuntu1) ...\n",
            "Selecting previously unselected package libgtk2.0-0:amd64.\n",
            "Preparing to unpack .../07-libgtk2.0-0_2.24.32-1ubuntu1_amd64.deb ...\n",
            "Unpacking libgtk2.0-0:amd64 (2.24.32-1ubuntu1) ...\n",
            "Selecting previously unselected package libgail18:amd64.\n",
            "Preparing to unpack .../08-libgail18_2.24.32-1ubuntu1_amd64.deb ...\n",
            "Unpacking libgail18:amd64 (2.24.32-1ubuntu1) ...\n",
            "Selecting previously unselected package libgail-common:amd64.\n",
            "Preparing to unpack .../09-libgail-common_2.24.32-1ubuntu1_amd64.deb ...\n",
            "Unpacking libgail-common:amd64 (2.24.32-1ubuntu1) ...\n",
            "Selecting previously unselected package libgtk2.0-bin.\n",
            "Preparing to unpack .../10-libgtk2.0-bin_2.24.32-1ubuntu1_amd64.deb ...\n",
            "Unpacking libgtk2.0-bin (2.24.32-1ubuntu1) ...\n",
            "Selecting previously unselected package openjdk-8-jre-headless:amd64.\n",
            "Preparing to unpack .../11-openjdk-8-jre-headless_8u312-b07-0ubuntu1~18.04_amd64.deb ...\n",
            "Unpacking openjdk-8-jre-headless:amd64 (8u312-b07-0ubuntu1~18.04) ...\n",
            "Selecting previously unselected package openjdk-8-jre:amd64.\n",
            "Preparing to unpack .../12-openjdk-8-jre_8u312-b07-0ubuntu1~18.04_amd64.deb ...\n",
            "Unpacking openjdk-8-jre:amd64 (8u312-b07-0ubuntu1~18.04) ...\n",
            "Setting up libgtk2.0-common (2.24.32-1ubuntu1) ...\n",
            "Setting up fonts-dejavu-core (2.37-1) ...\n",
            "Setting up libxxf86dga1:amd64 (2:1.1.4-1) ...\n",
            "Setting up fonts-dejavu-extra (2.37-1) ...\n",
            "Setting up openjdk-8-jre-headless:amd64 (8u312-b07-0ubuntu1~18.04) ...\n",
            "update-alternatives: using /usr/lib/jvm/java-8-openjdk-amd64/jre/bin/orbd to provide /usr/bin/orbd (orbd) in auto mode\n",
            "update-alternatives: using /usr/lib/jvm/java-8-openjdk-amd64/jre/bin/servertool to provide /usr/bin/servertool (servertool) in auto mode\n",
            "update-alternatives: using /usr/lib/jvm/java-8-openjdk-amd64/jre/bin/tnameserv to provide /usr/bin/tnameserv (tnameserv) in auto mode\n",
            "Setting up libgtk2.0-0:amd64 (2.24.32-1ubuntu1) ...\n",
            "Setting up libgail18:amd64 (2.24.32-1ubuntu1) ...\n",
            "Setting up x11-utils (7.7+3build1) ...\n",
            "Setting up libgail-common:amd64 (2.24.32-1ubuntu1) ...\n",
            "Setting up libatk-wrapper-java (0.33.3-20ubuntu0.1) ...\n",
            "Setting up libgtk2.0-bin (2.24.32-1ubuntu1) ...\n",
            "Setting up libatk-wrapper-java-jni:amd64 (0.33.3-20ubuntu0.1) ...\n",
            "Setting up openjdk-8-jre:amd64 (8u312-b07-0ubuntu1~18.04) ...\n",
            "update-alternatives: using /usr/lib/jvm/java-8-openjdk-amd64/jre/bin/policytool to provide /usr/bin/policytool (policytool) in auto mode\n",
            "Processing triggers for man-db (2.8.3-2ubuntu0.1) ...\n",
            "Processing triggers for hicolor-icon-theme (0.17-2) ...\n",
            "Processing triggers for fontconfig (2.12.6-0ubuntu2) ...\n",
            "Processing triggers for mime-support (3.60ubuntu1) ...\n",
            "Processing triggers for libc-bin (2.27-3ubuntu1.3) ...\n",
            "/sbin/ldconfig.real: /usr/local/lib/python3.7/dist-packages/ideep4py/lib/libmkldnn.so.0 is not a symbolic link\n",
            "\n",
            "Reading package lists... Done\n",
            "Building dependency tree       \n",
            "Reading state information... Done\n",
            "The following package was automatically installed and is no longer required:\n",
            "  libnvidia-common-470\n",
            "Use 'apt autoremove' to remove it.\n",
            "The following additional packages will be installed:\n",
            "  libhawtjni-runtime-java libjansi-java libjansi-native-java libjline2-java\n",
            "  scala-library scala-parser-combinators scala-xml\n",
            "Suggested packages:\n",
            "  scala-doc\n",
            "The following NEW packages will be installed:\n",
            "  libhawtjni-runtime-java libjansi-java libjansi-native-java libjline2-java\n",
            "  scala scala-library scala-parser-combinators scala-xml\n",
            "0 upgraded, 8 newly installed, 0 to remove and 39 not upgraded.\n",
            "Need to get 25.0 MB of archives.\n",
            "After this operation, 28.6 MB of additional disk space will be used.\n",
            "Get:1 http://archive.ubuntu.com/ubuntu bionic/universe amd64 libhawtjni-runtime-java all 1.15-2 [27.1 kB]\n",
            "Get:2 http://archive.ubuntu.com/ubuntu bionic/universe amd64 libjansi-native-java all 1.7-1 [19.4 kB]\n",
            "Get:3 http://archive.ubuntu.com/ubuntu bionic/universe amd64 libjansi-java all 1.16-1 [36.2 kB]\n",
            "Get:4 http://archive.ubuntu.com/ubuntu bionic/universe amd64 libjline2-java all 2.14.6-1 [150 kB]\n",
            "Get:5 http://archive.ubuntu.com/ubuntu bionic-updates/universe amd64 scala-library all 2.11.12-4~18.04 [9,589 kB]\n",
            "Get:6 http://archive.ubuntu.com/ubuntu bionic/universe amd64 scala-parser-combinators all 1.0.3-3 [355 kB]\n",
            "Get:7 http://archive.ubuntu.com/ubuntu bionic/universe amd64 scala-xml all 1.0.3-3 [601 kB]\n",
            "Get:8 http://archive.ubuntu.com/ubuntu bionic-updates/universe amd64 scala all 2.11.12-4~18.04 [14.2 MB]\n",
            "Fetched 25.0 MB in 4s (5,740 kB/s)\n",
            "Selecting previously unselected package libhawtjni-runtime-java.\n",
            "(Reading database ... 155771 files and directories currently installed.)\n",
            "Preparing to unpack .../0-libhawtjni-runtime-java_1.15-2_all.deb ...\n",
            "Unpacking libhawtjni-runtime-java (1.15-2) ...\n",
            "Selecting previously unselected package libjansi-native-java.\n",
            "Preparing to unpack .../1-libjansi-native-java_1.7-1_all.deb ...\n",
            "Unpacking libjansi-native-java (1.7-1) ...\n",
            "Selecting previously unselected package libjansi-java.\n",
            "Preparing to unpack .../2-libjansi-java_1.16-1_all.deb ...\n",
            "Unpacking libjansi-java (1.16-1) ...\n",
            "Selecting previously unselected package libjline2-java.\n",
            "Preparing to unpack .../3-libjline2-java_2.14.6-1_all.deb ...\n",
            "Unpacking libjline2-java (2.14.6-1) ...\n",
            "Selecting previously unselected package scala-library.\n",
            "Preparing to unpack .../4-scala-library_2.11.12-4~18.04_all.deb ...\n",
            "Unpacking scala-library (2.11.12-4~18.04) ...\n",
            "Selecting previously unselected package scala-parser-combinators.\n",
            "Preparing to unpack .../5-scala-parser-combinators_1.0.3-3_all.deb ...\n",
            "Unpacking scala-parser-combinators (1.0.3-3) ...\n",
            "Selecting previously unselected package scala-xml.\n",
            "Preparing to unpack .../6-scala-xml_1.0.3-3_all.deb ...\n",
            "Unpacking scala-xml (1.0.3-3) ...\n",
            "Selecting previously unselected package scala.\n",
            "Preparing to unpack .../7-scala_2.11.12-4~18.04_all.deb ...\n",
            "Unpacking scala (2.11.12-4~18.04) ...\n",
            "Setting up scala-parser-combinators (1.0.3-3) ...\n",
            "Setting up libhawtjni-runtime-java (1.15-2) ...\n",
            "Setting up scala-library (2.11.12-4~18.04) ...\n",
            "Setting up scala-xml (1.0.3-3) ...\n",
            "Setting up libjansi-native-java (1.7-1) ...\n",
            "Setting up libjansi-java (1.16-1) ...\n",
            "Setting up libjline2-java (2.14.6-1) ...\n",
            "Setting up scala (2.11.12-4~18.04) ...\n",
            "update-alternatives: using /usr/share/scala-2.11/bin/scala to provide /usr/bin/scala (scala) in auto mode\n",
            "Collecting py4j\n",
            "  Downloading py4j-0.10.9.3-py2.py3-none-any.whl (198 kB)\n",
            "\u001b[K     |████████████████████████████████| 198 kB 4.4 MB/s \n",
            "\u001b[?25hInstalling collected packages: py4j\n",
            "Successfully installed py4j-0.10.9.3\n",
            "Archive:  v1.5.0.zip\n",
            "154e7a68dffc9e94d83099216e8d1b98d5a0f566\n",
            "   creating: spark-deep-learning-1.5.0/\n",
            "  inflating: spark-deep-learning-1.5.0/.gitignore  \n",
            " extracting: spark-deep-learning-1.5.0/.nojekyll  \n",
            "  inflating: spark-deep-learning-1.5.0/.travis.yml  \n",
            "  inflating: spark-deep-learning-1.5.0/Dockerfile  \n",
            "  inflating: spark-deep-learning-1.5.0/LICENSE  \n",
            "  inflating: spark-deep-learning-1.5.0/Makefile  \n",
            "  inflating: spark-deep-learning-1.5.0/NOTICE  \n",
            "  inflating: spark-deep-learning-1.5.0/README.md  \n",
            "   creating: spark-deep-learning-1.5.0/bin/\n",
            "  inflating: spark-deep-learning-1.5.0/bin/download_travis_dependencies.sh  \n",
            "  inflating: spark-deep-learning-1.5.0/build.sbt  \n",
            "   creating: spark-deep-learning-1.5.0/build/\n",
            "  inflating: spark-deep-learning-1.5.0/build/sbt  \n",
            "  inflating: spark-deep-learning-1.5.0/build/sbt-launch-lib.bash  \n",
            "   creating: spark-deep-learning-1.5.0/dev/\n",
            "  inflating: spark-deep-learning-1.5.0/dev/build-docs-in-docker.sh  \n",
            "  inflating: spark-deep-learning-1.5.0/dev/build-docs.sh  \n",
            "  inflating: spark-deep-learning-1.5.0/dev/dev-requirements.txt  \n",
            "  inflating: spark-deep-learning-1.5.0/dev/release.py  \n",
            "  inflating: spark-deep-learning-1.5.0/dev/run.py  \n",
            "  inflating: spark-deep-learning-1.5.0/docker-compose.yml  \n",
            "   creating: spark-deep-learning-1.5.0/docker-resources/\n",
            "  inflating: spark-deep-learning-1.5.0/docker-resources/ssh_config  \n",
            "   creating: spark-deep-learning-1.5.0/docs/\n",
            " extracting: spark-deep-learning-1.5.0/docs/.gitignore  \n",
            "  inflating: spark-deep-learning-1.5.0/docs/Dockerfile  \n",
            "  inflating: spark-deep-learning-1.5.0/docs/README.md  \n",
            "  inflating: spark-deep-learning-1.5.0/docs/_config.yml  \n",
            "   creating: spark-deep-learning-1.5.0/docs/_layouts/\n",
            "  inflating: spark-deep-learning-1.5.0/docs/_layouts/404.html  \n",
            "  inflating: spark-deep-learning-1.5.0/docs/_layouts/global.html  \n",
            "   creating: spark-deep-learning-1.5.0/docs/_plugins/\n",
            "  inflating: spark-deep-learning-1.5.0/docs/_plugins/copy_api_dirs.rb  \n",
            "  inflating: spark-deep-learning-1.5.0/docs/_plugins/production_tag.rb  \n",
            "   creating: spark-deep-learning-1.5.0/docs/css/\n",
            "  inflating: spark-deep-learning-1.5.0/docs/css/api-docs.css  \n",
            "  inflating: spark-deep-learning-1.5.0/docs/css/api-javadocs.css  \n",
            "  inflating: spark-deep-learning-1.5.0/docs/css/bootstrap-responsive.css  \n",
            "  inflating: spark-deep-learning-1.5.0/docs/css/bootstrap-responsive.min.css  \n",
            "  inflating: spark-deep-learning-1.5.0/docs/css/bootstrap.css  \n",
            "  inflating: spark-deep-learning-1.5.0/docs/css/bootstrap.min.css  \n",
            "  inflating: spark-deep-learning-1.5.0/docs/css/main.css  \n",
            "  inflating: spark-deep-learning-1.5.0/docs/css/pygments-default.css  \n",
            "   creating: spark-deep-learning-1.5.0/docs/img/\n",
            "  inflating: spark-deep-learning-1.5.0/docs/img/java-sm.png  \n",
            "  inflating: spark-deep-learning-1.5.0/docs/img/python-sm.png  \n",
            "  inflating: spark-deep-learning-1.5.0/docs/img/scala-sm.png  \n",
            "  inflating: spark-deep-learning-1.5.0/docs/index.md  \n",
            "   creating: spark-deep-learning-1.5.0/docs/js/\n",
            "  inflating: spark-deep-learning-1.5.0/docs/js/api-docs.js  \n",
            "  inflating: spark-deep-learning-1.5.0/docs/js/api-javadocs.js  \n",
            "  inflating: spark-deep-learning-1.5.0/docs/js/main.js  \n",
            "   creating: spark-deep-learning-1.5.0/docs/js/vendor/\n",
            "  inflating: spark-deep-learning-1.5.0/docs/js/vendor/anchor.min.js  \n",
            "  inflating: spark-deep-learning-1.5.0/docs/js/vendor/bootstrap.js  \n",
            "  inflating: spark-deep-learning-1.5.0/docs/js/vendor/bootstrap.min.js  \n",
            "  inflating: spark-deep-learning-1.5.0/docs/js/vendor/jquery-1.8.0.min.js  \n",
            "  inflating: spark-deep-learning-1.5.0/docs/js/vendor/modernizr-2.6.1-respond-1.1.0.min.js  \n",
            "  inflating: spark-deep-learning-1.5.0/docs/quick-start.md  \n",
            "  inflating: spark-deep-learning-1.5.0/docs/user-guide.md  \n",
            "  inflating: spark-deep-learning-1.5.0/environment.yml  \n",
            "  inflating: spark-deep-learning-1.5.0/index.html  \n",
            "   creating: spark-deep-learning-1.5.0/project/\n",
            "  inflating: spark-deep-learning-1.5.0/project/build.properties  \n",
            "  inflating: spark-deep-learning-1.5.0/project/plugins.sbt  \n",
            "   creating: spark-deep-learning-1.5.0/python/\n",
            "  inflating: spark-deep-learning-1.5.0/python/.gitignore  \n",
            "   creating: spark-deep-learning-1.5.0/python/.pylint/\n",
            "  inflating: spark-deep-learning-1.5.0/python/.pylint/accepted.rc  \n",
            "  inflating: spark-deep-learning-1.5.0/python/.pylint/suggested.rc  \n",
            "  inflating: spark-deep-learning-1.5.0/python/MANIFEST.in  \n",
            "   creating: spark-deep-learning-1.5.0/python/docs/\n",
            "  inflating: spark-deep-learning-1.5.0/python/docs/Makefile  \n",
            "   creating: spark-deep-learning-1.5.0/python/docs/_templates/\n",
            "  inflating: spark-deep-learning-1.5.0/python/docs/_templates/layout.html  \n",
            "  inflating: spark-deep-learning-1.5.0/python/docs/conf.py  \n",
            "  inflating: spark-deep-learning-1.5.0/python/docs/epytext.py  \n",
            "  inflating: spark-deep-learning-1.5.0/python/docs/index.rst  \n",
            "  inflating: spark-deep-learning-1.5.0/python/docs/sparkdl.graph.rst  \n",
            "  inflating: spark-deep-learning-1.5.0/python/docs/sparkdl.image.rst  \n",
            "  inflating: spark-deep-learning-1.5.0/python/docs/sparkdl.transformers.rst  \n",
            "  inflating: spark-deep-learning-1.5.0/python/docs/sparkdl.udf.rst  \n",
            "  inflating: spark-deep-learning-1.5.0/python/docs/sparkdl.utils.rst  \n",
            "   creating: spark-deep-learning-1.5.0/python/docs/static/\n",
            "  inflating: spark-deep-learning-1.5.0/python/docs/static/pysparkdl.css  \n",
            "  inflating: spark-deep-learning-1.5.0/python/docs/static/pysparkdl.js  \n",
            "  inflating: spark-deep-learning-1.5.0/python/docs/underscores.py  \n",
            "   creating: spark-deep-learning-1.5.0/python/model_gen/\n",
            "  inflating: spark-deep-learning-1.5.0/python/model_gen/generate_app_models.py  \n",
            "  inflating: spark-deep-learning-1.5.0/python/requirements.txt  \n",
            "  inflating: spark-deep-learning-1.5.0/python/run-tests.sh  \n",
            "  inflating: spark-deep-learning-1.5.0/python/setup.cfg  \n",
            "  inflating: spark-deep-learning-1.5.0/python/setup.py  \n",
            "  inflating: spark-deep-learning-1.5.0/python/spark-package-deps.txt  \n",
            "   creating: spark-deep-learning-1.5.0/python/sparkdl/\n",
            "  inflating: spark-deep-learning-1.5.0/python/sparkdl/__init__.py  \n",
            "   creating: spark-deep-learning-1.5.0/python/sparkdl/estimators/\n",
            "  inflating: spark-deep-learning-1.5.0/python/sparkdl/estimators/__init__.py  \n",
            "  inflating: spark-deep-learning-1.5.0/python/sparkdl/estimators/keras_image_file_estimator.py  \n",
            "   creating: spark-deep-learning-1.5.0/python/sparkdl/graph/\n",
            "  inflating: spark-deep-learning-1.5.0/python/sparkdl/graph/__init__.py  \n",
            "  inflating: spark-deep-learning-1.5.0/python/sparkdl/graph/builder.py  \n",
            "  inflating: spark-deep-learning-1.5.0/python/sparkdl/graph/input.py  \n",
            "  inflating: spark-deep-learning-1.5.0/python/sparkdl/graph/pieces.py  \n",
            "  inflating: spark-deep-learning-1.5.0/python/sparkdl/graph/tensorframes_udf.py  \n",
            "  inflating: spark-deep-learning-1.5.0/python/sparkdl/graph/utils.py  \n",
            "   creating: spark-deep-learning-1.5.0/python/sparkdl/horovod/\n",
            " extracting: spark-deep-learning-1.5.0/python/sparkdl/horovod/__init__.py  \n",
            "  inflating: spark-deep-learning-1.5.0/python/sparkdl/horovod/runner_base.py  \n",
            "   creating: spark-deep-learning-1.5.0/python/sparkdl/image/\n",
            "  inflating: spark-deep-learning-1.5.0/python/sparkdl/image/__init__.py  \n",
            "  inflating: spark-deep-learning-1.5.0/python/sparkdl/image/imageIO.py  \n",
            "   creating: spark-deep-learning-1.5.0/python/sparkdl/param/\n",
            "  inflating: spark-deep-learning-1.5.0/python/sparkdl/param/__init__.py  \n",
            "  inflating: spark-deep-learning-1.5.0/python/sparkdl/param/converters.py  \n",
            "  inflating: spark-deep-learning-1.5.0/python/sparkdl/param/image_params.py  \n",
            "  inflating: spark-deep-learning-1.5.0/python/sparkdl/param/shared_params.py  \n",
            "   creating: spark-deep-learning-1.5.0/python/sparkdl/transformers/\n",
            "  inflating: spark-deep-learning-1.5.0/python/sparkdl/transformers/__init__.py  \n",
            "  inflating: spark-deep-learning-1.5.0/python/sparkdl/transformers/keras_applications.py  \n",
            "  inflating: spark-deep-learning-1.5.0/python/sparkdl/transformers/keras_image.py  \n",
            "  inflating: spark-deep-learning-1.5.0/python/sparkdl/transformers/keras_tensor.py  \n",
            "  inflating: spark-deep-learning-1.5.0/python/sparkdl/transformers/keras_utils.py  \n",
            "  inflating: spark-deep-learning-1.5.0/python/sparkdl/transformers/named_image.py  \n",
            "  inflating: spark-deep-learning-1.5.0/python/sparkdl/transformers/tf_image.py  \n",
            "  inflating: spark-deep-learning-1.5.0/python/sparkdl/transformers/tf_tensor.py  \n",
            "  inflating: spark-deep-learning-1.5.0/python/sparkdl/transformers/utils.py  \n",
            "   creating: spark-deep-learning-1.5.0/python/sparkdl/udf/\n",
            "  inflating: spark-deep-learning-1.5.0/python/sparkdl/udf/__init__.py  \n",
            "  inflating: spark-deep-learning-1.5.0/python/sparkdl/udf/keras_image_model.py  \n",
            "   creating: spark-deep-learning-1.5.0/python/sparkdl/utils/\n",
            "  inflating: spark-deep-learning-1.5.0/python/sparkdl/utils/__init__.py  \n",
            "  inflating: spark-deep-learning-1.5.0/python/sparkdl/utils/jvmapi.py  \n",
            "  inflating: spark-deep-learning-1.5.0/python/sparkdl/utils/keras_model.py  \n",
            "   creating: spark-deep-learning-1.5.0/python/tests/\n",
            "  inflating: spark-deep-learning-1.5.0/python/tests/__init__.py  \n",
            "   creating: spark-deep-learning-1.5.0/python/tests/estimators/\n",
            "  inflating: spark-deep-learning-1.5.0/python/tests/estimators/__init__.py  \n",
            "  inflating: spark-deep-learning-1.5.0/python/tests/estimators/test_keras_estimators.py  \n",
            "   creating: spark-deep-learning-1.5.0/python/tests/graph/\n",
            "  inflating: spark-deep-learning-1.5.0/python/tests/graph/__init__.py  \n",
            "  inflating: spark-deep-learning-1.5.0/python/tests/graph/test_builder.py  \n",
            "  inflating: spark-deep-learning-1.5.0/python/tests/graph/test_import.py  \n",
            "  inflating: spark-deep-learning-1.5.0/python/tests/graph/test_pieces.py  \n",
            "  inflating: spark-deep-learning-1.5.0/python/tests/graph/test_utils.py  \n",
            "   creating: spark-deep-learning-1.5.0/python/tests/horovod/\n",
            "  inflating: spark-deep-learning-1.5.0/python/tests/horovod/runner_base_test.py  \n",
            "   creating: spark-deep-learning-1.5.0/python/tests/image/\n",
            "  inflating: spark-deep-learning-1.5.0/python/tests/image/__init__.py  \n",
            "  inflating: spark-deep-learning-1.5.0/python/tests/image/test_imageIO.py  \n",
            "   creating: spark-deep-learning-1.5.0/python/tests/param/\n",
            "  inflating: spark-deep-learning-1.5.0/python/tests/param/__init__.py  \n",
            "  inflating: spark-deep-learning-1.5.0/python/tests/param/params_test.py  \n",
            "   creating: spark-deep-learning-1.5.0/python/tests/resources/\n",
            "  inflating: spark-deep-learning-1.5.0/python/tests/resources/images-source.txt  \n",
            "   creating: spark-deep-learning-1.5.0/python/tests/resources/images/\n",
            "  inflating: spark-deep-learning-1.5.0/python/tests/resources/images/00074201.jpg  \n",
            "  inflating: spark-deep-learning-1.5.0/python/tests/resources/images/00081101.jpg  \n",
            "  inflating: spark-deep-learning-1.5.0/python/tests/resources/images/00084301.png  \n",
            "  inflating: spark-deep-learning-1.5.0/python/tests/resources/images/00093801.jpg  \n",
            "  inflating: spark-deep-learning-1.5.0/python/tests/resources/images/19207401.jpg  \n",
            "   creating: spark-deep-learning-1.5.0/python/tests/resources/images/1_channels/\n",
            " extracting: spark-deep-learning-1.5.0/python/tests/resources/images/1_channels/00074201.png  \n",
            "   creating: spark-deep-learning-1.5.0/python/tests/resources/images/3_channels/\n",
            " extracting: spark-deep-learning-1.5.0/python/tests/resources/images/3_channels/00074201.png  \n",
            "   creating: spark-deep-learning-1.5.0/python/tests/resources/images/4_channels/\n",
            " extracting: spark-deep-learning-1.5.0/python/tests/resources/images/4_channels/00074201.png  \n",
            "  inflating: spark-deep-learning-1.5.0/python/tests/tests.py  \n",
            "   creating: spark-deep-learning-1.5.0/python/tests/transformers/\n",
            "  inflating: spark-deep-learning-1.5.0/python/tests/transformers/__init__.py  \n",
            "  inflating: spark-deep-learning-1.5.0/python/tests/transformers/image_utils.py  \n",
            "  inflating: spark-deep-learning-1.5.0/python/tests/transformers/keras_image_test.py  \n",
            "  inflating: spark-deep-learning-1.5.0/python/tests/transformers/keras_transformer_test.py  \n",
            "  inflating: spark-deep-learning-1.5.0/python/tests/transformers/named_image_InceptionV3_test.py  \n",
            "  inflating: spark-deep-learning-1.5.0/python/tests/transformers/named_image_ResNet50_test.py  \n",
            "  inflating: spark-deep-learning-1.5.0/python/tests/transformers/named_image_VGG16_test.py  \n",
            "  inflating: spark-deep-learning-1.5.0/python/tests/transformers/named_image_VGG19_test.py  \n",
            "  inflating: spark-deep-learning-1.5.0/python/tests/transformers/named_image_Xception_test.py  \n",
            "  inflating: spark-deep-learning-1.5.0/python/tests/transformers/named_image_test.py  \n",
            "  inflating: spark-deep-learning-1.5.0/python/tests/transformers/tf_image_test.py  \n",
            "  inflating: spark-deep-learning-1.5.0/python/tests/transformers/tf_transformer_test.py  \n",
            "   creating: spark-deep-learning-1.5.0/python/tests/udf/\n",
            "  inflating: spark-deep-learning-1.5.0/python/tests/udf/__init__.py  \n",
            "  inflating: spark-deep-learning-1.5.0/python/tests/udf/keras_sql_udf_test.py  \n",
            "   creating: spark-deep-learning-1.5.0/python/tests/utils/\n",
            "  inflating: spark-deep-learning-1.5.0/python/tests/utils/__init__.py  \n",
            "  inflating: spark-deep-learning-1.5.0/python/tests/utils/test_python_interface.py  \n",
            "   creating: spark-deep-learning-1.5.0/src/\n",
            "   creating: spark-deep-learning-1.5.0/src/main/\n",
            "   creating: spark-deep-learning-1.5.0/src/main/scala/\n",
            "   creating: spark-deep-learning-1.5.0/src/main/scala/com/\n",
            "   creating: spark-deep-learning-1.5.0/src/main/scala/com/databricks/\n",
            "   creating: spark-deep-learning-1.5.0/src/main/scala/com/databricks/sparkdl/\n",
            "  inflating: spark-deep-learning-1.5.0/src/main/scala/com/databricks/sparkdl/DeepImageFeaturizer.scala  \n",
            "  inflating: spark-deep-learning-1.5.0/src/main/scala/com/databricks/sparkdl/ImageUtils.scala  \n",
            "  inflating: spark-deep-learning-1.5.0/src/main/scala/com/databricks/sparkdl/Logging.scala  \n",
            "  inflating: spark-deep-learning-1.5.0/src/main/scala/com/databricks/sparkdl/ModelFetcher.scala  \n",
            "  inflating: spark-deep-learning-1.5.0/src/main/scala/com/databricks/sparkdl/Models.scala  \n",
            "   creating: spark-deep-learning-1.5.0/src/main/scala/com/databricks/sparkdl/python/\n",
            "  inflating: spark-deep-learning-1.5.0/src/main/scala/com/databricks/sparkdl/python/ModelFactory.scala  \n",
            "  inflating: spark-deep-learning-1.5.0/src/main/scala/com/databricks/sparkdl/python/PythonInterface.scala  \n",
            "   creating: spark-deep-learning-1.5.0/src/main/scala/org/\n",
            "   creating: spark-deep-learning-1.5.0/src/main/scala/org/apache/\n",
            "   creating: spark-deep-learning-1.5.0/src/main/scala/org/apache/spark/\n",
            "   creating: spark-deep-learning-1.5.0/src/main/scala/org/apache/spark/ml/\n",
            "   creating: spark-deep-learning-1.5.0/src/main/scala/org/apache/spark/ml/image/\n",
            "  inflating: spark-deep-learning-1.5.0/src/main/scala/org/apache/spark/ml/image/HadoopUtils.scala  \n",
            "  inflating: spark-deep-learning-1.5.0/src/main/scala/org/apache/spark/ml/image/ImageSchema.scala  \n",
            "   creating: spark-deep-learning-1.5.0/src/main/scala/org/apache/spark/sql/\n",
            "   creating: spark-deep-learning-1.5.0/src/main/scala/org/apache/spark/sql/sparkdl_stubs/\n",
            "  inflating: spark-deep-learning-1.5.0/src/main/scala/org/apache/spark/sql/sparkdl_stubs/UDFUtils.scala  \n",
            "   creating: spark-deep-learning-1.5.0/src/main/scala/org/apache/spark/sql/types/\n",
            "  inflating: spark-deep-learning-1.5.0/src/main/scala/org/apache/spark/sql/types/DataTypeShim.scala  \n",
            "   creating: spark-deep-learning-1.5.0/src/main/scala/org/tensorframes/\n",
            "   creating: spark-deep-learning-1.5.0/src/main/scala/org/tensorframes/impl/\n",
            "  inflating: spark-deep-learning-1.5.0/src/main/scala/org/tensorframes/impl/SqlOps.scala  \n",
            "   creating: spark-deep-learning-1.5.0/src/test/\n",
            "   creating: spark-deep-learning-1.5.0/src/test/resources/\n",
            "  inflating: spark-deep-learning-1.5.0/src/test/resources/log4j.properties  \n",
            "   creating: spark-deep-learning-1.5.0/src/test/resources/sparkdl/\n",
            " extracting: spark-deep-learning-1.5.0/src/test/resources/sparkdl/00081101-small-version.png  \n",
            "    linking: spark-deep-learning-1.5.0/src/test/resources/sparkdl/test-image-collection  -> ../../../../python/tests/resources/images \n",
            "  inflating: spark-deep-learning-1.5.0/src/test/resources/sparkdl/test_net.pb  \n",
            "   creating: spark-deep-learning-1.5.0/src/test/scala/\n",
            "   creating: spark-deep-learning-1.5.0/src/test/scala/com/\n",
            "   creating: spark-deep-learning-1.5.0/src/test/scala/com/databricks/\n",
            "   creating: spark-deep-learning-1.5.0/src/test/scala/com/databricks/sparkdl/\n",
            "  inflating: spark-deep-learning-1.5.0/src/test/scala/com/databricks/sparkdl/DeepImageFeaturizerSuite.scala  \n",
            "  inflating: spark-deep-learning-1.5.0/src/test/scala/com/databricks/sparkdl/DefaultReadWriteTest.scala  \n",
            "  inflating: spark-deep-learning-1.5.0/src/test/scala/com/databricks/sparkdl/ImageUtilsSuite.scala  \n",
            "  inflating: spark-deep-learning-1.5.0/src/test/scala/com/databricks/sparkdl/ModelFetcherSuite.scala  \n",
            "  inflating: spark-deep-learning-1.5.0/src/test/scala/com/databricks/sparkdl/TestSparkContext.scala  \n",
            "   creating: spark-deep-learning-1.5.0/src/test/scala/org/\n",
            "   creating: spark-deep-learning-1.5.0/src/test/scala/org/apache/\n",
            "   creating: spark-deep-learning-1.5.0/src/test/scala/org/apache/spark/\n",
            "   creating: spark-deep-learning-1.5.0/src/test/scala/org/apache/spark/ml/\n",
            "   creating: spark-deep-learning-1.5.0/src/test/scala/org/apache/spark/ml/util/\n",
            "  inflating: spark-deep-learning-1.5.0/src/test/scala/org/apache/spark/ml/util/TempDirectory.scala  \n",
            "   creating: spark-deep-learning-1.5.0/src/test/scala/org/apache/spark/sql/\n",
            "   creating: spark-deep-learning-1.5.0/src/test/scala/org/apache/spark/sql/sparkdl_stubs/\n",
            "  inflating: spark-deep-learning-1.5.0/src/test/scala/org/apache/spark/sql/sparkdl_stubs/SparkDLStubsSuite.scala  \n",
            "   creating: spark-deep-learning-1.5.0/src/test/scala/org/tensorframes/\n",
            "   creating: spark-deep-learning-1.5.0/src/test/scala/org/tensorframes/impl/\n",
            "  inflating: spark-deep-learning-1.5.0/src/test/scala/org/tensorframes/impl/GraphScoping.scala  \n",
            "  inflating: spark-deep-learning-1.5.0/src/test/scala/org/tensorframes/impl/SqlOpsSuite.scala  \n",
            "  inflating: spark-deep-learning-1.5.0/src/test/scala/org/tensorframes/impl/TestUtils.scala  \n",
            " extracting: spark-deep-learning-1.5.0/version.sbt  \n",
            "finishing deferred symbolic links:\n",
            "  spark-deep-learning-1.5.0/src/test/resources/sparkdl/test-image-collection -> ../../../../python/tests/resources/images\n",
            "0D.csv\t2E.csv\tdatabricks:spark-deep-learning:1.5.0-spark2.4-s_2.11\n",
            "0E.csv\t3D.csv\tdrive\n",
            "1D.csv\t3E.csv\tspark-2.4.8-bin-hadoop2.7\n",
            "1E.csv\t4D.csv\n",
            "2D.csv\t4E.csv\n"
          ]
        }
      ]
    },
    {
      "cell_type": "code",
      "source": [
        "## Spark Session setup\n",
        "from pyspark.sql import SparkSession\n",
        "spark = SparkSession.builder.appName('Vibration Analysis').config('spark.executor.memory','10G').getOrCreate()"
      ],
      "metadata": {
        "id": "vcJuT40hE9qQ"
      },
      "execution_count": 12,
      "outputs": []
    },
    {
      "cell_type": "code",
      "source": [
        "spark.sparkContext.getConf().get('spark.executor.memory')"
      ],
      "metadata": {
        "colab": {
          "base_uri": "https://localhost:8080/",
          "height": 35
        },
        "id": "EVn4JN-dFrZT",
        "outputId": "fd3c81b4-6663-4978-e4cd-2ca5328f0f94"
      },
      "execution_count": 17,
      "outputs": [
        {
          "output_type": "execute_result",
          "data": {
            "application/vnd.google.colaboratory.intrinsic+json": {
              "type": "string"
            },
            "text/plain": [
              "'10G'"
            ]
          },
          "metadata": {},
          "execution_count": 17
        }
      ]
    },
    {
      "cell_type": "code",
      "source": [
        "#loading the base dataset\n",
        "\n",
        "base = spark.read.csv('0D.csv',inferSchema=True,header=True)"
      ],
      "metadata": {
        "id": "KxaBNnNaGG_W"
      },
      "execution_count": 18,
      "outputs": []
    },
    {
      "cell_type": "code",
      "source": [
        "def shape(self):\n",
        "  return (self.count(),len(self.columns))"
      ],
      "metadata": {
        "id": "GZiAxck8G1yO"
      },
      "execution_count": 19,
      "outputs": []
    },
    {
      "cell_type": "code",
      "source": [
        "shape(base)"
      ],
      "metadata": {
        "colab": {
          "base_uri": "https://localhost:8080/"
        },
        "id": "IcAinKaTHR4u",
        "outputId": "67a7b764-df13-43d8-8150-3d2c1db228c3"
      },
      "execution_count": 20,
      "outputs": [
        {
          "output_type": "execute_result",
          "data": {
            "text/plain": [
              "(26423295, 5)"
            ]
          },
          "metadata": {},
          "execution_count": 20
        }
      ]
    },
    {
      "cell_type": "code",
      "source": [
        "base.describe().show()"
      ],
      "metadata": {
        "colab": {
          "base_uri": "https://localhost:8080/"
        },
        "id": "xcqgfkoMHTdm",
        "outputId": "13020a53-3f6e-4a84-a4b3-7ba7868d232d"
      },
      "execution_count": 21,
      "outputs": [
        {
          "output_type": "stream",
          "name": "stdout",
          "text": [
            "+-------+-----------------+------------------+--------------------+--------------------+--------------------+\n",
            "|summary|             V_in|      Measured_RPM|         Vibration_1|         Vibration_2|         Vibration_3|\n",
            "+-------+-----------------+------------------+--------------------+--------------------+--------------------+\n",
            "|  count|         26423295|          26423295|            26423295|            26423295|            26423295|\n",
            "|   mean|5.992249414760898|-35723.05444027922|0.001981370322707362|0.002713845821044...|0.004202591440439503|\n",
            "| stddev|2.329659918182234|2987904.8204619107| 0.06284234971669785|  0.0868200929108851| 0.06599321125494297|\n",
            "|    min|              0.0|            -2.4E8|         -0.10674953|         -0.20672441|        -0.036530495|\n",
            "|    max|             10.0|         2376.6849|           7.8056097|           8.7808156|           7.7906823|\n",
            "+-------+-----------------+------------------+--------------------+--------------------+--------------------+\n",
            "\n"
          ]
        }
      ]
    },
    {
      "cell_type": "code",
      "source": [
        "base.where(base['Measured_RPM']==2376.6849).show(20)"
      ],
      "metadata": {
        "colab": {
          "base_uri": "https://localhost:8080/"
        },
        "id": "cT3SfyU9He0l",
        "outputId": "3c8dc4ff-f1fe-4285-aeae-458aa8ccf7d5"
      },
      "execution_count": 22,
      "outputs": [
        {
          "output_type": "stream",
          "name": "stdout",
          "text": [
            "+----+------------+-------------+-------------+-------------+\n",
            "|V_in|Measured_RPM|  Vibration_1|  Vibration_2|  Vibration_3|\n",
            "+----+------------+-------------+-------------+-------------+\n",
            "|10.0|   2376.6849|  0.021424294| -0.020953417| 0.0043606758|\n",
            "|10.0|   2376.6849|  -0.01521349|-0.0063800812| 0.0057315826|\n",
            "|10.0|   2376.6849| -0.020757914|  0.017174482|  0.010704994|\n",
            "|10.0|   2376.6849|  0.012702942| -0.010801554| 0.0014984608|\n",
            "|10.0|   2376.6849| 0.0066196918|  -0.01229167| 0.0055921078|\n",
            "|10.0|   2376.6849|  0.003554821|  0.044872761|-0.0018191338|\n",
            "|10.0|   2376.6849|  0.027266741| 9.5129013E-4|-0.0027191639|\n",
            "|10.0|   2376.6849| 0.0029671192| -0.009791851| 0.0052845478|\n",
            "|10.0|   2376.6849| 0.0018966198|   0.01383543| 0.0036692619|\n",
            "|10.0|   2376.6849|  -0.01432538|-0.0054216385|  0.010595322|\n",
            "|10.0|   2376.6849| -0.013591051|-0.0025844574| 0.0066590309|\n",
            "|10.0|   2376.6849| 0.0035464764| -0.028500557| 0.0084924698|\n",
            "|10.0|   2376.6849|-0.0083315372|  0.027165413| 0.0034332275|\n",
            "|10.0|   2376.6849| 0.0034403801|  0.010089874|-0.0058293343|\n",
            "|10.0|   2376.6849|  0.018366575|-0.0051426888|-0.0087201595|\n",
            "|10.0|   2376.6849|  0.014939308| 0.0041866302|-0.0039172173|\n",
            "|10.0|   2376.6849|-0.0099790096| 0.0036251545|  0.014615059|\n",
            "|10.0|   2376.6849| 0.0071108341| 0.0027394295| 0.0098180771|\n",
            "|10.0|   2376.6849| 0.0021469593| -0.017787218|  0.013018847|\n",
            "|10.0|   2376.6849|-0.0030589104| 0.0014007092| 0.0063240528|\n",
            "+----+------------+-------------+-------------+-------------+\n",
            "only showing top 20 rows\n",
            "\n"
          ]
        }
      ]
    },
    {
      "cell_type": "code",
      "source": [
        "base.where(base['Measured_RPM']==2376.6849).describe().show()"
      ],
      "metadata": {
        "colab": {
          "base_uri": "https://localhost:8080/"
        },
        "id": "h1ozqWlDJr7Y",
        "outputId": "5bbbe64b-2b69-4f5a-d3c9-cc2761f2908b"
      },
      "execution_count": 24,
      "outputs": [
        {
          "output_type": "stream",
          "name": "stdout",
          "text": [
            "+-------+----+------------------+--------------------+--------------------+--------------------+\n",
            "|summary|V_in|      Measured_RPM|         Vibration_1|         Vibration_2|         Vibration_3|\n",
            "+-------+----+------------------+--------------------+--------------------+--------------------+\n",
            "|  count|4096|              4096|                4096|                4096|                4096|\n",
            "|   mean|10.0|2376.6849000000393|6.991619061643793E-4|6.626034193645498E-4|0.002716624296665502|\n",
            "| stddev| 0.0|               0.0|0.015402569602379335|0.020645514196698987|0.005392896474520...|\n",
            "|    min|10.0|         2376.6849|        -0.062990189|          -0.1009047|        -0.027856827|\n",
            "|    max|10.0|         2376.6849|          0.10103703|           0.1103127|          0.02515316|\n",
            "+-------+----+------------------+--------------------+--------------------+--------------------+\n",
            "\n"
          ]
        }
      ]
    },
    {
      "cell_type": "code",
      "source": [
        "max_load = spark.read.csv('4D.csv',inferSchema=True,header=True)\n",
        "max_load.describe().show()"
      ],
      "metadata": {
        "colab": {
          "base_uri": "https://localhost:8080/"
        },
        "id": "pb73bOMbJwqw",
        "outputId": "b2fb9151-e867-45a4-d8e8-5baacd50e541"
      },
      "execution_count": 26,
      "outputs": [
        {
          "output_type": "stream",
          "name": "stdout",
          "text": [
            "+-------+-----------------+-------------------+--------------------+--------------------+--------------------+\n",
            "|summary|             V_in|       Measured_RPM|         Vibration_1|         Vibration_2|         Vibration_3|\n",
            "+-------+-----------------+-------------------+--------------------+--------------------+--------------------+\n",
            "|  count|         26390527|           26390527|            26390527|            26390527|            26390527|\n",
            "|   mean|5.997206118686653|-35769.199439385186|0.001139313278119...|0.002412792281254...|0.003749251604302...|\n",
            "| stddev|2.326851954760891| 2989758.9354947447|0.040871358940044185| 0.08043873017025994|0.039561479999226774|\n",
            "|    min|              0.0|             -2.4E8|         -0.12718558|         -0.20472765|        -0.041083097|\n",
            "|    max|             10.0|          3830.5617|           6.8336797|           8.4695673|           6.5487444|\n",
            "+-------+-----------------+-------------------+--------------------+--------------------+--------------------+\n",
            "\n"
          ]
        }
      ]
    },
    {
      "cell_type": "code",
      "source": [
        "shape(max_load)"
      ],
      "metadata": {
        "colab": {
          "base_uri": "https://localhost:8080/"
        },
        "id": "FjPhheT-KCzd",
        "outputId": "f12e514e-542e-4f87-d7bf-c5196ea98868"
      },
      "execution_count": 27,
      "outputs": [
        {
          "output_type": "execute_result",
          "data": {
            "text/plain": [
              "(26390527, 5)"
            ]
          },
          "metadata": {},
          "execution_count": 27
        }
      ]
    },
    {
      "cell_type": "code",
      "source": [
        ""
      ],
      "metadata": {
        "id": "oy60tbn_L9pU"
      },
      "execution_count": null,
      "outputs": []
    }
  ]
}