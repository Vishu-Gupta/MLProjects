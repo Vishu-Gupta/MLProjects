{
  "cells": [
    {
      "cell_type": "markdown",
      "metadata": {
        "id": "view-in-github",
        "colab_type": "text"
      },
      "source": [
        "<a href=\"https://colab.research.google.com/github/Vishu-Gupta/MLProjects/blob/main/Bacteria_Species_Prediction.ipynb\" target=\"_parent\"><img src=\"https://colab.research.google.com/assets/colab-badge.svg\" alt=\"Open In Colab\"/></a>"
      ]
    },
    {
      "cell_type": "markdown",
      "source": [
        "This file is for a Kaggle competition of Tabular Playground Feb'22.\n",
        "\n",
        "Bacteria species are to be predicted"
      ],
      "metadata": {
        "id": "EdFtDsEn3yOg"
      }
    },
    {
      "cell_type": "code",
      "execution_count": null,
      "metadata": {
        "colab": {
          "base_uri": "https://localhost:8080/"
        },
        "id": "mMKap6lJuYlZ",
        "outputId": "a09d663d-c741-48bf-d961-f5b34f1b6038"
      },
      "outputs": [
        {
          "output_type": "stream",
          "name": "stdout",
          "text": [
            "Requirement already satisfied: kaggle in /usr/local/lib/python3.7/dist-packages (1.5.12)\n",
            "Requirement already satisfied: python-slugify in /usr/local/lib/python3.7/dist-packages (from kaggle) (6.0.1)\n",
            "Requirement already satisfied: certifi in /usr/local/lib/python3.7/dist-packages (from kaggle) (2021.10.8)\n",
            "Requirement already satisfied: python-dateutil in /usr/local/lib/python3.7/dist-packages (from kaggle) (2.8.2)\n",
            "Requirement already satisfied: six>=1.10 in /usr/local/lib/python3.7/dist-packages (from kaggle) (1.15.0)\n",
            "Requirement already satisfied: urllib3 in /usr/local/lib/python3.7/dist-packages (from kaggle) (1.24.3)\n",
            "Requirement already satisfied: requests in /usr/local/lib/python3.7/dist-packages (from kaggle) (2.23.0)\n",
            "Requirement already satisfied: tqdm in /usr/local/lib/python3.7/dist-packages (from kaggle) (4.62.3)\n",
            "Requirement already satisfied: text-unidecode>=1.3 in /usr/local/lib/python3.7/dist-packages (from python-slugify->kaggle) (1.3)\n",
            "Requirement already satisfied: chardet<4,>=3.0.2 in /usr/local/lib/python3.7/dist-packages (from requests->kaggle) (3.0.4)\n",
            "Requirement already satisfied: idna<3,>=2.5 in /usr/local/lib/python3.7/dist-packages (from requests->kaggle) (2.10)\n"
          ]
        }
      ],
      "source": [
        "## code for connecting to Kaggle Datasets\n",
        "!pip install kaggle"
      ]
    },
    {
      "cell_type": "code",
      "execution_count": null,
      "metadata": {
        "colab": {
          "base_uri": "https://localhost:8080/"
        },
        "id": "vHmiCbznvE86",
        "outputId": "610aeab1-8b71-4403-e075-c8f042d53684"
      },
      "outputs": [
        {
          "output_type": "stream",
          "name": "stdout",
          "text": [
            "Drive already mounted at /content/drive; to attempt to forcibly remount, call drive.mount(\"/content/drive\", force_remount=True).\n"
          ]
        }
      ],
      "source": [
        "from google.colab import drive\n",
        "drive.mount('/content/drive')"
      ]
    },
    {
      "cell_type": "code",
      "execution_count": null,
      "metadata": {
        "id": "RGmaamFMvUhC"
      },
      "outputs": [],
      "source": [
        "!mkdir ~/.kaggle"
      ]
    },
    {
      "cell_type": "code",
      "execution_count": null,
      "metadata": {
        "id": "e0bcO2_KvVFJ"
      },
      "outputs": [],
      "source": [
        "!cp /content/drive/MyDrive/kaggle.json ~/.kaggle/kaggle.json\n",
        "! chmod 600 ~/.kaggle/kaggle.json"
      ]
    },
    {
      "cell_type": "code",
      "execution_count": null,
      "metadata": {
        "colab": {
          "base_uri": "https://localhost:8080/"
        },
        "id": "opOillxUvhcS",
        "outputId": "1d49d975-0b3f-4938-b697-7ca8550cb2e6"
      },
      "outputs": [
        {
          "output_type": "stream",
          "name": "stdout",
          "text": [
            "Warning: Looks like you're using an outdated API Version, please consider updating (server 1.5.12 / client 1.5.4)\n",
            "Downloading train.csv.zip to /content\n",
            " 91% 163M/178M [00:01<00:00, 157MB/s]\n",
            "100% 178M/178M [00:01<00:00, 156MB/s]\n",
            "Downloading sample_submission.csv.zip to /content\n",
            "  0% 0.00/255k [00:00<?, ?B/s]\n",
            "100% 255k/255k [00:00<00:00, 71.7MB/s]\n",
            "Downloading test.csv.zip to /content\n",
            " 83% 73.0M/88.1M [00:00<00:00, 173MB/s]\n",
            "100% 88.1M/88.1M [00:00<00:00, 195MB/s]\n"
          ]
        }
      ],
      "source": [
        "! kaggle competitions download tabular-playground-series-feb-2022"
      ]
    },
    {
      "cell_type": "code",
      "execution_count": null,
      "metadata": {
        "colab": {
          "base_uri": "https://localhost:8080/"
        },
        "id": "8P83pw-Mv7Ug",
        "outputId": "3fecad21-9084-4d11-e351-f6fff9340df2"
      },
      "outputs": [
        {
          "output_type": "stream",
          "name": "stdout",
          "text": [
            "Archive:  test.csv.zip\n",
            "  inflating: test.csv                \n",
            "Archive:  train.csv.zip\n",
            "  inflating: train.csv               \n"
          ]
        }
      ],
      "source": [
        "!unzip test.csv.zip\n",
        "!unzip train.csv.zip"
      ]
    },
    {
      "cell_type": "code",
      "execution_count": null,
      "metadata": {
        "id": "EJMoFVcUxFEP"
      },
      "outputs": [],
      "source": [
        "!rm test.csv.zip\n",
        "!rm train.csv.zip"
      ]
    },
    {
      "cell_type": "code",
      "execution_count": null,
      "metadata": {
        "id": "c0L4bTL6xOkv"
      },
      "outputs": [],
      "source": [
        "import pandas as pd\n",
        "import numpy as np\n",
        "import matplotlib.pyplot as plt\n",
        "import seaborn as sns"
      ]
    },
    {
      "cell_type": "code",
      "execution_count": null,
      "metadata": {
        "id": "ZMvI8d00xbpn"
      },
      "outputs": [],
      "source": [
        "data = pd.read_csv('train.csv')"
      ]
    },
    {
      "cell_type": "code",
      "execution_count": null,
      "metadata": {
        "colab": {
          "base_uri": "https://localhost:8080/"
        },
        "id": "8TIqrUytxfIe",
        "outputId": "e2bbede0-ee41-467f-c39e-8c84ced0aee4"
      },
      "outputs": [
        {
          "output_type": "execute_result",
          "data": {
            "text/plain": [
              "(200000, 288)"
            ]
          },
          "metadata": {},
          "execution_count": 11
        }
      ],
      "source": [
        "data.shape"
      ]
    },
    {
      "cell_type": "code",
      "execution_count": null,
      "metadata": {
        "colab": {
          "base_uri": "https://localhost:8080/",
          "height": 35
        },
        "id": "HInuKWHBxgfO",
        "outputId": "f9015303-1e8a-451e-e6fe-f3930c6ab9ea"
      },
      "outputs": [
        {
          "output_type": "execute_result",
          "data": {
            "application/vnd.google.colaboratory.intrinsic+json": {
              "type": "string"
            },
            "text/plain": [
              "'target'"
            ]
          },
          "metadata": {},
          "execution_count": 12
        }
      ],
      "source": [
        "list(data.columns)[-1]"
      ]
    },
    {
      "cell_type": "code",
      "execution_count": null,
      "metadata": {
        "colab": {
          "base_uri": "https://localhost:8080/",
          "height": 35
        },
        "id": "h50OhPDYykCG",
        "outputId": "2ad7147b-37c4-4522-cb81-1228b6951d78"
      },
      "outputs": [
        {
          "output_type": "execute_result",
          "data": {
            "application/vnd.google.colaboratory.intrinsic+json": {
              "type": "string"
            },
            "text/plain": [
              "'A10T0G0C0'"
            ]
          },
          "metadata": {},
          "execution_count": 13
        }
      ],
      "source": [
        "list(data.columns)[-2]"
      ]
    },
    {
      "cell_type": "code",
      "execution_count": null,
      "metadata": {
        "id": "JLDvOEMRybef"
      },
      "outputs": [],
      "source": [
        "data = data.set_index('row_id')"
      ]
    },
    {
      "cell_type": "code",
      "execution_count": null,
      "metadata": {
        "id": "ck9DuC5ZxuR-"
      },
      "outputs": [],
      "source": [
        "X = data.drop('target',axis=1)\n",
        "y = data.pop('target')"
      ]
    },
    {
      "cell_type": "code",
      "execution_count": null,
      "metadata": {
        "colab": {
          "base_uri": "https://localhost:8080/"
        },
        "id": "3Yqj8KnuyN4n",
        "outputId": "3fa90ef6-d4fe-4d48-f088-1fa2c7d95f23"
      },
      "outputs": [
        {
          "output_type": "execute_result",
          "data": {
            "text/plain": [
              "(200000, 286)"
            ]
          },
          "metadata": {},
          "execution_count": 16
        }
      ],
      "source": [
        "X.shape"
      ]
    },
    {
      "cell_type": "code",
      "execution_count": null,
      "metadata": {
        "colab": {
          "base_uri": "https://localhost:8080/"
        },
        "id": "7N1sNCLNzINm",
        "outputId": "115bcab0-104f-482c-f40d-301f98f60159"
      },
      "outputs": [
        {
          "output_type": "execute_result",
          "data": {
            "text/plain": [
              "(200000,)"
            ]
          },
          "metadata": {},
          "execution_count": 17
        }
      ],
      "source": [
        "y.shape"
      ]
    },
    {
      "cell_type": "code",
      "execution_count": null,
      "metadata": {
        "id": "YedcITuoz9AN"
      },
      "outputs": [],
      "source": [
        "from sklearn.preprocessing import LabelEncoder\n",
        "encode = LabelEncoder()\n",
        "y_encoded = encode.fit_transform(y)"
      ]
    },
    {
      "cell_type": "code",
      "execution_count": null,
      "metadata": {
        "id": "K3lczLqo2H9M"
      },
      "outputs": [],
      "source": [
        "from sklearn.model_selection import train_test_split\n",
        "X_train,X_validate,y_train,y_validate = train_test_split(X,y_encoded,train_size=0.8,stratify=y)"
      ]
    },
    {
      "cell_type": "code",
      "execution_count": null,
      "metadata": {
        "id": "Oru4doMzzr3V"
      },
      "outputs": [],
      "source": [
        "from sklearn.tree import DecisionTreeClassifier\n",
        "dt = DecisionTreeClassifier()\n",
        "model = dt.fit(X_train,y_train)"
      ]
    },
    {
      "cell_type": "code",
      "execution_count": null,
      "metadata": {
        "id": "vTCE_H7_0cX9"
      },
      "outputs": [],
      "source": [
        "y_train_pred = model.predict(X_train)\n",
        "y_validate_pred = model.predict(X_validate)"
      ]
    },
    {
      "cell_type": "code",
      "execution_count": null,
      "metadata": {
        "id": "T5wL42lM0vHM"
      },
      "outputs": [],
      "source": [
        "from sklearn.metrics import precision_score,accuracy_score,recall_score"
      ]
    },
    {
      "cell_type": "code",
      "execution_count": null,
      "metadata": {
        "colab": {
          "base_uri": "https://localhost:8080/"
        },
        "id": "mkWbdUHq04K8",
        "outputId": "b0982b87-8811-4e68-db26-300d038569b8"
      },
      "outputs": [
        {
          "output_type": "execute_result",
          "data": {
            "text/plain": [
              "array([1., 1., 1., 1., 1., 1., 1., 1., 1., 1.])"
            ]
          },
          "metadata": {},
          "execution_count": 23
        }
      ],
      "source": [
        "precision_score(y_train,y_train_pred,average=None)"
      ]
    },
    {
      "cell_type": "code",
      "execution_count": null,
      "metadata": {
        "colab": {
          "base_uri": "https://localhost:8080/"
        },
        "id": "wnMXD2Y62q72",
        "outputId": "8df0da27-0ffa-4ad9-e22d-d90f753d4f16"
      },
      "outputs": [
        {
          "output_type": "execute_result",
          "data": {
            "text/plain": [
              "array([0.98209846, 0.98795181, 0.97243799, 0.96464393, 0.96562108,\n",
              "       0.98522784, 0.98050975, 0.98026973, 0.97661692, 0.97206983])"
            ]
          },
          "metadata": {},
          "execution_count": 24
        }
      ],
      "source": [
        "precision_score(y_validate,y_validate_pred,average=None)"
      ]
    },
    {
      "cell_type": "code",
      "execution_count": null,
      "metadata": {
        "colab": {
          "base_uri": "https://localhost:8080/"
        },
        "id": "eOnPlP7m1pEF",
        "outputId": "74417b08-1e7a-4b7d-f427-111bc97ff5d2"
      },
      "outputs": [
        {
          "output_type": "execute_result",
          "data": {
            "text/plain": [
              "array([1., 1., 1., 1., 1., 1., 1., 1., 1., 1.])"
            ]
          },
          "metadata": {},
          "execution_count": 25
        }
      ],
      "source": [
        "recall_score(y_train,y_train_pred,average=None)"
      ]
    },
    {
      "cell_type": "code",
      "execution_count": null,
      "metadata": {
        "colab": {
          "base_uri": "https://localhost:8080/"
        },
        "id": "z77C8PdG3jvz",
        "outputId": "78e55f71-f687-49e9-849e-566f60d97ae7"
      },
      "outputs": [
        {
          "output_type": "execute_result",
          "data": {
            "text/plain": [
              "array([0.98063555, 0.98081236, 0.97292555, 0.96367735, 0.96513669,\n",
              "       0.99143361, 0.9795307 , 0.98469644, 0.97783313, 0.97085928])"
            ]
          },
          "metadata": {},
          "execution_count": 26
        }
      ],
      "source": [
        "recall_score(y_validate,y_validate_pred,average=None)"
      ]
    },
    {
      "cell_type": "code",
      "execution_count": null,
      "metadata": {
        "colab": {
          "base_uri": "https://localhost:8080/"
        },
        "id": "tlEuqUrX1rv8",
        "outputId": "5f663c7e-1acf-4c43-d246-3de1715aa93f"
      },
      "outputs": [
        {
          "output_type": "execute_result",
          "data": {
            "text/plain": [
              "Bacteroides_fragilis        20139\n",
              "Streptococcus_pyogenes      20076\n",
              "Streptococcus_pneumoniae    20074\n",
              "Campylobacter_jejuni        20063\n",
              "Salmonella_enterica         20030\n",
              "Escherichia_coli            19958\n",
              "Enterococcus_hirae          19947\n",
              "Escherichia_fergusonii      19937\n",
              "Staphylococcus_aureus       19929\n",
              "Klebsiella_pneumoniae       19847\n",
              "Name: target, dtype: int64"
            ]
          },
          "metadata": {},
          "execution_count": 27
        }
      ],
      "source": [
        "y.value_counts()"
      ]
    },
    {
      "cell_type": "code",
      "execution_count": null,
      "metadata": {
        "id": "125-swed3upz"
      },
      "outputs": [],
      "source": [
        "test_data = pd.read_csv('test.csv')"
      ]
    },
    {
      "cell_type": "code",
      "execution_count": null,
      "metadata": {
        "colab": {
          "base_uri": "https://localhost:8080/"
        },
        "id": "fFKXWT254HSD",
        "outputId": "d87c841f-d7dd-4a87-f2ab-1ee6fe229976"
      },
      "outputs": [
        {
          "output_type": "execute_result",
          "data": {
            "text/plain": [
              "(100000, 287)"
            ]
          },
          "metadata": {},
          "execution_count": 29
        }
      ],
      "source": [
        "test_data.shape"
      ]
    },
    {
      "cell_type": "code",
      "execution_count": null,
      "metadata": {
        "id": "6HMZHNTX31f9"
      },
      "outputs": [],
      "source": [
        "X_test = test_data.set_index('row_id')"
      ]
    },
    {
      "cell_type": "code",
      "execution_count": null,
      "metadata": {
        "colab": {
          "base_uri": "https://localhost:8080/"
        },
        "id": "jiE-hbYx1zu9",
        "outputId": "92514992-efb9-47ea-d5ea-3e29a8f67947"
      },
      "outputs": [
        {
          "output_type": "execute_result",
          "data": {
            "text/plain": [
              "(100000, 286)"
            ]
          },
          "metadata": {},
          "execution_count": 31
        }
      ],
      "source": [
        "X_test.shape"
      ]
    },
    {
      "cell_type": "code",
      "execution_count": null,
      "metadata": {
        "id": "TVLookup4J_j"
      },
      "outputs": [],
      "source": [
        "y_test_pred = model.predict(X_test)"
      ]
    },
    {
      "cell_type": "code",
      "execution_count": null,
      "metadata": {
        "id": "qfGUQSTE4Urj"
      },
      "outputs": [],
      "source": [
        "y_test = encode.inverse_transform(y_test_pred)"
      ]
    },
    {
      "cell_type": "code",
      "execution_count": null,
      "metadata": {
        "id": "QwiDfBUF4aZU"
      },
      "outputs": [],
      "source": [
        "test_data['target'] = y_test"
      ]
    },
    {
      "cell_type": "code",
      "execution_count": null,
      "metadata": {
        "id": "s7efk-Lz4rCj"
      },
      "outputs": [],
      "source": [
        "submission = test_data[['row_id','target']]"
      ]
    },
    {
      "cell_type": "code",
      "execution_count": null,
      "metadata": {
        "id": "4tUvUpyO48gL"
      },
      "outputs": [],
      "source": [
        "submission.to_csv('submission.csv',index=False)"
      ]
    },
    {
      "cell_type": "code",
      "execution_count": null,
      "metadata": {
        "id": "2Vp-voXl4wf8"
      },
      "outputs": [],
      "source": [
        "#!kaggle competitions submit -c tabular-playground-series-feb-2022 -f submission.csv -m 'Using Decision tree'"
      ]
    },
    {
      "cell_type": "code",
      "execution_count": null,
      "metadata": {
        "id": "w9TPaFNL5Xcj"
      },
      "outputs": [],
      "source": [
        "from sklearn.ensemble import RandomForestClassifier"
      ]
    },
    {
      "cell_type": "code",
      "execution_count": null,
      "metadata": {
        "id": "35C8Toyt6H2D"
      },
      "outputs": [],
      "source": [
        "rf = RandomForestClassifier()\n",
        "model_rf = rf.fit(X_train,y_train)\n"
      ]
    },
    {
      "cell_type": "code",
      "execution_count": null,
      "metadata": {
        "id": "US-FU5PA7QDA"
      },
      "outputs": [],
      "source": [
        "y_rf_train = model_rf.predict(X_train)\n",
        "y_rf_validate = model_rf.predict(X_validate)"
      ]
    },
    {
      "cell_type": "code",
      "execution_count": null,
      "metadata": {
        "colab": {
          "base_uri": "https://localhost:8080/"
        },
        "id": "MJcvrFE76oa6",
        "outputId": "f19d8fe4-f0a4-4614-81a2-ef2199e92c7f"
      },
      "outputs": [
        {
          "output_type": "execute_result",
          "data": {
            "text/plain": [
              "array([1., 1., 1., 1., 1., 1., 1., 1., 1., 1.])"
            ]
          },
          "metadata": {},
          "execution_count": 41
        }
      ],
      "source": [
        "precision_score(y_train,y_rf_train,average=None)\n"
      ]
    },
    {
      "cell_type": "code",
      "execution_count": null,
      "metadata": {
        "colab": {
          "base_uri": "https://localhost:8080/"
        },
        "id": "sIrZbnzV6zMi",
        "outputId": "4dcc6c5e-e0f8-473c-ee05-1cc27e1f4dca"
      },
      "outputs": [
        {
          "output_type": "execute_result",
          "data": {
            "text/plain": [
              "array([0.99479167, 0.99526657, 0.99421238, 0.99225194, 0.99596977,\n",
              "       0.99348208, 0.99549324, 0.99274637, 0.99526066, 0.99129137])"
            ]
          },
          "metadata": {},
          "execution_count": 42
        }
      ],
      "source": [
        "precision_score(y_validate,y_rf_validate,average=None)"
      ]
    },
    {
      "cell_type": "code",
      "execution_count": null,
      "metadata": {
        "colab": {
          "base_uri": "https://localhost:8080/"
        },
        "id": "zAfJ86Fd7ZRh",
        "outputId": "9b88df3d-3794-48f3-eb0a-170fb8f88a74"
      },
      "outputs": [
        {
          "output_type": "execute_result",
          "data": {
            "text/plain": [
              "array([1., 1., 1., 1., 1., 1., 1., 1., 1., 1.])"
            ]
          },
          "metadata": {},
          "execution_count": 43
        }
      ],
      "source": [
        "recall_score(y_train,y_rf_train,average=None)"
      ]
    },
    {
      "cell_type": "code",
      "execution_count": null,
      "metadata": {
        "colab": {
          "base_uri": "https://localhost:8080/"
        },
        "id": "5oVDjTMM61tx",
        "outputId": "0c6b4481-ae3e-4af8-b1d7-dbb36d1b35f1"
      },
      "outputs": [
        {
          "output_type": "execute_result",
          "data": {
            "text/plain": [
              "array([0.99577954, 0.99551458, 0.9904738 , 0.99448898, 0.9917231 ,\n",
              "       0.99848828, 0.99251123, 0.99573507, 0.99377335, 0.99227895])"
            ]
          },
          "metadata": {},
          "execution_count": 44
        }
      ],
      "source": [
        "recall_score(y_validate,y_rf_validate,average=None)"
      ]
    },
    {
      "cell_type": "code",
      "execution_count": null,
      "metadata": {
        "id": "fo-mAe8G66IA"
      },
      "outputs": [],
      "source": [
        "y_rf_test = model_rf.predict(X_test)"
      ]
    },
    {
      "cell_type": "code",
      "execution_count": null,
      "metadata": {
        "id": "eC4hRnwz7q0Y"
      },
      "outputs": [],
      "source": [
        "test_data['predict_rf'] = encode.inverse_transform(y_rf_test)"
      ]
    },
    {
      "cell_type": "code",
      "execution_count": null,
      "metadata": {
        "id": "CM8EuDvv7xdf"
      },
      "outputs": [],
      "source": [
        "test_data[['row_id','predict_rf']].rename(columns={\"predict_rf\":\"target\"}).to_csv('submission_rf.csv',index=False)"
      ]
    },
    {
      "cell_type": "code",
      "execution_count": null,
      "metadata": {
        "id": "GyP4lJHx7_Po"
      },
      "outputs": [],
      "source": [
        "#!kaggle competitions submit -c tabular-playground-series-feb-2022 -f submission_rf.csv -m 'Using Random Forest'"
      ]
    },
    {
      "cell_type": "code",
      "execution_count": null,
      "metadata": {
        "id": "0-ny_kGv-01W"
      },
      "outputs": [],
      "source": [
        "keys= np.array(list(set(y_rf_test))).reshape(-1,)"
      ]
    },
    {
      "cell_type": "code",
      "execution_count": null,
      "metadata": {
        "id": "f79ae0gQBzIr"
      },
      "outputs": [],
      "source": [
        "score = pd.DataFrame(keys,columns=['Label_Id'])"
      ]
    },
    {
      "cell_type": "code",
      "execution_count": null,
      "metadata": {
        "id": "B-GBQED0_Lqs"
      },
      "outputs": [],
      "source": [
        "score['Label'] = encode.inverse_transform(score['Label_Id'])"
      ]
    },
    {
      "cell_type": "code",
      "execution_count": null,
      "metadata": {
        "id": "-6UoLXhxA0es"
      },
      "outputs": [],
      "source": [
        "score['dt_train_precision'] = precision_score(y_train,y_train_pred,average=None).reshape(-1,)\n",
        "score['dt_validate_precision'] = precision_score(y_validate,y_validate_pred,average=None).reshape(-1,)\n",
        "score['dt_train_recall'] = recall_score(y_train,y_train_pred,average=None).reshape(-1,)\n",
        "score['dt_validate_recall'] = recall_score(y_validate,y_validate_pred,average=None).reshape(-1,)"
      ]
    },
    {
      "cell_type": "code",
      "execution_count": null,
      "metadata": {
        "colab": {
          "base_uri": "https://localhost:8080/",
          "height": 363
        },
        "id": "JH5iAcmQBCAO",
        "outputId": "2e085fc4-07ea-4ada-9655-19c91aad7d22"
      },
      "outputs": [
        {
          "output_type": "execute_result",
          "data": {
            "text/html": [
              "\n",
              "  <div id=\"df-f199fac9-822a-4856-abbb-13284a91e36c\">\n",
              "    <div class=\"colab-df-container\">\n",
              "      <div>\n",
              "<style scoped>\n",
              "    .dataframe tbody tr th:only-of-type {\n",
              "        vertical-align: middle;\n",
              "    }\n",
              "\n",
              "    .dataframe tbody tr th {\n",
              "        vertical-align: top;\n",
              "    }\n",
              "\n",
              "    .dataframe thead th {\n",
              "        text-align: right;\n",
              "    }\n",
              "</style>\n",
              "<table border=\"1\" class=\"dataframe\">\n",
              "  <thead>\n",
              "    <tr style=\"text-align: right;\">\n",
              "      <th></th>\n",
              "      <th>Label_Id</th>\n",
              "      <th>Label</th>\n",
              "      <th>dt_train_precision</th>\n",
              "      <th>dt_validate_precision</th>\n",
              "      <th>dt_train_recall</th>\n",
              "      <th>dt_validate_recall</th>\n",
              "    </tr>\n",
              "  </thead>\n",
              "  <tbody>\n",
              "    <tr>\n",
              "      <th>0</th>\n",
              "      <td>0</td>\n",
              "      <td>Bacteroides_fragilis</td>\n",
              "      <td>1.0</td>\n",
              "      <td>0.982098</td>\n",
              "      <td>1.0</td>\n",
              "      <td>0.980636</td>\n",
              "    </tr>\n",
              "    <tr>\n",
              "      <th>1</th>\n",
              "      <td>1</td>\n",
              "      <td>Campylobacter_jejuni</td>\n",
              "      <td>1.0</td>\n",
              "      <td>0.987952</td>\n",
              "      <td>1.0</td>\n",
              "      <td>0.980812</td>\n",
              "    </tr>\n",
              "    <tr>\n",
              "      <th>2</th>\n",
              "      <td>2</td>\n",
              "      <td>Enterococcus_hirae</td>\n",
              "      <td>1.0</td>\n",
              "      <td>0.972438</td>\n",
              "      <td>1.0</td>\n",
              "      <td>0.972926</td>\n",
              "    </tr>\n",
              "    <tr>\n",
              "      <th>3</th>\n",
              "      <td>3</td>\n",
              "      <td>Escherichia_coli</td>\n",
              "      <td>1.0</td>\n",
              "      <td>0.964644</td>\n",
              "      <td>1.0</td>\n",
              "      <td>0.963677</td>\n",
              "    </tr>\n",
              "    <tr>\n",
              "      <th>4</th>\n",
              "      <td>4</td>\n",
              "      <td>Escherichia_fergusonii</td>\n",
              "      <td>1.0</td>\n",
              "      <td>0.965621</td>\n",
              "      <td>1.0</td>\n",
              "      <td>0.965137</td>\n",
              "    </tr>\n",
              "    <tr>\n",
              "      <th>5</th>\n",
              "      <td>5</td>\n",
              "      <td>Klebsiella_pneumoniae</td>\n",
              "      <td>1.0</td>\n",
              "      <td>0.985228</td>\n",
              "      <td>1.0</td>\n",
              "      <td>0.991434</td>\n",
              "    </tr>\n",
              "    <tr>\n",
              "      <th>6</th>\n",
              "      <td>6</td>\n",
              "      <td>Salmonella_enterica</td>\n",
              "      <td>1.0</td>\n",
              "      <td>0.980510</td>\n",
              "      <td>1.0</td>\n",
              "      <td>0.979531</td>\n",
              "    </tr>\n",
              "    <tr>\n",
              "      <th>7</th>\n",
              "      <td>7</td>\n",
              "      <td>Staphylococcus_aureus</td>\n",
              "      <td>1.0</td>\n",
              "      <td>0.980270</td>\n",
              "      <td>1.0</td>\n",
              "      <td>0.984696</td>\n",
              "    </tr>\n",
              "    <tr>\n",
              "      <th>8</th>\n",
              "      <td>8</td>\n",
              "      <td>Streptococcus_pneumoniae</td>\n",
              "      <td>1.0</td>\n",
              "      <td>0.976617</td>\n",
              "      <td>1.0</td>\n",
              "      <td>0.977833</td>\n",
              "    </tr>\n",
              "    <tr>\n",
              "      <th>9</th>\n",
              "      <td>9</td>\n",
              "      <td>Streptococcus_pyogenes</td>\n",
              "      <td>1.0</td>\n",
              "      <td>0.972070</td>\n",
              "      <td>1.0</td>\n",
              "      <td>0.970859</td>\n",
              "    </tr>\n",
              "  </tbody>\n",
              "</table>\n",
              "</div>\n",
              "      <button class=\"colab-df-convert\" onclick=\"convertToInteractive('df-f199fac9-822a-4856-abbb-13284a91e36c')\"\n",
              "              title=\"Convert this dataframe to an interactive table.\"\n",
              "              style=\"display:none;\">\n",
              "        \n",
              "  <svg xmlns=\"http://www.w3.org/2000/svg\" height=\"24px\"viewBox=\"0 0 24 24\"\n",
              "       width=\"24px\">\n",
              "    <path d=\"M0 0h24v24H0V0z\" fill=\"none\"/>\n",
              "    <path d=\"M18.56 5.44l.94 2.06.94-2.06 2.06-.94-2.06-.94-.94-2.06-.94 2.06-2.06.94zm-11 1L8.5 8.5l.94-2.06 2.06-.94-2.06-.94L8.5 2.5l-.94 2.06-2.06.94zm10 10l.94 2.06.94-2.06 2.06-.94-2.06-.94-.94-2.06-.94 2.06-2.06.94z\"/><path d=\"M17.41 7.96l-1.37-1.37c-.4-.4-.92-.59-1.43-.59-.52 0-1.04.2-1.43.59L10.3 9.45l-7.72 7.72c-.78.78-.78 2.05 0 2.83L4 21.41c.39.39.9.59 1.41.59.51 0 1.02-.2 1.41-.59l7.78-7.78 2.81-2.81c.8-.78.8-2.07 0-2.86zM5.41 20L4 18.59l7.72-7.72 1.47 1.35L5.41 20z\"/>\n",
              "  </svg>\n",
              "      </button>\n",
              "      \n",
              "  <style>\n",
              "    .colab-df-container {\n",
              "      display:flex;\n",
              "      flex-wrap:wrap;\n",
              "      gap: 12px;\n",
              "    }\n",
              "\n",
              "    .colab-df-convert {\n",
              "      background-color: #E8F0FE;\n",
              "      border: none;\n",
              "      border-radius: 50%;\n",
              "      cursor: pointer;\n",
              "      display: none;\n",
              "      fill: #1967D2;\n",
              "      height: 32px;\n",
              "      padding: 0 0 0 0;\n",
              "      width: 32px;\n",
              "    }\n",
              "\n",
              "    .colab-df-convert:hover {\n",
              "      background-color: #E2EBFA;\n",
              "      box-shadow: 0px 1px 2px rgba(60, 64, 67, 0.3), 0px 1px 3px 1px rgba(60, 64, 67, 0.15);\n",
              "      fill: #174EA6;\n",
              "    }\n",
              "\n",
              "    [theme=dark] .colab-df-convert {\n",
              "      background-color: #3B4455;\n",
              "      fill: #D2E3FC;\n",
              "    }\n",
              "\n",
              "    [theme=dark] .colab-df-convert:hover {\n",
              "      background-color: #434B5C;\n",
              "      box-shadow: 0px 1px 3px 1px rgba(0, 0, 0, 0.15);\n",
              "      filter: drop-shadow(0px 1px 2px rgba(0, 0, 0, 0.3));\n",
              "      fill: #FFFFFF;\n",
              "    }\n",
              "  </style>\n",
              "\n",
              "      <script>\n",
              "        const buttonEl =\n",
              "          document.querySelector('#df-f199fac9-822a-4856-abbb-13284a91e36c button.colab-df-convert');\n",
              "        buttonEl.style.display =\n",
              "          google.colab.kernel.accessAllowed ? 'block' : 'none';\n",
              "\n",
              "        async function convertToInteractive(key) {\n",
              "          const element = document.querySelector('#df-f199fac9-822a-4856-abbb-13284a91e36c');\n",
              "          const dataTable =\n",
              "            await google.colab.kernel.invokeFunction('convertToInteractive',\n",
              "                                                     [key], {});\n",
              "          if (!dataTable) return;\n",
              "\n",
              "          const docLinkHtml = 'Like what you see? Visit the ' +\n",
              "            '<a target=\"_blank\" href=https://colab.research.google.com/notebooks/data_table.ipynb>data table notebook</a>'\n",
              "            + ' to learn more about interactive tables.';\n",
              "          element.innerHTML = '';\n",
              "          dataTable['output_type'] = 'display_data';\n",
              "          await google.colab.output.renderOutput(dataTable, element);\n",
              "          const docLink = document.createElement('div');\n",
              "          docLink.innerHTML = docLinkHtml;\n",
              "          element.appendChild(docLink);\n",
              "        }\n",
              "      </script>\n",
              "    </div>\n",
              "  </div>\n",
              "  "
            ],
            "text/plain": [
              "   Label_Id                     Label  ...  dt_train_recall  dt_validate_recall\n",
              "0         0      Bacteroides_fragilis  ...              1.0            0.980636\n",
              "1         1      Campylobacter_jejuni  ...              1.0            0.980812\n",
              "2         2        Enterococcus_hirae  ...              1.0            0.972926\n",
              "3         3          Escherichia_coli  ...              1.0            0.963677\n",
              "4         4    Escherichia_fergusonii  ...              1.0            0.965137\n",
              "5         5     Klebsiella_pneumoniae  ...              1.0            0.991434\n",
              "6         6       Salmonella_enterica  ...              1.0            0.979531\n",
              "7         7     Staphylococcus_aureus  ...              1.0            0.984696\n",
              "8         8  Streptococcus_pneumoniae  ...              1.0            0.977833\n",
              "9         9    Streptococcus_pyogenes  ...              1.0            0.970859\n",
              "\n",
              "[10 rows x 6 columns]"
            ]
          },
          "metadata": {},
          "execution_count": 53
        }
      ],
      "source": [
        "score"
      ]
    },
    {
      "cell_type": "code",
      "execution_count": null,
      "metadata": {
        "id": "xQ3UbqFeBDDu"
      },
      "outputs": [],
      "source": [
        "score['rf_train_precision'] = precision_score(y_train,y_rf_train,average=None).reshape(-1,)\n",
        "score['rf_validate_precision'] = precision_score(y_validate,y_rf_validate,average=None).reshape(-1,)\n",
        "score['rf_train_recall'] = recall_score(y_train,y_rf_train,average=None).reshape(-1,)\n",
        "score['rf_validate_recall'] = recall_score(y_validate,y_rf_validate,average=None).reshape(-1,)"
      ]
    },
    {
      "cell_type": "code",
      "execution_count": null,
      "metadata": {
        "colab": {
          "base_uri": "https://localhost:8080/",
          "height": 427
        },
        "id": "WKoirTf2C3J6",
        "outputId": "09610dc5-9a5b-43f7-d939-342451a9ef29"
      },
      "outputs": [
        {
          "output_type": "execute_result",
          "data": {
            "text/html": [
              "\n",
              "  <div id=\"df-6a08d6d4-f203-4bd7-b4e5-14d6399e09a9\">\n",
              "    <div class=\"colab-df-container\">\n",
              "      <div>\n",
              "<style scoped>\n",
              "    .dataframe tbody tr th:only-of-type {\n",
              "        vertical-align: middle;\n",
              "    }\n",
              "\n",
              "    .dataframe tbody tr th {\n",
              "        vertical-align: top;\n",
              "    }\n",
              "\n",
              "    .dataframe thead th {\n",
              "        text-align: right;\n",
              "    }\n",
              "</style>\n",
              "<table border=\"1\" class=\"dataframe\">\n",
              "  <thead>\n",
              "    <tr style=\"text-align: right;\">\n",
              "      <th></th>\n",
              "      <th>Label_Id</th>\n",
              "      <th>Label</th>\n",
              "      <th>dt_train_precision</th>\n",
              "      <th>dt_validate_precision</th>\n",
              "      <th>dt_train_recall</th>\n",
              "      <th>dt_validate_recall</th>\n",
              "      <th>rf_train_precision</th>\n",
              "      <th>rf_validate_precision</th>\n",
              "      <th>rf_train_recall</th>\n",
              "      <th>rf_validate_recall</th>\n",
              "    </tr>\n",
              "  </thead>\n",
              "  <tbody>\n",
              "    <tr>\n",
              "      <th>0</th>\n",
              "      <td>0</td>\n",
              "      <td>Bacteroides_fragilis</td>\n",
              "      <td>1.0</td>\n",
              "      <td>0.982098</td>\n",
              "      <td>1.0</td>\n",
              "      <td>0.980636</td>\n",
              "      <td>1.0</td>\n",
              "      <td>0.994792</td>\n",
              "      <td>1.0</td>\n",
              "      <td>0.995780</td>\n",
              "    </tr>\n",
              "    <tr>\n",
              "      <th>1</th>\n",
              "      <td>1</td>\n",
              "      <td>Campylobacter_jejuni</td>\n",
              "      <td>1.0</td>\n",
              "      <td>0.987952</td>\n",
              "      <td>1.0</td>\n",
              "      <td>0.980812</td>\n",
              "      <td>1.0</td>\n",
              "      <td>0.995267</td>\n",
              "      <td>1.0</td>\n",
              "      <td>0.995515</td>\n",
              "    </tr>\n",
              "    <tr>\n",
              "      <th>2</th>\n",
              "      <td>2</td>\n",
              "      <td>Enterococcus_hirae</td>\n",
              "      <td>1.0</td>\n",
              "      <td>0.972438</td>\n",
              "      <td>1.0</td>\n",
              "      <td>0.972926</td>\n",
              "      <td>1.0</td>\n",
              "      <td>0.994212</td>\n",
              "      <td>1.0</td>\n",
              "      <td>0.990474</td>\n",
              "    </tr>\n",
              "    <tr>\n",
              "      <th>3</th>\n",
              "      <td>3</td>\n",
              "      <td>Escherichia_coli</td>\n",
              "      <td>1.0</td>\n",
              "      <td>0.964644</td>\n",
              "      <td>1.0</td>\n",
              "      <td>0.963677</td>\n",
              "      <td>1.0</td>\n",
              "      <td>0.992252</td>\n",
              "      <td>1.0</td>\n",
              "      <td>0.994489</td>\n",
              "    </tr>\n",
              "    <tr>\n",
              "      <th>4</th>\n",
              "      <td>4</td>\n",
              "      <td>Escherichia_fergusonii</td>\n",
              "      <td>1.0</td>\n",
              "      <td>0.965621</td>\n",
              "      <td>1.0</td>\n",
              "      <td>0.965137</td>\n",
              "      <td>1.0</td>\n",
              "      <td>0.995970</td>\n",
              "      <td>1.0</td>\n",
              "      <td>0.991723</td>\n",
              "    </tr>\n",
              "    <tr>\n",
              "      <th>5</th>\n",
              "      <td>5</td>\n",
              "      <td>Klebsiella_pneumoniae</td>\n",
              "      <td>1.0</td>\n",
              "      <td>0.985228</td>\n",
              "      <td>1.0</td>\n",
              "      <td>0.991434</td>\n",
              "      <td>1.0</td>\n",
              "      <td>0.993482</td>\n",
              "      <td>1.0</td>\n",
              "      <td>0.998488</td>\n",
              "    </tr>\n",
              "    <tr>\n",
              "      <th>6</th>\n",
              "      <td>6</td>\n",
              "      <td>Salmonella_enterica</td>\n",
              "      <td>1.0</td>\n",
              "      <td>0.980510</td>\n",
              "      <td>1.0</td>\n",
              "      <td>0.979531</td>\n",
              "      <td>1.0</td>\n",
              "      <td>0.995493</td>\n",
              "      <td>1.0</td>\n",
              "      <td>0.992511</td>\n",
              "    </tr>\n",
              "    <tr>\n",
              "      <th>7</th>\n",
              "      <td>7</td>\n",
              "      <td>Staphylococcus_aureus</td>\n",
              "      <td>1.0</td>\n",
              "      <td>0.980270</td>\n",
              "      <td>1.0</td>\n",
              "      <td>0.984696</td>\n",
              "      <td>1.0</td>\n",
              "      <td>0.992746</td>\n",
              "      <td>1.0</td>\n",
              "      <td>0.995735</td>\n",
              "    </tr>\n",
              "    <tr>\n",
              "      <th>8</th>\n",
              "      <td>8</td>\n",
              "      <td>Streptococcus_pneumoniae</td>\n",
              "      <td>1.0</td>\n",
              "      <td>0.976617</td>\n",
              "      <td>1.0</td>\n",
              "      <td>0.977833</td>\n",
              "      <td>1.0</td>\n",
              "      <td>0.995261</td>\n",
              "      <td>1.0</td>\n",
              "      <td>0.993773</td>\n",
              "    </tr>\n",
              "    <tr>\n",
              "      <th>9</th>\n",
              "      <td>9</td>\n",
              "      <td>Streptococcus_pyogenes</td>\n",
              "      <td>1.0</td>\n",
              "      <td>0.972070</td>\n",
              "      <td>1.0</td>\n",
              "      <td>0.970859</td>\n",
              "      <td>1.0</td>\n",
              "      <td>0.991291</td>\n",
              "      <td>1.0</td>\n",
              "      <td>0.992279</td>\n",
              "    </tr>\n",
              "  </tbody>\n",
              "</table>\n",
              "</div>\n",
              "      <button class=\"colab-df-convert\" onclick=\"convertToInteractive('df-6a08d6d4-f203-4bd7-b4e5-14d6399e09a9')\"\n",
              "              title=\"Convert this dataframe to an interactive table.\"\n",
              "              style=\"display:none;\">\n",
              "        \n",
              "  <svg xmlns=\"http://www.w3.org/2000/svg\" height=\"24px\"viewBox=\"0 0 24 24\"\n",
              "       width=\"24px\">\n",
              "    <path d=\"M0 0h24v24H0V0z\" fill=\"none\"/>\n",
              "    <path d=\"M18.56 5.44l.94 2.06.94-2.06 2.06-.94-2.06-.94-.94-2.06-.94 2.06-2.06.94zm-11 1L8.5 8.5l.94-2.06 2.06-.94-2.06-.94L8.5 2.5l-.94 2.06-2.06.94zm10 10l.94 2.06.94-2.06 2.06-.94-2.06-.94-.94-2.06-.94 2.06-2.06.94z\"/><path d=\"M17.41 7.96l-1.37-1.37c-.4-.4-.92-.59-1.43-.59-.52 0-1.04.2-1.43.59L10.3 9.45l-7.72 7.72c-.78.78-.78 2.05 0 2.83L4 21.41c.39.39.9.59 1.41.59.51 0 1.02-.2 1.41-.59l7.78-7.78 2.81-2.81c.8-.78.8-2.07 0-2.86zM5.41 20L4 18.59l7.72-7.72 1.47 1.35L5.41 20z\"/>\n",
              "  </svg>\n",
              "      </button>\n",
              "      \n",
              "  <style>\n",
              "    .colab-df-container {\n",
              "      display:flex;\n",
              "      flex-wrap:wrap;\n",
              "      gap: 12px;\n",
              "    }\n",
              "\n",
              "    .colab-df-convert {\n",
              "      background-color: #E8F0FE;\n",
              "      border: none;\n",
              "      border-radius: 50%;\n",
              "      cursor: pointer;\n",
              "      display: none;\n",
              "      fill: #1967D2;\n",
              "      height: 32px;\n",
              "      padding: 0 0 0 0;\n",
              "      width: 32px;\n",
              "    }\n",
              "\n",
              "    .colab-df-convert:hover {\n",
              "      background-color: #E2EBFA;\n",
              "      box-shadow: 0px 1px 2px rgba(60, 64, 67, 0.3), 0px 1px 3px 1px rgba(60, 64, 67, 0.15);\n",
              "      fill: #174EA6;\n",
              "    }\n",
              "\n",
              "    [theme=dark] .colab-df-convert {\n",
              "      background-color: #3B4455;\n",
              "      fill: #D2E3FC;\n",
              "    }\n",
              "\n",
              "    [theme=dark] .colab-df-convert:hover {\n",
              "      background-color: #434B5C;\n",
              "      box-shadow: 0px 1px 3px 1px rgba(0, 0, 0, 0.15);\n",
              "      filter: drop-shadow(0px 1px 2px rgba(0, 0, 0, 0.3));\n",
              "      fill: #FFFFFF;\n",
              "    }\n",
              "  </style>\n",
              "\n",
              "      <script>\n",
              "        const buttonEl =\n",
              "          document.querySelector('#df-6a08d6d4-f203-4bd7-b4e5-14d6399e09a9 button.colab-df-convert');\n",
              "        buttonEl.style.display =\n",
              "          google.colab.kernel.accessAllowed ? 'block' : 'none';\n",
              "\n",
              "        async function convertToInteractive(key) {\n",
              "          const element = document.querySelector('#df-6a08d6d4-f203-4bd7-b4e5-14d6399e09a9');\n",
              "          const dataTable =\n",
              "            await google.colab.kernel.invokeFunction('convertToInteractive',\n",
              "                                                     [key], {});\n",
              "          if (!dataTable) return;\n",
              "\n",
              "          const docLinkHtml = 'Like what you see? Visit the ' +\n",
              "            '<a target=\"_blank\" href=https://colab.research.google.com/notebooks/data_table.ipynb>data table notebook</a>'\n",
              "            + ' to learn more about interactive tables.';\n",
              "          element.innerHTML = '';\n",
              "          dataTable['output_type'] = 'display_data';\n",
              "          await google.colab.output.renderOutput(dataTable, element);\n",
              "          const docLink = document.createElement('div');\n",
              "          docLink.innerHTML = docLinkHtml;\n",
              "          element.appendChild(docLink);\n",
              "        }\n",
              "      </script>\n",
              "    </div>\n",
              "  </div>\n",
              "  "
            ],
            "text/plain": [
              "   Label_Id                     Label  ...  rf_train_recall  rf_validate_recall\n",
              "0         0      Bacteroides_fragilis  ...              1.0            0.995780\n",
              "1         1      Campylobacter_jejuni  ...              1.0            0.995515\n",
              "2         2        Enterococcus_hirae  ...              1.0            0.990474\n",
              "3         3          Escherichia_coli  ...              1.0            0.994489\n",
              "4         4    Escherichia_fergusonii  ...              1.0            0.991723\n",
              "5         5     Klebsiella_pneumoniae  ...              1.0            0.998488\n",
              "6         6       Salmonella_enterica  ...              1.0            0.992511\n",
              "7         7     Staphylococcus_aureus  ...              1.0            0.995735\n",
              "8         8  Streptococcus_pneumoniae  ...              1.0            0.993773\n",
              "9         9    Streptococcus_pyogenes  ...              1.0            0.992279\n",
              "\n",
              "[10 rows x 10 columns]"
            ]
          },
          "metadata": {},
          "execution_count": 55
        }
      ],
      "source": [
        "score"
      ]
    },
    {
      "cell_type": "code",
      "execution_count": null,
      "metadata": {
        "id": "0ZspegfwC4lS"
      },
      "outputs": [],
      "source": [
        "from sklearn.neighbors import KNeighborsClassifier\n",
        "knn = KNeighborsClassifier()\n",
        "model_knn = knn.fit(X_train,y_train)"
      ]
    },
    {
      "cell_type": "code",
      "execution_count": null,
      "metadata": {
        "id": "FsL-srxYjQLc"
      },
      "outputs": [],
      "source": [
        "y_knn_train= model_knn.predict(X_train)\n",
        "y_knn_validate = model_knn.predict(X_validate)"
      ]
    },
    {
      "cell_type": "code",
      "execution_count": null,
      "metadata": {
        "id": "txQz_bYJjhgy"
      },
      "outputs": [],
      "source": [
        "score['knn_train_precision'] =precision_score(y_train,y_knn_train,average=None).reshape(-1,)\n",
        "score['knn_validate_precision'] =precision_score(y_validate,y_knn_validate,average=None).reshape(-1,)\n",
        "score['knn_train_recall'] =recall_score(y_train,y_knn_train,average=None).reshape(-1,)\n",
        "score['knn_train_recall'] =recall_score(y_validate,y_knn_validate,average=None).reshape(-1,)\n"
      ]
    },
    {
      "cell_type": "code",
      "execution_count": null,
      "metadata": {
        "colab": {
          "base_uri": "https://localhost:8080/",
          "height": 427
        },
        "id": "1UTNY4egoyjC",
        "outputId": "4e4d4083-f47c-40f9-aa48-a29cd25e0a61"
      },
      "outputs": [
        {
          "output_type": "execute_result",
          "data": {
            "text/html": [
              "\n",
              "  <div id=\"df-2f178c19-3009-417b-b3f5-c66a8434cf90\">\n",
              "    <div class=\"colab-df-container\">\n",
              "      <div>\n",
              "<style scoped>\n",
              "    .dataframe tbody tr th:only-of-type {\n",
              "        vertical-align: middle;\n",
              "    }\n",
              "\n",
              "    .dataframe tbody tr th {\n",
              "        vertical-align: top;\n",
              "    }\n",
              "\n",
              "    .dataframe thead th {\n",
              "        text-align: right;\n",
              "    }\n",
              "</style>\n",
              "<table border=\"1\" class=\"dataframe\">\n",
              "  <thead>\n",
              "    <tr style=\"text-align: right;\">\n",
              "      <th></th>\n",
              "      <th>Label_Id</th>\n",
              "      <th>Label</th>\n",
              "      <th>dt_train_precision</th>\n",
              "      <th>dt_validate_precision</th>\n",
              "      <th>dt_train_recall</th>\n",
              "      <th>dt_validate_recall</th>\n",
              "      <th>rf_train_precision</th>\n",
              "      <th>rf_validate_precision</th>\n",
              "      <th>rf_train_recall</th>\n",
              "      <th>rf_validate_recall</th>\n",
              "      <th>knn_train_precision</th>\n",
              "      <th>knn_validate_precision</th>\n",
              "      <th>knn_train_recall</th>\n",
              "    </tr>\n",
              "  </thead>\n",
              "  <tbody>\n",
              "    <tr>\n",
              "      <th>0</th>\n",
              "      <td>0</td>\n",
              "      <td>Bacteroides_fragilis</td>\n",
              "      <td>1.0</td>\n",
              "      <td>0.982098</td>\n",
              "      <td>1.0</td>\n",
              "      <td>0.980636</td>\n",
              "      <td>1.0</td>\n",
              "      <td>0.994792</td>\n",
              "      <td>1.0</td>\n",
              "      <td>0.995780</td>\n",
              "      <td>0.981176</td>\n",
              "      <td>0.968907</td>\n",
              "      <td>0.959285</td>\n",
              "    </tr>\n",
              "    <tr>\n",
              "      <th>1</th>\n",
              "      <td>1</td>\n",
              "      <td>Campylobacter_jejuni</td>\n",
              "      <td>1.0</td>\n",
              "      <td>0.987952</td>\n",
              "      <td>1.0</td>\n",
              "      <td>0.980812</td>\n",
              "      <td>1.0</td>\n",
              "      <td>0.995267</td>\n",
              "      <td>1.0</td>\n",
              "      <td>0.995515</td>\n",
              "      <td>0.982828</td>\n",
              "      <td>0.963524</td>\n",
              "      <td>0.967605</td>\n",
              "    </tr>\n",
              "    <tr>\n",
              "      <th>2</th>\n",
              "      <td>2</td>\n",
              "      <td>Enterococcus_hirae</td>\n",
              "      <td>1.0</td>\n",
              "      <td>0.972438</td>\n",
              "      <td>1.0</td>\n",
              "      <td>0.972926</td>\n",
              "      <td>1.0</td>\n",
              "      <td>0.994212</td>\n",
              "      <td>1.0</td>\n",
              "      <td>0.990474</td>\n",
              "      <td>0.969467</td>\n",
              "      <td>0.941453</td>\n",
              "      <td>0.955377</td>\n",
              "    </tr>\n",
              "    <tr>\n",
              "      <th>3</th>\n",
              "      <td>3</td>\n",
              "      <td>Escherichia_coli</td>\n",
              "      <td>1.0</td>\n",
              "      <td>0.964644</td>\n",
              "      <td>1.0</td>\n",
              "      <td>0.963677</td>\n",
              "      <td>1.0</td>\n",
              "      <td>0.992252</td>\n",
              "      <td>1.0</td>\n",
              "      <td>0.994489</td>\n",
              "      <td>0.975136</td>\n",
              "      <td>0.951238</td>\n",
              "      <td>0.962675</td>\n",
              "    </tr>\n",
              "    <tr>\n",
              "      <th>4</th>\n",
              "      <td>4</td>\n",
              "      <td>Escherichia_fergusonii</td>\n",
              "      <td>1.0</td>\n",
              "      <td>0.965621</td>\n",
              "      <td>1.0</td>\n",
              "      <td>0.965137</td>\n",
              "      <td>1.0</td>\n",
              "      <td>0.995970</td>\n",
              "      <td>1.0</td>\n",
              "      <td>0.991723</td>\n",
              "      <td>0.976308</td>\n",
              "      <td>0.954670</td>\n",
              "      <td>0.961374</td>\n",
              "    </tr>\n",
              "    <tr>\n",
              "      <th>5</th>\n",
              "      <td>5</td>\n",
              "      <td>Klebsiella_pneumoniae</td>\n",
              "      <td>1.0</td>\n",
              "      <td>0.985228</td>\n",
              "      <td>1.0</td>\n",
              "      <td>0.991434</td>\n",
              "      <td>1.0</td>\n",
              "      <td>0.993482</td>\n",
              "      <td>1.0</td>\n",
              "      <td>0.998488</td>\n",
              "      <td>0.989172</td>\n",
              "      <td>0.976732</td>\n",
              "      <td>0.973041</td>\n",
              "    </tr>\n",
              "    <tr>\n",
              "      <th>6</th>\n",
              "      <td>6</td>\n",
              "      <td>Salmonella_enterica</td>\n",
              "      <td>1.0</td>\n",
              "      <td>0.980510</td>\n",
              "      <td>1.0</td>\n",
              "      <td>0.979531</td>\n",
              "      <td>1.0</td>\n",
              "      <td>0.995493</td>\n",
              "      <td>1.0</td>\n",
              "      <td>0.992511</td>\n",
              "      <td>0.984383</td>\n",
              "      <td>0.966599</td>\n",
              "      <td>0.953570</td>\n",
              "    </tr>\n",
              "    <tr>\n",
              "      <th>7</th>\n",
              "      <td>7</td>\n",
              "      <td>Staphylococcus_aureus</td>\n",
              "      <td>1.0</td>\n",
              "      <td>0.980270</td>\n",
              "      <td>1.0</td>\n",
              "      <td>0.984696</td>\n",
              "      <td>1.0</td>\n",
              "      <td>0.992746</td>\n",
              "      <td>1.0</td>\n",
              "      <td>0.995735</td>\n",
              "      <td>0.975027</td>\n",
              "      <td>0.954897</td>\n",
              "      <td>0.961365</td>\n",
              "    </tr>\n",
              "    <tr>\n",
              "      <th>8</th>\n",
              "      <td>8</td>\n",
              "      <td>Streptococcus_pneumoniae</td>\n",
              "      <td>1.0</td>\n",
              "      <td>0.976617</td>\n",
              "      <td>1.0</td>\n",
              "      <td>0.977833</td>\n",
              "      <td>1.0</td>\n",
              "      <td>0.995261</td>\n",
              "      <td>1.0</td>\n",
              "      <td>0.993773</td>\n",
              "      <td>0.980708</td>\n",
              "      <td>0.963989</td>\n",
              "      <td>0.953425</td>\n",
              "    </tr>\n",
              "    <tr>\n",
              "      <th>9</th>\n",
              "      <td>9</td>\n",
              "      <td>Streptococcus_pyogenes</td>\n",
              "      <td>1.0</td>\n",
              "      <td>0.972070</td>\n",
              "      <td>1.0</td>\n",
              "      <td>0.970859</td>\n",
              "      <td>1.0</td>\n",
              "      <td>0.991291</td>\n",
              "      <td>1.0</td>\n",
              "      <td>0.992279</td>\n",
              "      <td>0.978152</td>\n",
              "      <td>0.952870</td>\n",
              "      <td>0.946700</td>\n",
              "    </tr>\n",
              "  </tbody>\n",
              "</table>\n",
              "</div>\n",
              "      <button class=\"colab-df-convert\" onclick=\"convertToInteractive('df-2f178c19-3009-417b-b3f5-c66a8434cf90')\"\n",
              "              title=\"Convert this dataframe to an interactive table.\"\n",
              "              style=\"display:none;\">\n",
              "        \n",
              "  <svg xmlns=\"http://www.w3.org/2000/svg\" height=\"24px\"viewBox=\"0 0 24 24\"\n",
              "       width=\"24px\">\n",
              "    <path d=\"M0 0h24v24H0V0z\" fill=\"none\"/>\n",
              "    <path d=\"M18.56 5.44l.94 2.06.94-2.06 2.06-.94-2.06-.94-.94-2.06-.94 2.06-2.06.94zm-11 1L8.5 8.5l.94-2.06 2.06-.94-2.06-.94L8.5 2.5l-.94 2.06-2.06.94zm10 10l.94 2.06.94-2.06 2.06-.94-2.06-.94-.94-2.06-.94 2.06-2.06.94z\"/><path d=\"M17.41 7.96l-1.37-1.37c-.4-.4-.92-.59-1.43-.59-.52 0-1.04.2-1.43.59L10.3 9.45l-7.72 7.72c-.78.78-.78 2.05 0 2.83L4 21.41c.39.39.9.59 1.41.59.51 0 1.02-.2 1.41-.59l7.78-7.78 2.81-2.81c.8-.78.8-2.07 0-2.86zM5.41 20L4 18.59l7.72-7.72 1.47 1.35L5.41 20z\"/>\n",
              "  </svg>\n",
              "      </button>\n",
              "      \n",
              "  <style>\n",
              "    .colab-df-container {\n",
              "      display:flex;\n",
              "      flex-wrap:wrap;\n",
              "      gap: 12px;\n",
              "    }\n",
              "\n",
              "    .colab-df-convert {\n",
              "      background-color: #E8F0FE;\n",
              "      border: none;\n",
              "      border-radius: 50%;\n",
              "      cursor: pointer;\n",
              "      display: none;\n",
              "      fill: #1967D2;\n",
              "      height: 32px;\n",
              "      padding: 0 0 0 0;\n",
              "      width: 32px;\n",
              "    }\n",
              "\n",
              "    .colab-df-convert:hover {\n",
              "      background-color: #E2EBFA;\n",
              "      box-shadow: 0px 1px 2px rgba(60, 64, 67, 0.3), 0px 1px 3px 1px rgba(60, 64, 67, 0.15);\n",
              "      fill: #174EA6;\n",
              "    }\n",
              "\n",
              "    [theme=dark] .colab-df-convert {\n",
              "      background-color: #3B4455;\n",
              "      fill: #D2E3FC;\n",
              "    }\n",
              "\n",
              "    [theme=dark] .colab-df-convert:hover {\n",
              "      background-color: #434B5C;\n",
              "      box-shadow: 0px 1px 3px 1px rgba(0, 0, 0, 0.15);\n",
              "      filter: drop-shadow(0px 1px 2px rgba(0, 0, 0, 0.3));\n",
              "      fill: #FFFFFF;\n",
              "    }\n",
              "  </style>\n",
              "\n",
              "      <script>\n",
              "        const buttonEl =\n",
              "          document.querySelector('#df-2f178c19-3009-417b-b3f5-c66a8434cf90 button.colab-df-convert');\n",
              "        buttonEl.style.display =\n",
              "          google.colab.kernel.accessAllowed ? 'block' : 'none';\n",
              "\n",
              "        async function convertToInteractive(key) {\n",
              "          const element = document.querySelector('#df-2f178c19-3009-417b-b3f5-c66a8434cf90');\n",
              "          const dataTable =\n",
              "            await google.colab.kernel.invokeFunction('convertToInteractive',\n",
              "                                                     [key], {});\n",
              "          if (!dataTable) return;\n",
              "\n",
              "          const docLinkHtml = 'Like what you see? Visit the ' +\n",
              "            '<a target=\"_blank\" href=https://colab.research.google.com/notebooks/data_table.ipynb>data table notebook</a>'\n",
              "            + ' to learn more about interactive tables.';\n",
              "          element.innerHTML = '';\n",
              "          dataTable['output_type'] = 'display_data';\n",
              "          await google.colab.output.renderOutput(dataTable, element);\n",
              "          const docLink = document.createElement('div');\n",
              "          docLink.innerHTML = docLinkHtml;\n",
              "          element.appendChild(docLink);\n",
              "        }\n",
              "      </script>\n",
              "    </div>\n",
              "  </div>\n",
              "  "
            ],
            "text/plain": [
              "   Label_Id                     Label  ...  knn_validate_precision  knn_train_recall\n",
              "0         0      Bacteroides_fragilis  ...                0.968907          0.959285\n",
              "1         1      Campylobacter_jejuni  ...                0.963524          0.967605\n",
              "2         2        Enterococcus_hirae  ...                0.941453          0.955377\n",
              "3         3          Escherichia_coli  ...                0.951238          0.962675\n",
              "4         4    Escherichia_fergusonii  ...                0.954670          0.961374\n",
              "5         5     Klebsiella_pneumoniae  ...                0.976732          0.973041\n",
              "6         6       Salmonella_enterica  ...                0.966599          0.953570\n",
              "7         7     Staphylococcus_aureus  ...                0.954897          0.961365\n",
              "8         8  Streptococcus_pneumoniae  ...                0.963989          0.953425\n",
              "9         9    Streptococcus_pyogenes  ...                0.952870          0.946700\n",
              "\n",
              "[10 rows x 13 columns]"
            ]
          },
          "metadata": {},
          "execution_count": 59
        }
      ],
      "source": [
        "score"
      ]
    },
    {
      "cell_type": "code",
      "execution_count": null,
      "metadata": {
        "id": "kXP-IwAIozmO"
      },
      "outputs": [],
      "source": [
        "pred_train = pd.DataFrame(y_train_pred,columns=['DT_pred'])\n",
        "pred_train['RF_pred'] = y_rf_train\n",
        "pred_train['KNN_pred'] = y_knn_train"
      ]
    },
    {
      "cell_type": "code",
      "execution_count": null,
      "metadata": {
        "id": "Osct1aMSq7yd"
      },
      "outputs": [],
      "source": [
        "from scipy import stats"
      ]
    },
    {
      "cell_type": "code",
      "execution_count": null,
      "metadata": {
        "id": "IkiXZ_H3p5mJ"
      },
      "outputs": [],
      "source": [
        "pred_train['ensemble_pred'] = pred_train.apply(lambda x:list(x),axis=1)"
      ]
    },
    {
      "cell_type": "code",
      "execution_count": null,
      "metadata": {
        "colab": {
          "base_uri": "https://localhost:8080/"
        },
        "id": "XogXAE8pvZLA",
        "outputId": "85467762-49de-4784-fb7e-caf7c9214b5e"
      },
      "outputs": [
        {
          "output_type": "execute_result",
          "data": {
            "text/plain": [
              "0     [4, 4, 4]\n",
              "1     [2, 2, 2]\n",
              "2     [9, 9, 9]\n",
              "3     [6, 6, 6]\n",
              "4     [8, 8, 8]\n",
              "        ...    \n",
              "95    [0, 0, 0]\n",
              "96    [3, 3, 3]\n",
              "97    [9, 9, 9]\n",
              "98    [5, 5, 5]\n",
              "99    [4, 4, 4]\n",
              "Name: ensemble_pred, Length: 100, dtype: object"
            ]
          },
          "metadata": {},
          "execution_count": 63
        }
      ],
      "source": [
        "pred_train['ensemble_pred'].head(100)"
      ]
    },
    {
      "cell_type": "code",
      "execution_count": null,
      "metadata": {
        "id": "-KCKVMzQqJs4"
      },
      "outputs": [],
      "source": [
        "pred_train['final_pred'] = pred_train['ensemble_pred'].apply(lambda x:stats.mode(x)[0][0] if len(set(x))<2 else x[1])"
      ]
    },
    {
      "cell_type": "code",
      "execution_count": null,
      "metadata": {
        "colab": {
          "base_uri": "https://localhost:8080/"
        },
        "id": "4zrxA3LmqcxZ",
        "outputId": "b8542c04-cd4b-4250-9be3-c63bca7d4176"
      },
      "outputs": [
        {
          "output_type": "execute_result",
          "data": {
            "text/plain": [
              "array([1., 1., 1., 1., 1., 1., 1., 1., 1., 1.])"
            ]
          },
          "metadata": {},
          "execution_count": 65
        }
      ],
      "source": [
        "precision_score(y_train,pred_train['final_pred'],average=None)"
      ]
    },
    {
      "cell_type": "code",
      "execution_count": null,
      "metadata": {
        "id": "gDyLWTh3wXrr"
      },
      "outputs": [],
      "source": [
        "pred_validate = pd.DataFrame(y_validate_pred,columns=['DT_pred'])\n",
        "pred_validate['RF_pred'] = y_rf_validate\n",
        "pred_validate['KNN_pred'] = y_knn_validate\n",
        "pred_validate['ensemble_pred'] = pred_validate.apply(lambda x:list(x),axis=1)\n",
        "pred_validate['final_pred'] = pred_validate['ensemble_pred'].apply(lambda x:stats.mode(x)[0][0] if len(set(x))<2 else x[1])"
      ]
    },
    {
      "cell_type": "code",
      "execution_count": null,
      "metadata": {
        "id": "D5jbUfJAw1Zz"
      },
      "outputs": [],
      "source": [
        "score['ensemble_validate_precision'] = precision_score(y_validate,pred_validate['final_pred'],average=None)\n",
        "score['ensemble_validate_recall'] = recall_score(y_validate,pred_validate['final_pred'],average=None)\n"
      ]
    },
    {
      "cell_type": "code",
      "execution_count": null,
      "metadata": {
        "colab": {
          "base_uri": "https://localhost:8080/",
          "height": 427
        },
        "id": "adp10kRQxFD5",
        "outputId": "65cea565-694f-4a36-b8b2-7182bb028ead"
      },
      "outputs": [
        {
          "output_type": "execute_result",
          "data": {
            "text/html": [
              "\n",
              "  <div id=\"df-fdfe087f-dc15-4bb5-970a-0f0373fd94b3\">\n",
              "    <div class=\"colab-df-container\">\n",
              "      <div>\n",
              "<style scoped>\n",
              "    .dataframe tbody tr th:only-of-type {\n",
              "        vertical-align: middle;\n",
              "    }\n",
              "\n",
              "    .dataframe tbody tr th {\n",
              "        vertical-align: top;\n",
              "    }\n",
              "\n",
              "    .dataframe thead th {\n",
              "        text-align: right;\n",
              "    }\n",
              "</style>\n",
              "<table border=\"1\" class=\"dataframe\">\n",
              "  <thead>\n",
              "    <tr style=\"text-align: right;\">\n",
              "      <th></th>\n",
              "      <th>Label_Id</th>\n",
              "      <th>Label</th>\n",
              "      <th>dt_train_precision</th>\n",
              "      <th>dt_validate_precision</th>\n",
              "      <th>dt_train_recall</th>\n",
              "      <th>dt_validate_recall</th>\n",
              "      <th>rf_train_precision</th>\n",
              "      <th>rf_validate_precision</th>\n",
              "      <th>rf_train_recall</th>\n",
              "      <th>rf_validate_recall</th>\n",
              "      <th>knn_train_precision</th>\n",
              "      <th>knn_validate_precision</th>\n",
              "      <th>knn_train_recall</th>\n",
              "      <th>ensemble_validate_precision</th>\n",
              "      <th>ensemble_validate_recall</th>\n",
              "    </tr>\n",
              "  </thead>\n",
              "  <tbody>\n",
              "    <tr>\n",
              "      <th>0</th>\n",
              "      <td>0</td>\n",
              "      <td>Bacteroides_fragilis</td>\n",
              "      <td>1.0</td>\n",
              "      <td>0.982098</td>\n",
              "      <td>1.0</td>\n",
              "      <td>0.980636</td>\n",
              "      <td>1.0</td>\n",
              "      <td>0.994792</td>\n",
              "      <td>1.0</td>\n",
              "      <td>0.995780</td>\n",
              "      <td>0.981176</td>\n",
              "      <td>0.968907</td>\n",
              "      <td>0.959285</td>\n",
              "      <td>0.994792</td>\n",
              "      <td>0.995780</td>\n",
              "    </tr>\n",
              "    <tr>\n",
              "      <th>1</th>\n",
              "      <td>1</td>\n",
              "      <td>Campylobacter_jejuni</td>\n",
              "      <td>1.0</td>\n",
              "      <td>0.987952</td>\n",
              "      <td>1.0</td>\n",
              "      <td>0.980812</td>\n",
              "      <td>1.0</td>\n",
              "      <td>0.995267</td>\n",
              "      <td>1.0</td>\n",
              "      <td>0.995515</td>\n",
              "      <td>0.982828</td>\n",
              "      <td>0.963524</td>\n",
              "      <td>0.967605</td>\n",
              "      <td>0.995267</td>\n",
              "      <td>0.995515</td>\n",
              "    </tr>\n",
              "    <tr>\n",
              "      <th>2</th>\n",
              "      <td>2</td>\n",
              "      <td>Enterococcus_hirae</td>\n",
              "      <td>1.0</td>\n",
              "      <td>0.972438</td>\n",
              "      <td>1.0</td>\n",
              "      <td>0.972926</td>\n",
              "      <td>1.0</td>\n",
              "      <td>0.994212</td>\n",
              "      <td>1.0</td>\n",
              "      <td>0.990474</td>\n",
              "      <td>0.969467</td>\n",
              "      <td>0.941453</td>\n",
              "      <td>0.955377</td>\n",
              "      <td>0.994212</td>\n",
              "      <td>0.990474</td>\n",
              "    </tr>\n",
              "    <tr>\n",
              "      <th>3</th>\n",
              "      <td>3</td>\n",
              "      <td>Escherichia_coli</td>\n",
              "      <td>1.0</td>\n",
              "      <td>0.964644</td>\n",
              "      <td>1.0</td>\n",
              "      <td>0.963677</td>\n",
              "      <td>1.0</td>\n",
              "      <td>0.992252</td>\n",
              "      <td>1.0</td>\n",
              "      <td>0.994489</td>\n",
              "      <td>0.975136</td>\n",
              "      <td>0.951238</td>\n",
              "      <td>0.962675</td>\n",
              "      <td>0.992252</td>\n",
              "      <td>0.994489</td>\n",
              "    </tr>\n",
              "    <tr>\n",
              "      <th>4</th>\n",
              "      <td>4</td>\n",
              "      <td>Escherichia_fergusonii</td>\n",
              "      <td>1.0</td>\n",
              "      <td>0.965621</td>\n",
              "      <td>1.0</td>\n",
              "      <td>0.965137</td>\n",
              "      <td>1.0</td>\n",
              "      <td>0.995970</td>\n",
              "      <td>1.0</td>\n",
              "      <td>0.991723</td>\n",
              "      <td>0.976308</td>\n",
              "      <td>0.954670</td>\n",
              "      <td>0.961374</td>\n",
              "      <td>0.995970</td>\n",
              "      <td>0.991723</td>\n",
              "    </tr>\n",
              "    <tr>\n",
              "      <th>5</th>\n",
              "      <td>5</td>\n",
              "      <td>Klebsiella_pneumoniae</td>\n",
              "      <td>1.0</td>\n",
              "      <td>0.985228</td>\n",
              "      <td>1.0</td>\n",
              "      <td>0.991434</td>\n",
              "      <td>1.0</td>\n",
              "      <td>0.993482</td>\n",
              "      <td>1.0</td>\n",
              "      <td>0.998488</td>\n",
              "      <td>0.989172</td>\n",
              "      <td>0.976732</td>\n",
              "      <td>0.973041</td>\n",
              "      <td>0.993482</td>\n",
              "      <td>0.998488</td>\n",
              "    </tr>\n",
              "    <tr>\n",
              "      <th>6</th>\n",
              "      <td>6</td>\n",
              "      <td>Salmonella_enterica</td>\n",
              "      <td>1.0</td>\n",
              "      <td>0.980510</td>\n",
              "      <td>1.0</td>\n",
              "      <td>0.979531</td>\n",
              "      <td>1.0</td>\n",
              "      <td>0.995493</td>\n",
              "      <td>1.0</td>\n",
              "      <td>0.992511</td>\n",
              "      <td>0.984383</td>\n",
              "      <td>0.966599</td>\n",
              "      <td>0.953570</td>\n",
              "      <td>0.995493</td>\n",
              "      <td>0.992511</td>\n",
              "    </tr>\n",
              "    <tr>\n",
              "      <th>7</th>\n",
              "      <td>7</td>\n",
              "      <td>Staphylococcus_aureus</td>\n",
              "      <td>1.0</td>\n",
              "      <td>0.980270</td>\n",
              "      <td>1.0</td>\n",
              "      <td>0.984696</td>\n",
              "      <td>1.0</td>\n",
              "      <td>0.992746</td>\n",
              "      <td>1.0</td>\n",
              "      <td>0.995735</td>\n",
              "      <td>0.975027</td>\n",
              "      <td>0.954897</td>\n",
              "      <td>0.961365</td>\n",
              "      <td>0.992746</td>\n",
              "      <td>0.995735</td>\n",
              "    </tr>\n",
              "    <tr>\n",
              "      <th>8</th>\n",
              "      <td>8</td>\n",
              "      <td>Streptococcus_pneumoniae</td>\n",
              "      <td>1.0</td>\n",
              "      <td>0.976617</td>\n",
              "      <td>1.0</td>\n",
              "      <td>0.977833</td>\n",
              "      <td>1.0</td>\n",
              "      <td>0.995261</td>\n",
              "      <td>1.0</td>\n",
              "      <td>0.993773</td>\n",
              "      <td>0.980708</td>\n",
              "      <td>0.963989</td>\n",
              "      <td>0.953425</td>\n",
              "      <td>0.995261</td>\n",
              "      <td>0.993773</td>\n",
              "    </tr>\n",
              "    <tr>\n",
              "      <th>9</th>\n",
              "      <td>9</td>\n",
              "      <td>Streptococcus_pyogenes</td>\n",
              "      <td>1.0</td>\n",
              "      <td>0.972070</td>\n",
              "      <td>1.0</td>\n",
              "      <td>0.970859</td>\n",
              "      <td>1.0</td>\n",
              "      <td>0.991291</td>\n",
              "      <td>1.0</td>\n",
              "      <td>0.992279</td>\n",
              "      <td>0.978152</td>\n",
              "      <td>0.952870</td>\n",
              "      <td>0.946700</td>\n",
              "      <td>0.991291</td>\n",
              "      <td>0.992279</td>\n",
              "    </tr>\n",
              "  </tbody>\n",
              "</table>\n",
              "</div>\n",
              "      <button class=\"colab-df-convert\" onclick=\"convertToInteractive('df-fdfe087f-dc15-4bb5-970a-0f0373fd94b3')\"\n",
              "              title=\"Convert this dataframe to an interactive table.\"\n",
              "              style=\"display:none;\">\n",
              "        \n",
              "  <svg xmlns=\"http://www.w3.org/2000/svg\" height=\"24px\"viewBox=\"0 0 24 24\"\n",
              "       width=\"24px\">\n",
              "    <path d=\"M0 0h24v24H0V0z\" fill=\"none\"/>\n",
              "    <path d=\"M18.56 5.44l.94 2.06.94-2.06 2.06-.94-2.06-.94-.94-2.06-.94 2.06-2.06.94zm-11 1L8.5 8.5l.94-2.06 2.06-.94-2.06-.94L8.5 2.5l-.94 2.06-2.06.94zm10 10l.94 2.06.94-2.06 2.06-.94-2.06-.94-.94-2.06-.94 2.06-2.06.94z\"/><path d=\"M17.41 7.96l-1.37-1.37c-.4-.4-.92-.59-1.43-.59-.52 0-1.04.2-1.43.59L10.3 9.45l-7.72 7.72c-.78.78-.78 2.05 0 2.83L4 21.41c.39.39.9.59 1.41.59.51 0 1.02-.2 1.41-.59l7.78-7.78 2.81-2.81c.8-.78.8-2.07 0-2.86zM5.41 20L4 18.59l7.72-7.72 1.47 1.35L5.41 20z\"/>\n",
              "  </svg>\n",
              "      </button>\n",
              "      \n",
              "  <style>\n",
              "    .colab-df-container {\n",
              "      display:flex;\n",
              "      flex-wrap:wrap;\n",
              "      gap: 12px;\n",
              "    }\n",
              "\n",
              "    .colab-df-convert {\n",
              "      background-color: #E8F0FE;\n",
              "      border: none;\n",
              "      border-radius: 50%;\n",
              "      cursor: pointer;\n",
              "      display: none;\n",
              "      fill: #1967D2;\n",
              "      height: 32px;\n",
              "      padding: 0 0 0 0;\n",
              "      width: 32px;\n",
              "    }\n",
              "\n",
              "    .colab-df-convert:hover {\n",
              "      background-color: #E2EBFA;\n",
              "      box-shadow: 0px 1px 2px rgba(60, 64, 67, 0.3), 0px 1px 3px 1px rgba(60, 64, 67, 0.15);\n",
              "      fill: #174EA6;\n",
              "    }\n",
              "\n",
              "    [theme=dark] .colab-df-convert {\n",
              "      background-color: #3B4455;\n",
              "      fill: #D2E3FC;\n",
              "    }\n",
              "\n",
              "    [theme=dark] .colab-df-convert:hover {\n",
              "      background-color: #434B5C;\n",
              "      box-shadow: 0px 1px 3px 1px rgba(0, 0, 0, 0.15);\n",
              "      filter: drop-shadow(0px 1px 2px rgba(0, 0, 0, 0.3));\n",
              "      fill: #FFFFFF;\n",
              "    }\n",
              "  </style>\n",
              "\n",
              "      <script>\n",
              "        const buttonEl =\n",
              "          document.querySelector('#df-fdfe087f-dc15-4bb5-970a-0f0373fd94b3 button.colab-df-convert');\n",
              "        buttonEl.style.display =\n",
              "          google.colab.kernel.accessAllowed ? 'block' : 'none';\n",
              "\n",
              "        async function convertToInteractive(key) {\n",
              "          const element = document.querySelector('#df-fdfe087f-dc15-4bb5-970a-0f0373fd94b3');\n",
              "          const dataTable =\n",
              "            await google.colab.kernel.invokeFunction('convertToInteractive',\n",
              "                                                     [key], {});\n",
              "          if (!dataTable) return;\n",
              "\n",
              "          const docLinkHtml = 'Like what you see? Visit the ' +\n",
              "            '<a target=\"_blank\" href=https://colab.research.google.com/notebooks/data_table.ipynb>data table notebook</a>'\n",
              "            + ' to learn more about interactive tables.';\n",
              "          element.innerHTML = '';\n",
              "          dataTable['output_type'] = 'display_data';\n",
              "          await google.colab.output.renderOutput(dataTable, element);\n",
              "          const docLink = document.createElement('div');\n",
              "          docLink.innerHTML = docLinkHtml;\n",
              "          element.appendChild(docLink);\n",
              "        }\n",
              "      </script>\n",
              "    </div>\n",
              "  </div>\n",
              "  "
            ],
            "text/plain": [
              "   Label_Id  ... ensemble_validate_recall\n",
              "0         0  ...                 0.995780\n",
              "1         1  ...                 0.995515\n",
              "2         2  ...                 0.990474\n",
              "3         3  ...                 0.994489\n",
              "4         4  ...                 0.991723\n",
              "5         5  ...                 0.998488\n",
              "6         6  ...                 0.992511\n",
              "7         7  ...                 0.995735\n",
              "8         8  ...                 0.993773\n",
              "9         9  ...                 0.992279\n",
              "\n",
              "[10 rows x 15 columns]"
            ]
          },
          "metadata": {},
          "execution_count": 68
        }
      ],
      "source": [
        "score"
      ]
    },
    {
      "cell_type": "code",
      "execution_count": null,
      "metadata": {
        "colab": {
          "base_uri": "https://localhost:8080/",
          "height": 363
        },
        "id": "9Yfk9esDxE4P",
        "outputId": "749cec8c-2352-457f-ea63-6be2800d101d"
      },
      "outputs": [
        {
          "output_type": "execute_result",
          "data": {
            "text/html": [
              "\n",
              "  <div id=\"df-e4ea5c3b-cac0-4d05-a8e3-636464669c05\">\n",
              "    <div class=\"colab-df-container\">\n",
              "      <div>\n",
              "<style scoped>\n",
              "    .dataframe tbody tr th:only-of-type {\n",
              "        vertical-align: middle;\n",
              "    }\n",
              "\n",
              "    .dataframe tbody tr th {\n",
              "        vertical-align: top;\n",
              "    }\n",
              "\n",
              "    .dataframe thead th {\n",
              "        text-align: right;\n",
              "    }\n",
              "</style>\n",
              "<table border=\"1\" class=\"dataframe\">\n",
              "  <thead>\n",
              "    <tr style=\"text-align: right;\">\n",
              "      <th></th>\n",
              "      <th>rf_validate_precision</th>\n",
              "      <th>ensemble_validate_precision</th>\n",
              "      <th>rf_validate_recall</th>\n",
              "      <th>ensemble_validate_recall</th>\n",
              "    </tr>\n",
              "  </thead>\n",
              "  <tbody>\n",
              "    <tr>\n",
              "      <th>0</th>\n",
              "      <td>0.994792</td>\n",
              "      <td>0.994792</td>\n",
              "      <td>0.995780</td>\n",
              "      <td>0.995780</td>\n",
              "    </tr>\n",
              "    <tr>\n",
              "      <th>1</th>\n",
              "      <td>0.995267</td>\n",
              "      <td>0.995267</td>\n",
              "      <td>0.995515</td>\n",
              "      <td>0.995515</td>\n",
              "    </tr>\n",
              "    <tr>\n",
              "      <th>2</th>\n",
              "      <td>0.994212</td>\n",
              "      <td>0.994212</td>\n",
              "      <td>0.990474</td>\n",
              "      <td>0.990474</td>\n",
              "    </tr>\n",
              "    <tr>\n",
              "      <th>3</th>\n",
              "      <td>0.992252</td>\n",
              "      <td>0.992252</td>\n",
              "      <td>0.994489</td>\n",
              "      <td>0.994489</td>\n",
              "    </tr>\n",
              "    <tr>\n",
              "      <th>4</th>\n",
              "      <td>0.995970</td>\n",
              "      <td>0.995970</td>\n",
              "      <td>0.991723</td>\n",
              "      <td>0.991723</td>\n",
              "    </tr>\n",
              "    <tr>\n",
              "      <th>5</th>\n",
              "      <td>0.993482</td>\n",
              "      <td>0.993482</td>\n",
              "      <td>0.998488</td>\n",
              "      <td>0.998488</td>\n",
              "    </tr>\n",
              "    <tr>\n",
              "      <th>6</th>\n",
              "      <td>0.995493</td>\n",
              "      <td>0.995493</td>\n",
              "      <td>0.992511</td>\n",
              "      <td>0.992511</td>\n",
              "    </tr>\n",
              "    <tr>\n",
              "      <th>7</th>\n",
              "      <td>0.992746</td>\n",
              "      <td>0.992746</td>\n",
              "      <td>0.995735</td>\n",
              "      <td>0.995735</td>\n",
              "    </tr>\n",
              "    <tr>\n",
              "      <th>8</th>\n",
              "      <td>0.995261</td>\n",
              "      <td>0.995261</td>\n",
              "      <td>0.993773</td>\n",
              "      <td>0.993773</td>\n",
              "    </tr>\n",
              "    <tr>\n",
              "      <th>9</th>\n",
              "      <td>0.991291</td>\n",
              "      <td>0.991291</td>\n",
              "      <td>0.992279</td>\n",
              "      <td>0.992279</td>\n",
              "    </tr>\n",
              "  </tbody>\n",
              "</table>\n",
              "</div>\n",
              "      <button class=\"colab-df-convert\" onclick=\"convertToInteractive('df-e4ea5c3b-cac0-4d05-a8e3-636464669c05')\"\n",
              "              title=\"Convert this dataframe to an interactive table.\"\n",
              "              style=\"display:none;\">\n",
              "        \n",
              "  <svg xmlns=\"http://www.w3.org/2000/svg\" height=\"24px\"viewBox=\"0 0 24 24\"\n",
              "       width=\"24px\">\n",
              "    <path d=\"M0 0h24v24H0V0z\" fill=\"none\"/>\n",
              "    <path d=\"M18.56 5.44l.94 2.06.94-2.06 2.06-.94-2.06-.94-.94-2.06-.94 2.06-2.06.94zm-11 1L8.5 8.5l.94-2.06 2.06-.94-2.06-.94L8.5 2.5l-.94 2.06-2.06.94zm10 10l.94 2.06.94-2.06 2.06-.94-2.06-.94-.94-2.06-.94 2.06-2.06.94z\"/><path d=\"M17.41 7.96l-1.37-1.37c-.4-.4-.92-.59-1.43-.59-.52 0-1.04.2-1.43.59L10.3 9.45l-7.72 7.72c-.78.78-.78 2.05 0 2.83L4 21.41c.39.39.9.59 1.41.59.51 0 1.02-.2 1.41-.59l7.78-7.78 2.81-2.81c.8-.78.8-2.07 0-2.86zM5.41 20L4 18.59l7.72-7.72 1.47 1.35L5.41 20z\"/>\n",
              "  </svg>\n",
              "      </button>\n",
              "      \n",
              "  <style>\n",
              "    .colab-df-container {\n",
              "      display:flex;\n",
              "      flex-wrap:wrap;\n",
              "      gap: 12px;\n",
              "    }\n",
              "\n",
              "    .colab-df-convert {\n",
              "      background-color: #E8F0FE;\n",
              "      border: none;\n",
              "      border-radius: 50%;\n",
              "      cursor: pointer;\n",
              "      display: none;\n",
              "      fill: #1967D2;\n",
              "      height: 32px;\n",
              "      padding: 0 0 0 0;\n",
              "      width: 32px;\n",
              "    }\n",
              "\n",
              "    .colab-df-convert:hover {\n",
              "      background-color: #E2EBFA;\n",
              "      box-shadow: 0px 1px 2px rgba(60, 64, 67, 0.3), 0px 1px 3px 1px rgba(60, 64, 67, 0.15);\n",
              "      fill: #174EA6;\n",
              "    }\n",
              "\n",
              "    [theme=dark] .colab-df-convert {\n",
              "      background-color: #3B4455;\n",
              "      fill: #D2E3FC;\n",
              "    }\n",
              "\n",
              "    [theme=dark] .colab-df-convert:hover {\n",
              "      background-color: #434B5C;\n",
              "      box-shadow: 0px 1px 3px 1px rgba(0, 0, 0, 0.15);\n",
              "      filter: drop-shadow(0px 1px 2px rgba(0, 0, 0, 0.3));\n",
              "      fill: #FFFFFF;\n",
              "    }\n",
              "  </style>\n",
              "\n",
              "      <script>\n",
              "        const buttonEl =\n",
              "          document.querySelector('#df-e4ea5c3b-cac0-4d05-a8e3-636464669c05 button.colab-df-convert');\n",
              "        buttonEl.style.display =\n",
              "          google.colab.kernel.accessAllowed ? 'block' : 'none';\n",
              "\n",
              "        async function convertToInteractive(key) {\n",
              "          const element = document.querySelector('#df-e4ea5c3b-cac0-4d05-a8e3-636464669c05');\n",
              "          const dataTable =\n",
              "            await google.colab.kernel.invokeFunction('convertToInteractive',\n",
              "                                                     [key], {});\n",
              "          if (!dataTable) return;\n",
              "\n",
              "          const docLinkHtml = 'Like what you see? Visit the ' +\n",
              "            '<a target=\"_blank\" href=https://colab.research.google.com/notebooks/data_table.ipynb>data table notebook</a>'\n",
              "            + ' to learn more about interactive tables.';\n",
              "          element.innerHTML = '';\n",
              "          dataTable['output_type'] = 'display_data';\n",
              "          await google.colab.output.renderOutput(dataTable, element);\n",
              "          const docLink = document.createElement('div');\n",
              "          docLink.innerHTML = docLinkHtml;\n",
              "          element.appendChild(docLink);\n",
              "        }\n",
              "      </script>\n",
              "    </div>\n",
              "  </div>\n",
              "  "
            ],
            "text/plain": [
              "   rf_validate_precision  ...  ensemble_validate_recall\n",
              "0               0.994792  ...                  0.995780\n",
              "1               0.995267  ...                  0.995515\n",
              "2               0.994212  ...                  0.990474\n",
              "3               0.992252  ...                  0.994489\n",
              "4               0.995970  ...                  0.991723\n",
              "5               0.993482  ...                  0.998488\n",
              "6               0.995493  ...                  0.992511\n",
              "7               0.992746  ...                  0.995735\n",
              "8               0.995261  ...                  0.993773\n",
              "9               0.991291  ...                  0.992279\n",
              "\n",
              "[10 rows x 4 columns]"
            ]
          },
          "metadata": {},
          "execution_count": 69
        }
      ],
      "source": [
        "score[['rf_validate_precision','ensemble_validate_precision','rf_validate_recall','ensemble_validate_recall']]"
      ]
    },
    {
      "cell_type": "code",
      "execution_count": null,
      "metadata": {
        "id": "gZNikRnayIM6"
      },
      "outputs": [],
      "source": [
        "y_knn_test = model_knn.predict(X_test)"
      ]
    },
    {
      "cell_type": "code",
      "execution_count": null,
      "metadata": {
        "id": "khuZwU2nyQA-"
      },
      "outputs": [],
      "source": [
        "pred_test = pd.DataFrame(y_test_pred,columns=['dt_pred'])\n",
        "pred_test['rf_pred'] = y_rf_test\n",
        "pred_test['knn_pred'] = y_knn_test\n",
        "pred_test['ensemble_pred'] = pred_test.apply(lambda x:list(x),axis=1)\n",
        "pred_test['final_pred'] = pred_test['ensemble_pred'].apply(lambda x: stats.mode(x)[0][0] if len(set(x))<=2 else x[1])"
      ]
    },
    {
      "cell_type": "code",
      "execution_count": null,
      "metadata": {
        "id": "_4NZVwuu1xZT"
      },
      "outputs": [],
      "source": [
        "test_data['ensemble_pred'] = encode.inverse_transform(pred_test['final_pred'])"
      ]
    },
    {
      "cell_type": "code",
      "execution_count": null,
      "metadata": {
        "id": "yj6IECNS2Ea6"
      },
      "outputs": [],
      "source": [
        "test_data[['row_id','ensemble_pred']].rename(columns={\"ensemble_pred\":\"target\"}).to_csv('submission_ensemble.csv',index=False)"
      ]
    },
    {
      "cell_type": "code",
      "execution_count": null,
      "metadata": {
        "id": "_Zt0oU742rcc",
        "colab": {
          "base_uri": "https://localhost:8080/"
        },
        "outputId": "c96d07ab-d923-4090-82b7-f0a54d81ec48"
      },
      "outputs": [
        {
          "output_type": "stream",
          "name": "stdout",
          "text": [
            "Warning: Looks like you're using an outdated API Version, please consider updating (server 1.5.12 / client 1.5.4)\n",
            "100% 2.71M/2.71M [00:00<00:00, 10.4MB/s]\n",
            "Successfully submitted to Tabular Playground Series - Feb 2022"
          ]
        }
      ],
      "source": [
        "!kaggle competitions submit -c tabular-playground-series-feb-2022 -f submission_ensemble.csv -m 'KNN bagged with RF'"
      ]
    }
  ],
  "metadata": {
    "colab": {
      "collapsed_sections": [],
      "name": "Bacteria Species Prediction.ipynb",
      "provenance": [],
      "mount_file_id": "1gej5MMUdyNQUehkEWwrg2BkBoKYP2rPz",
      "authorship_tag": "ABX9TyOjFI2aXznvClBNGowkteFq",
      "include_colab_link": true
    },
    "kernelspec": {
      "display_name": "Python 3",
      "name": "python3"
    },
    "language_info": {
      "name": "python"
    }
  },
  "nbformat": 4,
  "nbformat_minor": 0
}