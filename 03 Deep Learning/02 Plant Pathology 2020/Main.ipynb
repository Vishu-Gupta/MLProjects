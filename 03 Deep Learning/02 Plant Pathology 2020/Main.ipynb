{
 "cells": [
  {
   "cell_type": "code",
   "execution_count": 1,
   "id": "b44290e2",
   "metadata": {
    "execution": {
     "iopub.execute_input": "2022-04-11T19:02:42.038469Z",
     "iopub.status.busy": "2022-04-11T19:02:42.037716Z",
     "iopub.status.idle": "2022-04-11T19:02:47.085993Z",
     "shell.execute_reply": "2022-04-11T19:02:47.085168Z",
     "shell.execute_reply.started": "2022-04-11T17:46:47.101612Z"
    },
    "papermill": {
     "duration": 5.084554,
     "end_time": "2022-04-11T19:02:47.086161",
     "exception": false,
     "start_time": "2022-04-11T19:02:42.001607",
     "status": "completed"
    },
    "tags": []
   },
   "outputs": [],
   "source": [
    "import numpy as np\n",
    "import pandas as pd\n",
    "import matplotlib.pyplot as plt\n",
    "import tensorflow as tf\n",
    "from tensorflow.keras import layers\n",
    "from tensorflow.keras import Sequential"
   ]
  },
  {
   "cell_type": "code",
   "execution_count": 2,
   "id": "1aa4a6ee",
   "metadata": {
    "execution": {
     "iopub.execute_input": "2022-04-11T19:02:47.141019Z",
     "iopub.status.busy": "2022-04-11T19:02:47.140223Z",
     "iopub.status.idle": "2022-04-11T19:02:47.161752Z",
     "shell.execute_reply": "2022-04-11T19:02:47.161163Z",
     "shell.execute_reply.started": "2022-04-11T17:46:52.498330Z"
    },
    "papermill": {
     "duration": 0.050458,
     "end_time": "2022-04-11T19:02:47.161908",
     "exception": false,
     "start_time": "2022-04-11T19:02:47.111450",
     "status": "completed"
    },
    "tags": []
   },
   "outputs": [],
   "source": [
    "train_df = pd.read_csv('../input/plant-pathology-2020-fgvc7/train.csv')\n",
    "test_df = pd.read_csv('../input/plant-pathology-2020-fgvc7/test.csv')"
   ]
  },
  {
   "cell_type": "code",
   "execution_count": 3,
   "id": "f8aec624",
   "metadata": {
    "execution": {
     "iopub.execute_input": "2022-04-11T19:02:47.225071Z",
     "iopub.status.busy": "2022-04-11T19:02:47.224400Z",
     "iopub.status.idle": "2022-04-11T19:02:47.241248Z",
     "shell.execute_reply": "2022-04-11T19:02:47.240760Z",
     "shell.execute_reply.started": "2022-04-11T17:46:52.531210Z"
    },
    "papermill": {
     "duration": 0.052495,
     "end_time": "2022-04-11T19:02:47.241382",
     "exception": false,
     "start_time": "2022-04-11T19:02:47.188887",
     "status": "completed"
    },
    "tags": []
   },
   "outputs": [
    {
     "data": {
      "text/html": [
       "<div>\n",
       "<style scoped>\n",
       "    .dataframe tbody tr th:only-of-type {\n",
       "        vertical-align: middle;\n",
       "    }\n",
       "\n",
       "    .dataframe tbody tr th {\n",
       "        vertical-align: top;\n",
       "    }\n",
       "\n",
       "    .dataframe thead th {\n",
       "        text-align: right;\n",
       "    }\n",
       "</style>\n",
       "<table border=\"1\" class=\"dataframe\">\n",
       "  <thead>\n",
       "    <tr style=\"text-align: right;\">\n",
       "      <th></th>\n",
       "      <th>image_id</th>\n",
       "      <th>healthy</th>\n",
       "      <th>multiple_diseases</th>\n",
       "      <th>rust</th>\n",
       "      <th>scab</th>\n",
       "    </tr>\n",
       "  </thead>\n",
       "  <tbody>\n",
       "    <tr>\n",
       "      <th>0</th>\n",
       "      <td>Train_0</td>\n",
       "      <td>0</td>\n",
       "      <td>0</td>\n",
       "      <td>0</td>\n",
       "      <td>1</td>\n",
       "    </tr>\n",
       "    <tr>\n",
       "      <th>1</th>\n",
       "      <td>Train_1</td>\n",
       "      <td>0</td>\n",
       "      <td>1</td>\n",
       "      <td>0</td>\n",
       "      <td>0</td>\n",
       "    </tr>\n",
       "    <tr>\n",
       "      <th>2</th>\n",
       "      <td>Train_2</td>\n",
       "      <td>1</td>\n",
       "      <td>0</td>\n",
       "      <td>0</td>\n",
       "      <td>0</td>\n",
       "    </tr>\n",
       "    <tr>\n",
       "      <th>3</th>\n",
       "      <td>Train_3</td>\n",
       "      <td>0</td>\n",
       "      <td>0</td>\n",
       "      <td>1</td>\n",
       "      <td>0</td>\n",
       "    </tr>\n",
       "    <tr>\n",
       "      <th>4</th>\n",
       "      <td>Train_4</td>\n",
       "      <td>1</td>\n",
       "      <td>0</td>\n",
       "      <td>0</td>\n",
       "      <td>0</td>\n",
       "    </tr>\n",
       "  </tbody>\n",
       "</table>\n",
       "</div>"
      ],
      "text/plain": [
       "  image_id  healthy  multiple_diseases  rust  scab\n",
       "0  Train_0        0                  0     0     1\n",
       "1  Train_1        0                  1     0     0\n",
       "2  Train_2        1                  0     0     0\n",
       "3  Train_3        0                  0     1     0\n",
       "4  Train_4        1                  0     0     0"
      ]
     },
     "execution_count": 3,
     "metadata": {},
     "output_type": "execute_result"
    }
   ],
   "source": [
    "train_df.head()"
   ]
  },
  {
   "cell_type": "code",
   "execution_count": 4,
   "id": "25ff7cbd",
   "metadata": {
    "execution": {
     "iopub.execute_input": "2022-04-11T19:02:47.334887Z",
     "iopub.status.busy": "2022-04-11T19:02:47.303887Z",
     "iopub.status.idle": "2022-04-11T19:02:47.436975Z",
     "shell.execute_reply": "2022-04-11T19:02:47.436418Z",
     "shell.execute_reply.started": "2022-04-11T17:46:52.554688Z"
    },
    "papermill": {
     "duration": 0.166472,
     "end_time": "2022-04-11T19:02:47.437105",
     "exception": false,
     "start_time": "2022-04-11T19:02:47.270633",
     "status": "completed"
    },
    "tags": []
   },
   "outputs": [],
   "source": [
    "train_df['label'] = train_df.apply(lambda x: np.argmax(x[1:]),axis=1)"
   ]
  },
  {
   "cell_type": "code",
   "execution_count": 5,
   "id": "5969ab8b",
   "metadata": {
    "execution": {
     "iopub.execute_input": "2022-04-11T19:02:47.502727Z",
     "iopub.status.busy": "2022-04-11T19:02:47.501276Z",
     "iopub.status.idle": "2022-04-11T19:02:47.505345Z",
     "shell.execute_reply": "2022-04-11T19:02:47.504846Z",
     "shell.execute_reply.started": "2022-04-11T17:46:52.688141Z"
    },
    "papermill": {
     "duration": 0.041769,
     "end_time": "2022-04-11T19:02:47.505470",
     "exception": false,
     "start_time": "2022-04-11T19:02:47.463701",
     "status": "completed"
    },
    "tags": []
   },
   "outputs": [
    {
     "data": {
      "text/html": [
       "<div>\n",
       "<style scoped>\n",
       "    .dataframe tbody tr th:only-of-type {\n",
       "        vertical-align: middle;\n",
       "    }\n",
       "\n",
       "    .dataframe tbody tr th {\n",
       "        vertical-align: top;\n",
       "    }\n",
       "\n",
       "    .dataframe thead th {\n",
       "        text-align: right;\n",
       "    }\n",
       "</style>\n",
       "<table border=\"1\" class=\"dataframe\">\n",
       "  <thead>\n",
       "    <tr style=\"text-align: right;\">\n",
       "      <th></th>\n",
       "      <th>image_id</th>\n",
       "      <th>healthy</th>\n",
       "      <th>multiple_diseases</th>\n",
       "      <th>rust</th>\n",
       "      <th>scab</th>\n",
       "      <th>label</th>\n",
       "    </tr>\n",
       "  </thead>\n",
       "  <tbody>\n",
       "    <tr>\n",
       "      <th>0</th>\n",
       "      <td>Train_0</td>\n",
       "      <td>0</td>\n",
       "      <td>0</td>\n",
       "      <td>0</td>\n",
       "      <td>1</td>\n",
       "      <td>3</td>\n",
       "    </tr>\n",
       "    <tr>\n",
       "      <th>1</th>\n",
       "      <td>Train_1</td>\n",
       "      <td>0</td>\n",
       "      <td>1</td>\n",
       "      <td>0</td>\n",
       "      <td>0</td>\n",
       "      <td>1</td>\n",
       "    </tr>\n",
       "    <tr>\n",
       "      <th>2</th>\n",
       "      <td>Train_2</td>\n",
       "      <td>1</td>\n",
       "      <td>0</td>\n",
       "      <td>0</td>\n",
       "      <td>0</td>\n",
       "      <td>0</td>\n",
       "    </tr>\n",
       "    <tr>\n",
       "      <th>3</th>\n",
       "      <td>Train_3</td>\n",
       "      <td>0</td>\n",
       "      <td>0</td>\n",
       "      <td>1</td>\n",
       "      <td>0</td>\n",
       "      <td>2</td>\n",
       "    </tr>\n",
       "    <tr>\n",
       "      <th>4</th>\n",
       "      <td>Train_4</td>\n",
       "      <td>1</td>\n",
       "      <td>0</td>\n",
       "      <td>0</td>\n",
       "      <td>0</td>\n",
       "      <td>0</td>\n",
       "    </tr>\n",
       "  </tbody>\n",
       "</table>\n",
       "</div>"
      ],
      "text/plain": [
       "  image_id  healthy  multiple_diseases  rust  scab  label\n",
       "0  Train_0        0                  0     0     1      3\n",
       "1  Train_1        0                  1     0     0      1\n",
       "2  Train_2        1                  0     0     0      0\n",
       "3  Train_3        0                  0     1     0      2\n",
       "4  Train_4        1                  0     0     0      0"
      ]
     },
     "execution_count": 5,
     "metadata": {},
     "output_type": "execute_result"
    }
   ],
   "source": [
    "train_df.head()"
   ]
  },
  {
   "cell_type": "code",
   "execution_count": 6,
   "id": "236a8b77",
   "metadata": {
    "execution": {
     "iopub.execute_input": "2022-04-11T19:02:47.561832Z",
     "iopub.status.busy": "2022-04-11T19:02:47.561201Z",
     "iopub.status.idle": "2022-04-11T19:02:47.637100Z",
     "shell.execute_reply": "2022-04-11T19:02:47.636195Z",
     "shell.execute_reply.started": "2022-04-11T17:46:52.700536Z"
    },
    "papermill": {
     "duration": 0.10486,
     "end_time": "2022-04-11T19:02:47.637270",
     "exception": false,
     "start_time": "2022-04-11T19:02:47.532410",
     "status": "completed"
    },
    "tags": []
   },
   "outputs": [],
   "source": [
    "from PIL import Image\n",
    "img = Image.open('../input/plant-pathology-2020-fgvc7/images/Train_0.jpg')\n",
    "nparr  = np.asarray(img)"
   ]
  },
  {
   "cell_type": "code",
   "execution_count": 7,
   "id": "0fbe05e1",
   "metadata": {
    "execution": {
     "iopub.execute_input": "2022-04-11T19:02:47.744446Z",
     "iopub.status.busy": "2022-04-11T19:02:47.743409Z",
     "iopub.status.idle": "2022-04-11T19:02:47.748812Z",
     "shell.execute_reply": "2022-04-11T19:02:47.749606Z",
     "shell.execute_reply.started": "2022-04-11T17:46:52.770987Z"
    },
    "papermill": {
     "duration": 0.063864,
     "end_time": "2022-04-11T19:02:47.749796",
     "exception": false,
     "start_time": "2022-04-11T19:02:47.685932",
     "status": "completed"
    },
    "tags": []
   },
   "outputs": [
    {
     "data": {
      "text/plain": [
       "(1365, 2048, 3)"
      ]
     },
     "execution_count": 7,
     "metadata": {},
     "output_type": "execute_result"
    }
   ],
   "source": [
    "nparr.shape"
   ]
  },
  {
   "cell_type": "code",
   "execution_count": 8,
   "id": "66696a60",
   "metadata": {
    "execution": {
     "iopub.execute_input": "2022-04-11T19:02:47.841122Z",
     "iopub.status.busy": "2022-04-11T19:02:47.839402Z",
     "iopub.status.idle": "2022-04-11T19:02:47.843449Z",
     "shell.execute_reply": "2022-04-11T19:02:47.841959Z",
     "shell.execute_reply.started": "2022-04-11T17:46:52.778571Z"
    },
    "papermill": {
     "duration": 0.050851,
     "end_time": "2022-04-11T19:02:47.843669",
     "exception": false,
     "start_time": "2022-04-11T19:02:47.792818",
     "status": "completed"
    },
    "tags": []
   },
   "outputs": [],
   "source": [
    "import os\n",
    "label_encode = {0:\"healthy\",1:\"multiple_diseases\",2:\"rust\",3:\"scab\"}\n",
    "\n",
    "\n"
   ]
  },
  {
   "cell_type": "code",
   "execution_count": 9,
   "id": "6c47e214",
   "metadata": {
    "execution": {
     "iopub.execute_input": "2022-04-11T19:02:47.933123Z",
     "iopub.status.busy": "2022-04-11T19:02:47.932104Z",
     "iopub.status.idle": "2022-04-11T19:02:47.935703Z",
     "shell.execute_reply": "2022-04-11T19:02:47.933813Z",
     "shell.execute_reply.started": "2022-04-11T17:46:52.787366Z"
    },
    "papermill": {
     "duration": 0.051474,
     "end_time": "2022-04-11T19:02:47.935860",
     "exception": false,
     "start_time": "2022-04-11T19:02:47.884386",
     "status": "completed"
    },
    "tags": []
   },
   "outputs": [
    {
     "data": {
      "text/plain": [
       "(1821, 6)"
      ]
     },
     "execution_count": 9,
     "metadata": {},
     "output_type": "execute_result"
    }
   ],
   "source": [
    "train_df.shape"
   ]
  },
  {
   "cell_type": "code",
   "execution_count": 10,
   "id": "e023be98",
   "metadata": {
    "execution": {
     "iopub.execute_input": "2022-04-11T19:02:48.028141Z",
     "iopub.status.busy": "2022-04-11T19:02:48.027312Z",
     "iopub.status.idle": "2022-04-11T19:02:48.031874Z",
     "shell.execute_reply": "2022-04-11T19:02:48.032548Z",
     "shell.execute_reply.started": "2022-04-11T17:46:52.798848Z"
    },
    "papermill": {
     "duration": 0.054895,
     "end_time": "2022-04-11T19:02:48.032756",
     "exception": false,
     "start_time": "2022-04-11T19:02:47.977861",
     "status": "completed"
    },
    "tags": []
   },
   "outputs": [
    {
     "data": {
      "text/plain": [
       "'Train_0'"
      ]
     },
     "execution_count": 10,
     "metadata": {},
     "output_type": "execute_result"
    }
   ],
   "source": [
    "train_df.iloc[0]['image_id']"
   ]
  },
  {
   "cell_type": "code",
   "execution_count": 11,
   "id": "dff7f320",
   "metadata": {
    "execution": {
     "iopub.execute_input": "2022-04-11T19:02:48.124116Z",
     "iopub.status.busy": "2022-04-11T19:02:48.122141Z",
     "iopub.status.idle": "2022-04-11T19:02:48.806326Z",
     "shell.execute_reply": "2022-04-11T19:02:48.805651Z",
     "shell.execute_reply.started": "2022-04-11T17:46:52.808452Z"
    },
    "papermill": {
     "duration": 0.730731,
     "end_time": "2022-04-11T19:02:48.806458",
     "exception": false,
     "start_time": "2022-04-11T19:02:48.075727",
     "status": "completed"
    },
    "tags": []
   },
   "outputs": [],
   "source": [
    "from sklearn.model_selection import train_test_split\n",
    "\n",
    "train_df,validate_df = train_test_split(train_df,test_size=0.2)"
   ]
  },
  {
   "cell_type": "code",
   "execution_count": 12,
   "id": "a619ee26",
   "metadata": {
    "execution": {
     "iopub.execute_input": "2022-04-11T19:02:48.867867Z",
     "iopub.status.busy": "2022-04-11T19:02:48.866905Z",
     "iopub.status.idle": "2022-04-11T19:02:48.868717Z",
     "shell.execute_reply": "2022-04-11T19:02:48.869234Z",
     "shell.execute_reply.started": "2022-04-11T17:48:27.170714Z"
    },
    "papermill": {
     "duration": 0.035163,
     "end_time": "2022-04-11T19:02:48.869389",
     "exception": false,
     "start_time": "2022-04-11T19:02:48.834226",
     "status": "completed"
    },
    "tags": []
   },
   "outputs": [],
   "source": [
    "new_img_size = (224,224)"
   ]
  },
  {
   "cell_type": "code",
   "execution_count": 13,
   "id": "595882a3",
   "metadata": {
    "execution": {
     "iopub.execute_input": "2022-04-11T19:02:48.933218Z",
     "iopub.status.busy": "2022-04-11T19:02:48.932665Z",
     "iopub.status.idle": "2022-04-11T19:05:26.914863Z",
     "shell.execute_reply": "2022-04-11T19:05:26.914322Z",
     "shell.execute_reply.started": "2022-04-11T17:51:44.967795Z"
    },
    "papermill": {
     "duration": 158.017592,
     "end_time": "2022-04-11T19:05:26.915020",
     "exception": false,
     "start_time": "2022-04-11T19:02:48.897428",
     "status": "completed"
    },
    "tags": []
   },
   "outputs": [],
   "source": [
    "img = Image.open(f'../input/plant-pathology-2020-fgvc7/images/{train_df.iloc[0][\"image_id\"]}.jpg')\n",
    "img=img.resize(new_img_size)\n",
    "images_train = np.array([np.asarray(img)])\n",
    "\n",
    "for i in range(1,train_df.shape[0]):\n",
    "    img = Image.open(f'../input/plant-pathology-2020-fgvc7/images/{train_df.iloc[i][\"image_id\"]}.jpg')\n",
    "    img = img.resize(new_img_size)\n",
    "    images_train = np.concatenate((images_train,np.array([np.asarray(img)])),axis=0)\n"
   ]
  },
  {
   "cell_type": "code",
   "execution_count": 14,
   "id": "f3ab1200",
   "metadata": {
    "execution": {
     "iopub.execute_input": "2022-04-11T19:05:26.976482Z",
     "iopub.status.busy": "2022-04-11T19:05:26.975848Z",
     "iopub.status.idle": "2022-04-11T19:05:55.482837Z",
     "shell.execute_reply": "2022-04-11T19:05:55.483257Z",
     "shell.execute_reply.started": "2022-04-11T17:54:05.286396Z"
    },
    "papermill": {
     "duration": 28.541154,
     "end_time": "2022-04-11T19:05:55.483430",
     "exception": false,
     "start_time": "2022-04-11T19:05:26.942276",
     "status": "completed"
    },
    "tags": []
   },
   "outputs": [],
   "source": [
    "img = Image.open(f'../input/plant-pathology-2020-fgvc7/images/{validate_df.iloc[0][\"image_id\"]}.jpg')\n",
    "img=img.resize(new_img_size)\n",
    "images_validate = np.array([np.asarray(img)])\n",
    "for i in range(1,validate_df.shape[0]):\n",
    "    img = Image.open(f'../input/plant-pathology-2020-fgvc7/images/{validate_df.iloc[i][\"image_id\"]}.jpg')\n",
    "    img = img.resize(new_img_size)\n",
    "    images_validate = np.concatenate((images_validate,np.array([np.asarray(img)])),axis=0)"
   ]
  },
  {
   "cell_type": "code",
   "execution_count": 15,
   "id": "83428900",
   "metadata": {
    "execution": {
     "iopub.execute_input": "2022-04-11T19:05:55.543408Z",
     "iopub.status.busy": "2022-04-11T19:05:55.542618Z",
     "iopub.status.idle": "2022-04-11T19:09:29.129131Z",
     "shell.execute_reply": "2022-04-11T19:09:29.128589Z",
     "shell.execute_reply.started": "2022-04-11T17:54:31.789980Z"
    },
    "papermill": {
     "duration": 213.619002,
     "end_time": "2022-04-11T19:09:29.129286",
     "exception": false,
     "start_time": "2022-04-11T19:05:55.510284",
     "status": "completed"
    },
    "tags": []
   },
   "outputs": [],
   "source": [
    "img = Image.open(f'../input/plant-pathology-2020-fgvc7/images/{test_df.iloc[0][\"image_id\"]}.jpg')\n",
    "img=img.resize(new_img_size)\n",
    "images_test = np.array([np.asarray(img)])\n",
    "for i in range(1,test_df.shape[0]):\n",
    "    img = Image.open(f'../input/plant-pathology-2020-fgvc7/images/{test_df.iloc[i][\"image_id\"]}.jpg')\n",
    "    img = img.resize(new_img_size)\n",
    "    images_test = np.concatenate((images_test,np.array([np.asarray(img)])),axis=0)"
   ]
  },
  {
   "cell_type": "code",
   "execution_count": 16,
   "id": "0ebf9b27",
   "metadata": {
    "execution": {
     "iopub.execute_input": "2022-04-11T19:09:29.194684Z",
     "iopub.status.busy": "2022-04-11T19:09:29.192989Z",
     "iopub.status.idle": "2022-04-11T19:09:29.197029Z",
     "shell.execute_reply": "2022-04-11T19:09:29.196524Z",
     "shell.execute_reply.started": "2022-04-11T17:58:06.636503Z"
    },
    "papermill": {
     "duration": 0.038693,
     "end_time": "2022-04-11T19:09:29.197148",
     "exception": false,
     "start_time": "2022-04-11T19:09:29.158455",
     "status": "completed"
    },
    "tags": []
   },
   "outputs": [
    {
     "name": "stdout",
     "output_type": "stream",
     "text": [
      "Training set is of shape :  (1456, 224, 224, 3)\n",
      "Validation set is of shape :  (365, 224, 224, 3)\n",
      "Test set is of shape :  (1821, 224, 224, 3)\n"
     ]
    }
   ],
   "source": [
    "print(\"Training set is of shape : \",images_train.shape)\n",
    "print(\"Validation set is of shape : \",images_validate.shape)\n",
    "print(\"Test set is of shape : \",images_test.shape)"
   ]
  },
  {
   "cell_type": "markdown",
   "id": "306201a9",
   "metadata": {
    "papermill": {
     "duration": 0.030342,
     "end_time": "2022-04-11T19:09:29.255481",
     "exception": false,
     "start_time": "2022-04-11T19:09:29.225139",
     "status": "completed"
    },
    "tags": []
   },
   "source": [
    "## Model building\n",
    "\n",
    "Lets start with a base CNN model"
   ]
  },
  {
   "cell_type": "code",
   "execution_count": 17,
   "id": "714565df",
   "metadata": {
    "execution": {
     "iopub.execute_input": "2022-04-11T19:09:29.321338Z",
     "iopub.status.busy": "2022-04-11T19:09:29.320748Z",
     "iopub.status.idle": "2022-04-11T19:09:31.351138Z",
     "shell.execute_reply": "2022-04-11T19:09:31.351609Z",
     "shell.execute_reply.started": "2022-04-11T18:01:01.932551Z"
    },
    "papermill": {
     "duration": 2.065443,
     "end_time": "2022-04-11T19:09:31.351767",
     "exception": false,
     "start_time": "2022-04-11T19:09:29.286324",
     "status": "completed"
    },
    "tags": []
   },
   "outputs": [
    {
     "name": "stderr",
     "output_type": "stream",
     "text": [
      "2022-04-11 19:09:29.427720: I tensorflow/stream_executor/cuda/cuda_gpu_executor.cc:937] successful NUMA node read from SysFS had negative value (-1), but there must be at least one NUMA node, so returning NUMA node zero\n",
      "2022-04-11 19:09:29.504103: I tensorflow/stream_executor/cuda/cuda_gpu_executor.cc:937] successful NUMA node read from SysFS had negative value (-1), but there must be at least one NUMA node, so returning NUMA node zero\n",
      "2022-04-11 19:09:29.504992: I tensorflow/stream_executor/cuda/cuda_gpu_executor.cc:937] successful NUMA node read from SysFS had negative value (-1), but there must be at least one NUMA node, so returning NUMA node zero\n",
      "2022-04-11 19:09:29.506390: I tensorflow/core/platform/cpu_feature_guard.cc:142] This TensorFlow binary is optimized with oneAPI Deep Neural Network Library (oneDNN) to use the following CPU instructions in performance-critical operations:  AVX2 AVX512F FMA\n",
      "To enable them in other operations, rebuild TensorFlow with the appropriate compiler flags.\n",
      "2022-04-11 19:09:29.507111: I tensorflow/stream_executor/cuda/cuda_gpu_executor.cc:937] successful NUMA node read from SysFS had negative value (-1), but there must be at least one NUMA node, so returning NUMA node zero\n",
      "2022-04-11 19:09:29.507859: I tensorflow/stream_executor/cuda/cuda_gpu_executor.cc:937] successful NUMA node read from SysFS had negative value (-1), but there must be at least one NUMA node, so returning NUMA node zero\n",
      "2022-04-11 19:09:29.508490: I tensorflow/stream_executor/cuda/cuda_gpu_executor.cc:937] successful NUMA node read from SysFS had negative value (-1), but there must be at least one NUMA node, so returning NUMA node zero\n",
      "2022-04-11 19:09:30.957356: I tensorflow/stream_executor/cuda/cuda_gpu_executor.cc:937] successful NUMA node read from SysFS had negative value (-1), but there must be at least one NUMA node, so returning NUMA node zero\n",
      "2022-04-11 19:09:30.958241: I tensorflow/stream_executor/cuda/cuda_gpu_executor.cc:937] successful NUMA node read from SysFS had negative value (-1), but there must be at least one NUMA node, so returning NUMA node zero\n",
      "2022-04-11 19:09:30.958963: I tensorflow/stream_executor/cuda/cuda_gpu_executor.cc:937] successful NUMA node read from SysFS had negative value (-1), but there must be at least one NUMA node, so returning NUMA node zero\n",
      "2022-04-11 19:09:30.959594: I tensorflow/core/common_runtime/gpu/gpu_device.cc:1510] Created device /job:localhost/replica:0/task:0/device:GPU:0 with 15403 MB memory:  -> device: 0, name: Tesla P100-PCIE-16GB, pci bus id: 0000:00:04.0, compute capability: 6.0\n"
     ]
    }
   ],
   "source": [
    "model = Sequential([\n",
    "    layers.Rescaling(1./255.,input_shape=(224,224,3)),\n",
    "    layers.Conv2D(8,(3,3),activation='relu'),\n",
    "    layers.MaxPooling2D(2,2),\n",
    "    layers.Dropout(0.2),\n",
    "    layers.Conv2D(16,(3,3),activation='relu'),\n",
    "    layers.MaxPooling2D(2,2),\n",
    "    layers.Dropout(0.2),\n",
    "    layers.Conv2D(32,(3,3),activation='relu'),\n",
    "    layers.MaxPooling2D(2,2),\n",
    "    layers.Dropout(0.2),\n",
    "    layers.Flatten(),\n",
    "    layers.Dense(256,activation='relu'),\n",
    "    layers.Dense(64,activation='relu'),\n",
    "    layers.Dense(4,activation='softmax'),   \n",
    "])\n",
    "model.build()"
   ]
  },
  {
   "cell_type": "code",
   "execution_count": 18,
   "id": "ab67f64c",
   "metadata": {
    "execution": {
     "iopub.execute_input": "2022-04-11T19:09:31.413063Z",
     "iopub.status.busy": "2022-04-11T19:09:31.412298Z",
     "iopub.status.idle": "2022-04-11T19:09:31.421397Z",
     "shell.execute_reply": "2022-04-11T19:09:31.420936Z",
     "shell.execute_reply.started": "2022-04-11T18:03:43.840394Z"
    },
    "papermill": {
     "duration": 0.042351,
     "end_time": "2022-04-11T19:09:31.421532",
     "exception": false,
     "start_time": "2022-04-11T19:09:31.379181",
     "status": "completed"
    },
    "tags": []
   },
   "outputs": [],
   "source": [
    "model.compile(\n",
    "    optimizer='adam',\n",
    "    loss = tf.losses.SparseCategoricalCrossentropy(),\n",
    "    metrics=['accuracy']\n",
    ")"
   ]
  },
  {
   "cell_type": "code",
   "execution_count": 19,
   "id": "d72a9370",
   "metadata": {
    "execution": {
     "iopub.execute_input": "2022-04-11T19:09:31.482007Z",
     "iopub.status.busy": "2022-04-11T19:09:31.481299Z",
     "iopub.status.idle": "2022-04-11T19:09:52.976281Z",
     "shell.execute_reply": "2022-04-11T19:09:52.975573Z",
     "shell.execute_reply.started": "2022-04-11T18:05:26.185382Z"
    },
    "papermill": {
     "duration": 21.527588,
     "end_time": "2022-04-11T19:09:52.976411",
     "exception": false,
     "start_time": "2022-04-11T19:09:31.448823",
     "status": "completed"
    },
    "tags": []
   },
   "outputs": [
    {
     "name": "stderr",
     "output_type": "stream",
     "text": [
      "2022-04-11 19:09:31.922332: I tensorflow/compiler/mlir/mlir_graph_optimization_pass.cc:185] None of the MLIR Optimization Passes are enabled (registered 2)\n"
     ]
    },
    {
     "name": "stdout",
     "output_type": "stream",
     "text": [
      "Epoch 1/15\n"
     ]
    },
    {
     "name": "stderr",
     "output_type": "stream",
     "text": [
      "2022-04-11 19:09:33.258459: I tensorflow/stream_executor/cuda/cuda_dnn.cc:369] Loaded cuDNN version 8005\n"
     ]
    },
    {
     "name": "stdout",
     "output_type": "stream",
     "text": [
      "46/46 [==============================] - 7s 22ms/step - loss: 1.3225 - accuracy: 0.3283 - val_loss: 1.3220 - val_accuracy: 0.3233\n",
      "Epoch 2/15\n",
      "46/46 [==============================] - 1s 14ms/step - loss: 1.2369 - accuracy: 0.3688 - val_loss: 1.2847 - val_accuracy: 0.3863\n",
      "Epoch 3/15\n",
      "46/46 [==============================] - 1s 13ms/step - loss: 1.2139 - accuracy: 0.4141 - val_loss: 1.2565 - val_accuracy: 0.3863\n",
      "Epoch 4/15\n",
      "46/46 [==============================] - 1s 13ms/step - loss: 1.1763 - accuracy: 0.4574 - val_loss: 1.2555 - val_accuracy: 0.4082\n",
      "Epoch 5/15\n",
      "46/46 [==============================] - 1s 13ms/step - loss: 1.1157 - accuracy: 0.5048 - val_loss: 1.1809 - val_accuracy: 0.4849\n",
      "Epoch 6/15\n",
      "46/46 [==============================] - 1s 13ms/step - loss: 0.9860 - accuracy: 0.5817 - val_loss: 1.1980 - val_accuracy: 0.4575\n",
      "Epoch 7/15\n",
      "46/46 [==============================] - 1s 15ms/step - loss: 0.8930 - accuracy: 0.6435 - val_loss: 1.1643 - val_accuracy: 0.5151\n",
      "Epoch 8/15\n",
      "46/46 [==============================] - 1s 13ms/step - loss: 0.7255 - accuracy: 0.7095 - val_loss: 1.1980 - val_accuracy: 0.4959\n",
      "Epoch 9/15\n",
      "46/46 [==============================] - 1s 15ms/step - loss: 0.5718 - accuracy: 0.7754 - val_loss: 1.2338 - val_accuracy: 0.5288\n",
      "Epoch 10/15\n",
      "46/46 [==============================] - 1s 14ms/step - loss: 0.4525 - accuracy: 0.8365 - val_loss: 1.2571 - val_accuracy: 0.5068\n",
      "Epoch 11/15\n",
      "46/46 [==============================] - 1s 13ms/step - loss: 0.2981 - accuracy: 0.8935 - val_loss: 1.3961 - val_accuracy: 0.5562\n",
      "Epoch 12/15\n",
      "46/46 [==============================] - 1s 13ms/step - loss: 0.2049 - accuracy: 0.9348 - val_loss: 1.5018 - val_accuracy: 0.5589\n",
      "Epoch 13/15\n",
      "46/46 [==============================] - 1s 14ms/step - loss: 0.1531 - accuracy: 0.9423 - val_loss: 1.5678 - val_accuracy: 0.5507\n",
      "Epoch 14/15\n",
      "46/46 [==============================] - 1s 13ms/step - loss: 0.1351 - accuracy: 0.9567 - val_loss: 1.5855 - val_accuracy: 0.5452\n",
      "Epoch 15/15\n",
      "46/46 [==============================] - 1s 13ms/step - loss: 0.0831 - accuracy: 0.9773 - val_loss: 1.8318 - val_accuracy: 0.5534\n"
     ]
    },
    {
     "data": {
      "text/plain": [
       "<keras.callbacks.History at 0x7faf7aa081d0>"
      ]
     },
     "execution_count": 19,
     "metadata": {},
     "output_type": "execute_result"
    }
   ],
   "source": [
    "batch_size = 32\n",
    "epochs = 15\n",
    "\n",
    "model.fit(\n",
    "    images_train,\n",
    "    train_df['label'],\n",
    "    batch_size=batch_size,\n",
    "    epochs=epochs,\n",
    "    validation_data=(images_validate,validate_df['label'])\n",
    ")"
   ]
  },
  {
   "cell_type": "code",
   "execution_count": 20,
   "id": "91b7c174",
   "metadata": {
    "execution": {
     "iopub.execute_input": "2022-04-11T19:09:53.155960Z",
     "iopub.status.busy": "2022-04-11T19:09:53.155320Z",
     "iopub.status.idle": "2022-04-11T19:09:53.174968Z",
     "shell.execute_reply": "2022-04-11T19:09:53.174311Z",
     "shell.execute_reply.started": "2022-04-11T18:15:57.543741Z"
    },
    "papermill": {
     "duration": 0.1087,
     "end_time": "2022-04-11T19:09:53.175116",
     "exception": false,
     "start_time": "2022-04-11T19:09:53.066416",
     "status": "completed"
    },
    "tags": []
   },
   "outputs": [],
   "source": [
    "data_augmentaion = Sequential([\n",
    "    layers.RandomRotation(factor=(-0.2,0.2),seed = 123),\n",
    "    layers.RandomZoom(0.1),\n",
    "])"
   ]
  },
  {
   "cell_type": "code",
   "execution_count": 21,
   "id": "bda85d1e",
   "metadata": {
    "execution": {
     "iopub.execute_input": "2022-04-11T19:09:53.374025Z",
     "iopub.status.busy": "2022-04-11T19:09:53.373080Z",
     "iopub.status.idle": "2022-04-11T19:09:53.611430Z",
     "shell.execute_reply": "2022-04-11T19:09:53.610626Z",
     "shell.execute_reply.started": "2022-04-11T18:16:56.493475Z"
    },
    "papermill": {
     "duration": 0.345854,
     "end_time": "2022-04-11T19:09:53.611578",
     "exception": false,
     "start_time": "2022-04-11T19:09:53.265724",
     "status": "completed"
    },
    "tags": []
   },
   "outputs": [],
   "source": [
    "model = Sequential([\n",
    "    layers.Rescaling(1./255.,input_shape=(224,224,3)),\n",
    "    data_augmentaion,\n",
    "    layers.Conv2D(8,(3,3),activation='relu'),\n",
    "    layers.MaxPooling2D(2,2),\n",
    "    layers.Dropout(0.2),\n",
    "    layers.Conv2D(16,(3,3),activation='relu'),\n",
    "    layers.MaxPooling2D(2,2),\n",
    "    layers.Dropout(0.2),\n",
    "    layers.Conv2D(32,(3,3),activation='relu'),\n",
    "    layers.MaxPooling2D(2,2),\n",
    "    layers.Dropout(0.4),\n",
    "    layers.Flatten(),\n",
    "    layers.Dense(256,activation='relu'),\n",
    "    layers.Dense(64,activation='relu'),\n",
    "    layers.Dense(4,activation='softmax'),   \n",
    "])\n",
    "model.build()"
   ]
  },
  {
   "cell_type": "code",
   "execution_count": 22,
   "id": "5e7d0b21",
   "metadata": {
    "execution": {
     "iopub.execute_input": "2022-04-11T19:09:53.786773Z",
     "iopub.status.busy": "2022-04-11T19:09:53.785721Z",
     "iopub.status.idle": "2022-04-11T19:10:35.904938Z",
     "shell.execute_reply": "2022-04-11T19:10:35.905444Z",
     "shell.execute_reply.started": "2022-04-11T18:16:59.492832Z"
    },
    "papermill": {
     "duration": 42.210937,
     "end_time": "2022-04-11T19:10:35.905641",
     "exception": false,
     "start_time": "2022-04-11T19:09:53.694704",
     "status": "completed"
    },
    "tags": []
   },
   "outputs": [
    {
     "name": "stdout",
     "output_type": "stream",
     "text": [
      "Epoch 1/50\n",
      "46/46 [==============================] - 2s 32ms/step - loss: 1.2697 - accuracy: 0.3077 - val_loss: 1.2486 - val_accuracy: 0.3260\n",
      "Epoch 2/50\n",
      "46/46 [==============================] - 1s 16ms/step - loss: 1.2326 - accuracy: 0.3757 - val_loss: 1.2071 - val_accuracy: 0.3233\n",
      "Epoch 3/50\n",
      "46/46 [==============================] - 1s 16ms/step - loss: 1.1871 - accuracy: 0.4416 - val_loss: 1.1662 - val_accuracy: 0.4466\n",
      "Epoch 4/50\n",
      "46/46 [==============================] - 1s 16ms/step - loss: 1.1682 - accuracy: 0.4588 - val_loss: 1.1652 - val_accuracy: 0.4630\n",
      "Epoch 5/50\n",
      "46/46 [==============================] - 1s 16ms/step - loss: 1.1610 - accuracy: 0.4705 - val_loss: 1.1639 - val_accuracy: 0.4767\n",
      "Epoch 6/50\n",
      "46/46 [==============================] - 1s 16ms/step - loss: 1.1385 - accuracy: 0.4856 - val_loss: 1.1230 - val_accuracy: 0.5041\n",
      "Epoch 7/50\n",
      "46/46 [==============================] - 1s 16ms/step - loss: 1.1341 - accuracy: 0.4815 - val_loss: 1.1336 - val_accuracy: 0.4767\n",
      "Epoch 8/50\n",
      "46/46 [==============================] - 1s 16ms/step - loss: 1.0979 - accuracy: 0.5130 - val_loss: 1.1189 - val_accuracy: 0.4849\n",
      "Epoch 9/50\n",
      "46/46 [==============================] - 1s 16ms/step - loss: 1.0728 - accuracy: 0.5357 - val_loss: 1.0860 - val_accuracy: 0.5233\n",
      "Epoch 10/50\n",
      "46/46 [==============================] - 1s 16ms/step - loss: 1.0660 - accuracy: 0.5529 - val_loss: 1.0997 - val_accuracy: 0.4959\n",
      "Epoch 11/50\n",
      "46/46 [==============================] - 1s 16ms/step - loss: 1.0421 - accuracy: 0.5584 - val_loss: 0.9789 - val_accuracy: 0.5918\n",
      "Epoch 12/50\n",
      "46/46 [==============================] - 1s 16ms/step - loss: 1.0083 - accuracy: 0.5900 - val_loss: 0.9425 - val_accuracy: 0.6219\n",
      "Epoch 13/50\n",
      "46/46 [==============================] - 1s 16ms/step - loss: 0.9428 - accuracy: 0.6188 - val_loss: 0.8743 - val_accuracy: 0.6521\n",
      "Epoch 14/50\n",
      "46/46 [==============================] - 1s 16ms/step - loss: 0.8834 - accuracy: 0.6401 - val_loss: 0.8846 - val_accuracy: 0.6247\n",
      "Epoch 15/50\n",
      "46/46 [==============================] - 1s 18ms/step - loss: 0.8416 - accuracy: 0.6717 - val_loss: 0.8163 - val_accuracy: 0.6658\n",
      "Epoch 16/50\n",
      "46/46 [==============================] - 1s 16ms/step - loss: 0.8093 - accuracy: 0.6799 - val_loss: 0.7950 - val_accuracy: 0.6822\n",
      "Epoch 17/50\n",
      "46/46 [==============================] - 1s 16ms/step - loss: 0.7437 - accuracy: 0.7109 - val_loss: 0.8532 - val_accuracy: 0.6712\n",
      "Epoch 18/50\n",
      "46/46 [==============================] - 1s 16ms/step - loss: 0.7059 - accuracy: 0.7266 - val_loss: 0.7126 - val_accuracy: 0.7205\n",
      "Epoch 19/50\n",
      "46/46 [==============================] - 1s 16ms/step - loss: 0.6898 - accuracy: 0.7239 - val_loss: 0.7101 - val_accuracy: 0.7014\n",
      "Epoch 20/50\n",
      "46/46 [==============================] - 1s 16ms/step - loss: 0.6790 - accuracy: 0.7294 - val_loss: 0.7494 - val_accuracy: 0.6630\n",
      "Epoch 21/50\n",
      "46/46 [==============================] - 1s 16ms/step - loss: 0.6695 - accuracy: 0.7308 - val_loss: 0.6624 - val_accuracy: 0.7425\n",
      "Epoch 22/50\n",
      "46/46 [==============================] - 1s 16ms/step - loss: 0.6549 - accuracy: 0.7411 - val_loss: 0.6815 - val_accuracy: 0.7096\n",
      "Epoch 23/50\n",
      "46/46 [==============================] - 1s 16ms/step - loss: 0.6867 - accuracy: 0.7356 - val_loss: 0.6270 - val_accuracy: 0.7315\n",
      "Epoch 24/50\n",
      "46/46 [==============================] - 1s 16ms/step - loss: 0.6282 - accuracy: 0.7466 - val_loss: 0.6896 - val_accuracy: 0.7425\n",
      "Epoch 25/50\n",
      "46/46 [==============================] - 1s 16ms/step - loss: 0.5985 - accuracy: 0.7589 - val_loss: 0.6318 - val_accuracy: 0.7342\n",
      "Epoch 26/50\n",
      "46/46 [==============================] - 1s 16ms/step - loss: 0.5941 - accuracy: 0.7672 - val_loss: 0.7180 - val_accuracy: 0.7151\n",
      "Epoch 27/50\n",
      "46/46 [==============================] - 1s 16ms/step - loss: 0.5825 - accuracy: 0.7706 - val_loss: 0.6781 - val_accuracy: 0.7397\n",
      "Epoch 28/50\n",
      "46/46 [==============================] - 1s 16ms/step - loss: 0.6026 - accuracy: 0.7610 - val_loss: 0.6107 - val_accuracy: 0.7479\n",
      "Epoch 29/50\n",
      "46/46 [==============================] - 1s 17ms/step - loss: 0.5778 - accuracy: 0.7624 - val_loss: 0.6968 - val_accuracy: 0.7041\n",
      "Epoch 30/50\n",
      "46/46 [==============================] - 1s 17ms/step - loss: 0.5811 - accuracy: 0.7720 - val_loss: 0.6470 - val_accuracy: 0.7315\n",
      "Epoch 31/50\n",
      "46/46 [==============================] - 1s 16ms/step - loss: 0.5302 - accuracy: 0.7843 - val_loss: 0.6145 - val_accuracy: 0.7315\n",
      "Epoch 32/50\n",
      "46/46 [==============================] - 1s 16ms/step - loss: 0.5225 - accuracy: 0.7850 - val_loss: 0.5702 - val_accuracy: 0.7425\n",
      "Epoch 33/50\n",
      "46/46 [==============================] - 1s 16ms/step - loss: 0.5736 - accuracy: 0.7809 - val_loss: 0.6028 - val_accuracy: 0.7370\n",
      "Epoch 34/50\n",
      "46/46 [==============================] - 1s 16ms/step - loss: 0.5085 - accuracy: 0.7988 - val_loss: 0.5955 - val_accuracy: 0.7370\n",
      "Epoch 35/50\n",
      "46/46 [==============================] - 1s 16ms/step - loss: 0.5320 - accuracy: 0.7754 - val_loss: 0.5713 - val_accuracy: 0.7452\n",
      "Epoch 36/50\n",
      "46/46 [==============================] - 1s 16ms/step - loss: 0.4789 - accuracy: 0.8132 - val_loss: 0.6510 - val_accuracy: 0.7233\n",
      "Epoch 37/50\n",
      "46/46 [==============================] - 1s 16ms/step - loss: 0.4954 - accuracy: 0.7946 - val_loss: 0.5991 - val_accuracy: 0.7534\n",
      "Epoch 38/50\n",
      "46/46 [==============================] - 1s 16ms/step - loss: 0.5487 - accuracy: 0.7946 - val_loss: 0.5381 - val_accuracy: 0.7726\n",
      "Epoch 39/50\n",
      "46/46 [==============================] - 1s 17ms/step - loss: 0.5004 - accuracy: 0.7995 - val_loss: 0.5763 - val_accuracy: 0.7644\n",
      "Epoch 40/50\n",
      "46/46 [==============================] - 1s 16ms/step - loss: 0.4729 - accuracy: 0.8152 - val_loss: 0.5914 - val_accuracy: 0.7479\n",
      "Epoch 41/50\n",
      "46/46 [==============================] - 1s 16ms/step - loss: 0.4512 - accuracy: 0.8228 - val_loss: 0.5391 - val_accuracy: 0.7260\n",
      "Epoch 42/50\n",
      "46/46 [==============================] - 1s 16ms/step - loss: 0.4610 - accuracy: 0.8152 - val_loss: 0.5312 - val_accuracy: 0.7452\n",
      "Epoch 43/50\n",
      "46/46 [==============================] - 1s 16ms/step - loss: 0.4655 - accuracy: 0.8194 - val_loss: 0.5642 - val_accuracy: 0.7589\n",
      "Epoch 44/50\n",
      "46/46 [==============================] - 1s 18ms/step - loss: 0.4617 - accuracy: 0.8187 - val_loss: 0.5291 - val_accuracy: 0.7699\n",
      "Epoch 45/50\n",
      "46/46 [==============================] - 1s 24ms/step - loss: 0.4499 - accuracy: 0.8173 - val_loss: 0.5428 - val_accuracy: 0.7315\n",
      "Epoch 46/50\n",
      "46/46 [==============================] - 1s 17ms/step - loss: 0.4491 - accuracy: 0.8180 - val_loss: 0.5172 - val_accuracy: 0.7753\n",
      "Epoch 47/50\n",
      "46/46 [==============================] - 1s 16ms/step - loss: 0.4236 - accuracy: 0.8352 - val_loss: 0.5353 - val_accuracy: 0.7863\n",
      "Epoch 48/50\n",
      "46/46 [==============================] - 1s 16ms/step - loss: 0.3982 - accuracy: 0.8462 - val_loss: 0.5530 - val_accuracy: 0.7507\n",
      "Epoch 49/50\n",
      "46/46 [==============================] - 1s 16ms/step - loss: 0.4336 - accuracy: 0.8304 - val_loss: 0.5193 - val_accuracy: 0.7753\n",
      "Epoch 50/50\n",
      "46/46 [==============================] - 1s 16ms/step - loss: 0.4532 - accuracy: 0.8166 - val_loss: 0.6225 - val_accuracy: 0.7479\n"
     ]
    }
   ],
   "source": [
    "model.compile(\n",
    "    optimizer='adam',\n",
    "    loss = tf.losses.SparseCategoricalCrossentropy(),\n",
    "    metrics=['accuracy']\n",
    ")\n",
    "\n",
    "batch_size = 32\n",
    "epochs = 50\n",
    "\n",
    "history = model.fit(\n",
    "    images_train,\n",
    "    train_df['label'],\n",
    "    batch_size=batch_size,\n",
    "    epochs=epochs,\n",
    "    validation_data=(images_validate,validate_df['label'])\n",
    ")"
   ]
  },
  {
   "cell_type": "code",
   "execution_count": 23,
   "id": "ad12f141",
   "metadata": {
    "execution": {
     "iopub.execute_input": "2022-04-11T19:10:36.514554Z",
     "iopub.status.busy": "2022-04-11T19:10:36.513852Z",
     "iopub.status.idle": "2022-04-11T19:10:36.913337Z",
     "shell.execute_reply": "2022-04-11T19:10:36.913764Z",
     "shell.execute_reply.started": "2022-04-11T18:22:18.958842Z"
    },
    "papermill": {
     "duration": 0.70278,
     "end_time": "2022-04-11T19:10:36.913934",
     "exception": false,
     "start_time": "2022-04-11T19:10:36.211154",
     "status": "completed"
    },
    "tags": []
   },
   "outputs": [
    {
     "data": {
      "image/png": "[encoded data removed]",
      "text/plain": [
       "<Figure size 432x288 with 1 Axes>"
      ]
     },
     "metadata": {
      "needs_background": "light"
     },
     "output_type": "display_data"
    }
   ],
   "source": [
    "train_acc = history.history['accuracy']\n",
    "validate_acc = history.history['val_accuracy']\n",
    "epoch_ = range(1,epochs+1)\n",
    "\n",
    "plt.plot(epoch_,train_acc,'r',label='Training')\n",
    "plt.plot(epoch_,validate_acc,'b',label='Validation')\n",
    "plt.legend()\n",
    "plt.show()"
   ]
  },
  {
   "cell_type": "code",
   "execution_count": 24,
   "id": "d89e410e",
   "metadata": {
    "execution": {
     "iopub.execute_input": "2022-04-11T19:10:37.503526Z",
     "iopub.status.busy": "2022-04-11T19:10:37.502966Z",
     "iopub.status.idle": "2022-04-11T19:10:38.310355Z",
     "shell.execute_reply": "2022-04-11T19:10:38.310878Z",
     "shell.execute_reply.started": "2022-04-11T18:25:42.757331Z"
    },
    "papermill": {
     "duration": 1.103152,
     "end_time": "2022-04-11T19:10:38.311048",
     "exception": false,
     "start_time": "2022-04-11T19:10:37.207896",
     "status": "completed"
    },
    "tags": []
   },
   "outputs": [],
   "source": [
    "predictions = model.predict(images_test)"
   ]
  },
  {
   "cell_type": "code",
   "execution_count": 25,
   "id": "260e059f",
   "metadata": {
    "execution": {
     "iopub.execute_input": "2022-04-11T19:10:38.931973Z",
     "iopub.status.busy": "2022-04-11T19:10:38.931217Z",
     "iopub.status.idle": "2022-04-11T19:10:38.934135Z",
     "shell.execute_reply": "2022-04-11T19:10:38.934577Z",
     "shell.execute_reply.started": "2022-04-11T18:25:52.503830Z"
    },
    "papermill": {
     "duration": 0.326741,
     "end_time": "2022-04-11T19:10:38.934719",
     "exception": false,
     "start_time": "2022-04-11T19:10:38.607978",
     "status": "completed"
    },
    "tags": []
   },
   "outputs": [
    {
     "data": {
      "text/plain": [
       "(1821, 4)"
      ]
     },
     "execution_count": 25,
     "metadata": {},
     "output_type": "execute_result"
    }
   ],
   "source": [
    "predictions.shape"
   ]
  },
  {
   "cell_type": "code",
   "execution_count": 26,
   "id": "f7d85f2b",
   "metadata": {
    "execution": {
     "iopub.execute_input": "2022-04-11T19:10:39.898155Z",
     "iopub.status.busy": "2022-04-11T19:10:39.897231Z",
     "iopub.status.idle": "2022-04-11T19:10:39.900953Z",
     "shell.execute_reply": "2022-04-11T19:10:39.901330Z",
     "shell.execute_reply.started": "2022-04-11T18:29:37.425070Z"
    },
    "papermill": {
     "duration": 0.401469,
     "end_time": "2022-04-11T19:10:39.901527",
     "exception": false,
     "start_time": "2022-04-11T19:10:39.500058",
     "status": "completed"
    },
    "tags": []
   },
   "outputs": [],
   "source": [
    "predictions_df = pd.DataFrame(np.round(predictions,2))\n",
    "submission_df = pd.concat([test_df,predictions_df],axis=1)"
   ]
  },
  {
   "cell_type": "code",
   "execution_count": 27,
   "id": "cc304100",
   "metadata": {
    "execution": {
     "iopub.execute_input": "2022-04-11T19:10:40.570026Z",
     "iopub.status.busy": "2022-04-11T19:10:40.569180Z",
     "iopub.status.idle": "2022-04-11T19:10:40.572442Z",
     "shell.execute_reply": "2022-04-11T19:10:40.572926Z",
     "shell.execute_reply.started": "2022-04-11T18:29:42.436006Z"
    },
    "papermill": {
     "duration": 0.33934,
     "end_time": "2022-04-11T19:10:40.573066",
     "exception": false,
     "start_time": "2022-04-11T19:10:40.233726",
     "status": "completed"
    },
    "tags": []
   },
   "outputs": [
    {
     "data": {
      "text/html": [
       "<div>\n",
       "<style scoped>\n",
       "    .dataframe tbody tr th:only-of-type {\n",
       "        vertical-align: middle;\n",
       "    }\n",
       "\n",
       "    .dataframe tbody tr th {\n",
       "        vertical-align: top;\n",
       "    }\n",
       "\n",
       "    .dataframe thead th {\n",
       "        text-align: right;\n",
       "    }\n",
       "</style>\n",
       "<table border=\"1\" class=\"dataframe\">\n",
       "  <thead>\n",
       "    <tr style=\"text-align: right;\">\n",
       "      <th></th>\n",
       "      <th>image_id</th>\n",
       "      <th>0</th>\n",
       "      <th>1</th>\n",
       "      <th>2</th>\n",
       "      <th>3</th>\n",
       "    </tr>\n",
       "  </thead>\n",
       "  <tbody>\n",
       "    <tr>\n",
       "      <th>0</th>\n",
       "      <td>Test_0</td>\n",
       "      <td>0.00</td>\n",
       "      <td>0.02</td>\n",
       "      <td>0.98</td>\n",
       "      <td>0.00</td>\n",
       "    </tr>\n",
       "    <tr>\n",
       "      <th>1</th>\n",
       "      <td>Test_1</td>\n",
       "      <td>0.00</td>\n",
       "      <td>0.01</td>\n",
       "      <td>0.99</td>\n",
       "      <td>0.00</td>\n",
       "    </tr>\n",
       "    <tr>\n",
       "      <th>2</th>\n",
       "      <td>Test_2</td>\n",
       "      <td>0.43</td>\n",
       "      <td>0.18</td>\n",
       "      <td>0.02</td>\n",
       "      <td>0.36</td>\n",
       "    </tr>\n",
       "    <tr>\n",
       "      <th>3</th>\n",
       "      <td>Test_3</td>\n",
       "      <td>0.77</td>\n",
       "      <td>0.03</td>\n",
       "      <td>0.01</td>\n",
       "      <td>0.19</td>\n",
       "    </tr>\n",
       "    <tr>\n",
       "      <th>4</th>\n",
       "      <td>Test_4</td>\n",
       "      <td>0.00</td>\n",
       "      <td>0.00</td>\n",
       "      <td>1.00</td>\n",
       "      <td>0.00</td>\n",
       "    </tr>\n",
       "  </tbody>\n",
       "</table>\n",
       "</div>"
      ],
      "text/plain": [
       "  image_id     0     1     2     3\n",
       "0   Test_0  0.00  0.02  0.98  0.00\n",
       "1   Test_1  0.00  0.01  0.99  0.00\n",
       "2   Test_2  0.43  0.18  0.02  0.36\n",
       "3   Test_3  0.77  0.03  0.01  0.19\n",
       "4   Test_4  0.00  0.00  1.00  0.00"
      ]
     },
     "execution_count": 27,
     "metadata": {},
     "output_type": "execute_result"
    }
   ],
   "source": [
    "submission_df.head()"
   ]
  },
  {
   "cell_type": "code",
   "execution_count": 28,
   "id": "f3e2027f",
   "metadata": {
    "execution": {
     "iopub.execute_input": "2022-04-11T19:10:41.250257Z",
     "iopub.status.busy": "2022-04-11T19:10:41.249222Z",
     "iopub.status.idle": "2022-04-11T19:10:41.264076Z",
     "shell.execute_reply": "2022-04-11T19:10:41.263561Z",
     "shell.execute_reply.started": "2022-04-11T18:54:34.713419Z"
    },
    "papermill": {
     "duration": 0.364259,
     "end_time": "2022-04-11T19:10:41.264201",
     "exception": false,
     "start_time": "2022-04-11T19:10:40.899942",
     "status": "completed"
    },
    "tags": []
   },
   "outputs": [],
   "source": [
    "submission_df.to_csv(\"submission.csv\",index=False)"
   ]
  }
 ],
 "metadata": {
  "kernelspec": {
   "display_name": "Python 3",
   "language": "python",
   "name": "python3"
  },
  "language_info": {
   "codemirror_mode": {
    "name": "ipython",
    "version": 3
   },
   "file_extension": ".py",
   "mimetype": "text/x-python",
   "name": "python",
   "nbconvert_exporter": "python",
   "pygments_lexer": "ipython3",
   "version": "3.7.12"
  },
  "papermill": {
   "default_parameters": {},
   "duration": 490.935668,
   "end_time": "2022-04-11T19:10:44.527955",
   "environment_variables": {},
   "exception": null,
   "input_path": "__notebook__.ipynb",
   "output_path": "__notebook__.ipynb",
   "parameters": {},
   "start_time": "2022-04-11T19:02:33.592287",
   "version": "2.3.3"
  }
 },
 "nbformat": 4,
 "nbformat_minor": 5
}
